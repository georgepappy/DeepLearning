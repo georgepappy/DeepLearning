{
 "cells": [
  {
   "cell_type": "code",
   "execution_count": 1,
   "id": "e00b528a-3835-44b7-9eb4-4e42a7e196fb",
   "metadata": {},
   "outputs": [],
   "source": [
    "import pandas as pd\n",
    "import seaborn as sns\n",
    "import sklearn\n",
    "from tensorflow import keras"
   ]
  },
  {
   "cell_type": "code",
   "execution_count": 2,
   "id": "a33fc3e5-99db-4911-8aa0-582119a42def",
   "metadata": {},
   "outputs": [
    {
     "name": "stdout",
     "output_type": "stream",
     "text": [
      "Populating the interactive namespace from numpy and matplotlib\n"
     ]
    }
   ],
   "source": [
    "%pylab inline \n",
    "import seaborn as sns\n",
    "sns.set()\n",
    "from IPython.display import SVG"
   ]
  },
  {
   "cell_type": "code",
   "execution_count": 135,
   "id": "33501cc1-68bf-461f-929a-5660d7c00350",
   "metadata": {},
   "outputs": [],
   "source": [
    "from sklearn.model_selection import train_test_split\n",
    "from sklearn.metrics import accuracy_score, roc_auc_score, recall_score\n",
    "from sklearn.preprocessing import StandardScaler\n",
    "from sklearn.linear_model import LogisticRegression"
   ]
  },
  {
   "cell_type": "code",
   "execution_count": 136,
   "id": "f150ec52-b190-4f24-bcc4-d7211fc48490",
   "metadata": {},
   "outputs": [],
   "source": [
    "from tensorflow.keras.models import Sequential\n",
    "from tensorflow.keras.layers import Dense, Conv2D, MaxPooling2D, Flatten, GlobalAveragePooling2D, InputLayer, Input, Dropout, BatchNormalization"
   ]
  },
  {
   "cell_type": "code",
   "execution_count": 137,
   "id": "309d7af9-5f61-4251-8473-4375c006996a",
   "metadata": {},
   "outputs": [],
   "source": [
    "from tensorflow.keras.utils import to_categorical"
   ]
  },
  {
   "cell_type": "code",
   "execution_count": 138,
   "id": "7d23033c-eb58-475c-bfbc-40f493071ed4",
   "metadata": {},
   "outputs": [],
   "source": [
    "from tensorflow.keras.preprocessing.image import ImageDataGenerator"
   ]
  },
  {
   "cell_type": "code",
   "execution_count": 139,
   "id": "9321184e-deb8-4a84-aa4c-f1ac54040439",
   "metadata": {},
   "outputs": [],
   "source": [
    "from tensorflow.keras.callbacks import EarlyStopping, ReduceLROnPlateau, LambdaCallback, LearningRateScheduler"
   ]
  },
  {
   "cell_type": "code",
   "execution_count": 140,
   "id": "c3c965dc-e95b-4c8a-98e4-f437c877d934",
   "metadata": {},
   "outputs": [],
   "source": [
    "from tensorflow.keras.models import load_model, Model"
   ]
  },
  {
   "cell_type": "code",
   "execution_count": 381,
   "id": "72ae04ca-93ed-4d87-a799-26ffc401cf37",
   "metadata": {},
   "outputs": [],
   "source": [
    "from tensorflow.keras import regularizers"
   ]
  },
  {
   "cell_type": "code",
   "execution_count": 141,
   "id": "649193b6-070a-4d08-b66c-69db7a793e87",
   "metadata": {},
   "outputs": [],
   "source": [
    "import numpy as np\n",
    "np.set_printoptions(suppress=True) # Suppress scientific notation where possible"
   ]
  },
  {
   "cell_type": "code",
   "execution_count": 143,
   "id": "51a6fd63-b96b-44f1-a014-0ee41ffe8427",
   "metadata": {},
   "outputs": [],
   "source": [
    "# Make some room to see stuff (i.e. drop display limits on Pandas rows & cols - be careful w/ big df's!)\n",
    "\n",
    "pd.set_option('display.max_rows', 200)\n",
    "pd.set_option('display.max_columns', None)"
   ]
  },
  {
   "cell_type": "markdown",
   "id": "351a704c-b4e6-4a4d-8c9f-b20f7dfa21e6",
   "metadata": {},
   "source": [
    "(Class below comes from: https://stackoverflow.com/questions/67271590/issue-with-custom-metric-auc-callback-for-keras)"
   ]
  },
  {
   "cell_type": "code",
   "execution_count": 144,
   "id": "c8851bbd-d587-4e60-8779-59f5416fd1d2",
   "metadata": {},
   "outputs": [],
   "source": [
    "# Custom skelearn-based AUROC calculation class for use with the FULL validation \n",
    "#   set (not just mini-batches) at the end of each training epoch\n",
    "\n",
    "class ROAUCMetrics(keras.callbacks.Callback):\n",
    "    def __init__(self, val_data):\n",
    "        super().__init__()\n",
    "        self.valid_x = val_data[0]\n",
    "        self.valid_y = val_data[1]\n",
    "\n",
    "    def on_train_begin(self, logs={}):\n",
    "        self.val_aucs = []\n",
    "\n",
    "    def on_epoch_end(self, epoch, logs={}):\n",
    "        pred = self.model.predict(self.valid_x)\n",
    "        val_auc = roc_auc_score(self.valid_y, pred,  average='micro')\n",
    "        print('\\nval-roc-auc: %s' % (str(round(val_auc,4))),end=100*' '+'\\n\\n')\n",
    "        self.val_aucs.append(val_auc)\n",
    "        return"
   ]
  },
  {
   "cell_type": "markdown",
   "id": "563bb2ae-2a20-4d9e-900b-996e697601cb",
   "metadata": {},
   "source": [
    "# 1) Import the training data"
   ]
  },
  {
   "cell_type": "code",
   "execution_count": 145,
   "id": "2b8f9a16-e750-4107-9aef-51338d4a013b",
   "metadata": {},
   "outputs": [
    {
     "name": "stdout",
     "output_type": "stream",
     "text": [
      "(985, 224, 273, 1)\n",
      "(985, 4)\n",
      "(247, 224, 273, 1)\n",
      "(247, 4)\n"
     ]
    }
   ],
   "source": [
    "X_train = np.load('data2/X_baby_train.dat')\n",
    "y_train = np.load('data2/y_baby_train.dat')\n",
    "\n",
    "X_val = np.load('data2/X_baby_val.dat')\n",
    "y_val = np.load('data2/y_baby_val.dat')\n",
    "\n",
    "print(X_train.shape)\n",
    "print(y_train.shape)\n",
    "print(X_val.shape)\n",
    "print(y_val.shape)"
   ]
  },
  {
   "cell_type": "code",
   "execution_count": 147,
   "id": "75cd7ddf-6375-496a-8acb-0c0f07135508",
   "metadata": {},
   "outputs": [],
   "source": [
    "# Need these to be float32 format for custom loss function to work\n",
    "\n",
    "y_train = y_train.astype(float)\n",
    "y_val = y_val.astype(float) "
   ]
  },
  {
   "cell_type": "markdown",
   "id": "9905f27f-f049-4abd-95c5-51b8e2a70bd7",
   "metadata": {},
   "source": [
    "# 3) Let's Try a Pre-trained Model (VGG16) on just the first target (diagnosis = 'Atelectasis')"
   ]
  },
  {
   "cell_type": "code",
   "execution_count": null,
   "id": "e32356c5-f70a-4634-8aa1-195d296c1df7",
   "metadata": {},
   "outputs": [],
   "source": [
    "## Targets: 'Atelectasis'=0, 'Cardiomegaly'=1, 'Edema'=2, 'Pleaural Effusion'=3\n",
    "\n",
    "target = 0"
   ]
  },
  {
   "cell_type": "code",
   "execution_count": 91,
   "id": "266dbedb-fe08-4fc9-8158-765663b6219c",
   "metadata": {},
   "outputs": [],
   "source": [
    "## FOR REPEATABILITY (must re-run this before EVERY model training run):\n",
    "\n",
    "# 1. Set the `PYTHONHASHSEED` environment variable at a fixed value\n",
    "import os\n",
    "os.environ['PYTHONHASHSEED']=str(0)\n",
    "\n",
    "# 2. Set the `python` built-in pseudo-random generator at a fixed value\n",
    "import random\n",
    "random.seed(1)\n",
    "\n",
    "# 3. Set the `numpy` pseudo-random generator at a fixed value\n",
    "import numpy as np\n",
    "np.random.seed(2)\n",
    "\n",
    "# 4. Set the `tensorflow` pseudo-random generator at a fixed value\n",
    "import tensorflow as tf\n",
    "tf.random.set_seed(2)"
   ]
  },
  {
   "cell_type": "markdown",
   "id": "aebeb86e-183d-4903-9d66-20605c814b0a",
   "metadata": {},
   "source": [
    "### Standardize the X Data\n",
    "(based on https://machinelearningmastery.com/how-to-normalize-center-and-standardize-images-with-the-imagedatagenerator-in-keras/)"
   ]
  },
  {
   "cell_type": "code",
   "execution_count": 92,
   "id": "9ca8d2ed-2bfe-4e95-82b7-b1886bbea117",
   "metadata": {},
   "outputs": [
    {
     "name": "stdout",
     "output_type": "stream",
     "text": [
      "Batches train=31, val=8\n"
     ]
    }
   ],
   "source": [
    "batch_size = 32\n",
    "\n",
    "datagen = ImageDataGenerator(featurewise_center=True, featurewise_std_normalization=True)\n",
    "\n",
    "# calculate mean on training dataset\n",
    "datagen.fit(X_train)\n",
    "\n",
    "# prepare iterators to scale images\n",
    "train_iterator = datagen.flow(X_train, y_train[:, target], batch_size=batch_size)\n",
    "\n",
    "val_iterator = datagen.flow(X_val, y_val[:, target], batch_size=batch_size)\n",
    "\n",
    "print('Batches train=%d, val=%d' % (len(train_iterator), len(val_iterator)))"
   ]
  },
  {
   "cell_type": "code",
   "execution_count": 93,
   "id": "98ef5385-4405-4ab8-9552-3c274ae373fd",
   "metadata": {},
   "outputs": [],
   "source": [
    "keras.backend.clear_session()\n",
    "\n",
    "# dropout = 0.4\n",
    "\n",
    "from tensorflow.keras.applications import VGG16\n",
    "\n",
    "# This converts the 1-channel X-rays to 3-channel images a required by mobilenet_v2\n",
    "input_tensor = Input(shape=(X_train.shape[1:]))\n",
    "x = Conv2D(3,(3,3),padding='same')(input_tensor)\n",
    "\n",
    "base_model = VGG16(weights='imagenet', include_top=False, input_shape=(X_train.shape[1], X_train.shape[2], 3)) \n",
    " \n",
    "# Freeze convolutional layers\n",
    "for layer in base_model.layers:\n",
    "    layer.trainable = False    \n",
    "\n",
    "out = base_model(x)\n",
    "new_base_model = Model(inputs=input_tensor, outputs=out)\n",
    "    \n",
    "# Establish new fully connected block\n",
    "x = new_base_model.output\n",
    "x = Flatten()(x) # flatten from convolution tensor output \n",
    "# x = Dense(units=128, activation='relu')(x) # number of layers and units are hyperparameters, as usual\n",
    "# x = Dropout(dropout, seed=2)(x) # adding Dropout for regularization between the Dense layers\n",
    "# x = Dense(units=64, activation='relu')(x)\n",
    "# x = Dropout(dropout, seed=1)(x) # adding Dropout for regularization between the Dense layers\n",
    "predictions = Dense(units=1, activation='sigmoid')(x) # 1 target labels\n",
    "\n",
    "# define formal model object to train and compile it as usual\n",
    "model = Model(inputs=new_base_model.input, outputs=predictions)"
   ]
  },
  {
   "cell_type": "code",
   "execution_count": 94,
   "id": "71d24ba8-e963-40b5-a466-76b80e01a968",
   "metadata": {},
   "outputs": [
    {
     "name": "stdout",
     "output_type": "stream",
     "text": [
      "Model: \"model_1\"\n",
      "_________________________________________________________________\n",
      "Layer (type)                 Output Shape              Param #   \n",
      "=================================================================\n",
      "input_1 (InputLayer)         [(None, 224, 273, 1)]     0         \n",
      "_________________________________________________________________\n",
      "conv2d (Conv2D)              (None, 224, 273, 3)       30        \n",
      "_________________________________________________________________\n",
      "vgg16 (Functional)           (None, 7, 8, 512)         14714688  \n",
      "_________________________________________________________________\n",
      "flatten (Flatten)            (None, 28672)             0         \n",
      "_________________________________________________________________\n",
      "dense (Dense)                (None, 1)                 28673     \n",
      "=================================================================\n",
      "Total params: 14,743,391\n",
      "Trainable params: 28,703\n",
      "Non-trainable params: 14,714,688\n",
      "_________________________________________________________________\n"
     ]
    }
   ],
   "source": [
    "model.summary()"
   ]
  },
  {
   "cell_type": "code",
   "execution_count": 95,
   "id": "36220b20-b3b3-4495-9bea-b114d4ca158d",
   "metadata": {},
   "outputs": [],
   "source": [
    "initial_learning_rate = 0.0001\n",
    "adam_opt = keras.optimizers.Adam(learning_rate=initial_learning_rate, \n",
    "                                 beta_1=0.9, \n",
    "                                 beta_2=0.999, \n",
    "                                 epsilon=1e-07, \n",
    "                                 amsgrad=False)\n",
    "\n",
    "model.compile(\n",
    "    loss='binary_crossentropy',\n",
    "    optimizer=adam_opt\n",
    ")"
   ]
  },
  {
   "cell_type": "code",
   "execution_count": 96,
   "id": "bb8dccca-897f-4c0d-84c4-2045b7626c29",
   "metadata": {},
   "outputs": [
    {
     "data": {
      "text/plain": [
       "0.0001"
      ]
     },
     "execution_count": 96,
     "metadata": {},
     "output_type": "execute_result"
    }
   ],
   "source": [
    "model.optimizer.get_config()['learning_rate']"
   ]
  },
  {
   "cell_type": "code",
   "execution_count": 97,
   "id": "f2aff6c9-c7c7-4c9f-a0e4-bcfbded8aff6",
   "metadata": {
    "tags": []
   },
   "outputs": [
    {
     "name": "stdout",
     "output_type": "stream",
     "text": [
      "Epoch 1/100\n",
      "Learning Rate: 0.0001\n",
      "31/31 [==============================] - 250s 8s/step - loss: 0.6405 - val_loss: 0.6425\n",
      "\n",
      "val-roc-auc: 0.5353                                                                                                    \n",
      "\n",
      "Epoch 2/100\n",
      "Learning Rate: 9.999999747378752e-05\n",
      "31/31 [==============================] - 234s 8s/step - loss: 0.5970 - val_loss: 0.6230\n",
      "\n",
      "val-roc-auc: 0.5777                                                                                                    \n",
      "\n",
      "Epoch 3/100\n",
      "Learning Rate: 9.999999747378752e-05\n",
      "31/31 [==============================] - 230s 7s/step - loss: 0.5726 - val_loss: 0.6189\n",
      "\n",
      "val-roc-auc: 0.5984                                                                                                    \n",
      "\n",
      "Epoch 4/100\n",
      "Learning Rate: 9.999999747378752e-05\n",
      "31/31 [==============================] - 232s 8s/step - loss: 0.5622 - val_loss: 0.6205\n",
      "\n",
      "val-roc-auc: 0.6108                                                                                                    \n",
      "\n",
      "Epoch 5/100\n",
      "Learning Rate: 9.999999747378752e-05\n",
      "31/31 [==============================] - 335s 11s/step - loss: 0.5341 - val_loss: 0.6001\n",
      "\n",
      "val-roc-auc: 0.6231                                                                                                    \n",
      "\n",
      "Epoch 6/100\n",
      "Learning Rate: 9.999999747378752e-05\n",
      "31/31 [==============================] - 393s 13s/step - loss: 0.5216 - val_loss: 0.6088\n",
      "\n",
      "val-roc-auc: 0.6264                                                                                                    \n",
      "\n",
      "Epoch 7/100\n",
      "Learning Rate: 9.999999747378752e-05\n",
      "31/31 [==============================] - 394s 13s/step - loss: 0.5051 - val_loss: 0.5943\n",
      "\n",
      "val-roc-auc: 0.6357                                                                                                    \n",
      "\n",
      "Epoch 8/100\n",
      "Learning Rate: 9.999999747378752e-05\n",
      "31/31 [==============================] - 389s 13s/step - loss: 0.4855 - val_loss: 0.6048\n",
      "\n",
      "val-roc-auc: 0.642                                                                                                    \n",
      "\n",
      "Epoch 9/100\n",
      "Learning Rate: 9.999999747378752e-05\n",
      "31/31 [==============================] - 391s 13s/step - loss: 0.4738 - val_loss: 0.5992\n",
      "\n",
      "val-roc-auc: 0.6434                                                                                                    \n",
      "\n",
      "Epoch 10/100\n",
      "Learning Rate: 9.999999747378752e-05\n",
      "31/31 [==============================] - 399s 13s/step - loss: 0.4604 - val_loss: 0.5931\n",
      "\n",
      "val-roc-auc: 0.6486                                                                                                    \n",
      "\n",
      "Epoch 11/100\n",
      "Learning Rate: 9.999999747378752e-05\n",
      "31/31 [==============================] - 398s 13s/step - loss: 0.4526 - val_loss: 0.5982\n",
      "\n",
      "val-roc-auc: 0.6482                                                                                                    \n",
      "\n",
      "Epoch 12/100\n",
      "Learning Rate: 9.999999747378752e-05\n",
      "31/31 [==============================] - 409s 13s/step - loss: 0.4370 - val_loss: 0.5921\n",
      "\n",
      "val-roc-auc: 0.6468                                                                                                    \n",
      "\n",
      "Epoch 13/100\n",
      "Learning Rate: 9.999999747378752e-05\n",
      "31/31 [==============================] - 402s 13s/step - loss: 0.4235 - val_loss: 0.5857\n",
      "\n",
      "val-roc-auc: 0.6533                                                                                                    \n",
      "\n",
      "Epoch 14/100\n",
      "Learning Rate: 9.999999747378752e-05\n",
      "31/31 [==============================] - 405s 13s/step - loss: 0.4115 - val_loss: 0.5854\n",
      "\n",
      "val-roc-auc: 0.653                                                                                                    \n",
      "\n",
      "Epoch 15/100\n",
      "Learning Rate: 9.999999747378752e-05\n",
      "31/31 [==============================] - 399s 13s/step - loss: 0.3991 - val_loss: 0.5907\n",
      "\n",
      "val-roc-auc: 0.6524                                                                                                    \n",
      "\n",
      "Epoch 16/100\n",
      "Learning Rate: 9.999999747378752e-05\n",
      "31/31 [==============================] - 408s 13s/step - loss: 0.3916 - val_loss: 0.5954\n",
      "\n",
      "val-roc-auc: 0.6503                                                                                                    \n",
      "\n",
      "Epoch 17/100\n",
      "Learning Rate: 9.999999747378752e-05\n",
      "31/31 [==============================] - 351s 11s/step - loss: 0.3788 - val_loss: 0.5872\n",
      "\n",
      "val-roc-auc: 0.6526                                                                                                    \n",
      "\n",
      "Epoch 18/100\n",
      "Learning Rate: 9.999999747378752e-05\n",
      "31/31 [==============================] - 399s 13s/step - loss: 0.3683 - val_loss: 0.5895\n",
      "\n",
      "val-roc-auc: 0.6508                                                                                                    \n",
      "\n",
      "Epoch 19/100\n",
      "Learning Rate: 9.999999747378752e-05\n",
      "31/31 [==============================] - 400s 13s/step - loss: 0.3597 - val_loss: 0.5879\n",
      "\n",
      "val-roc-auc: 0.6518                                                                                                    \n",
      "\n",
      "Epoch 20/100\n",
      "Learning Rate: 4.999999873689376e-05\n",
      "31/31 [==============================] - 417s 13s/step - loss: 0.3501 - val_loss: 0.5887\n",
      "\n",
      "val-roc-auc: 0.6507                                                                                                    \n",
      "\n",
      "Epoch 21/100\n",
      "Learning Rate: 4.999999873689376e-05\n",
      "31/31 [==============================] - 422s 14s/step - loss: 0.3458 - val_loss: 0.6051\n",
      "\n",
      "val-roc-auc: 0.6494                                                                                                    \n",
      "\n",
      "Epoch 22/100\n",
      "Learning Rate: 4.999999873689376e-05\n",
      "31/31 [==============================] - 407s 13s/step - loss: 0.3480 - val_loss: 0.5914\n",
      "\n",
      "val-roc-auc: 0.6507                                                                                                    \n",
      "\n",
      "Epoch 23/100\n",
      "Learning Rate: 4.999999873689376e-05\n",
      "31/31 [==============================] - 399s 13s/step - loss: 0.3352 - val_loss: 0.5908\n",
      "\n",
      "val-roc-auc: 0.6516                                                                                                    \n",
      "\n"
     ]
    }
   ],
   "source": [
    "# Exponential decay learning rate scheduler comes from: \n",
    "#      https://towardsdatascience.com/learning-rate-schedule-in-practice-an-example-with-keras-and-tensorflow-2-0-2f48b2888a0c\n",
    "def lr_exp_decay(epoch, lr):\n",
    "    print('Previous lr: {}'.format(lr))\n",
    "    k = 0\n",
    "    return lr * np.exp(-k*epoch)\n",
    "\n",
    "# This AUC will be calculated at the end of each epoch on the validation set and be used for early stopping\n",
    "auc = ROAUCMetrics(val_data=(X_val, y_val[:, target]))\n",
    "\n",
    "eval_callback = LambdaCallback(on_epoch_end=lambda epoch, logs: logs.update({'auc': auc.val_aucs[-1]})) \n",
    "\n",
    "reduce_lr = ReduceLROnPlateau(monitor='val_loss', factor=0.5, patience=5, mode='min', min_delta=0.0001, min_lr=5e-6)\n",
    "\n",
    "lr_callback = LambdaCallback(on_epoch_begin=lambda epoch, logs: print('Learning Rate: {}'.format(round(model.optimizer.get_config()['learning_rate'], 7))))\n",
    "\n",
    "# scheduler = LearningRateScheduler(lr_exp_decay, verbose=1)\n",
    "\n",
    "early_stopping = EarlyStopping(monitor='auc', mode='max', patience=10, restore_best_weights=True)\n",
    "\n",
    "history = model.fit(train_iterator, steps_per_epoch=len(train_iterator), epochs=100, verbose=1, validation_data=val_iterator, \n",
    "                 callbacks=[\n",
    "                     auc,\n",
    "                     eval_callback,\n",
    "                     reduce_lr,\n",
    "                     lr_callback,\n",
    "                     early_stopping,\n",
    "#                      scheduler,\n",
    "                     keras.callbacks.ModelCheckpoint(\n",
    "                         'models_baby2/model_3.{epoch:02d}-{val_loss:.2f}.hdf5',\n",
    "                         save_best_only=False)\n",
    "                 ])"
   ]
  },
  {
   "cell_type": "code",
   "execution_count": 98,
   "id": "911c01f4-afd9-49e3-a182-72934fdc2c01",
   "metadata": {},
   "outputs": [
    {
     "data": {
      "image/png": "[encoded data removed]",
      "text/plain": [
       "<Figure size 432x288 with 1 Axes>"
      ]
     },
     "metadata": {},
     "output_type": "display_data"
    }
   ],
   "source": [
    "plt.plot(history.history['loss'])\n",
    "plt.plot(history.history['val_loss'])\n",
    "\n",
    "plt.title('Loss vs. Training Epoch')\n",
    "plt.xlabel('Epoch')\n",
    "plt.ylabel('Loss')\n",
    "plt.legend(['Train','Validation']);"
   ]
  },
  {
   "cell_type": "code",
   "execution_count": 99,
   "id": "174865f0-de9f-46a6-b58d-bb47eb56e447",
   "metadata": {},
   "outputs": [],
   "source": [
    "y_pred = model.predict(X_val)"
   ]
  },
  {
   "cell_type": "code",
   "execution_count": 100,
   "id": "5b5b76f5-42b0-4b8a-88b7-c7da35ed3a72",
   "metadata": {},
   "outputs": [
    {
     "data": {
      "text/plain": [
       "0.6532797858099063"
      ]
     },
     "execution_count": 100,
     "metadata": {},
     "output_type": "execute_result"
    }
   ],
   "source": [
    "roc_auc_score(y_val[:,target], y_pred)"
   ]
  },
  {
   "cell_type": "code",
   "execution_count": null,
   "id": "40eae82c-51de-4a3d-95c5-39c96d6ebeaf",
   "metadata": {},
   "outputs": [],
   "source": []
  },
  {
   "cell_type": "markdown",
   "id": "d1a6b850-5ba0-4d84-9f85-54d2352187b6",
   "metadata": {},
   "source": [
    "# 3b) Same as above (1st target only) but with a super simple output from VGG16"
   ]
  },
  {
   "cell_type": "code",
   "execution_count": null,
   "id": "0b918520-c63c-49f6-a32a-62e25c4ac9fb",
   "metadata": {},
   "outputs": [],
   "source": [
    "## Targets: 'Atelectasis'=0, 'Cardiomegaly'=1, 'Edema'=2, 'Pleaural Effusion'=3\n",
    "\n",
    "target = 0"
   ]
  },
  {
   "cell_type": "code",
   "execution_count": 190,
   "id": "ebd65d50-409b-4af6-bf0f-bd531f3f0f73",
   "metadata": {},
   "outputs": [],
   "source": [
    "## FOR REPEATABILITY (must re-run this before EVERY model training run):\n",
    "\n",
    "# 1. Set the `PYTHONHASHSEED` environment variable at a fixed value\n",
    "import os\n",
    "os.environ['PYTHONHASHSEED']=str(0)\n",
    "\n",
    "# 2. Set the `python` built-in pseudo-random generator at a fixed value\n",
    "import random\n",
    "random.seed(1)\n",
    "\n",
    "# 3. Set the `numpy` pseudo-random generator at a fixed value\n",
    "import numpy as np\n",
    "np.random.seed(2)\n",
    "\n",
    "# 4. Set the `tensorflow` pseudo-random generator at a fixed value\n",
    "import tensorflow as tf\n",
    "tf.random.set_seed(2)"
   ]
  },
  {
   "cell_type": "code",
   "execution_count": 191,
   "id": "60620106-7e1b-4784-8a51-1df0a4089c30",
   "metadata": {},
   "outputs": [
    {
     "name": "stdout",
     "output_type": "stream",
     "text": [
      "Batches train=4, val=1\n"
     ]
    }
   ],
   "source": [
    "batch_size = 256\n",
    "\n",
    "datagen = ImageDataGenerator(featurewise_center=True, featurewise_std_normalization=True)\n",
    "\n",
    "# calculate mean on training dataset\n",
    "datagen.fit(X_train)\n",
    "\n",
    "# prepare iterators to scale images\n",
    "train_iterator = datagen.flow(X_train, y_train[:, target], batch_size=batch_size)\n",
    "\n",
    "val_iterator = datagen.flow(X_val, y_val[:, target], batch_size=batch_size)\n",
    "\n",
    "print('Batches train=%d, val=%d' % (len(train_iterator), len(val_iterator)))"
   ]
  },
  {
   "cell_type": "code",
   "execution_count": 192,
   "id": "df34cf52-1aeb-4498-a605-988619cefd59",
   "metadata": {},
   "outputs": [],
   "source": [
    "keras.backend.clear_session()\n",
    "\n",
    "# dropout = 0.4\n",
    "\n",
    "from tensorflow.keras.applications import VGG16\n",
    "\n",
    "# This converts the 1-channel X-rays to 3-channel images a required by mobilenet_v2\n",
    "input_tensor = Input(shape=(X_train.shape[1:]))\n",
    "x = Conv2D(3,(3,3),padding='same')(input_tensor)\n",
    "\n",
    "base_model = VGG16(weights='imagenet', \n",
    "                   include_top=False, \n",
    "#                    pooling='avg',\n",
    "                   input_shape=(X_train.shape[1], X_train.shape[2], 3)) \n",
    " \n",
    "# Freeze convolutional layers\n",
    "for layer in base_model.layers:\n",
    "    layer.trainable = False    \n",
    "\n",
    "out = base_model(x)\n",
    "new_base_model = Model(inputs=input_tensor, outputs=out)\n",
    "    \n",
    "# Establish new fully connected block\n",
    "x = new_base_model.output\n",
    "x = Flatten()(x) # flatten from convolution tensor output \n",
    "# x = Dense(units=128, activation='relu')(x) # number of layers and units are hyperparameters, as usual\n",
    "# x = Dropout(dropout, seed=2)(x) # adding Dropout for regularization between the Dense layers\n",
    "# x = Dense(units=64, activation='relu')(x)\n",
    "# x = Dropout(dropout, seed=1)(x) # adding Dropout for regularization between the Dense layers\n",
    "predictions = Dense(units=1, activation='sigmoid')(x) # 1 target labels\n",
    "\n",
    "# define formal model object to train and compile it as usual\n",
    "model = Model(inputs=new_base_model.input, outputs=predictions)"
   ]
  },
  {
   "cell_type": "code",
   "execution_count": 193,
   "id": "1a5a1e58-d653-4b52-bd28-02a13abd5c74",
   "metadata": {},
   "outputs": [
    {
     "name": "stdout",
     "output_type": "stream",
     "text": [
      "Model: \"model_1\"\n",
      "_________________________________________________________________\n",
      "Layer (type)                 Output Shape              Param #   \n",
      "=================================================================\n",
      "input_1 (InputLayer)         [(None, 224, 273, 1)]     0         \n",
      "_________________________________________________________________\n",
      "conv2d (Conv2D)              (None, 224, 273, 3)       30        \n",
      "_________________________________________________________________\n",
      "vgg16 (Functional)           (None, 7, 8, 512)         14714688  \n",
      "_________________________________________________________________\n",
      "flatten (Flatten)            (None, 28672)             0         \n",
      "_________________________________________________________________\n",
      "dense (Dense)                (None, 1)                 28673     \n",
      "=================================================================\n",
      "Total params: 14,743,391\n",
      "Trainable params: 28,703\n",
      "Non-trainable params: 14,714,688\n",
      "_________________________________________________________________\n"
     ]
    }
   ],
   "source": [
    "model.summary()"
   ]
  },
  {
   "cell_type": "code",
   "execution_count": 194,
   "id": "b9a04631-8b91-4d3a-96da-2d56c502f3eb",
   "metadata": {},
   "outputs": [],
   "source": [
    "initial_learning_rate = 0.0005\n",
    "adam_opt = keras.optimizers.Adam(learning_rate=initial_learning_rate, \n",
    "                                 beta_1=0.9, \n",
    "                                 beta_2=0.999, \n",
    "                                 epsilon=1e-07, \n",
    "                                 amsgrad=False)\n",
    "\n",
    "model.compile(\n",
    "    loss='binary_crossentropy',\n",
    "    optimizer=adam_opt\n",
    ")"
   ]
  },
  {
   "cell_type": "code",
   "execution_count": 195,
   "id": "f58dbed4-5a36-48e5-97fb-d3113c27c15c",
   "metadata": {},
   "outputs": [
    {
     "data": {
      "text/plain": [
       "0.0005"
      ]
     },
     "execution_count": 195,
     "metadata": {},
     "output_type": "execute_result"
    }
   ],
   "source": [
    "model.optimizer.get_config()['learning_rate']"
   ]
  },
  {
   "cell_type": "code",
   "execution_count": 196,
   "id": "c43c9205-b4d8-4fa1-9bdb-e94aa4c8583f",
   "metadata": {
    "tags": []
   },
   "outputs": [
    {
     "name": "stdout",
     "output_type": "stream",
     "text": [
      "Epoch 1/100\n",
      "Learning Rate: 0.0005\n",
      "4/4 [==============================] - 413s 117s/step - loss: 0.7404 - val_loss: 0.6574\n",
      "\n",
      "val-roc-auc: 0.5001                                                                                                    \n",
      "\n",
      "Epoch 2/100\n",
      "Learning Rate: 0.0005000000237487257\n",
      "4/4 [==============================] - 438s 118s/step - loss: 0.6665 - val_loss: 0.6387\n",
      "\n",
      "val-roc-auc: 0.5431                                                                                                    \n",
      "\n",
      "Epoch 3/100\n",
      "Learning Rate: 0.0005000000237487257\n",
      "4/4 [==============================] - 438s 113s/step - loss: 0.6328 - val_loss: 0.6404\n",
      "\n",
      "val-roc-auc: 0.5652                                                                                                    \n",
      "\n",
      "Epoch 4/100\n",
      "Learning Rate: 0.0005000000237487257\n",
      "4/4 [==============================] - 444s 118s/step - loss: 0.5909 - val_loss: 0.6474\n",
      "\n",
      "val-roc-auc: 0.5875                                                                                                    \n",
      "\n",
      "Epoch 5/100\n",
      "Learning Rate: 0.0005000000237487257\n",
      "4/4 [==============================] - 459s 123s/step - loss: 0.5652 - val_loss: 0.6388\n",
      "\n",
      "val-roc-auc: 0.5921                                                                                                    \n",
      "\n",
      "Epoch 6/100\n",
      "Learning Rate: 0.0005000000237487257\n",
      "4/4 [==============================] - 446s 121s/step - loss: 0.5533 - val_loss: 0.6081\n",
      "\n",
      "val-roc-auc: 0.602                                                                                                    \n",
      "\n",
      "Epoch 7/100\n",
      "Learning Rate: 0.0005000000237487257\n",
      "4/4 [==============================] - 443s 115s/step - loss: 0.5405 - val_loss: 0.6034\n",
      "\n",
      "val-roc-auc: 0.6101                                                                                                    \n",
      "\n",
      "Epoch 8/100\n",
      "Learning Rate: 0.0005000000237487257\n",
      "4/4 [==============================] - 434s 112s/step - loss: 0.5143 - val_loss: 0.6119\n",
      "\n",
      "val-roc-auc: 0.614                                                                                                    \n",
      "\n",
      "Epoch 9/100\n",
      "Learning Rate: 0.0005000000237487257\n",
      "4/4 [==============================] - 430s 112s/step - loss: 0.4959 - val_loss: 0.6037\n",
      "\n",
      "val-roc-auc: 0.624                                                                                                    \n",
      "\n",
      "Epoch 10/100\n",
      "Learning Rate: 0.0005000000237487257\n",
      "4/4 [==============================] - 430s 111s/step - loss: 0.4847 - val_loss: 0.5971\n",
      "\n",
      "val-roc-auc: 0.6278                                                                                                    \n",
      "\n",
      "Epoch 11/100\n",
      "Learning Rate: 0.0005000000237487257\n",
      "4/4 [==============================] - 409s 105s/step - loss: 0.4709 - val_loss: 0.5901\n",
      "\n",
      "val-roc-auc: 0.6335                                                                                                    \n",
      "\n",
      "Epoch 12/100\n",
      "Learning Rate: 0.0005000000237487257\n",
      "4/4 [==============================] - 407s 105s/step - loss: 0.4557 - val_loss: 0.5874\n",
      "\n",
      "val-roc-auc: 0.637                                                                                                    \n",
      "\n",
      "Epoch 13/100\n",
      "Learning Rate: 0.0005000000237487257\n",
      "4/4 [==============================] - 410s 106s/step - loss: 0.4405 - val_loss: 0.5899\n",
      "\n",
      "val-roc-auc: 0.6406                                                                                                    \n",
      "\n",
      "Epoch 14/100\n",
      "Learning Rate: 0.0005000000237487257\n",
      "4/4 [==============================] - 424s 110s/step - loss: 0.4284 - val_loss: 0.5875\n",
      "\n",
      "val-roc-auc: 0.6446                                                                                                    \n",
      "\n",
      "Epoch 15/100\n",
      "Learning Rate: 0.0005000000237487257\n",
      "4/4 [==============================] - 426s 109s/step - loss: 0.4161 - val_loss: 0.5885\n",
      "\n",
      "val-roc-auc: 0.6463                                                                                                    \n",
      "\n",
      "Epoch 16/100\n",
      "Learning Rate: 0.0005000000237487257\n",
      "4/4 [==============================] - 431s 111s/step - loss: 0.4023 - val_loss: 0.5835\n",
      "\n",
      "val-roc-auc: 0.6499                                                                                                    \n",
      "\n",
      "Epoch 17/100\n",
      "Learning Rate: 0.0005000000237487257\n",
      "4/4 [==============================] - 425s 115s/step - loss: 0.3920 - val_loss: 0.5852\n",
      "\n",
      "val-roc-auc: 0.6473                                                                                                    \n",
      "\n",
      "Epoch 18/100\n",
      "Learning Rate: 0.0002500000118743628\n",
      "4/4 [==============================] - 553s 152s/step - loss: 0.3827 - val_loss: 0.5847\n",
      "\n",
      "val-roc-auc: 0.6487                                                                                                    \n",
      "\n",
      "Epoch 19/100\n",
      "Learning Rate: 0.0002500000118743628\n",
      "4/4 [==============================] - 283s 62s/step - loss: 0.3744 - val_loss: 0.5839\n",
      "\n",
      "val-roc-auc: 0.6484                                                                                                    \n",
      "\n",
      "Epoch 20/100\n",
      "Learning Rate: 0.0001250000059371814\n",
      "4/4 [==============================] - 318s 86s/step - loss: 0.3704 - val_loss: 0.5836\n",
      "\n",
      "val-roc-auc: 0.6474                                                                                                    \n",
      "\n",
      "Epoch 21/100\n",
      "Learning Rate: 0.0001250000059371814\n",
      "4/4 [==============================] - 401s 103s/step - loss: 0.3658 - val_loss: 0.5863\n",
      "\n",
      "val-roc-auc: 0.6475                                                                                                    \n",
      "\n",
      "Epoch 22/100\n",
      "Learning Rate: 6.25000029685907e-05\n",
      "4/4 [==============================] - 407s 104s/step - loss: 0.3647 - val_loss: 0.5865\n",
      "\n",
      "val-roc-auc: 0.647                                                                                                    \n",
      "\n",
      "Epoch 23/100\n",
      "Learning Rate: 6.25000029685907e-05\n",
      "4/4 [==============================] - 331s 80s/step - loss: 0.3631 - val_loss: 0.5845\n",
      "\n",
      "val-roc-auc: 0.6465                                                                                                    \n",
      "\n",
      "Epoch 24/100\n",
      "Learning Rate: 3.1200001103570685e-05\n",
      "4/4 [==============================] - 281s 75s/step - loss: 0.3612 - val_loss: 0.5843\n",
      "\n",
      "val-roc-auc: 0.6469                                                                                                    \n",
      "\n",
      "Epoch 25/100\n",
      "Learning Rate: 3.1200001103570685e-05\n",
      "4/4 [==============================] - 380s 96s/step - loss: 0.3605 - val_loss: 0.5845\n",
      "\n",
      "val-roc-auc: 0.6468                                                                                                    \n",
      "\n",
      "Epoch 26/100\n",
      "Learning Rate: 1.5600000551785342e-05\n",
      "4/4 [==============================] - 395s 106s/step - loss: 0.3598 - val_loss: 0.5846\n",
      "\n",
      "val-roc-auc: 0.6467                                                                                                    \n",
      "\n"
     ]
    }
   ],
   "source": [
    "# Exponential decay learning rate scheduler comes from: \n",
    "#      https://towardsdatascience.com/learning-rate-schedule-in-practice-an-example-with-keras-and-tensorflow-2-0-2f48b2888a0c\n",
    "def lr_exp_decay(epoch, lr):\n",
    "    print('Previous lr: {}'.format(lr))\n",
    "    k = 0\n",
    "    return lr * np.exp(-k*epoch)\n",
    "\n",
    "# This AUC will be calculated at the end of each epoch on the validation set and be used for early stopping\n",
    "auc = ROAUCMetrics(val_data=(X_val, y_val[:, target]))\n",
    "\n",
    "eval_callback = LambdaCallback(on_epoch_end=lambda epoch, logs: logs.update({'auc': auc.val_aucs[-1]})) \n",
    "\n",
    "# reduce_lr = ReduceLROnPlateau(monitor='val_loss', factor=0.5, patience=5, mode='min', min_delta=0.0001, min_lr=5e-6)\n",
    "reduce_lr = ReduceLROnPlateau(monitor='auc', factor=0.5, patience=2, mode='max', min_delta=0.005, min_lr=1e-6)\n",
    "\n",
    "lr_callback = LambdaCallback(on_epoch_begin=lambda epoch, logs: print('Learning Rate: {}'.format(round(model.optimizer.get_config()['learning_rate'], 7))))\n",
    "\n",
    "# scheduler = LearningRateScheduler(lr_exp_decay, verbose=1)\n",
    "\n",
    "early_stopping = EarlyStopping(monitor='auc', mode='max', patience=10, restore_best_weights=True)\n",
    "\n",
    "history = model.fit(train_iterator, steps_per_epoch=len(train_iterator), epochs=100, verbose=1, validation_data=val_iterator, \n",
    "                 callbacks=[\n",
    "                     auc,\n",
    "                     eval_callback,\n",
    "                     reduce_lr,\n",
    "                     lr_callback,\n",
    "                     early_stopping,\n",
    "#                      scheduler,\n",
    "                     keras.callbacks.ModelCheckpoint(\n",
    "                         'models_baby2/model_3b.{epoch:02d}-{val_loss:.2f}.hdf5',\n",
    "                         save_best_only=False)\n",
    "                 ])"
   ]
  },
  {
   "cell_type": "code",
   "execution_count": null,
   "id": "d7dada4e-cd46-477f-8f88-1529119b1a5d",
   "metadata": {},
   "outputs": [],
   "source": [
    "# Best model saved is for epoch 48:  models_baby/model_3b.48-0.59.hdf5"
   ]
  },
  {
   "cell_type": "code",
   "execution_count": 155,
   "id": "ea6ea830-3c5e-40cb-b03b-6e1af4b20b10",
   "metadata": {},
   "outputs": [
    {
     "data": {
      "image/png": "[encoded data removed]",
      "text/plain": [
       "<Figure size 432x288 with 1 Axes>"
      ]
     },
     "metadata": {},
     "output_type": "display_data"
    }
   ],
   "source": [
    "plt.plot(history.history['loss'])\n",
    "plt.plot(history.history['val_loss'])\n",
    "\n",
    "plt.title('Loss vs. Training Epoch')\n",
    "plt.xlabel('Epoch')\n",
    "plt.ylabel('Loss')\n",
    "plt.legend(['Train','Validation']);"
   ]
  },
  {
   "cell_type": "code",
   "execution_count": 197,
   "id": "46c3b60b-23cf-4e04-8f14-6278a0116d2a",
   "metadata": {},
   "outputs": [],
   "source": [
    "y_pred = model.predict(X_val)"
   ]
  },
  {
   "cell_type": "code",
   "execution_count": 198,
   "id": "30f2af8a-1e14-49f5-9c20-c80e6e43b8e1",
   "metadata": {},
   "outputs": [
    {
     "data": {
      "text/plain": [
       "0.6498958798155586"
      ]
     },
     "execution_count": 198,
     "metadata": {},
     "output_type": "execute_result"
    }
   ],
   "source": [
    "# Initial LR=0.0005, batch_size=256\n",
    "roc_auc_score(y_val[:,target], y_pred)"
   ]
  },
  {
   "cell_type": "code",
   "execution_count": 157,
   "id": "69d06cb1-8e02-43dc-8e4a-b7d0e786eee4",
   "metadata": {},
   "outputs": [
    {
     "data": {
      "text/plain": [
       "0.6513461252417075"
      ]
     },
     "execution_count": 157,
     "metadata": {},
     "output_type": "execute_result"
    }
   ],
   "source": [
    "# Initial LR=0.0001, batch_size=256\n",
    "roc_auc_score(y_val[:,target], y_pred)"
   ]
  },
  {
   "cell_type": "code",
   "execution_count": 110,
   "id": "1b1ceafa-1a35-460a-8a1e-01c75c47962a",
   "metadata": {},
   "outputs": [
    {
     "data": {
      "text/plain": [
       "0.6532797858099063"
      ]
     },
     "execution_count": 110,
     "metadata": {},
     "output_type": "execute_result"
    }
   ],
   "source": [
    "# Initial LR=0.0001, batch_size=32\n",
    "roc_auc_score(y_val[:,target], y_pred)"
   ]
  },
  {
   "cell_type": "code",
   "execution_count": 88,
   "id": "2b65ccf7-2b02-45b0-982c-7d4091718548",
   "metadata": {},
   "outputs": [
    {
     "data": {
      "text/plain": [
       "0.6481481481481483"
      ]
     },
     "execution_count": 88,
     "metadata": {},
     "output_type": "execute_result"
    }
   ],
   "source": [
    "# Initial LR=0.001, batch_size=32\n",
    "roc_auc_score(y_val[:,target], y_pred)"
   ]
  },
  {
   "cell_type": "markdown",
   "id": "12c8a422-3a15-4f05-9215-b71bfd9b013f",
   "metadata": {},
   "source": [
    "# 4) Let's Try InceptionV3 Pre-Trained Model"
   ]
  },
  {
   "cell_type": "code",
   "execution_count": null,
   "id": "6dc96a21-828e-46f9-9b0a-760bd511cf24",
   "metadata": {},
   "outputs": [],
   "source": [
    "## Targets: 'Atelectasis'=0, 'Cardiomegaly'=1, 'Edema'=2, 'Pleaural Effusion'=3\n",
    "\n",
    "target = 0"
   ]
  },
  {
   "cell_type": "code",
   "execution_count": 158,
   "id": "2ccca1be-79e0-42d0-b76e-cd62de3bc3db",
   "metadata": {},
   "outputs": [],
   "source": [
    "## FOR REPEATABILITY (must re-run this before EVERY model training run):\n",
    "\n",
    "# 1. Set the `PYTHONHASHSEED` environment variable at a fixed value\n",
    "import os\n",
    "os.environ['PYTHONHASHSEED']=str(0)\n",
    "\n",
    "# 2. Set the `python` built-in pseudo-random generator at a fixed value\n",
    "import random\n",
    "random.seed(1)\n",
    "\n",
    "# 3. Set the `numpy` pseudo-random generator at a fixed value\n",
    "import numpy as np\n",
    "np.random.seed(2)\n",
    "\n",
    "# 4. Set the `tensorflow` pseudo-random generator at a fixed value\n",
    "import tensorflow as tf\n",
    "tf.random.set_seed(2)"
   ]
  },
  {
   "cell_type": "code",
   "execution_count": 159,
   "id": "860fa6b4-90b4-4e42-a7c9-4901c28c36ec",
   "metadata": {},
   "outputs": [
    {
     "name": "stdout",
     "output_type": "stream",
     "text": [
      "Batches train=4, val=1\n"
     ]
    }
   ],
   "source": [
    "batch_size = 256\n",
    "\n",
    "datagen = ImageDataGenerator(featurewise_center=True, featurewise_std_normalization=True)\n",
    "\n",
    "# calculate mean on training dataset\n",
    "datagen.fit(X_train)\n",
    "\n",
    "# prepare iterators to scale images\n",
    "train_iterator = datagen.flow(X_train, y_train[:, target], batch_size=batch_size)\n",
    "\n",
    "val_iterator = datagen.flow(X_val, y_val[:, target], batch_size=batch_size)\n",
    "\n",
    "print('Batches train=%d, val=%d' % (len(train_iterator), len(val_iterator)))"
   ]
  },
  {
   "cell_type": "code",
   "execution_count": 160,
   "id": "fc59c119-47a5-46e5-90e4-44a751db00de",
   "metadata": {},
   "outputs": [
    {
     "name": "stdout",
     "output_type": "stream",
     "text": [
      "Downloading data from https://storage.googleapis.com/tensorflow/keras-applications/inception_v3/inception_v3_weights_tf_dim_ordering_tf_kernels_notop.h5\n",
      "87916544/87910968 [==============================] - 32s 0us/step\n"
     ]
    }
   ],
   "source": [
    "keras.backend.clear_session()\n",
    "\n",
    "# dropout = 0.4\n",
    "\n",
    "from tensorflow.keras.applications import InceptionV3\n",
    "\n",
    "# This converts the 1-channel X-rays to 3-channel images a required by mobilenet_v2\n",
    "input_tensor = Input(shape=(X_train.shape[1:]))\n",
    "x = Conv2D(3,(3,3),padding='same')(input_tensor)\n",
    "\n",
    "base_model = InceptionV3(weights='imagenet',\n",
    "                         include_top=False,\n",
    "                         pooling='avg',\n",
    "                         input_shape=(X_train.shape[1], X_train.shape[2], 3)) \n",
    " \n",
    "# Freeze convolutional layers\n",
    "for layer in base_model.layers:\n",
    "    layer.trainable = False    \n",
    "\n",
    "out = base_model(x)\n",
    "new_base_model = Model(inputs=input_tensor, outputs=out)\n",
    "    \n",
    "# Establish new fully connected block\n",
    "x = new_base_model.output\n",
    "x = Flatten()(x) # flatten from convolution tensor output \n",
    "# x = Dense(units=128, activation='relu')(x) # number of layers and units are hyperparameters, as usual\n",
    "# x = Dropout(dropout, seed=2)(x) # adding Dropout for regularization between the Dense layers\n",
    "# x = Dense(units=64, activation='relu')(x)\n",
    "# x = Dropout(dropout, seed=1)(x) # adding Dropout for regularization between the Dense layers\n",
    "predictions = Dense(units=1, activation='sigmoid')(x) # 1 target labels\n",
    "\n",
    "# define formal model object to train and compile it as usual\n",
    "model = Model(inputs=new_base_model.input, outputs=predictions)"
   ]
  },
  {
   "cell_type": "code",
   "execution_count": 161,
   "id": "24f36e80-15fd-4349-8a37-9e6e066005ef",
   "metadata": {},
   "outputs": [
    {
     "name": "stdout",
     "output_type": "stream",
     "text": [
      "Model: \"model_1\"\n",
      "_________________________________________________________________\n",
      "Layer (type)                 Output Shape              Param #   \n",
      "=================================================================\n",
      "input_1 (InputLayer)         [(None, 224, 273, 1)]     0         \n",
      "_________________________________________________________________\n",
      "conv2d (Conv2D)              (None, 224, 273, 3)       30        \n",
      "_________________________________________________________________\n",
      "inception_v3 (Functional)    (None, 2048)              21802784  \n",
      "_________________________________________________________________\n",
      "flatten (Flatten)            (None, 2048)              0         \n",
      "_________________________________________________________________\n",
      "dense (Dense)                (None, 1)                 2049      \n",
      "=================================================================\n",
      "Total params: 21,804,863\n",
      "Trainable params: 2,079\n",
      "Non-trainable params: 21,802,784\n",
      "_________________________________________________________________\n"
     ]
    }
   ],
   "source": [
    "model.summary()"
   ]
  },
  {
   "cell_type": "code",
   "execution_count": 162,
   "id": "aee9c581-6246-4649-8132-e2533d497aae",
   "metadata": {},
   "outputs": [],
   "source": [
    "initial_learning_rate = 0.0002\n",
    "adam_opt = keras.optimizers.Adam(learning_rate=initial_learning_rate, \n",
    "                                 beta_1=0.9, \n",
    "                                 beta_2=0.999, \n",
    "                                 epsilon=1e-07, \n",
    "                                 amsgrad=False)\n",
    "\n",
    "model.compile(\n",
    "    loss='binary_crossentropy',\n",
    "    optimizer=adam_opt\n",
    ")"
   ]
  },
  {
   "cell_type": "code",
   "execution_count": 163,
   "id": "d3e0dcad-ea67-43e9-8f44-73d2fa74ca9b",
   "metadata": {},
   "outputs": [
    {
     "data": {
      "text/plain": [
       "0.0002"
      ]
     },
     "execution_count": 163,
     "metadata": {},
     "output_type": "execute_result"
    }
   ],
   "source": [
    "model.optimizer.get_config()['learning_rate']"
   ]
  },
  {
   "cell_type": "code",
   "execution_count": 164,
   "id": "c0f21fc1-a2fd-42f5-bf72-182e4b540cda",
   "metadata": {
    "tags": []
   },
   "outputs": [
    {
     "name": "stdout",
     "output_type": "stream",
     "text": [
      "Epoch 1/100\n",
      "Learning Rate: 0.0002\n",
      "4/4 [==============================] - 148s 36s/step - loss: 0.6884 - val_loss: 0.6877\n",
      "\n",
      "val-roc-auc: 0.4936                                                                                                    \n",
      "\n",
      "Epoch 2/100\n",
      "Learning Rate: 0.00019999999494757503\n",
      "4/4 [==============================] - 132s 36s/step - loss: 0.6751 - val_loss: 0.6838\n",
      "\n",
      "val-roc-auc: 0.4907                                                                                                    \n",
      "\n",
      "Epoch 3/100\n",
      "Learning Rate: 0.00019999999494757503\n",
      "4/4 [==============================] - 135s 34s/step - loss: 0.6678 - val_loss: 0.6748\n",
      "\n",
      "val-roc-auc: 0.4907                                                                                                    \n",
      "\n",
      "Epoch 4/100\n",
      "Learning Rate: 0.00019999999494757503\n",
      "4/4 [==============================] - 132s 34s/step - loss: 0.6596 - val_loss: 0.6709\n",
      "\n",
      "val-roc-auc: 0.4917                                                                                                    \n",
      "\n",
      "Epoch 5/100\n",
      "Learning Rate: 0.00019999999494757503\n",
      "4/4 [==============================] - 133s 35s/step - loss: 0.6543 - val_loss: 0.6645\n",
      "\n",
      "val-roc-auc: 0.4903                                                                                                    \n",
      "\n",
      "Epoch 6/100\n",
      "Learning Rate: 0.00019999999494757503\n",
      "4/4 [==============================] - 132s 35s/step - loss: 0.6479 - val_loss: 0.6577\n",
      "\n",
      "val-roc-auc: 0.4888                                                                                                    \n",
      "\n",
      "Epoch 7/100\n",
      "Learning Rate: 0.00019999999494757503\n",
      "4/4 [==============================] - 133s 33s/step - loss: 0.6428 - val_loss: 0.6529\n",
      "\n",
      "val-roc-auc: 0.4869                                                                                                    \n",
      "\n",
      "Epoch 8/100\n",
      "Learning Rate: 0.00019999999494757503\n",
      "4/4 [==============================] - 132s 33s/step - loss: 0.6379 - val_loss: 0.6486\n",
      "\n",
      "val-roc-auc: 0.4857                                                                                                    \n",
      "\n",
      "Epoch 9/100\n",
      "Learning Rate: 0.00019999999494757503\n",
      "4/4 [==============================] - 133s 33s/step - loss: 0.6338 - val_loss: 0.6445\n",
      "\n",
      "val-roc-auc: 0.4848                                                                                                    \n",
      "\n",
      "Epoch 10/100\n",
      "Learning Rate: 0.00019999999494757503\n",
      "1/4 [======>.......................] - ETA: 1:43 - loss: 0.6294"
     ]
    },
    {
     "ename": "KeyboardInterrupt",
     "evalue": "",
     "output_type": "error",
     "traceback": [
      "\u001b[0;31m---------------------------------------------------------------------------\u001b[0m",
      "\u001b[0;31mKeyboardInterrupt\u001b[0m                         Traceback (most recent call last)",
      "\u001b[0;32m/var/folders/16/my2sdbrn4hvfl3_91fx0wj9c0000gn/T/ipykernel_33826/2379144511.py\u001b[0m in \u001b[0;36m<module>\u001b[0;34m\u001b[0m\n\u001b[1;32m     19\u001b[0m \u001b[0mearly_stopping\u001b[0m \u001b[0;34m=\u001b[0m \u001b[0mEarlyStopping\u001b[0m\u001b[0;34m(\u001b[0m\u001b[0mmonitor\u001b[0m\u001b[0;34m=\u001b[0m\u001b[0;34m'auc'\u001b[0m\u001b[0;34m,\u001b[0m \u001b[0mmode\u001b[0m\u001b[0;34m=\u001b[0m\u001b[0;34m'max'\u001b[0m\u001b[0;34m,\u001b[0m \u001b[0mpatience\u001b[0m\u001b[0;34m=\u001b[0m\u001b[0;36m10\u001b[0m\u001b[0;34m,\u001b[0m \u001b[0mrestore_best_weights\u001b[0m\u001b[0;34m=\u001b[0m\u001b[0;32mTrue\u001b[0m\u001b[0;34m)\u001b[0m\u001b[0;34m\u001b[0m\u001b[0;34m\u001b[0m\u001b[0m\n\u001b[1;32m     20\u001b[0m \u001b[0;34m\u001b[0m\u001b[0m\n\u001b[0;32m---> 21\u001b[0;31m history = model.fit(train_iterator, steps_per_epoch=len(train_iterator), epochs=100, verbose=1, validation_data=val_iterator, \n\u001b[0m\u001b[1;32m     22\u001b[0m                  callbacks=[\n\u001b[1;32m     23\u001b[0m                      \u001b[0mauc\u001b[0m\u001b[0;34m,\u001b[0m\u001b[0;34m\u001b[0m\u001b[0;34m\u001b[0m\u001b[0m\n",
      "\u001b[0;32m~/opt/anaconda3/envs/metis/lib/python3.8/site-packages/tensorflow/python/keras/engine/training.py\u001b[0m in \u001b[0;36mfit\u001b[0;34m(self, x, y, batch_size, epochs, verbose, callbacks, validation_split, validation_data, shuffle, class_weight, sample_weight, initial_epoch, steps_per_epoch, validation_steps, validation_batch_size, validation_freq, max_queue_size, workers, use_multiprocessing)\u001b[0m\n\u001b[1;32m   1181\u001b[0m                 _r=1):\n\u001b[1;32m   1182\u001b[0m               \u001b[0mcallbacks\u001b[0m\u001b[0;34m.\u001b[0m\u001b[0mon_train_batch_begin\u001b[0m\u001b[0;34m(\u001b[0m\u001b[0mstep\u001b[0m\u001b[0;34m)\u001b[0m\u001b[0;34m\u001b[0m\u001b[0;34m\u001b[0m\u001b[0m\n\u001b[0;32m-> 1183\u001b[0;31m               \u001b[0mtmp_logs\u001b[0m \u001b[0;34m=\u001b[0m \u001b[0mself\u001b[0m\u001b[0;34m.\u001b[0m\u001b[0mtrain_function\u001b[0m\u001b[0;34m(\u001b[0m\u001b[0miterator\u001b[0m\u001b[0;34m)\u001b[0m\u001b[0;34m\u001b[0m\u001b[0;34m\u001b[0m\u001b[0m\n\u001b[0m\u001b[1;32m   1184\u001b[0m               \u001b[0;32mif\u001b[0m \u001b[0mdata_handler\u001b[0m\u001b[0;34m.\u001b[0m\u001b[0mshould_sync\u001b[0m\u001b[0;34m:\u001b[0m\u001b[0;34m\u001b[0m\u001b[0;34m\u001b[0m\u001b[0m\n\u001b[1;32m   1185\u001b[0m                 \u001b[0mcontext\u001b[0m\u001b[0;34m.\u001b[0m\u001b[0masync_wait\u001b[0m\u001b[0;34m(\u001b[0m\u001b[0;34m)\u001b[0m\u001b[0;34m\u001b[0m\u001b[0;34m\u001b[0m\u001b[0m\n",
      "\u001b[0;32m~/opt/anaconda3/envs/metis/lib/python3.8/site-packages/tensorflow/python/eager/def_function.py\u001b[0m in \u001b[0;36m__call__\u001b[0;34m(self, *args, **kwds)\u001b[0m\n\u001b[1;32m    887\u001b[0m \u001b[0;34m\u001b[0m\u001b[0m\n\u001b[1;32m    888\u001b[0m       \u001b[0;32mwith\u001b[0m \u001b[0mOptionalXlaContext\u001b[0m\u001b[0;34m(\u001b[0m\u001b[0mself\u001b[0m\u001b[0;34m.\u001b[0m\u001b[0m_jit_compile\u001b[0m\u001b[0;34m)\u001b[0m\u001b[0;34m:\u001b[0m\u001b[0;34m\u001b[0m\u001b[0;34m\u001b[0m\u001b[0m\n\u001b[0;32m--> 889\u001b[0;31m         \u001b[0mresult\u001b[0m \u001b[0;34m=\u001b[0m \u001b[0mself\u001b[0m\u001b[0;34m.\u001b[0m\u001b[0m_call\u001b[0m\u001b[0;34m(\u001b[0m\u001b[0;34m*\u001b[0m\u001b[0margs\u001b[0m\u001b[0;34m,\u001b[0m \u001b[0;34m**\u001b[0m\u001b[0mkwds\u001b[0m\u001b[0;34m)\u001b[0m\u001b[0;34m\u001b[0m\u001b[0;34m\u001b[0m\u001b[0m\n\u001b[0m\u001b[1;32m    890\u001b[0m \u001b[0;34m\u001b[0m\u001b[0m\n\u001b[1;32m    891\u001b[0m       \u001b[0mnew_tracing_count\u001b[0m \u001b[0;34m=\u001b[0m \u001b[0mself\u001b[0m\u001b[0;34m.\u001b[0m\u001b[0mexperimental_get_tracing_count\u001b[0m\u001b[0;34m(\u001b[0m\u001b[0;34m)\u001b[0m\u001b[0;34m\u001b[0m\u001b[0;34m\u001b[0m\u001b[0m\n",
      "\u001b[0;32m~/opt/anaconda3/envs/metis/lib/python3.8/site-packages/tensorflow/python/eager/def_function.py\u001b[0m in \u001b[0;36m_call\u001b[0;34m(self, *args, **kwds)\u001b[0m\n\u001b[1;32m    915\u001b[0m       \u001b[0;31m# In this case we have created variables on the first call, so we run the\u001b[0m\u001b[0;34m\u001b[0m\u001b[0;34m\u001b[0m\u001b[0;34m\u001b[0m\u001b[0m\n\u001b[1;32m    916\u001b[0m       \u001b[0;31m# defunned version which is guaranteed to never create variables.\u001b[0m\u001b[0;34m\u001b[0m\u001b[0;34m\u001b[0m\u001b[0;34m\u001b[0m\u001b[0m\n\u001b[0;32m--> 917\u001b[0;31m       \u001b[0;32mreturn\u001b[0m \u001b[0mself\u001b[0m\u001b[0;34m.\u001b[0m\u001b[0m_stateless_fn\u001b[0m\u001b[0;34m(\u001b[0m\u001b[0;34m*\u001b[0m\u001b[0margs\u001b[0m\u001b[0;34m,\u001b[0m \u001b[0;34m**\u001b[0m\u001b[0mkwds\u001b[0m\u001b[0;34m)\u001b[0m  \u001b[0;31m# pylint: disable=not-callable\u001b[0m\u001b[0;34m\u001b[0m\u001b[0;34m\u001b[0m\u001b[0m\n\u001b[0m\u001b[1;32m    918\u001b[0m     \u001b[0;32melif\u001b[0m \u001b[0mself\u001b[0m\u001b[0;34m.\u001b[0m\u001b[0m_stateful_fn\u001b[0m \u001b[0;32mis\u001b[0m \u001b[0;32mnot\u001b[0m \u001b[0;32mNone\u001b[0m\u001b[0;34m:\u001b[0m\u001b[0;34m\u001b[0m\u001b[0;34m\u001b[0m\u001b[0m\n\u001b[1;32m    919\u001b[0m       \u001b[0;31m# Release the lock early so that multiple threads can perform the call\u001b[0m\u001b[0;34m\u001b[0m\u001b[0;34m\u001b[0m\u001b[0;34m\u001b[0m\u001b[0m\n",
      "\u001b[0;32m~/opt/anaconda3/envs/metis/lib/python3.8/site-packages/tensorflow/python/eager/function.py\u001b[0m in \u001b[0;36m__call__\u001b[0;34m(self, *args, **kwargs)\u001b[0m\n\u001b[1;32m   3021\u001b[0m       (graph_function,\n\u001b[1;32m   3022\u001b[0m        filtered_flat_args) = self._maybe_define_function(args, kwargs)\n\u001b[0;32m-> 3023\u001b[0;31m     return graph_function._call_flat(\n\u001b[0m\u001b[1;32m   3024\u001b[0m         filtered_flat_args, captured_inputs=graph_function.captured_inputs)  # pylint: disable=protected-access\n\u001b[1;32m   3025\u001b[0m \u001b[0;34m\u001b[0m\u001b[0m\n",
      "\u001b[0;32m~/opt/anaconda3/envs/metis/lib/python3.8/site-packages/tensorflow/python/eager/function.py\u001b[0m in \u001b[0;36m_call_flat\u001b[0;34m(self, args, captured_inputs, cancellation_manager)\u001b[0m\n\u001b[1;32m   1958\u001b[0m         and executing_eagerly):\n\u001b[1;32m   1959\u001b[0m       \u001b[0;31m# No tape is watching; skip to running the function.\u001b[0m\u001b[0;34m\u001b[0m\u001b[0;34m\u001b[0m\u001b[0;34m\u001b[0m\u001b[0m\n\u001b[0;32m-> 1960\u001b[0;31m       return self._build_call_outputs(self._inference_function.call(\n\u001b[0m\u001b[1;32m   1961\u001b[0m           ctx, args, cancellation_manager=cancellation_manager))\n\u001b[1;32m   1962\u001b[0m     forward_backward = self._select_forward_and_backward_functions(\n",
      "\u001b[0;32m~/opt/anaconda3/envs/metis/lib/python3.8/site-packages/tensorflow/python/eager/function.py\u001b[0m in \u001b[0;36mcall\u001b[0;34m(self, ctx, args, cancellation_manager)\u001b[0m\n\u001b[1;32m    589\u001b[0m       \u001b[0;32mwith\u001b[0m \u001b[0m_InterpolateFunctionError\u001b[0m\u001b[0;34m(\u001b[0m\u001b[0mself\u001b[0m\u001b[0;34m)\u001b[0m\u001b[0;34m:\u001b[0m\u001b[0;34m\u001b[0m\u001b[0;34m\u001b[0m\u001b[0m\n\u001b[1;32m    590\u001b[0m         \u001b[0;32mif\u001b[0m \u001b[0mcancellation_manager\u001b[0m \u001b[0;32mis\u001b[0m \u001b[0;32mNone\u001b[0m\u001b[0;34m:\u001b[0m\u001b[0;34m\u001b[0m\u001b[0;34m\u001b[0m\u001b[0m\n\u001b[0;32m--> 591\u001b[0;31m           outputs = execute.execute(\n\u001b[0m\u001b[1;32m    592\u001b[0m               \u001b[0mstr\u001b[0m\u001b[0;34m(\u001b[0m\u001b[0mself\u001b[0m\u001b[0;34m.\u001b[0m\u001b[0msignature\u001b[0m\u001b[0;34m.\u001b[0m\u001b[0mname\u001b[0m\u001b[0;34m)\u001b[0m\u001b[0;34m,\u001b[0m\u001b[0;34m\u001b[0m\u001b[0;34m\u001b[0m\u001b[0m\n\u001b[1;32m    593\u001b[0m               \u001b[0mnum_outputs\u001b[0m\u001b[0;34m=\u001b[0m\u001b[0mself\u001b[0m\u001b[0;34m.\u001b[0m\u001b[0m_num_outputs\u001b[0m\u001b[0;34m,\u001b[0m\u001b[0;34m\u001b[0m\u001b[0;34m\u001b[0m\u001b[0m\n",
      "\u001b[0;32m~/opt/anaconda3/envs/metis/lib/python3.8/site-packages/tensorflow/python/eager/execute.py\u001b[0m in \u001b[0;36mquick_execute\u001b[0;34m(op_name, num_outputs, inputs, attrs, ctx, name)\u001b[0m\n\u001b[1;32m     57\u001b[0m   \u001b[0;32mtry\u001b[0m\u001b[0;34m:\u001b[0m\u001b[0;34m\u001b[0m\u001b[0;34m\u001b[0m\u001b[0m\n\u001b[1;32m     58\u001b[0m     \u001b[0mctx\u001b[0m\u001b[0;34m.\u001b[0m\u001b[0mensure_initialized\u001b[0m\u001b[0;34m(\u001b[0m\u001b[0;34m)\u001b[0m\u001b[0;34m\u001b[0m\u001b[0;34m\u001b[0m\u001b[0m\n\u001b[0;32m---> 59\u001b[0;31m     tensors = pywrap_tfe.TFE_Py_Execute(ctx._handle, device_name, op_name,\n\u001b[0m\u001b[1;32m     60\u001b[0m                                         inputs, attrs, num_outputs)\n\u001b[1;32m     61\u001b[0m   \u001b[0;32mexcept\u001b[0m \u001b[0mcore\u001b[0m\u001b[0;34m.\u001b[0m\u001b[0m_NotOkStatusException\u001b[0m \u001b[0;32mas\u001b[0m \u001b[0me\u001b[0m\u001b[0;34m:\u001b[0m\u001b[0;34m\u001b[0m\u001b[0;34m\u001b[0m\u001b[0m\n",
      "\u001b[0;31mKeyboardInterrupt\u001b[0m: "
     ]
    }
   ],
   "source": [
    "# Exponential decay learning rate scheduler comes from: \n",
    "#      https://towardsdatascience.com/learning-rate-schedule-in-practice-an-example-with-keras-and-tensorflow-2-0-2f48b2888a0c\n",
    "def lr_exp_decay(epoch, lr):\n",
    "    print('Previous lr: {}'.format(lr))\n",
    "    k = 0\n",
    "    return lr * np.exp(-k*epoch)\n",
    "\n",
    "# This AUC will be calculated at the end of each epoch on the validation set and be used for early stopping\n",
    "auc = ROAUCMetrics(val_data=(X_val, y_val[:, target]))\n",
    "\n",
    "eval_callback = LambdaCallback(on_epoch_end=lambda epoch, logs: logs.update({'auc': auc.val_aucs[-1]})) \n",
    "\n",
    "reduce_lr = ReduceLROnPlateau(monitor='val_loss', factor=0.5, patience=5, mode='min', min_delta=0.0001, min_lr=5e-6)\n",
    "\n",
    "lr_callback = LambdaCallback(on_epoch_begin=lambda epoch, logs: print('Learning Rate: {}'.format(round(model.optimizer.get_config()['learning_rate'], 7))))\n",
    "\n",
    "# scheduler = LearningRateScheduler(lr_exp_decay, verbose=1)\n",
    "\n",
    "early_stopping = EarlyStopping(monitor='auc', mode='max', patience=10, restore_best_weights=True)\n",
    "\n",
    "history = model.fit(train_iterator, steps_per_epoch=len(train_iterator), epochs=100, verbose=1, validation_data=val_iterator, \n",
    "                 callbacks=[\n",
    "                     auc,\n",
    "                     eval_callback,\n",
    "                     reduce_lr,\n",
    "                     lr_callback,\n",
    "                     early_stopping,\n",
    "#                      scheduler,\n",
    "                     keras.callbacks.ModelCheckpoint(\n",
    "                         'models_baby2/model_4.{epoch:02d}-{val_loss:.2f}.hdf5',\n",
    "                         save_best_only=False)\n",
    "                 ])"
   ]
  },
  {
   "cell_type": "markdown",
   "id": "bdff0b5f-84d4-4b39-b984-120d7df2013c",
   "metadata": {},
   "source": [
    "# 5) Now (VGG16) w/ trainable layers 4 & 5 (just first target, 'Atelectasis') and drop Dense layers"
   ]
  },
  {
   "cell_type": "code",
   "execution_count": null,
   "id": "e42ece4b-85d0-437d-aa55-9fddd146aad1",
   "metadata": {},
   "outputs": [],
   "source": [
    "## Targets: 'Atelectasis'=0, 'Cardiomegaly'=1, 'Edema'=2, 'Pleaural Effusion'=3\n",
    "\n",
    "target = 0"
   ]
  },
  {
   "cell_type": "code",
   "execution_count": 243,
   "id": "69cc8351-3eb1-42fe-a8e7-863d31b18047",
   "metadata": {},
   "outputs": [],
   "source": [
    "## FOR REPEATABILITY (must re-run this before EVERY model training run):\n",
    "\n",
    "# 1. Set the `PYTHONHASHSEED` environment variable at a fixed value\n",
    "import os\n",
    "os.environ['PYTHONHASHSEED']=str(0)\n",
    "\n",
    "# 2. Set the `python` built-in pseudo-random generator at a fixed value\n",
    "import random\n",
    "random.seed(1)\n",
    "\n",
    "# 3. Set the `numpy` pseudo-random generator at a fixed value\n",
    "import numpy as np\n",
    "np.random.seed(2)\n",
    "\n",
    "# 4. Set the `tensorflow` pseudo-random generator at a fixed value\n",
    "import tensorflow as tf\n",
    "tf.random.set_seed(2)"
   ]
  },
  {
   "cell_type": "code",
   "execution_count": 244,
   "id": "c928dcc3-ac3a-495c-8ba4-9f8d307b981e",
   "metadata": {},
   "outputs": [
    {
     "name": "stdout",
     "output_type": "stream",
     "text": [
      "Batches train=4, val=1\n"
     ]
    }
   ],
   "source": [
    "batch_size = 256\n",
    "\n",
    "datagen = ImageDataGenerator(featurewise_center=True, featurewise_std_normalization=True)\n",
    "\n",
    "# calculate mean on training dataset\n",
    "datagen.fit(X_train)\n",
    "\n",
    "# prepare iterators to scale images\n",
    "train_iterator = datagen.flow(X_train, y_train[:, target], batch_size=batch_size)\n",
    "\n",
    "val_iterator = datagen.flow(X_val, y_val[:, target], batch_size=batch_size)\n",
    "\n",
    "print('Batches train=%d, val=%d' % (len(train_iterator), len(val_iterator)))"
   ]
  },
  {
   "cell_type": "code",
   "execution_count": 245,
   "id": "4fdbac73-6d27-44c1-98b5-22bd1c96d779",
   "metadata": {},
   "outputs": [
    {
     "name": "stdout",
     "output_type": "stream",
     "text": [
      "Layer input_2 frozen.\n",
      "Layer block1_conv1 frozen.\n",
      "Layer block1_conv2 frozen.\n",
      "Layer block1_pool frozen.\n",
      "Layer block2_conv1 frozen.\n",
      "Layer block2_conv2 frozen.\n",
      "Layer block2_pool frozen.\n",
      "Layer block3_conv1 frozen.\n",
      "Layer block3_conv2 frozen.\n",
      "Layer block3_conv3 frozen.\n",
      "Layer block3_pool frozen.\n",
      "Layer global_average_pooling2d frozen.\n",
      "Model: \"vgg16\"\n",
      "_________________________________________________________________\n",
      "Layer (type)                 Output Shape              Param #   \n",
      "=================================================================\n",
      "input_2 (InputLayer)         [(None, 224, 273, 3)]     0         \n",
      "_________________________________________________________________\n",
      "block1_conv1 (Conv2D)        (None, 224, 273, 64)      1792      \n",
      "_________________________________________________________________\n",
      "block1_conv2 (Conv2D)        (None, 224, 273, 64)      36928     \n",
      "_________________________________________________________________\n",
      "block1_pool (MaxPooling2D)   (None, 112, 136, 64)      0         \n",
      "_________________________________________________________________\n",
      "block2_conv1 (Conv2D)        (None, 112, 136, 128)     73856     \n",
      "_________________________________________________________________\n",
      "block2_conv2 (Conv2D)        (None, 112, 136, 128)     147584    \n",
      "_________________________________________________________________\n",
      "block2_pool (MaxPooling2D)   (None, 56, 68, 128)       0         \n",
      "_________________________________________________________________\n",
      "block3_conv1 (Conv2D)        (None, 56, 68, 256)       295168    \n",
      "_________________________________________________________________\n",
      "block3_conv2 (Conv2D)        (None, 56, 68, 256)       590080    \n",
      "_________________________________________________________________\n",
      "block3_conv3 (Conv2D)        (None, 56, 68, 256)       590080    \n",
      "_________________________________________________________________\n",
      "block3_pool (MaxPooling2D)   (None, 28, 34, 256)       0         \n",
      "_________________________________________________________________\n",
      "block4_conv1 (Conv2D)        (None, 28, 34, 512)       1180160   \n",
      "_________________________________________________________________\n",
      "block4_conv2 (Conv2D)        (None, 28, 34, 512)       2359808   \n",
      "_________________________________________________________________\n",
      "block4_conv3 (Conv2D)        (None, 28, 34, 512)       2359808   \n",
      "_________________________________________________________________\n",
      "block4_pool (MaxPooling2D)   (None, 14, 17, 512)       0         \n",
      "_________________________________________________________________\n",
      "block5_conv1 (Conv2D)        (None, 14, 17, 512)       2359808   \n",
      "_________________________________________________________________\n",
      "block5_conv2 (Conv2D)        (None, 14, 17, 512)       2359808   \n",
      "_________________________________________________________________\n",
      "block5_conv3 (Conv2D)        (None, 14, 17, 512)       2359808   \n",
      "_________________________________________________________________\n",
      "block5_pool (MaxPooling2D)   (None, 7, 8, 512)         0         \n",
      "_________________________________________________________________\n",
      "global_average_pooling2d (Gl (None, 512)               0         \n",
      "=================================================================\n",
      "Total params: 14,714,688\n",
      "Trainable params: 12,979,200\n",
      "Non-trainable params: 1,735,488\n",
      "_________________________________________________________________\n"
     ]
    }
   ],
   "source": [
    "keras.backend.clear_session()\n",
    "\n",
    "# dropout = 0.4\n",
    "\n",
    "from tensorflow.keras.applications import VGG16\n",
    "\n",
    "# This converts the 1-channel X-rays to 3-channel images a required by mobilenet_v2\n",
    "input_tensor = Input(shape=(X_train.shape[1:]))\n",
    "x = Conv2D(3,(3,3),padding='same')(input_tensor)\n",
    "\n",
    "x = BatchNormalization(axis=1, trainable = None)(x)  # Helps with regularization\n",
    "\n",
    "base_model = VGG16(weights='imagenet',\n",
    "                         include_top=False,\n",
    "                         pooling='avg',\n",
    "                         input_shape=(X_train.shape[1], X_train.shape[2], 3)) \n",
    " \n",
    "for layer in base_model.layers:\n",
    "  if ('block5_' not in layer.name) and ('block4_' not in layer.name):\n",
    "      layer.trainable = False\n",
    "      print('Layer ' + layer.name + ' frozen.')\n",
    "base_model.summary()"
   ]
  },
  {
   "cell_type": "code",
   "execution_count": 246,
   "id": "96c96bba-dfb2-4ddc-8790-5898c135210b",
   "metadata": {},
   "outputs": [],
   "source": [
    "out = base_model(x)\n",
    "new_base_model = Model(inputs=input_tensor, outputs=out)\n",
    "    \n",
    "# Establish new fully connected block\n",
    "x = new_base_model.output\n",
    "x = Flatten()(x) # flatten from convolution tensor output \n",
    "# x = Dense(units=128, activation='relu')(x) # number of layers and units are hyperparameters, as usual\n",
    "# x = Dropout(dropout, seed=2)(x) # adding Dropout for regularization between the Dense layers\n",
    "# x = Dense(units=64, activation='relu')(x)\n",
    "# x = Dropout(dropout, seed=1)(x) # adding Dropout for regularization between the Dense layers\n",
    "predictions = Dense(units=1, activation='sigmoid')(x) # 1 target labels\n",
    "\n",
    "# define formal model object to train and compile it as usual\n",
    "model = Model(inputs=new_base_model.input, outputs=predictions)"
   ]
  },
  {
   "cell_type": "code",
   "execution_count": 247,
   "id": "7b40abc2-1b62-432c-802e-157bbf5bc4d8",
   "metadata": {},
   "outputs": [
    {
     "name": "stdout",
     "output_type": "stream",
     "text": [
      "Model: \"model_1\"\n",
      "_________________________________________________________________\n",
      "Layer (type)                 Output Shape              Param #   \n",
      "=================================================================\n",
      "input_1 (InputLayer)         [(None, 224, 273, 1)]     0         \n",
      "_________________________________________________________________\n",
      "conv2d (Conv2D)              (None, 224, 273, 3)       30        \n",
      "_________________________________________________________________\n",
      "batch_normalization (BatchNo (None, 224, 273, 3)       896       \n",
      "_________________________________________________________________\n",
      "vgg16 (Functional)           (None, 512)               14714688  \n",
      "_________________________________________________________________\n",
      "flatten (Flatten)            (None, 512)               0         \n",
      "_________________________________________________________________\n",
      "dense (Dense)                (None, 1)                 513       \n",
      "=================================================================\n",
      "Total params: 14,716,127\n",
      "Trainable params: 12,979,743\n",
      "Non-trainable params: 1,736,384\n",
      "_________________________________________________________________\n"
     ]
    }
   ],
   "source": [
    "model.summary()"
   ]
  },
  {
   "cell_type": "code",
   "execution_count": 248,
   "id": "f8d44992-8ddc-419d-85a3-b5078e1ea348",
   "metadata": {},
   "outputs": [],
   "source": [
    "initial_learning_rate = 0.00005\n",
    "adam_opt = keras.optimizers.Adam(learning_rate=initial_learning_rate, \n",
    "                                 beta_1=0.9, \n",
    "                                 beta_2=0.999, \n",
    "                                 epsilon=1e-07, \n",
    "                                 amsgrad=False)\n",
    "\n",
    "model.compile(\n",
    "    loss='binary_crossentropy',\n",
    "    optimizer=adam_opt\n",
    ")"
   ]
  },
  {
   "cell_type": "code",
   "execution_count": 249,
   "id": "45cc2e45-63b0-4a04-a5ff-162bd1fe891c",
   "metadata": {},
   "outputs": [
    {
     "data": {
      "text/plain": [
       "5e-05"
      ]
     },
     "execution_count": 249,
     "metadata": {},
     "output_type": "execute_result"
    }
   ],
   "source": [
    "model.optimizer.get_config()['learning_rate']"
   ]
  },
  {
   "cell_type": "code",
   "execution_count": 250,
   "id": "165010a6-f466-4857-8ecf-92aeef774607",
   "metadata": {
    "tags": []
   },
   "outputs": [
    {
     "name": "stdout",
     "output_type": "stream",
     "text": [
      "Epoch 1/100\n",
      "Learning Rate: 5e-05\n"
     ]
    },
    {
     "name": "stderr",
     "output_type": "stream",
     "text": [
      "2022-01-18 20:40:51.027409: W tensorflow/core/framework/op_kernel.cc:1755] Invalid argument: ValueError: callback pyfunc_98 is not found\n",
      "Traceback (most recent call last):\n",
      "\n",
      "  File \"/Users/georgepappy/opt/anaconda3/envs/metis/lib/python3.8/site-packages/tensorflow/python/ops/script_ops.py\", line 238, in __call__\n",
      "    raise ValueError(\"callback %s is not found\" % token)\n",
      "\n",
      "ValueError: callback pyfunc_98 is not found\n",
      "\n",
      "\n",
      "2022-01-18 20:40:51.027507: W tensorflow/core/kernels/data/generator_dataset_op.cc:107] Error occurred when finalizing GeneratorDataset iterator: Invalid argument: ValueError: callback pyfunc_98 is not found\n",
      "Traceback (most recent call last):\n",
      "\n",
      "  File \"/Users/georgepappy/opt/anaconda3/envs/metis/lib/python3.8/site-packages/tensorflow/python/ops/script_ops.py\", line 238, in __call__\n",
      "    raise ValueError(\"callback %s is not found\" % token)\n",
      "\n",
      "ValueError: callback pyfunc_98 is not found\n",
      "\n",
      "\n",
      "\t [[{{node PyFunc}}]]\n",
      "2022-01-18 20:40:51.414074: W tensorflow/core/framework/op_kernel.cc:1755] Invalid argument: ValueError: callback pyfunc_104 is not found\n",
      "Traceback (most recent call last):\n",
      "\n",
      "  File \"/Users/georgepappy/opt/anaconda3/envs/metis/lib/python3.8/site-packages/tensorflow/python/ops/script_ops.py\", line 238, in __call__\n",
      "    raise ValueError(\"callback %s is not found\" % token)\n",
      "\n",
      "ValueError: callback pyfunc_104 is not found\n",
      "\n",
      "\n",
      "2022-01-18 20:40:51.414159: W tensorflow/core/kernels/data/generator_dataset_op.cc:107] Error occurred when finalizing GeneratorDataset iterator: Invalid argument: ValueError: callback pyfunc_104 is not found\n",
      "Traceback (most recent call last):\n",
      "\n",
      "  File \"/Users/georgepappy/opt/anaconda3/envs/metis/lib/python3.8/site-packages/tensorflow/python/ops/script_ops.py\", line 238, in __call__\n",
      "    raise ValueError(\"callback %s is not found\" % token)\n",
      "\n",
      "ValueError: callback pyfunc_104 is not found\n",
      "\n",
      "\n",
      "\t [[{{node PyFunc}}]]\n"
     ]
    },
    {
     "name": "stdout",
     "output_type": "stream",
     "text": [
      "4/4 [==============================] - 471s 125s/step - loss: 0.7077 - val_loss: 0.6277\n",
      "\n",
      "val-roc-auc: 0.5543                                                                                                    \n",
      "\n",
      "Epoch 2/100\n",
      "Learning Rate: 4.999999873689376e-05\n",
      "4/4 [==============================] - 472s 125s/step - loss: 0.6325 - val_loss: 0.6273\n",
      "\n",
      "val-roc-auc: 0.5657                                                                                                    \n",
      "\n",
      "Epoch 3/100\n",
      "Learning Rate: 4.999999873689376e-05\n",
      "4/4 [==============================] - 463s 117s/step - loss: 0.6261 - val_loss: 0.6291\n",
      "\n",
      "val-roc-auc: 0.5813                                                                                                    \n",
      "\n",
      "Epoch 4/100\n",
      "Learning Rate: 4.999999873689376e-05\n",
      "4/4 [==============================] - 465s 118s/step - loss: 0.6231 - val_loss: 0.6271\n",
      "\n",
      "val-roc-auc: 0.5926                                                                                                    \n",
      "\n",
      "Epoch 5/100\n",
      "Learning Rate: 4.999999873689376e-05\n",
      "4/4 [==============================] - 474s 126s/step - loss: 0.6177 - val_loss: 0.6238\n",
      "\n",
      "val-roc-auc: 0.5976                                                                                                    \n",
      "\n",
      "Epoch 6/100\n",
      "Learning Rate: 4.999999873689376e-05\n",
      "4/4 [==============================] - 469s 125s/step - loss: 0.6124 - val_loss: 0.6178\n",
      "\n",
      "val-roc-auc: 0.6061                                                                                                    \n",
      "\n",
      "Epoch 7/100\n",
      "Learning Rate: 4.999999873689376e-05\n",
      "4/4 [==============================] - 463s 117s/step - loss: 0.6119 - val_loss: 0.6214\n",
      "\n",
      "val-roc-auc: 0.6054                                                                                                    \n",
      "\n",
      "Epoch 8/100\n",
      "Learning Rate: 4.999999873689376e-05\n",
      "4/4 [==============================] - 462s 117s/step - loss: 0.6039 - val_loss: 0.6129\n",
      "\n",
      "val-roc-auc: 0.6146                                                                                                    \n",
      "\n",
      "Epoch 9/100\n",
      "Learning Rate: 4.999999873689376e-05\n",
      "4/4 [==============================] - 476s 121s/step - loss: 0.5987 - val_loss: 0.6047\n",
      "\n",
      "val-roc-auc: 0.6223                                                                                                    \n",
      "\n",
      "Epoch 10/100\n",
      "Learning Rate: 4.999999873689376e-05\n",
      "4/4 [==============================] - 349s 78s/step - loss: 0.5882 - val_loss: 0.5967\n",
      "\n",
      "val-roc-auc: 0.6329                                                                                                    \n",
      "\n",
      "Epoch 11/100\n",
      "Learning Rate: 4.999999873689376e-05\n",
      "4/4 [==============================] - 301s 78s/step - loss: 0.5839 - val_loss: 0.5921\n",
      "\n",
      "val-roc-auc: 0.6432                                                                                                    \n",
      "\n",
      "Epoch 12/100\n",
      "Learning Rate: 4.999999873689376e-05\n",
      "4/4 [==============================] - 399s 94s/step - loss: 0.5905 - val_loss: 0.6150\n",
      "\n",
      "val-roc-auc: 0.6499                                                                                                    \n",
      "\n",
      "Epoch 13/100\n",
      "Learning Rate: 4.999999873689376e-05\n",
      "4/4 [==============================] - 270s 68s/step - loss: 0.5780 - val_loss: 0.5866\n",
      "\n",
      "val-roc-auc: 0.6548                                                                                                    \n",
      "\n",
      "Epoch 14/100\n",
      "Learning Rate: 4.999999873689376e-05\n",
      "4/4 [==============================] - 473s 120s/step - loss: 0.5678 - val_loss: 0.5837\n",
      "\n",
      "val-roc-auc: 0.6554                                                                                                    \n",
      "\n",
      "Epoch 15/100\n",
      "Learning Rate: 4.999999873689376e-05\n",
      "4/4 [==============================] - 489s 123s/step - loss: 0.5584 - val_loss: 0.5852\n",
      "\n",
      "val-roc-auc: 0.6438                                                                                                    \n",
      "\n",
      "Epoch 16/100\n",
      "Learning Rate: 4.999999873689376e-05\n",
      "4/4 [==============================] - 486s 123s/step - loss: 0.5484 - val_loss: 0.5877\n",
      "\n",
      "val-roc-auc: 0.6156                                                                                                    \n",
      "\n",
      "Epoch 17/100\n",
      "Learning Rate: 2.499999936844688e-05\n",
      "4/4 [==============================] - 487s 130s/step - loss: 0.5381 - val_loss: 0.5927\n",
      "\n",
      "val-roc-auc: 0.554                                                                                                    \n",
      "\n",
      "Epoch 18/100\n",
      "Learning Rate: 2.499999936844688e-05\n",
      "4/4 [==============================] - 491s 125s/step - loss: 0.5264 - val_loss: 0.5783\n",
      "\n",
      "val-roc-auc: 0.5952                                                                                                    \n",
      "\n",
      "Epoch 19/100\n",
      "Learning Rate: 1.249999968422344e-05\n",
      "4/4 [==============================] - 494s 126s/step - loss: 0.5222 - val_loss: 0.5820\n",
      "\n",
      "val-roc-auc: 0.5567                                                                                                    \n",
      "\n",
      "Epoch 20/100\n",
      "Learning Rate: 1.249999968422344e-05\n",
      "4/4 [==============================] - 500s 127s/step - loss: 0.5141 - val_loss: 0.5766\n",
      "\n",
      "val-roc-auc: 0.5799                                                                                                    \n",
      "\n",
      "Epoch 21/100\n",
      "Learning Rate: 6.199999916134402e-06\n",
      "4/4 [==============================] - 467s 119s/step - loss: 0.5075 - val_loss: 0.5825\n",
      "\n",
      "val-roc-auc: 0.5475                                                                                                    \n",
      "\n",
      "Epoch 22/100\n",
      "Learning Rate: 6.199999916134402e-06\n",
      "4/4 [==============================] - 465s 118s/step - loss: 0.5081 - val_loss: 0.5759\n",
      "\n",
      "val-roc-auc: 0.5655                                                                                                    \n",
      "\n",
      "Epoch 23/100\n",
      "Learning Rate: 3.099999958067201e-06\n",
      "4/4 [==============================] - 470s 119s/step - loss: 0.5046 - val_loss: 0.5762\n",
      "\n",
      "val-roc-auc: 0.5711                                                                                                    \n",
      "\n",
      "Epoch 24/100\n",
      "Learning Rate: 3.099999958067201e-06\n",
      "4/4 [==============================] - 459s 116s/step - loss: 0.4998 - val_loss: 0.5790\n",
      "\n",
      "val-roc-auc: 0.544                                                                                                    \n",
      "\n"
     ]
    }
   ],
   "source": [
    "# Exponential decay learning rate scheduler comes from: \n",
    "#      https://towardsdatascience.com/learning-rate-schedule-in-practice-an-example-with-keras-and-tensorflow-2-0-2f48b2888a0c\n",
    "def lr_exp_decay(epoch, lr):\n",
    "    print('Previous lr: {}'.format(lr))\n",
    "    k = 0\n",
    "    return lr * np.exp(-k*epoch)\n",
    "\n",
    "# This AUC will be calculated at the end of each epoch on the validation set and be used for early stopping\n",
    "auc = ROAUCMetrics(val_data=(X_val, y_val[:, target]))\n",
    "\n",
    "eval_callback = LambdaCallback(on_epoch_end=lambda epoch, logs: logs.update({'auc': auc.val_aucs[-1]})) \n",
    "\n",
    "# reduce_lr = ReduceLROnPlateau(monitor='val_loss', factor=0.5, patience=5, mode='min', min_delta=0.0001, min_lr=5e-6)\n",
    "reduce_lr = ReduceLROnPlateau(monitor='auc', factor=0.5, patience=2, mode='max', min_delta=0.005, min_lr=1e-6)\n",
    "\n",
    "lr_callback = LambdaCallback(on_epoch_begin=lambda epoch, logs: print('Learning Rate: {}'.format(round(model.optimizer.get_config()['learning_rate'], 7))))\n",
    "\n",
    "# scheduler = LearningRateScheduler(lr_exp_decay, verbose=1)\n",
    "\n",
    "early_stopping = EarlyStopping(monitor='auc', mode='max', patience=10, restore_best_weights=True)\n",
    "\n",
    "history = model.fit(train_iterator, steps_per_epoch=len(train_iterator), epochs=100, verbose=1, validation_data=val_iterator, \n",
    "                 callbacks=[\n",
    "                     auc,\n",
    "                     eval_callback,\n",
    "                     reduce_lr,\n",
    "                     lr_callback,\n",
    "                     early_stopping,\n",
    "#                      scheduler,\n",
    "                     keras.callbacks.ModelCheckpoint(\n",
    "                         'models_baby2/model_5.{epoch:02d}-{auc:.2f}.hdf5',\n",
    "                         save_best_only=False)\n",
    "                 ])"
   ]
  },
  {
   "cell_type": "code",
   "execution_count": 252,
   "id": "f6ca3304-ddd1-46b6-9515-46696c3927a4",
   "metadata": {},
   "outputs": [
    {
     "data": {
      "image/png": "[encoded data removed]",
      "text/plain": [
       "<Figure size 432x288 with 1 Axes>"
      ]
     },
     "metadata": {},
     "output_type": "display_data"
    }
   ],
   "source": [
    "plt.plot(history.history['loss'])\n",
    "plt.plot(history.history['val_loss'])\n",
    "\n",
    "plt.title('Loss vs. Training Epoch')\n",
    "plt.xlabel('Epoch')\n",
    "plt.ylabel('Loss')\n",
    "plt.legend(['Train','Validation']);"
   ]
  },
  {
   "cell_type": "code",
   "execution_count": 253,
   "id": "791b9746-ef5b-438a-9bb1-384aaecfda29",
   "metadata": {},
   "outputs": [],
   "source": [
    "y_pred = model.predict(X_val)"
   ]
  },
  {
   "cell_type": "code",
   "execution_count": 256,
   "id": "56c2fe13-2000-4c58-a3aa-625f41e3e3a5",
   "metadata": {},
   "outputs": [
    {
     "data": {
      "text/plain": [
       "0.6553621894987356"
      ]
     },
     "execution_count": 256,
     "metadata": {},
     "output_type": "execute_result"
    }
   ],
   "source": [
    "# batch_size=256, initial_lr=0.00005\n",
    "\n",
    "roc_auc_score(y_val[:,target], y_pred)"
   ]
  },
  {
   "cell_type": "markdown",
   "id": "0f6b4dcb-e6d4-4966-a422-4b609c0a8adf",
   "metadata": {},
   "source": [
    "# 7) Let's Try a Pre-trained Model (VGG16) on just the last target"
   ]
  },
  {
   "cell_type": "code",
   "execution_count": 288,
   "id": "04bfd475-2fc3-479e-bb03-672a4e336054",
   "metadata": {},
   "outputs": [],
   "source": [
    "## Targets: 'Atelectasis'=0, 'Cardiomegaly'=1, 'Edema'=2, 'Pleaural Effusion'=3\n",
    "\n",
    "target = 3"
   ]
  },
  {
   "cell_type": "code",
   "execution_count": 289,
   "id": "6c0aa457-753b-4509-8797-8decd53be76a",
   "metadata": {},
   "outputs": [],
   "source": [
    "## FOR REPEATABILITY (must re-run this before EVERY model training run):\n",
    "\n",
    "# 1. Set the `PYTHONHASHSEED` environment variable at a fixed value\n",
    "import os\n",
    "os.environ['PYTHONHASHSEED']=str(0)\n",
    "\n",
    "# 2. Set the `python` built-in pseudo-random generator at a fixed value\n",
    "import random\n",
    "random.seed(1)\n",
    "\n",
    "# 3. Set the `numpy` pseudo-random generator at a fixed value\n",
    "import numpy as np\n",
    "np.random.seed(2)\n",
    "\n",
    "# 4. Set the `tensorflow` pseudo-random generator at a fixed value\n",
    "import tensorflow as tf\n",
    "tf.random.set_seed(2)"
   ]
  },
  {
   "cell_type": "code",
   "execution_count": 290,
   "id": "fd16a854-4de7-471b-be1e-d28d75abd835",
   "metadata": {},
   "outputs": [
    {
     "name": "stdout",
     "output_type": "stream",
     "text": [
      "Batches train=4, val=1\n"
     ]
    }
   ],
   "source": [
    "batch_size = 256\n",
    "\n",
    "datagen = ImageDataGenerator(featurewise_center=True, featurewise_std_normalization=True)\n",
    "\n",
    "# calculate mean on training dataset\n",
    "datagen.fit(X_train)\n",
    "\n",
    "# prepare iterators to scale images\n",
    "train_iterator = datagen.flow(X_train, y_train[:, target], batch_size=batch_size)\n",
    "\n",
    "val_iterator = datagen.flow(X_val, y_val[:, target], batch_size=batch_size)\n",
    "\n",
    "print('Batches train=%d, val=%d' % (len(train_iterator), len(val_iterator)))"
   ]
  },
  {
   "cell_type": "code",
   "execution_count": 291,
   "id": "594c32a3-08bf-427b-ba0d-515aa6904182",
   "metadata": {},
   "outputs": [],
   "source": [
    "keras.backend.clear_session()\n",
    "\n",
    "dropout = 0.25\n",
    "\n",
    "from tensorflow.keras.applications import VGG16\n",
    "\n",
    "# This converts the 1-channel X-rays to 3-channel images a required by mobilenet_v2\n",
    "input_tensor = Input(shape=(X_train.shape[1:]))\n",
    "x = Conv2D(3,(3,3),padding='same')(input_tensor)\n",
    "\n",
    "base_model = VGG16(weights='imagenet', \n",
    "                   include_top=False, \n",
    "#                    pooling='avg',\n",
    "                   input_shape=(X_train.shape[1], X_train.shape[2], 3)) \n",
    " \n",
    "# Freeze convolutional layers\n",
    "for layer in base_model.layers:\n",
    "    layer.trainable = False    \n",
    "\n",
    "out = base_model(x)\n",
    "new_base_model = Model(inputs=input_tensor, outputs=out)\n",
    "    \n",
    "# Establish new fully connected block\n",
    "x = new_base_model.output\n",
    "x = Flatten()(x) # flatten from convolution tensor output \n",
    "x = Dense(units=128, activation='relu')(x) # number of layers and units are hyperparameters, as usual\n",
    "x = Dropout(dropout, seed=2)(x) # adding Dropout for regularization between the Dense layers\n",
    "x = Dense(units=64, activation='relu')(x)\n",
    "x = Dropout(dropout, seed=1)(x) # adding Dropout for regularization between the Dense layers\n",
    "predictions = Dense(units=1, activation='sigmoid')(x) # 1 target labels\n",
    "\n",
    "# define formal model object to train and compile it as usual\n",
    "model = Model(inputs=new_base_model.input, outputs=predictions)"
   ]
  },
  {
   "cell_type": "code",
   "execution_count": 292,
   "id": "ee7c4fde-a9aa-434d-a258-c3788d215e99",
   "metadata": {},
   "outputs": [
    {
     "name": "stdout",
     "output_type": "stream",
     "text": [
      "Model: \"model_1\"\n",
      "_________________________________________________________________\n",
      "Layer (type)                 Output Shape              Param #   \n",
      "=================================================================\n",
      "input_1 (InputLayer)         [(None, 224, 273, 1)]     0         \n",
      "_________________________________________________________________\n",
      "conv2d (Conv2D)              (None, 224, 273, 3)       30        \n",
      "_________________________________________________________________\n",
      "vgg16 (Functional)           (None, 7, 8, 512)         14714688  \n",
      "_________________________________________________________________\n",
      "flatten (Flatten)            (None, 28672)             0         \n",
      "_________________________________________________________________\n",
      "dense (Dense)                (None, 128)               3670144   \n",
      "_________________________________________________________________\n",
      "dropout (Dropout)            (None, 128)               0         \n",
      "_________________________________________________________________\n",
      "dense_1 (Dense)              (None, 64)                8256      \n",
      "_________________________________________________________________\n",
      "dropout_1 (Dropout)          (None, 64)                0         \n",
      "_________________________________________________________________\n",
      "dense_2 (Dense)              (None, 1)                 65        \n",
      "=================================================================\n",
      "Total params: 18,393,183\n",
      "Trainable params: 3,678,495\n",
      "Non-trainable params: 14,714,688\n",
      "_________________________________________________________________\n"
     ]
    }
   ],
   "source": [
    "model.summary()"
   ]
  },
  {
   "cell_type": "code",
   "execution_count": 293,
   "id": "a3f9d93f-26f6-4b3f-b5b3-60e799db245b",
   "metadata": {},
   "outputs": [],
   "source": [
    "initial_learning_rate = 0.0005\n",
    "adam_opt = keras.optimizers.Adam(learning_rate=initial_learning_rate, \n",
    "                                 beta_1=0.9, \n",
    "                                 beta_2=0.999, \n",
    "                                 epsilon=1e-07, \n",
    "                                 amsgrad=False)\n",
    "\n",
    "model.compile(\n",
    "    loss='binary_crossentropy',\n",
    "    optimizer=adam_opt\n",
    ")"
   ]
  },
  {
   "cell_type": "code",
   "execution_count": 294,
   "id": "96378b95-1f78-4866-b491-5d98403e1afb",
   "metadata": {},
   "outputs": [
    {
     "data": {
      "text/plain": [
       "0.0005"
      ]
     },
     "execution_count": 294,
     "metadata": {},
     "output_type": "execute_result"
    }
   ],
   "source": [
    "model.optimizer.get_config()['learning_rate']"
   ]
  },
  {
   "cell_type": "code",
   "execution_count": 295,
   "id": "fdcd81b0-fd6a-4e30-adcf-de84ec2883e9",
   "metadata": {
    "tags": []
   },
   "outputs": [
    {
     "name": "stdout",
     "output_type": "stream",
     "text": [
      "Epoch 1/100\n",
      "Learning Rate: 0.0005\n",
      "4/4 [==============================] - 394s 105s/step - loss: 0.9315 - val_loss: 0.6313\n"
     ]
    },
    {
     "name": "stderr",
     "output_type": "stream",
     "text": [
      "2022-01-19 01:35:41.558594: W tensorflow/core/framework/op_kernel.cc:1755] Invalid argument: ValueError: callback pyfunc_110 is not found\n",
      "Traceback (most recent call last):\n",
      "\n",
      "  File \"/Users/georgepappy/opt/anaconda3/envs/metis/lib/python3.8/site-packages/tensorflow/python/ops/script_ops.py\", line 238, in __call__\n",
      "    raise ValueError(\"callback %s is not found\" % token)\n",
      "\n",
      "ValueError: callback pyfunc_110 is not found\n",
      "\n",
      "\n",
      "2022-01-19 01:35:41.558686: W tensorflow/core/kernels/data/generator_dataset_op.cc:107] Error occurred when finalizing GeneratorDataset iterator: Invalid argument: ValueError: callback pyfunc_110 is not found\n",
      "Traceback (most recent call last):\n",
      "\n",
      "  File \"/Users/georgepappy/opt/anaconda3/envs/metis/lib/python3.8/site-packages/tensorflow/python/ops/script_ops.py\", line 238, in __call__\n",
      "    raise ValueError(\"callback %s is not found\" % token)\n",
      "\n",
      "ValueError: callback pyfunc_110 is not found\n",
      "\n",
      "\n",
      "\t [[{{node PyFunc}}]]\n"
     ]
    },
    {
     "name": "stdout",
     "output_type": "stream",
     "text": [
      "\n",
      "val-roc-auc: 0.5892                                                                                                    \n",
      "\n",
      "Epoch 2/100\n",
      "Learning Rate: 0.0005000000237487257\n",
      "4/4 [==============================] - 393s 105s/step - loss: 0.7473 - val_loss: 0.6188\n",
      "\n",
      "val-roc-auc: 0.6739                                                                                                    \n",
      "\n",
      "Epoch 3/100\n",
      "Learning Rate: 0.0005000000237487257\n",
      "4/4 [==============================] - 396s 101s/step - loss: 0.6819 - val_loss: 0.5986\n",
      "\n",
      "val-roc-auc: 0.6857                                                                                                    \n",
      "\n",
      "Epoch 4/100\n",
      "Learning Rate: 0.0005000000237487257\n",
      "4/4 [==============================] - 394s 100s/step - loss: 0.6088 - val_loss: 0.5813\n",
      "\n",
      "val-roc-auc: 0.6959                                                                                                    \n",
      "\n",
      "Epoch 5/100\n",
      "Learning Rate: 0.0005000000237487257\n",
      "4/4 [==============================] - 395s 105s/step - loss: 0.5997 - val_loss: 0.5852\n",
      "\n",
      "val-roc-auc: 0.7073                                                                                                    \n",
      "\n",
      "Epoch 6/100\n",
      "Learning Rate: 0.0005000000237487257\n",
      "4/4 [==============================] - 408s 109s/step - loss: 0.5739 - val_loss: 0.5652\n",
      "\n",
      "val-roc-auc: 0.7095                                                                                                    \n",
      "\n",
      "Epoch 7/100\n",
      "Learning Rate: 0.0005000000237487257\n",
      "4/4 [==============================] - 400s 101s/step - loss: 0.5341 - val_loss: 0.5546\n",
      "\n",
      "val-roc-auc: 0.7203                                                                                                    \n",
      "\n",
      "Epoch 8/100\n",
      "Learning Rate: 0.0005000000237487257\n",
      "4/4 [==============================] - 405s 103s/step - loss: 0.5075 - val_loss: 0.5400\n",
      "\n",
      "val-roc-auc: 0.7225                                                                                                    \n",
      "\n",
      "Epoch 9/100\n",
      "Learning Rate: 0.0005000000237487257\n",
      "4/4 [==============================] - 405s 103s/step - loss: 0.5002 - val_loss: 0.5328\n",
      "\n",
      "val-roc-auc: 0.7335                                                                                                    \n",
      "\n",
      "Epoch 10/100\n",
      "Learning Rate: 0.0005000000237487257\n",
      "4/4 [==============================] - 401s 101s/step - loss: 0.4658 - val_loss: 0.5252\n",
      "\n",
      "val-roc-auc: 0.7419                                                                                                    \n",
      "\n",
      "Epoch 11/100\n",
      "Learning Rate: 0.0005000000237487257\n",
      "4/4 [==============================] - 401s 101s/step - loss: 0.4413 - val_loss: 0.5217\n",
      "\n",
      "val-roc-auc: 0.7483                                                                                                    \n",
      "\n",
      "Epoch 12/100\n",
      "Learning Rate: 0.0005000000237487257\n",
      "4/4 [==============================] - 411s 104s/step - loss: 0.4181 - val_loss: 0.5182\n",
      "\n",
      "val-roc-auc: 0.745                                                                                                    \n",
      "\n",
      "Epoch 13/100\n",
      "Learning Rate: 0.0005000000237487257\n",
      "4/4 [==============================] - 403s 102s/step - loss: 0.3766 - val_loss: 0.5058\n",
      "\n",
      "val-roc-auc: 0.7453                                                                                                    \n",
      "\n",
      "Epoch 14/100\n",
      "Learning Rate: 0.0002500000118743628\n",
      "4/4 [==============================] - 407s 103s/step - loss: 0.3719 - val_loss: 0.5097\n",
      "\n",
      "val-roc-auc: 0.7414                                                                                                    \n",
      "\n",
      "Epoch 15/100\n",
      "Learning Rate: 0.0002500000118743628\n",
      "4/4 [==============================] - 407s 103s/step - loss: 0.3588 - val_loss: 0.5217\n",
      "\n",
      "val-roc-auc: 0.7371                                                                                                    \n",
      "\n",
      "Epoch 16/100\n",
      "Learning Rate: 0.0001250000059371814\n",
      "4/4 [==============================] - 405s 103s/step - loss: 0.3555 - val_loss: 0.5103\n",
      "\n",
      "val-roc-auc: 0.7391                                                                                                    \n",
      "\n",
      "Epoch 17/100\n",
      "Learning Rate: 0.0001250000059371814\n",
      "4/4 [==============================] - 401s 107s/step - loss: 0.3347 - val_loss: 0.5093\n",
      "\n",
      "val-roc-auc: 0.738                                                                                                    \n",
      "\n",
      "Epoch 18/100\n",
      "Learning Rate: 6.25000029685907e-05\n",
      "4/4 [==============================] - 402s 102s/step - loss: 0.3321 - val_loss: 0.5105\n",
      "\n",
      "val-roc-auc: 0.737                                                                                                    \n",
      "\n",
      "Epoch 19/100\n",
      "Learning Rate: 6.25000029685907e-05\n",
      "4/4 [==============================] - 407s 103s/step - loss: 0.3136 - val_loss: 0.5088\n",
      "\n",
      "val-roc-auc: 0.7385                                                                                                    \n",
      "\n",
      "Epoch 20/100\n",
      "Learning Rate: 3.1200001103570685e-05\n",
      "4/4 [==============================] - 400s 101s/step - loss: 0.3213 - val_loss: 0.5082\n",
      "\n",
      "val-roc-auc: 0.739                                                                                                    \n",
      "\n",
      "Epoch 21/100\n",
      "Learning Rate: 3.1200001103570685e-05\n",
      "4/4 [==============================] - 399s 101s/step - loss: 0.3243 - val_loss: 0.5083\n",
      "\n",
      "val-roc-auc: 0.7389                                                                                                    \n",
      "\n"
     ]
    }
   ],
   "source": [
    "# Exponential decay learning rate scheduler comes from: \n",
    "#      https://towardsdatascience.com/learning-rate-schedule-in-practice-an-example-with-keras-and-tensorflow-2-0-2f48b2888a0c\n",
    "def lr_exp_decay(epoch, lr):\n",
    "    print('Previous lr: {}'.format(lr))\n",
    "    k = 0\n",
    "    return lr * np.exp(-k*epoch)\n",
    "\n",
    "# This AUC will be calculated at the end of each epoch on the validation set and be used for early stopping\n",
    "auc = ROAUCMetrics(val_data=(X_val, y_val[:, target]))\n",
    "\n",
    "eval_callback = LambdaCallback(on_epoch_end=lambda epoch, logs: logs.update({'auc': auc.val_aucs[-1]})) \n",
    "\n",
    "# reduce_lr = ReduceLROnPlateau(monitor='val_loss', factor=0.5, patience=5, mode='min', min_delta=0.0001, min_lr=5e-6)\n",
    "reduce_lr = ReduceLROnPlateau(monitor='auc', factor=0.5, patience=2, mode='max', min_delta=0.005)\n",
    "\n",
    "lr_callback = LambdaCallback(on_epoch_begin=lambda epoch, logs: print('Learning Rate: {}'.format(round(model.optimizer.get_config()['learning_rate'], 7))))\n",
    "\n",
    "# scheduler = LearningRateScheduler(lr_exp_decay, verbose=1)\n",
    "\n",
    "early_stopping = EarlyStopping(monitor='auc', mode='max', patience=10, restore_best_weights=True)\n",
    "\n",
    "history = model.fit(train_iterator, steps_per_epoch=len(train_iterator), epochs=100, verbose=1, validation_data=val_iterator, \n",
    "                 callbacks=[\n",
    "                     auc,\n",
    "                     eval_callback,\n",
    "                     reduce_lr,\n",
    "                     lr_callback,\n",
    "                     early_stopping,\n",
    "#                      scheduler,\n",
    "                     keras.callbacks.ModelCheckpoint(\n",
    "                         'models_baby2/model_7.{epoch:02d}-{auc:.2f}.hdf5',\n",
    "                         save_best_only=False)\n",
    "                 ])"
   ]
  },
  {
   "cell_type": "code",
   "execution_count": 296,
   "id": "10dc73b7-ab55-4362-82df-248e1a264ddb",
   "metadata": {},
   "outputs": [
    {
     "data": {
      "image/png": "[encoded data removed]",
      "text/plain": [
       "<Figure size 432x288 with 1 Axes>"
      ]
     },
     "metadata": {},
     "output_type": "display_data"
    }
   ],
   "source": [
    "plt.plot(history.history['loss'])\n",
    "plt.plot(history.history['val_loss'])\n",
    "\n",
    "plt.title('Loss vs. Training Epoch')\n",
    "plt.xlabel('Epoch')\n",
    "plt.ylabel('Loss')\n",
    "plt.legend(['Train','Validation']);"
   ]
  },
  {
   "cell_type": "code",
   "execution_count": 297,
   "id": "9e52ed56-2cbc-4076-b0cd-03bb4d4dbb7a",
   "metadata": {},
   "outputs": [],
   "source": [
    "y_pred = model.predict(X_val)"
   ]
  },
  {
   "cell_type": "code",
   "execution_count": 298,
   "id": "65768703-7d50-496b-9204-a63b79a27df1",
   "metadata": {},
   "outputs": [
    {
     "data": {
      "text/plain": [
       "0.7482847341337908"
      ]
     },
     "execution_count": 298,
     "metadata": {},
     "output_type": "execute_result"
    }
   ],
   "source": [
    "# batch_size=256, initial_lr=0.0005\n",
    "\n",
    "roc_auc_score(y_val[:,target], y_pred)"
   ]
  },
  {
   "cell_type": "markdown",
   "id": "cfb4fd8a-0470-4322-9163-8a5bfd8ffda5",
   "metadata": {},
   "source": [
    "# 8) Now (VGG16) w/ trainable layer_5 (just last target) and drop Dense layers"
   ]
  },
  {
   "cell_type": "code",
   "execution_count": 299,
   "id": "eeeb3875-90f4-46e9-b1e0-f7be8adf7c21",
   "metadata": {},
   "outputs": [],
   "source": [
    "## Targets: 'Atelectasis'=0, 'Cardiomegaly'=1, 'Edema'=2, 'Pleaural Effusion'=3\n",
    "\n",
    "target = 3"
   ]
  },
  {
   "cell_type": "code",
   "execution_count": 300,
   "id": "013999db-c05e-4c6e-9dc2-26d600b7936b",
   "metadata": {},
   "outputs": [],
   "source": [
    "## FOR REPEATABILITY (must re-run this before EVERY model training run):\n",
    "\n",
    "# 1. Set the `PYTHONHASHSEED` environment variable at a fixed value\n",
    "import os\n",
    "os.environ['PYTHONHASHSEED']=str(0)\n",
    "\n",
    "# 2. Set the `python` built-in pseudo-random generator at a fixed value\n",
    "import random\n",
    "random.seed(1)\n",
    "\n",
    "# 3. Set the `numpy` pseudo-random generator at a fixed value\n",
    "import numpy as np\n",
    "np.random.seed(2)\n",
    "\n",
    "# 4. Set the `tensorflow` pseudo-random generator at a fixed value\n",
    "import tensorflow as tf\n",
    "tf.random.set_seed(2)"
   ]
  },
  {
   "cell_type": "code",
   "execution_count": 301,
   "id": "d91b032b-ade7-4269-99b7-315e5c2a25fc",
   "metadata": {},
   "outputs": [
    {
     "name": "stdout",
     "output_type": "stream",
     "text": [
      "Batches train=4, val=1\n"
     ]
    }
   ],
   "source": [
    "batch_size = 256\n",
    "\n",
    "datagen = ImageDataGenerator(featurewise_center=True, featurewise_std_normalization=True)\n",
    "\n",
    "# calculate mean on training dataset\n",
    "datagen.fit(X_train)\n",
    "\n",
    "# prepare iterators to scale images\n",
    "train_iterator = datagen.flow(X_train, y_train[:, target], batch_size=batch_size)\n",
    "\n",
    "val_iterator = datagen.flow(X_val, y_val[:, target], batch_size=batch_size)\n",
    "\n",
    "print('Batches train=%d, val=%d' % (len(train_iterator), len(val_iterator)))"
   ]
  },
  {
   "cell_type": "code",
   "execution_count": 302,
   "id": "97f0fb0a-ac55-46ac-a00c-7a622e4bbab8",
   "metadata": {},
   "outputs": [
    {
     "name": "stdout",
     "output_type": "stream",
     "text": [
      "Layer input_2 frozen.\n",
      "Layer block1_conv1 frozen.\n",
      "Layer block1_conv2 frozen.\n",
      "Layer block1_pool frozen.\n",
      "Layer block2_conv1 frozen.\n",
      "Layer block2_conv2 frozen.\n",
      "Layer block2_pool frozen.\n",
      "Layer block3_conv1 frozen.\n",
      "Layer block3_conv2 frozen.\n",
      "Layer block3_conv3 frozen.\n",
      "Layer block3_pool frozen.\n",
      "Layer block4_conv1 frozen.\n",
      "Layer block4_conv2 frozen.\n",
      "Layer block4_conv3 frozen.\n",
      "Layer block4_pool frozen.\n",
      "Model: \"vgg16\"\n",
      "_________________________________________________________________\n",
      "Layer (type)                 Output Shape              Param #   \n",
      "=================================================================\n",
      "input_2 (InputLayer)         [(None, 224, 273, 3)]     0         \n",
      "_________________________________________________________________\n",
      "block1_conv1 (Conv2D)        (None, 224, 273, 64)      1792      \n",
      "_________________________________________________________________\n",
      "block1_conv2 (Conv2D)        (None, 224, 273, 64)      36928     \n",
      "_________________________________________________________________\n",
      "block1_pool (MaxPooling2D)   (None, 112, 136, 64)      0         \n",
      "_________________________________________________________________\n",
      "block2_conv1 (Conv2D)        (None, 112, 136, 128)     73856     \n",
      "_________________________________________________________________\n",
      "block2_conv2 (Conv2D)        (None, 112, 136, 128)     147584    \n",
      "_________________________________________________________________\n",
      "block2_pool (MaxPooling2D)   (None, 56, 68, 128)       0         \n",
      "_________________________________________________________________\n",
      "block3_conv1 (Conv2D)        (None, 56, 68, 256)       295168    \n",
      "_________________________________________________________________\n",
      "block3_conv2 (Conv2D)        (None, 56, 68, 256)       590080    \n",
      "_________________________________________________________________\n",
      "block3_conv3 (Conv2D)        (None, 56, 68, 256)       590080    \n",
      "_________________________________________________________________\n",
      "block3_pool (MaxPooling2D)   (None, 28, 34, 256)       0         \n",
      "_________________________________________________________________\n",
      "block4_conv1 (Conv2D)        (None, 28, 34, 512)       1180160   \n",
      "_________________________________________________________________\n",
      "block4_conv2 (Conv2D)        (None, 28, 34, 512)       2359808   \n",
      "_________________________________________________________________\n",
      "block4_conv3 (Conv2D)        (None, 28, 34, 512)       2359808   \n",
      "_________________________________________________________________\n",
      "block4_pool (MaxPooling2D)   (None, 14, 17, 512)       0         \n",
      "_________________________________________________________________\n",
      "block5_conv1 (Conv2D)        (None, 14, 17, 512)       2359808   \n",
      "_________________________________________________________________\n",
      "block5_conv2 (Conv2D)        (None, 14, 17, 512)       2359808   \n",
      "_________________________________________________________________\n",
      "block5_conv3 (Conv2D)        (None, 14, 17, 512)       2359808   \n",
      "_________________________________________________________________\n",
      "block5_pool (MaxPooling2D)   (None, 7, 8, 512)         0         \n",
      "=================================================================\n",
      "Total params: 14,714,688\n",
      "Trainable params: 7,079,424\n",
      "Non-trainable params: 7,635,264\n",
      "_________________________________________________________________\n"
     ]
    }
   ],
   "source": [
    "keras.backend.clear_session()\n",
    "\n",
    "# dropout = 0.25\n",
    "\n",
    "from tensorflow.keras.applications import VGG16\n",
    "\n",
    "# This converts the 1-channel X-rays to 3-channel images a required by mobilenet_v2\n",
    "input_tensor = Input(shape=(X_train.shape[1:]))\n",
    "x = Conv2D(3,(3,3),padding='same')(input_tensor)\n",
    "\n",
    "base_model = VGG16(weights='imagenet', \n",
    "                   include_top=False, \n",
    "#                    pooling='avg',\n",
    "                   input_shape=(X_train.shape[1], X_train.shape[2], 3)) \n",
    " \n",
    "for layer in base_model.layers:\n",
    "  if 'block5_' not in layer.name:\n",
    "      layer.trainable = False\n",
    "      print('Layer ' + layer.name + ' frozen.')\n",
    "base_model.summary()"
   ]
  },
  {
   "cell_type": "code",
   "execution_count": 303,
   "id": "35a218e7-9dd5-4ace-a36b-19fecbfe36f8",
   "metadata": {},
   "outputs": [],
   "source": [
    "out = base_model(x)\n",
    "new_base_model = Model(inputs=input_tensor, outputs=out)\n",
    "    \n",
    "# Establish new fully connected block\n",
    "x = new_base_model.output\n",
    "x = Flatten()(x) # flatten from convolution tensor output \n",
    "# x = Dense(units=128, activation='relu')(x) # number of layers and units are hyperparameters, as usual\n",
    "# x = Dropout(dropout, seed=2)(x) # adding Dropout for regularization between the Dense layers\n",
    "# x = Dense(units=64, activation='relu')(x)\n",
    "# x = Dropout(dropout, seed=1)(x) # adding Dropout for regularization between the Dense layers\n",
    "predictions = Dense(units=1, activation='sigmoid')(x) # 1 target labels\n",
    "\n",
    "# define formal model object to train and compile it as usual\n",
    "model = Model(inputs=new_base_model.input, outputs=predictions)"
   ]
  },
  {
   "cell_type": "code",
   "execution_count": 304,
   "id": "e5743d51-e001-49d6-b8d7-cc2f7ee9eb0a",
   "metadata": {},
   "outputs": [
    {
     "name": "stdout",
     "output_type": "stream",
     "text": [
      "Model: \"model_1\"\n",
      "_________________________________________________________________\n",
      "Layer (type)                 Output Shape              Param #   \n",
      "=================================================================\n",
      "input_1 (InputLayer)         [(None, 224, 273, 1)]     0         \n",
      "_________________________________________________________________\n",
      "conv2d (Conv2D)              (None, 224, 273, 3)       30        \n",
      "_________________________________________________________________\n",
      "vgg16 (Functional)           (None, 7, 8, 512)         14714688  \n",
      "_________________________________________________________________\n",
      "flatten (Flatten)            (None, 28672)             0         \n",
      "_________________________________________________________________\n",
      "dense (Dense)                (None, 1)                 28673     \n",
      "=================================================================\n",
      "Total params: 14,743,391\n",
      "Trainable params: 7,108,127\n",
      "Non-trainable params: 7,635,264\n",
      "_________________________________________________________________\n"
     ]
    }
   ],
   "source": [
    "model.summary()"
   ]
  },
  {
   "cell_type": "code",
   "execution_count": 305,
   "id": "9f31b6f4-d0be-40f8-a28f-a08327d429d7",
   "metadata": {},
   "outputs": [],
   "source": [
    "initial_learning_rate = 0.0005\n",
    "adam_opt = keras.optimizers.Adam(learning_rate=initial_learning_rate, \n",
    "                                 beta_1=0.9, \n",
    "                                 beta_2=0.999, \n",
    "                                 epsilon=1e-07, \n",
    "                                 amsgrad=False)\n",
    "\n",
    "model.compile(\n",
    "    loss='binary_crossentropy',\n",
    "    optimizer=adam_opt\n",
    ")"
   ]
  },
  {
   "cell_type": "code",
   "execution_count": 306,
   "id": "f17b6c63-1bb0-406b-a84a-10f2b4a3e726",
   "metadata": {},
   "outputs": [
    {
     "data": {
      "text/plain": [
       "0.0005"
      ]
     },
     "execution_count": 306,
     "metadata": {},
     "output_type": "execute_result"
    }
   ],
   "source": [
    "model.optimizer.get_config()['learning_rate']"
   ]
  },
  {
   "cell_type": "code",
   "execution_count": 307,
   "id": "c5f259e7-b0c6-4526-bf19-b5f425c5c2d9",
   "metadata": {
    "tags": []
   },
   "outputs": [
    {
     "name": "stdout",
     "output_type": "stream",
     "text": [
      "Epoch 1/100\n",
      "Learning Rate: 0.0005\n",
      "4/4 [==============================] - 415s 111s/step - loss: 1.0123 - val_loss: 0.6735\n",
      "\n",
      "val-roc-auc: 0.5594                                                                                                    \n",
      "\n",
      "Epoch 2/100\n",
      "Learning Rate: 0.0005000000237487257\n",
      "4/4 [==============================] - 412s 111s/step - loss: 0.6639 - val_loss: 0.6644\n",
      "\n",
      "val-roc-auc: 0.6334                                                                                                    \n",
      "\n",
      "Epoch 3/100\n",
      "Learning Rate: 0.0005000000237487257\n",
      "4/4 [==============================] - 428s 111s/step - loss: 0.6514 - val_loss: 0.6512\n",
      "\n",
      "val-roc-auc: 0.6498                                                                                                    \n",
      "\n",
      "Epoch 4/100\n",
      "Learning Rate: 0.0005000000237487257\n",
      "4/4 [==============================] - 424s 109s/step - loss: 0.6425 - val_loss: 0.6268\n",
      "\n",
      "val-roc-auc: 0.675                                                                                                    \n",
      "\n",
      "Epoch 5/100\n",
      "Learning Rate: 0.0005000000237487257\n",
      "4/4 [==============================] - 416s 111s/step - loss: 0.6241 - val_loss: 0.6101\n",
      "\n",
      "val-roc-auc: 0.6865                                                                                                    \n",
      "\n",
      "Epoch 6/100\n",
      "Learning Rate: 0.0005000000237487257\n",
      "4/4 [==============================] - 413s 110s/step - loss: 0.6035 - val_loss: 0.5940\n",
      "\n",
      "val-roc-auc: 0.7075                                                                                                    \n",
      "\n",
      "Epoch 7/100\n",
      "Learning Rate: 0.0005000000237487257\n",
      "4/4 [==============================] - 407s 103s/step - loss: 0.5956 - val_loss: 0.5773\n",
      "\n",
      "val-roc-auc: 0.7251                                                                                                    \n",
      "\n",
      "Epoch 8/100\n",
      "Learning Rate: 0.0005000000237487257\n",
      "4/4 [==============================] - 409s 104s/step - loss: 0.5770 - val_loss: 0.6056\n",
      "\n",
      "val-roc-auc: 0.749                                                                                                    \n",
      "\n",
      "Epoch 9/100\n",
      "Learning Rate: 0.0005000000237487257\n",
      "4/4 [==============================] - 412s 105s/step - loss: 0.5664 - val_loss: 0.5499\n",
      "\n",
      "val-roc-auc: 0.7514                                                                                                    \n",
      "\n",
      "Epoch 10/100\n",
      "Learning Rate: 0.0005000000237487257\n",
      "4/4 [==============================] - 410s 104s/step - loss: 0.5257 - val_loss: 0.5362\n",
      "\n",
      "val-roc-auc: 0.7581                                                                                                    \n",
      "\n",
      "Epoch 11/100\n",
      "Learning Rate: 0.0005000000237487257\n",
      "4/4 [==============================] - 418s 107s/step - loss: 0.5003 - val_loss: 0.5221\n",
      "\n",
      "val-roc-auc: 0.7625                                                                                                    \n",
      "\n",
      "Epoch 12/100\n",
      "Learning Rate: 0.0005000000237487257\n",
      "4/4 [==============================] - 415s 106s/step - loss: 0.4700 - val_loss: 0.5278\n",
      "\n",
      "val-roc-auc: 0.755                                                                                                    \n",
      "\n",
      "Epoch 13/100\n",
      "Learning Rate: 0.0002500000118743628\n",
      "4/4 [==============================] - 413s 106s/step - loss: 0.4443 - val_loss: 0.5275\n",
      "\n",
      "val-roc-auc: 0.7534                                                                                                    \n",
      "\n",
      "Epoch 14/100\n",
      "Learning Rate: 0.0002500000118743628\n",
      "4/4 [==============================] - 412s 105s/step - loss: 0.4184 - val_loss: 0.5244\n",
      "\n",
      "val-roc-auc: 0.7471                                                                                                    \n",
      "\n",
      "Epoch 15/100\n",
      "Learning Rate: 0.0001250000059371814\n",
      "4/4 [==============================] - 420s 108s/step - loss: 0.4008 - val_loss: 0.5258\n",
      "\n",
      "val-roc-auc: 0.7499                                                                                                    \n",
      "\n",
      "Epoch 16/100\n",
      "Learning Rate: 0.0001250000059371814\n",
      "4/4 [==============================] - 416s 107s/step - loss: 0.3861 - val_loss: 0.5302\n",
      "\n",
      "val-roc-auc: 0.7437                                                                                                    \n",
      "\n",
      "Epoch 17/100\n",
      "Learning Rate: 6.25000029685907e-05\n",
      "4/4 [==============================] - 421s 113s/step - loss: 0.3742 - val_loss: 0.5302\n",
      "\n",
      "val-roc-auc: 0.7425                                                                                                    \n",
      "\n",
      "Epoch 18/100\n",
      "Learning Rate: 6.25000029685907e-05\n",
      "4/4 [==============================] - 418s 107s/step - loss: 0.3654 - val_loss: 0.5318\n",
      "\n",
      "val-roc-auc: 0.7401                                                                                                    \n",
      "\n",
      "Epoch 19/100\n",
      "Learning Rate: 3.1200001103570685e-05\n",
      "4/4 [==============================] - 423s 109s/step - loss: 0.3580 - val_loss: 0.5329\n",
      "\n",
      "val-roc-auc: 0.7384                                                                                                    \n",
      "\n",
      "Epoch 20/100\n",
      "Learning Rate: 3.1200001103570685e-05\n",
      "4/4 [==============================] - 414s 106s/step - loss: 0.3541 - val_loss: 0.5345\n",
      "\n",
      "val-roc-auc: 0.7346                                                                                                    \n",
      "\n",
      "Epoch 21/100\n",
      "Learning Rate: 1.5600000551785342e-05\n",
      "4/4 [==============================] - 414s 106s/step - loss: 0.3502 - val_loss: 0.5353\n",
      "\n",
      "val-roc-auc: 0.734                                                                                                    \n",
      "\n"
     ]
    }
   ],
   "source": [
    "# Exponential decay learning rate scheduler comes from: \n",
    "#      https://towardsdatascience.com/learning-rate-schedule-in-practice-an-example-with-keras-and-tensorflow-2-0-2f48b2888a0c\n",
    "def lr_exp_decay(epoch, lr):\n",
    "    print('Previous lr: {}'.format(lr))\n",
    "    k = 0\n",
    "    return lr * np.exp(-k*epoch)\n",
    "\n",
    "# This AUC will be calculated at the end of each epoch on the validation set and be used for early stopping\n",
    "auc = ROAUCMetrics(val_data=(X_val, y_val[:, target]))\n",
    "\n",
    "eval_callback = LambdaCallback(on_epoch_end=lambda epoch, logs: logs.update({'auc': auc.val_aucs[-1]})) \n",
    "\n",
    "# reduce_lr = ReduceLROnPlateau(monitor='val_loss', factor=0.5, patience=5, mode='min', min_delta=0.0001, min_lr=5e-6)\n",
    "reduce_lr = ReduceLROnPlateau(monitor='auc', factor=0.5, patience=2, mode='max', min_delta=0.005)\n",
    "\n",
    "lr_callback = LambdaCallback(on_epoch_begin=lambda epoch, logs: print('Learning Rate: {}'.format(round(model.optimizer.get_config()['learning_rate'], 7))))\n",
    "\n",
    "# scheduler = LearningRateScheduler(lr_exp_decay, verbose=1)\n",
    "\n",
    "early_stopping = EarlyStopping(monitor='auc', mode='max', patience=10, restore_best_weights=True)\n",
    "\n",
    "history = model.fit(train_iterator, steps_per_epoch=len(train_iterator), epochs=100, verbose=1, validation_data=val_iterator, \n",
    "                 callbacks=[\n",
    "                     auc,\n",
    "                     eval_callback,\n",
    "                     reduce_lr,\n",
    "                     lr_callback,\n",
    "                     early_stopping,\n",
    "#                      scheduler,\n",
    "                     keras.callbacks.ModelCheckpoint(\n",
    "                         'models_baby2/model_8.{epoch:02d}-{auc:.2f}.hdf5',\n",
    "                         save_best_only=False)\n",
    "                 ])"
   ]
  },
  {
   "cell_type": "code",
   "execution_count": 308,
   "id": "fa695462-dc97-4328-b951-c2558cd1c587",
   "metadata": {},
   "outputs": [
    {
     "data": {
      "image/png": "[encoded data removed]",
      "text/plain": [
       "<Figure size 432x288 with 1 Axes>"
      ]
     },
     "metadata": {},
     "output_type": "display_data"
    }
   ],
   "source": [
    "plt.plot(history.history['loss'])\n",
    "plt.plot(history.history['val_loss'])\n",
    "\n",
    "plt.title('Loss vs. Training Epoch')\n",
    "plt.xlabel('Epoch')\n",
    "plt.ylabel('Loss')\n",
    "plt.legend(['Train','Validation']);"
   ]
  },
  {
   "cell_type": "code",
   "execution_count": 324,
   "id": "45da8109-37ff-41d3-aeb0-0f717ad83f25",
   "metadata": {},
   "outputs": [],
   "source": [
    "model = load_model('models_baby2/model_8.11-0.76.hdf5')"
   ]
  },
  {
   "cell_type": "code",
   "execution_count": 325,
   "id": "529deb48-59c3-418f-b552-4202deac3765",
   "metadata": {},
   "outputs": [],
   "source": [
    "y_pred_val = model.predict(X_val)\n",
    "y_pred_train = model.predict(X_train)"
   ]
  },
  {
   "cell_type": "code",
   "execution_count": 327,
   "id": "09ecba94-954e-4c03-b436-a1e795d96b28",
   "metadata": {},
   "outputs": [
    {
     "name": "stdout",
     "output_type": "stream",
     "text": [
      "Training AUC: 0.8098\n",
      "Validation AUC: 0.7625\n"
     ]
    }
   ],
   "source": [
    "print('Training AUC: {}'.format(round(roc_auc_score(y_train[:,target], y_pred_train), 4)))\n",
    "print('Validation AUC: {}'.format(round(roc_auc_score(y_val[:,target], y_pred_val), 4)))"
   ]
  },
  {
   "cell_type": "markdown",
   "id": "21d8b575-0255-4890-8498-3074f48f7d2c",
   "metadata": {},
   "source": [
    "# 9) VGG16 + 3 Dense Layers (128, 64, 1, dropout) w/ trainable layer_5  (just last target)"
   ]
  },
  {
   "cell_type": "code",
   "execution_count": 311,
   "id": "491a96f3-678c-45b3-b334-7e1b64e605af",
   "metadata": {},
   "outputs": [],
   "source": [
    "## Targets: 'Atelectasis'=0, 'Cardiomegaly'=1, 'Edema'=2, 'Pleaural Effusion'=3\n",
    "\n",
    "target = 3"
   ]
  },
  {
   "cell_type": "code",
   "execution_count": 312,
   "id": "adf607ed-0256-43ca-b433-a58c2870a9a9",
   "metadata": {},
   "outputs": [],
   "source": [
    "## FOR REPEATABILITY (must re-run this before EVERY model training run):\n",
    "\n",
    "# 1. Set the `PYTHONHASHSEED` environment variable at a fixed value\n",
    "import os\n",
    "os.environ['PYTHONHASHSEED']=str(0)\n",
    "\n",
    "# 2. Set the `python` built-in pseudo-random generator at a fixed value\n",
    "import random\n",
    "random.seed(1)\n",
    "\n",
    "# 3. Set the `numpy` pseudo-random generator at a fixed value\n",
    "import numpy as np\n",
    "np.random.seed(2)\n",
    "\n",
    "# 4. Set the `tensorflow` pseudo-random generator at a fixed value\n",
    "import tensorflow as tf\n",
    "tf.random.set_seed(2)"
   ]
  },
  {
   "cell_type": "code",
   "execution_count": 313,
   "id": "fa4e9d4d-107e-4259-95d1-5c45fe16659a",
   "metadata": {},
   "outputs": [
    {
     "name": "stdout",
     "output_type": "stream",
     "text": [
      "Batches train=4, val=1\n"
     ]
    }
   ],
   "source": [
    "batch_size = 256\n",
    "\n",
    "datagen = ImageDataGenerator(featurewise_center=True, featurewise_std_normalization=True)\n",
    "\n",
    "# calculate mean on training dataset\n",
    "datagen.fit(X_train)\n",
    "\n",
    "# prepare iterators to scale images\n",
    "train_iterator = datagen.flow(X_train, y_train[:, target], batch_size=batch_size)\n",
    "\n",
    "val_iterator = datagen.flow(X_val, y_val[:, target], batch_size=batch_size)\n",
    "\n",
    "print('Batches train=%d, val=%d' % (len(train_iterator), len(val_iterator)))"
   ]
  },
  {
   "cell_type": "code",
   "execution_count": 314,
   "id": "7f3751d5-078e-4d2d-9848-262998c3bcf8",
   "metadata": {},
   "outputs": [
    {
     "name": "stdout",
     "output_type": "stream",
     "text": [
      "Layer input_2 frozen.\n",
      "Layer block1_conv1 frozen.\n",
      "Layer block1_conv2 frozen.\n",
      "Layer block1_pool frozen.\n",
      "Layer block2_conv1 frozen.\n",
      "Layer block2_conv2 frozen.\n",
      "Layer block2_pool frozen.\n",
      "Layer block3_conv1 frozen.\n",
      "Layer block3_conv2 frozen.\n",
      "Layer block3_conv3 frozen.\n",
      "Layer block3_pool frozen.\n",
      "Layer block4_conv1 frozen.\n",
      "Layer block4_conv2 frozen.\n",
      "Layer block4_conv3 frozen.\n",
      "Layer block4_pool frozen.\n",
      "Model: \"vgg16\"\n",
      "_________________________________________________________________\n",
      "Layer (type)                 Output Shape              Param #   \n",
      "=================================================================\n",
      "input_2 (InputLayer)         [(None, 224, 273, 3)]     0         \n",
      "_________________________________________________________________\n",
      "block1_conv1 (Conv2D)        (None, 224, 273, 64)      1792      \n",
      "_________________________________________________________________\n",
      "block1_conv2 (Conv2D)        (None, 224, 273, 64)      36928     \n",
      "_________________________________________________________________\n",
      "block1_pool (MaxPooling2D)   (None, 112, 136, 64)      0         \n",
      "_________________________________________________________________\n",
      "block2_conv1 (Conv2D)        (None, 112, 136, 128)     73856     \n",
      "_________________________________________________________________\n",
      "block2_conv2 (Conv2D)        (None, 112, 136, 128)     147584    \n",
      "_________________________________________________________________\n",
      "block2_pool (MaxPooling2D)   (None, 56, 68, 128)       0         \n",
      "_________________________________________________________________\n",
      "block3_conv1 (Conv2D)        (None, 56, 68, 256)       295168    \n",
      "_________________________________________________________________\n",
      "block3_conv2 (Conv2D)        (None, 56, 68, 256)       590080    \n",
      "_________________________________________________________________\n",
      "block3_conv3 (Conv2D)        (None, 56, 68, 256)       590080    \n",
      "_________________________________________________________________\n",
      "block3_pool (MaxPooling2D)   (None, 28, 34, 256)       0         \n",
      "_________________________________________________________________\n",
      "block4_conv1 (Conv2D)        (None, 28, 34, 512)       1180160   \n",
      "_________________________________________________________________\n",
      "block4_conv2 (Conv2D)        (None, 28, 34, 512)       2359808   \n",
      "_________________________________________________________________\n",
      "block4_conv3 (Conv2D)        (None, 28, 34, 512)       2359808   \n",
      "_________________________________________________________________\n",
      "block4_pool (MaxPooling2D)   (None, 14, 17, 512)       0         \n",
      "_________________________________________________________________\n",
      "block5_conv1 (Conv2D)        (None, 14, 17, 512)       2359808   \n",
      "_________________________________________________________________\n",
      "block5_conv2 (Conv2D)        (None, 14, 17, 512)       2359808   \n",
      "_________________________________________________________________\n",
      "block5_conv3 (Conv2D)        (None, 14, 17, 512)       2359808   \n",
      "_________________________________________________________________\n",
      "block5_pool (MaxPooling2D)   (None, 7, 8, 512)         0         \n",
      "=================================================================\n",
      "Total params: 14,714,688\n",
      "Trainable params: 7,079,424\n",
      "Non-trainable params: 7,635,264\n",
      "_________________________________________________________________\n"
     ]
    }
   ],
   "source": [
    "keras.backend.clear_session()\n",
    "\n",
    "from tensorflow.keras.applications import VGG16\n",
    "\n",
    "# This converts the 1-channel X-rays to 3-channel images a required by mobilenet_v2\n",
    "input_tensor = Input(shape=(X_train.shape[1:]))\n",
    "x = Conv2D(3,(3,3),padding='same')(input_tensor)\n",
    "\n",
    "base_model = VGG16(weights='imagenet', \n",
    "                   include_top=False, \n",
    "#                    pooling='avg',\n",
    "                   input_shape=(X_train.shape[1], X_train.shape[2], 3)) \n",
    " \n",
    "for layer in base_model.layers:\n",
    "  if 'block5_' not in layer.name:\n",
    "      layer.trainable = False\n",
    "      print('Layer ' + layer.name + ' frozen.')\n",
    "base_model.summary()"
   ]
  },
  {
   "cell_type": "code",
   "execution_count": 315,
   "id": "35a93a34-69fa-4712-abd5-645f33f9b5c9",
   "metadata": {},
   "outputs": [],
   "source": [
    "dropout = 0.25\n",
    "\n",
    "out = base_model(x)\n",
    "new_base_model = Model(inputs=input_tensor, outputs=out)\n",
    "    \n",
    "# Establish new fully connected block\n",
    "x = new_base_model.output\n",
    "x = Flatten()(x) # flatten from convolution tensor output \n",
    "x = Dense(units=128, activation='relu')(x) # number of layers and units are hyperparameters, as usual\n",
    "x = Dropout(dropout, seed=2)(x) # adding Dropout for regularization between the Dense layers\n",
    "x = Dense(units=64, activation='relu')(x)\n",
    "x = Dropout(dropout, seed=1)(x) # adding Dropout for regularization between the Dense layers\n",
    "predictions = Dense(units=1, activation='sigmoid')(x) # 1 target labels\n",
    "\n",
    "# define formal model object to train and compile it as usual\n",
    "model = Model(inputs=new_base_model.input, outputs=predictions)"
   ]
  },
  {
   "cell_type": "code",
   "execution_count": 316,
   "id": "ac19d8a6-fd71-4e2a-abd0-25c5e3449173",
   "metadata": {},
   "outputs": [
    {
     "name": "stdout",
     "output_type": "stream",
     "text": [
      "Model: \"model_1\"\n",
      "_________________________________________________________________\n",
      "Layer (type)                 Output Shape              Param #   \n",
      "=================================================================\n",
      "input_1 (InputLayer)         [(None, 224, 273, 1)]     0         \n",
      "_________________________________________________________________\n",
      "conv2d (Conv2D)              (None, 224, 273, 3)       30        \n",
      "_________________________________________________________________\n",
      "vgg16 (Functional)           (None, 7, 8, 512)         14714688  \n",
      "_________________________________________________________________\n",
      "flatten (Flatten)            (None, 28672)             0         \n",
      "_________________________________________________________________\n",
      "dense (Dense)                (None, 128)               3670144   \n",
      "_________________________________________________________________\n",
      "dropout (Dropout)            (None, 128)               0         \n",
      "_________________________________________________________________\n",
      "dense_1 (Dense)              (None, 64)                8256      \n",
      "_________________________________________________________________\n",
      "dropout_1 (Dropout)          (None, 64)                0         \n",
      "_________________________________________________________________\n",
      "dense_2 (Dense)              (None, 1)                 65        \n",
      "=================================================================\n",
      "Total params: 18,393,183\n",
      "Trainable params: 10,757,919\n",
      "Non-trainable params: 7,635,264\n",
      "_________________________________________________________________\n"
     ]
    }
   ],
   "source": [
    "model.summary()"
   ]
  },
  {
   "cell_type": "code",
   "execution_count": 317,
   "id": "943e8bae-b843-453c-a9c3-f70b99a79d12",
   "metadata": {},
   "outputs": [],
   "source": [
    "initial_learning_rate = 0.0001\n",
    "adam_opt = keras.optimizers.Adam(learning_rate=initial_learning_rate, \n",
    "                                 beta_1=0.9, \n",
    "                                 beta_2=0.999, \n",
    "                                 epsilon=1e-07, \n",
    "                                 amsgrad=False)\n",
    "\n",
    "model.compile(\n",
    "    loss='binary_crossentropy',\n",
    "    optimizer=adam_opt\n",
    ")"
   ]
  },
  {
   "cell_type": "code",
   "execution_count": 318,
   "id": "3468a5fe-b7d0-4f27-be58-d35ec15ba38f",
   "metadata": {},
   "outputs": [
    {
     "data": {
      "text/plain": [
       "0.0001"
      ]
     },
     "execution_count": 318,
     "metadata": {},
     "output_type": "execute_result"
    }
   ],
   "source": [
    "model.optimizer.get_config()['learning_rate']"
   ]
  },
  {
   "cell_type": "code",
   "execution_count": 319,
   "id": "080084fe-2349-4796-8898-a0eeca702164",
   "metadata": {},
   "outputs": [
    {
     "name": "stdout",
     "output_type": "stream",
     "text": [
      "Epoch 1/100\n",
      "Learning Rate: 0.0001\n",
      "4/4 [==============================] - 410s 109s/step - loss: 0.6757 - val_loss: 0.6441\n",
      "\n",
      "val-roc-auc: 0.57                                                                                                    \n",
      "\n",
      "Epoch 2/100\n",
      "Learning Rate: 9.999999747378752e-05\n",
      "4/4 [==============================] - 411s 110s/step - loss: 0.6433 - val_loss: 0.6039\n",
      "\n",
      "val-roc-auc: 0.6747                                                                                                    \n",
      "\n",
      "Epoch 3/100\n",
      "Learning Rate: 9.999999747378752e-05\n",
      "4/4 [==============================] - 413s 105s/step - loss: 0.5862 - val_loss: 0.5578\n",
      "\n",
      "val-roc-auc: 0.7176                                                                                                    \n",
      "\n",
      "Epoch 4/100\n",
      "Learning Rate: 9.999999747378752e-05\n",
      "4/4 [==============================] - 414s 105s/step - loss: 0.5374 - val_loss: 0.5592\n",
      "\n",
      "val-roc-auc: 0.7492                                                                                                    \n",
      "\n",
      "Epoch 5/100\n",
      "Learning Rate: 9.999999747378752e-05\n",
      "4/4 [==============================] - 272s 63s/step - loss: 0.5077 - val_loss: 0.5194\n",
      "\n",
      "val-roc-auc: 0.7508                                                                                                    \n",
      "\n",
      "Epoch 6/100\n",
      "Learning Rate: 9.999999747378752e-05\n",
      "4/4 [==============================] - 240s 64s/step - loss: 0.4455 - val_loss: 0.5305\n",
      "\n",
      "val-roc-auc: 0.7425                                                                                                    \n",
      "\n",
      "Epoch 7/100\n",
      "Learning Rate: 4.999999873689376e-05\n",
      "4/4 [==============================] - 240s 61s/step - loss: 0.4032 - val_loss: 0.5240\n",
      "\n",
      "val-roc-auc: 0.7519                                                                                                    \n",
      "\n",
      "Epoch 8/100\n",
      "Learning Rate: 4.999999873689376e-05\n",
      "4/4 [==============================] - 240s 61s/step - loss: 0.3996 - val_loss: 0.5084\n",
      "\n",
      "val-roc-auc: 0.7498                                                                                                    \n",
      "\n",
      "Epoch 9/100\n",
      "Learning Rate: 4.999999873689376e-05\n",
      "4/4 [==============================] - 238s 60s/step - loss: 0.3525 - val_loss: 0.5080\n",
      "\n",
      "val-roc-auc: 0.7506                                                                                                    \n",
      "\n",
      "Epoch 10/100\n",
      "Learning Rate: 2.499999936844688e-05\n",
      "4/4 [==============================] - 239s 61s/step - loss: 0.3101 - val_loss: 0.5102\n",
      "\n",
      "val-roc-auc: 0.7515                                                                                                    \n",
      "\n",
      "Epoch 11/100\n",
      "Learning Rate: 2.499999936844688e-05\n",
      "4/4 [==============================] - 238s 60s/step - loss: 0.3035 - val_loss: 0.5200\n",
      "\n",
      "val-roc-auc: 0.7512                                                                                                    \n",
      "\n",
      "Epoch 12/100\n",
      "Learning Rate: 1.249999968422344e-05\n",
      "4/4 [==============================] - 238s 60s/step - loss: 0.2778 - val_loss: 0.5177\n",
      "\n",
      "val-roc-auc: 0.7513                                                                                                    \n",
      "\n",
      "Epoch 13/100\n",
      "Learning Rate: 1.249999968422344e-05\n",
      "4/4 [==============================] - 237s 60s/step - loss: 0.2592 - val_loss: 0.5211\n",
      "\n",
      "val-roc-auc: 0.7486                                                                                                    \n",
      "\n",
      "Epoch 14/100\n",
      "Learning Rate: 6.199999916134402e-06\n",
      "4/4 [==============================] - 238s 60s/step - loss: 0.2500 - val_loss: 0.5242\n",
      "\n",
      "val-roc-auc: 0.7485                                                                                                    \n",
      "\n",
      "Epoch 15/100\n",
      "Learning Rate: 6.199999916134402e-06\n",
      "4/4 [==============================] - 237s 60s/step - loss: 0.2468 - val_loss: 0.5204\n",
      "\n",
      "val-roc-auc: 0.749                                                                                                    \n",
      "\n",
      "Epoch 16/100\n",
      "Learning Rate: 3.099999958067201e-06\n",
      "4/4 [==============================] - 238s 60s/step - loss: 0.2381 - val_loss: 0.5208\n",
      "\n",
      "val-roc-auc: 0.7488                                                                                                    \n",
      "\n",
      "Epoch 17/100\n",
      "Learning Rate: 3.099999958067201e-06\n",
      "4/4 [==============================] - 237s 63s/step - loss: 0.2418 - val_loss: 0.5222\n",
      "\n",
      "val-roc-auc: 0.7489                                                                                                    \n",
      "\n"
     ]
    }
   ],
   "source": [
    "# Exponential decay learning rate scheduler comes from: \n",
    "#      https://towardsdatascience.com/learning-rate-schedule-in-practice-an-example-with-keras-and-tensorflow-2-0-2f48b2888a0c\n",
    "def lr_exp_decay(epoch, lr):\n",
    "    print('Previous lr: {}'.format(lr))\n",
    "    k = 0\n",
    "    return lr * np.exp(-k*epoch)\n",
    "\n",
    "# This AUC will be calculated at the end of each epoch on the validation set and be used for early stopping\n",
    "auc = ROAUCMetrics(val_data=(X_val, y_val[:, target]))\n",
    "\n",
    "eval_callback = LambdaCallback(on_epoch_end=lambda epoch, logs: logs.update({'auc': auc.val_aucs[-1]})) \n",
    "\n",
    "# reduce_lr = ReduceLROnPlateau(monitor='val_loss', factor=0.5, patience=5, mode='min', min_delta=0.0001, min_lr=5e-6)\n",
    "reduce_lr = ReduceLROnPlateau(monitor='auc', factor=0.5, patience=2, mode='max', min_delta=0.002, min_lr=1e-6)\n",
    "\n",
    "lr_callback = LambdaCallback(on_epoch_begin=lambda epoch, logs: print('Learning Rate: {}'.format(round(model.optimizer.get_config()['learning_rate'], 7))))\n",
    "\n",
    "# scheduler = LearningRateScheduler(lr_exp_decay, verbose=1)\n",
    "\n",
    "early_stopping = EarlyStopping(monitor='auc', mode='max', patience=10, restore_best_weights=True)\n",
    "\n",
    "history = model.fit(train_iterator, steps_per_epoch=len(train_iterator), epochs=100, verbose=1, validation_data=val_iterator, \n",
    "                 callbacks=[\n",
    "                     auc,\n",
    "                     eval_callback,\n",
    "                     reduce_lr,\n",
    "                     lr_callback,\n",
    "                     early_stopping,\n",
    "#                      scheduler,\n",
    "                     keras.callbacks.ModelCheckpoint(\n",
    "                         'models_baby2/model_9.{epoch:02d}-{auc:.2f}.hdf5',\n",
    "                         save_best_only=False)\n",
    "                 ])"
   ]
  },
  {
   "cell_type": "code",
   "execution_count": 320,
   "id": "4f5f29c4-5566-4024-92d9-f7863879529b",
   "metadata": {},
   "outputs": [
    {
     "data": {
      "image/png": "[encoded data removed]",
      "text/plain": [
       "<Figure size 432x288 with 1 Axes>"
      ]
     },
     "metadata": {},
     "output_type": "display_data"
    }
   ],
   "source": [
    "plt.plot(history.history['loss'])\n",
    "plt.plot(history.history['val_loss'])\n",
    "\n",
    "plt.title('Loss vs. Training Epoch')\n",
    "plt.xlabel('Epoch')\n",
    "plt.ylabel('Loss')\n",
    "plt.legend(['Train','Validation']);"
   ]
  },
  {
   "cell_type": "code",
   "execution_count": 321,
   "id": "d401e471-cee2-4595-80c4-2c0461bf5ab8",
   "metadata": {},
   "outputs": [],
   "source": [
    "y_pred = model.predict(X_val)"
   ]
  },
  {
   "cell_type": "code",
   "execution_count": 322,
   "id": "ad6129db-0bc4-487b-bbaa-ad1261b901d4",
   "metadata": {},
   "outputs": [
    {
     "data": {
      "text/plain": [
       "0.7518582046883934"
      ]
     },
     "execution_count": 322,
     "metadata": {},
     "output_type": "execute_result"
    }
   ],
   "source": [
    "roc_auc_score(y_val[:,target], y_pred)"
   ]
  },
  {
   "cell_type": "markdown",
   "id": "de276582-a505-4225-b606-0a0aa97fa9a9",
   "metadata": {},
   "source": [
    "# 10) VGG16 + 3 Dense Layers (128, 64, 1, dropout) w/ trainable layer_5 (first target, 'Atelectasis')"
   ]
  },
  {
   "cell_type": "code",
   "execution_count": 404,
   "id": "239e1f9b-ce61-400f-8243-b2e371a2ea01",
   "metadata": {},
   "outputs": [],
   "source": [
    "## Targets: 'Atelectasis'=0, 'Cardiomegaly'=1, 'Edema'=2, 'Pleaural Effusion'=3\n",
    "\n",
    "target = 0"
   ]
  },
  {
   "cell_type": "markdown",
   "id": "3ae63e3d-aacb-4429-9e1d-23d439c27f6d",
   "metadata": {},
   "source": [
    "Class Weighting (below) based on: https://www.tensorflow.org/tutorials/structured_data/imbalanced_data"
   ]
  },
  {
   "cell_type": "code",
   "execution_count": 406,
   "id": "20f72c0f-8f77-474a-a293-7b2a180fd75f",
   "metadata": {},
   "outputs": [
    {
     "name": "stdout",
     "output_type": "stream",
     "text": [
      "Weight for class 0: 0.74\n",
      "Weight for class 1: 1.52\n"
     ]
    }
   ],
   "source": [
    "# Scaling by total/2 helps keep the loss to a similar magnitude.\n",
    "#    The sum of the weights of all examples stays the same.\n",
    "\n",
    "# weight_for_1 = (1 / pos) * (total / 2.0)\n",
    "weight_for_1 = (1 / np.sum(y_train[:, target])) * (y_train.shape[0]/2.0)\n",
    "\n",
    "# weight_for_0 = (1 / neg) * (total / 2.0)\n",
    "weight_for_0 = (1 / (y_train.shape[0] - np.sum(y_train[:, target]))) * (y_train.shape[0]/2.0)\n",
    "\n",
    "class_weights = {0: weight_for_0, 1: weight_for_1}\n",
    "\n",
    "print('Weight for class 0: {:.2f}'.format(weight_for_0))\n",
    "print('Weight for class 1: {:.2f}'.format(weight_for_1))"
   ]
  },
  {
   "cell_type": "code",
   "execution_count": 407,
   "id": "5cd6b56f-0485-4dd2-a879-bb6aaa462a92",
   "metadata": {},
   "outputs": [],
   "source": [
    "## FOR REPEATABILITY (must re-run this before EVERY model training run):\n",
    "\n",
    "# 1. Set the `PYTHONHASHSEED` environment variable at a fixed value\n",
    "import os\n",
    "os.environ['PYTHONHASHSEED']=str(0)\n",
    "\n",
    "# 2. Set the `python` built-in pseudo-random generator at a fixed value\n",
    "import random\n",
    "random.seed(1)\n",
    "\n",
    "# 3. Set the `numpy` pseudo-random generator at a fixed value\n",
    "import numpy as np\n",
    "np.random.seed(2)\n",
    "\n",
    "# 4. Set the `tensorflow` pseudo-random generator at a fixed value\n",
    "import tensorflow as tf\n",
    "tf.random.set_seed(2)"
   ]
  },
  {
   "cell_type": "code",
   "execution_count": 408,
   "id": "c80a8fab-36bd-47bf-8311-417bb3f5611b",
   "metadata": {},
   "outputs": [
    {
     "name": "stdout",
     "output_type": "stream",
     "text": [
      "Batches train=4, val=1\n"
     ]
    }
   ],
   "source": [
    "batch_size = 256\n",
    "\n",
    "datagen = ImageDataGenerator(featurewise_center=True, featurewise_std_normalization=True)\n",
    "\n",
    "# calculate mean on training dataset\n",
    "datagen.fit(X_train)\n",
    "\n",
    "# prepare iterators to scale images\n",
    "train_iterator = datagen.flow(X_train, y_train[:, target], batch_size=batch_size)\n",
    "\n",
    "val_iterator = datagen.flow(X_val, y_val[:, target], batch_size=batch_size)\n",
    "\n",
    "print('Batches train=%d, val=%d' % (len(train_iterator), len(val_iterator)))"
   ]
  },
  {
   "cell_type": "code",
   "execution_count": 409,
   "id": "a99c245b-3d39-472f-a1dd-04575f4c16c4",
   "metadata": {},
   "outputs": [
    {
     "name": "stdout",
     "output_type": "stream",
     "text": [
      "Layer input_2 frozen.\n",
      "Layer block1_conv1 frozen.\n",
      "Layer block1_conv2 frozen.\n",
      "Layer block1_pool frozen.\n",
      "Layer block2_conv1 frozen.\n",
      "Layer block2_conv2 frozen.\n",
      "Layer block2_pool frozen.\n",
      "Layer block3_conv1 frozen.\n",
      "Layer block3_conv2 frozen.\n",
      "Layer block3_conv3 frozen.\n",
      "Layer block3_pool frozen.\n",
      "Layer block4_conv1 frozen.\n",
      "Layer block4_conv2 frozen.\n",
      "Layer block4_conv3 frozen.\n",
      "Layer block4_pool frozen.\n",
      "Model: \"vgg16\"\n",
      "_________________________________________________________________\n",
      "Layer (type)                 Output Shape              Param #   \n",
      "=================================================================\n",
      "input_2 (InputLayer)         [(None, 224, 273, 3)]     0         \n",
      "_________________________________________________________________\n",
      "block1_conv1 (Conv2D)        (None, 224, 273, 64)      1792      \n",
      "_________________________________________________________________\n",
      "block1_conv2 (Conv2D)        (None, 224, 273, 64)      36928     \n",
      "_________________________________________________________________\n",
      "block1_pool (MaxPooling2D)   (None, 112, 136, 64)      0         \n",
      "_________________________________________________________________\n",
      "block2_conv1 (Conv2D)        (None, 112, 136, 128)     73856     \n",
      "_________________________________________________________________\n",
      "block2_conv2 (Conv2D)        (None, 112, 136, 128)     147584    \n",
      "_________________________________________________________________\n",
      "block2_pool (MaxPooling2D)   (None, 56, 68, 128)       0         \n",
      "_________________________________________________________________\n",
      "block3_conv1 (Conv2D)        (None, 56, 68, 256)       295168    \n",
      "_________________________________________________________________\n",
      "block3_conv2 (Conv2D)        (None, 56, 68, 256)       590080    \n",
      "_________________________________________________________________\n",
      "block3_conv3 (Conv2D)        (None, 56, 68, 256)       590080    \n",
      "_________________________________________________________________\n",
      "block3_pool (MaxPooling2D)   (None, 28, 34, 256)       0         \n",
      "_________________________________________________________________\n",
      "block4_conv1 (Conv2D)        (None, 28, 34, 512)       1180160   \n",
      "_________________________________________________________________\n",
      "block4_conv2 (Conv2D)        (None, 28, 34, 512)       2359808   \n",
      "_________________________________________________________________\n",
      "block4_conv3 (Conv2D)        (None, 28, 34, 512)       2359808   \n",
      "_________________________________________________________________\n",
      "block4_pool (MaxPooling2D)   (None, 14, 17, 512)       0         \n",
      "_________________________________________________________________\n",
      "block5_conv1 (Conv2D)        (None, 14, 17, 512)       2359808   \n",
      "_________________________________________________________________\n",
      "block5_conv2 (Conv2D)        (None, 14, 17, 512)       2359808   \n",
      "_________________________________________________________________\n",
      "block5_conv3 (Conv2D)        (None, 14, 17, 512)       2359808   \n",
      "_________________________________________________________________\n",
      "block5_pool (MaxPooling2D)   (None, 7, 8, 512)         0         \n",
      "=================================================================\n",
      "Total params: 14,714,688\n",
      "Trainable params: 7,079,424\n",
      "Non-trainable params: 7,635,264\n",
      "_________________________________________________________________\n"
     ]
    }
   ],
   "source": [
    "keras.backend.clear_session()\n",
    "\n",
    "from tensorflow.keras.applications import VGG16\n",
    "\n",
    "# This converts the 1-channel X-rays to 3-channel images a required by mobilenet_v2\n",
    "input_tensor = Input(shape=(X_train.shape[1:]))\n",
    "x = Conv2D(3,(3,3),padding='same')(input_tensor)\n",
    "\n",
    "base_model = VGG16(weights='imagenet', \n",
    "                   include_top=False, \n",
    "#                    pooling='avg',\n",
    "                   input_shape=(X_train.shape[1], X_train.shape[2], 3)) \n",
    " \n",
    "for layer in base_model.layers:\n",
    "  if 'block5_' not in layer.name:\n",
    "      layer.trainable = False\n",
    "      print('Layer ' + layer.name + ' frozen.')\n",
    "base_model.summary()"
   ]
  },
  {
   "cell_type": "code",
   "execution_count": 410,
   "id": "011e0ba5-e351-4aa9-808b-10489172ea0e",
   "metadata": {},
   "outputs": [],
   "source": [
    "dropout = 0.3\n",
    "l1_reg = 0.00001\n",
    "l2_reg = 0.0001\n",
    "\n",
    "out = base_model(x)\n",
    "new_base_model = Model(inputs=input_tensor, outputs=out)\n",
    "    \n",
    "# Establish new fully connected block\n",
    "x = new_base_model.output\n",
    "x = Flatten()(x) # flatten from convolution tensor output \n",
    "# x = Dense(units=128, activation='relu')(x)\n",
    "x = Dense(units=128, \n",
    "          activation='relu', \n",
    "          kernel_regularizer=regularizers.l1_l2(l1=l1_reg, l2=l2_reg),\n",
    "          bias_regularizer=regularizers.l1_l2(l1=l1_reg, l2=l2_reg))(x)\n",
    "x = Dropout(dropout, seed=2)(x) # adding Dropout for regularization between the Dense layers\n",
    "x = Dense(units=64,\n",
    "          activation='relu', \n",
    "          kernel_regularizer=regularizers.l1_l2(l1=l1_reg, l2=l2_reg),\n",
    "          bias_regularizer=regularizers.l1_l2(l1=l1_reg, l2=l2_reg))(x)\n",
    "x = Dropout(dropout, seed=1)(x) # adding Dropout for regularization between the Dense layers\n",
    "predictions = Dense(units=1, activation='sigmoid')(x) # 1 target labels\n",
    "\n",
    "# define formal model object to train and compile it as usual\n",
    "model = Model(inputs=new_base_model.input, outputs=predictions)"
   ]
  },
  {
   "cell_type": "code",
   "execution_count": 411,
   "id": "fcd539c8-e8f6-4b82-8dc2-83e9952a2caf",
   "metadata": {},
   "outputs": [
    {
     "name": "stdout",
     "output_type": "stream",
     "text": [
      "Model: \"model_1\"\n",
      "_________________________________________________________________\n",
      "Layer (type)                 Output Shape              Param #   \n",
      "=================================================================\n",
      "input_1 (InputLayer)         [(None, 224, 273, 1)]     0         \n",
      "_________________________________________________________________\n",
      "conv2d (Conv2D)              (None, 224, 273, 3)       30        \n",
      "_________________________________________________________________\n",
      "vgg16 (Functional)           (None, 7, 8, 512)         14714688  \n",
      "_________________________________________________________________\n",
      "flatten (Flatten)            (None, 28672)             0         \n",
      "_________________________________________________________________\n",
      "dense (Dense)                (None, 128)               3670144   \n",
      "_________________________________________________________________\n",
      "dropout (Dropout)            (None, 128)               0         \n",
      "_________________________________________________________________\n",
      "dense_1 (Dense)              (None, 64)                8256      \n",
      "_________________________________________________________________\n",
      "dropout_1 (Dropout)          (None, 64)                0         \n",
      "_________________________________________________________________\n",
      "dense_2 (Dense)              (None, 1)                 65        \n",
      "=================================================================\n",
      "Total params: 18,393,183\n",
      "Trainable params: 10,757,919\n",
      "Non-trainable params: 7,635,264\n",
      "_________________________________________________________________\n"
     ]
    }
   ],
   "source": [
    "model.summary()"
   ]
  },
  {
   "cell_type": "code",
   "execution_count": 412,
   "id": "b749812a-97f1-4e4b-9280-da1bf959c767",
   "metadata": {},
   "outputs": [],
   "source": [
    "initial_learning_rate = 0.00025\n",
    "adam_opt = keras.optimizers.Adam(learning_rate=initial_learning_rate, \n",
    "                                 beta_1=0.9, \n",
    "                                 beta_2=0.999, \n",
    "                                 epsilon=1e-07, \n",
    "                                 amsgrad=False)\n",
    "\n",
    "model.compile(\n",
    "    loss='binary_crossentropy',\n",
    "    optimizer=adam_opt\n",
    ")"
   ]
  },
  {
   "cell_type": "code",
   "execution_count": 413,
   "id": "6f909466-363d-4c39-b23f-a1b0d80e0365",
   "metadata": {},
   "outputs": [
    {
     "data": {
      "text/plain": [
       "0.00025"
      ]
     },
     "execution_count": 413,
     "metadata": {},
     "output_type": "execute_result"
    }
   ],
   "source": [
    "model.optimizer.get_config()['learning_rate']"
   ]
  },
  {
   "cell_type": "code",
   "execution_count": 414,
   "id": "37c7594d-006f-4854-be81-9347f96d98e4",
   "metadata": {
    "tags": []
   },
   "outputs": [
    {
     "name": "stdout",
     "output_type": "stream",
     "text": [
      "Epoch 1/100\n",
      "Learning Rate: 0.00025\n",
      "4/4 [==============================] - 424s 112s/step - loss: 1.0712 - val_loss: 0.9954\n",
      "\n",
      "val-roc-auc: 0.4904                                                                                                    \n",
      "\n",
      "Epoch 2/100\n",
      "Learning Rate: 0.0002500000118743628\n",
      "4/4 [==============================] - 426s 114s/step - loss: 0.9872 - val_loss: 0.9882\n",
      "\n",
      "val-roc-auc: 0.6118                                                                                                    \n",
      "\n",
      "Epoch 3/100\n",
      "Learning Rate: 0.0002500000118743628\n",
      "4/4 [==============================] - 424s 107s/step - loss: 0.9579 - val_loss: 0.9148\n",
      "\n",
      "val-roc-auc: 0.5834                                                                                                    \n",
      "\n",
      "Epoch 4/100\n",
      "Learning Rate: 0.0002500000118743628\n",
      "4/4 [==============================] - 420s 107s/step - loss: 0.9416 - val_loss: 0.9274\n",
      "\n",
      "val-roc-auc: 0.6209                                                                                                    \n",
      "\n",
      "Epoch 5/100\n",
      "Learning Rate: 0.0002500000118743628\n",
      "4/4 [==============================] - 418s 112s/step - loss: 0.9138 - val_loss: 0.8840\n",
      "\n",
      "val-roc-auc: 0.6391                                                                                                    \n",
      "\n",
      "Epoch 6/100\n",
      "Learning Rate: 0.0002500000118743628\n",
      "4/4 [==============================] - 419s 112s/step - loss: 0.8813 - val_loss: 0.8323\n",
      "\n",
      "val-roc-auc: 0.6434                                                                                                    \n",
      "\n",
      "Epoch 7/100\n",
      "Learning Rate: 0.0002500000118743628\n",
      "4/4 [==============================] - 419s 106s/step - loss: 0.8850 - val_loss: 0.8562\n",
      "\n",
      "val-roc-auc: 0.6458                                                                                                    \n",
      "\n",
      "Epoch 8/100\n",
      "Learning Rate: 0.0002500000118743628\n",
      "4/4 [==============================] - 416s 106s/step - loss: 0.8453 - val_loss: 0.8497\n",
      "\n",
      "val-roc-auc: 0.6657                                                                                                    \n",
      "\n",
      "Epoch 9/100\n",
      "Learning Rate: 0.0002500000118743628\n",
      "4/4 [==============================] - 415s 106s/step - loss: 0.8378 - val_loss: 0.8087\n",
      "\n",
      "val-roc-auc: 0.6785                                                                                                    \n",
      "\n",
      "Epoch 10/100\n",
      "Learning Rate: 0.0002500000118743628\n",
      "4/4 [==============================] - 415s 106s/step - loss: 0.8028 - val_loss: 0.8355\n",
      "\n",
      "val-roc-auc: 0.6818                                                                                                    \n",
      "\n",
      "Epoch 11/100\n",
      "Learning Rate: 0.0002500000118743628\n",
      "4/4 [==============================] - 415s 106s/step - loss: 0.7869 - val_loss: 0.7684\n",
      "\n",
      "val-roc-auc: 0.6809                                                                                                    \n",
      "\n",
      "Epoch 12/100\n",
      "Learning Rate: 0.0002500000118743628\n",
      "4/4 [==============================] - 418s 105s/step - loss: 0.7702 - val_loss: 0.8319\n",
      "\n",
      "val-roc-auc: 0.6644                                                                                                    \n",
      "\n",
      "Epoch 13/100\n",
      "Learning Rate: 0.0001250000059371814\n",
      "4/4 [==============================] - 415s 105s/step - loss: 0.7724 - val_loss: 0.7278\n",
      "\n",
      "val-roc-auc: 0.6911                                                                                                    \n",
      "\n",
      "Epoch 14/100\n",
      "Learning Rate: 0.0001250000059371814\n",
      "4/4 [==============================] - 420s 107s/step - loss: 0.7457 - val_loss: 0.7995\n",
      "\n",
      "val-roc-auc: 0.6743                                                                                                    \n",
      "\n",
      "Epoch 15/100\n",
      "Learning Rate: 0.0001250000059371814\n",
      "4/4 [==============================] - 420s 107s/step - loss: 0.7339 - val_loss: 0.7352\n",
      "\n",
      "val-roc-auc: 0.6862                                                                                                    \n",
      "\n",
      "Epoch 16/100\n",
      "Learning Rate: 6.25000029685907e-05\n",
      "4/4 [==============================] - 420s 107s/step - loss: 0.7161 - val_loss: 0.7659\n",
      "\n",
      "val-roc-auc: 0.6841                                                                                                    \n",
      "\n",
      "Epoch 17/100\n",
      "Learning Rate: 6.25000029685907e-05\n",
      "4/4 [==============================] - 418s 112s/step - loss: 0.7186 - val_loss: 0.7542\n",
      "\n",
      "val-roc-auc: 0.6851                                                                                                    \n",
      "\n",
      "Epoch 18/100\n",
      "Learning Rate: 3.1200001103570685e-05\n",
      "4/4 [==============================] - 417s 106s/step - loss: 0.7082 - val_loss: 0.7372\n",
      "\n",
      "val-roc-auc: 0.6856                                                                                                    \n",
      "\n",
      "Epoch 19/100\n",
      "Learning Rate: 3.1200001103570685e-05\n",
      "4/4 [==============================] - 426s 109s/step - loss: 0.6983 - val_loss: 0.7394\n",
      "\n",
      "val-roc-auc: 0.686                                                                                                    \n",
      "\n",
      "Epoch 20/100\n",
      "Learning Rate: 1.5600000551785342e-05\n",
      "4/4 [==============================] - 425s 107s/step - loss: 0.7010 - val_loss: 0.7456\n",
      "\n",
      "val-roc-auc: 0.6861                                                                                                    \n",
      "\n",
      "Epoch 21/100\n",
      "Learning Rate: 1.5600000551785342e-05\n",
      "4/4 [==============================] - 415s 105s/step - loss: 0.6889 - val_loss: 0.7450\n",
      "\n",
      "val-roc-auc: 0.6867                                                                                                    \n",
      "\n",
      "Epoch 22/100\n",
      "Learning Rate: 7.800000275892671e-06\n",
      "4/4 [==============================] - 416s 106s/step - loss: 0.6860 - val_loss: 0.7420\n",
      "\n",
      "val-roc-auc: 0.6865                                                                                                    \n",
      "\n",
      "Epoch 23/100\n",
      "Learning Rate: 7.800000275892671e-06\n",
      "4/4 [==============================] - 415s 106s/step - loss: 0.6870 - val_loss: 0.7434\n",
      "\n",
      "val-roc-auc: 0.6868                                                                                                    \n",
      "\n"
     ]
    }
   ],
   "source": [
    "# Exponential decay learning rate scheduler comes from: \n",
    "#      https://towardsdatascience.com/learning-rate-schedule-in-practice-an-example-with-keras-and-tensorflow-2-0-2f48b2888a0c\n",
    "def lr_exp_decay(epoch, lr):\n",
    "    print('Previous lr: {}'.format(lr))\n",
    "    k = 0\n",
    "    return lr * np.exp(-k*epoch)\n",
    "\n",
    "# This AUC will be calculated at the end of each epoch on the validation set and be used for early stopping\n",
    "auc = ROAUCMetrics(val_data=(X_val, y_val[:, target]))\n",
    "\n",
    "eval_callback = LambdaCallback(on_epoch_end=lambda epoch, logs: logs.update({'auc': auc.val_aucs[-1]})) \n",
    "\n",
    "# reduce_lr = ReduceLROnPlateau(monitor='val_loss', factor=0.5, patience=5, mode='min', min_delta=0.0001, min_lr=5e-6)\n",
    "reduce_lr = ReduceLROnPlateau(monitor='auc', factor=0.5, patience=2, mode='max', min_delta=0.002)\n",
    "\n",
    "lr_callback = LambdaCallback(on_epoch_begin=lambda epoch, logs: print('Learning Rate: {}'.format(round(model.optimizer.get_config()['learning_rate'], 7))))\n",
    "\n",
    "# scheduler = LearningRateScheduler(lr_exp_decay, verbose=1)\n",
    "\n",
    "early_stopping = EarlyStopping(monitor='auc', mode='max', patience=10, restore_best_weights=True)\n",
    "\n",
    "history = model.fit(train_iterator, steps_per_epoch=len(train_iterator), epochs=100, verbose=1, validation_data=val_iterator, \n",
    "                 class_weight=class_weights, \n",
    "                 callbacks=[\n",
    "                     auc,\n",
    "                     eval_callback,\n",
    "                     reduce_lr,\n",
    "                     lr_callback,\n",
    "                     early_stopping,\n",
    "#                      scheduler,\n",
    "                     keras.callbacks.ModelCheckpoint(\n",
    "                         'models_baby2/model_10.{epoch:02d}-{auc:.4f}.hdf5',\n",
    "                         save_best_only=False)\n",
    "                 ])"
   ]
  },
  {
   "cell_type": "code",
   "execution_count": 415,
   "id": "898381ed-f9e2-41a6-96c1-c9b74916f13a",
   "metadata": {},
   "outputs": [
    {
     "data": {
      "image/png": "[encoded data removed]",
      "text/plain": [
       "<Figure size 432x288 with 1 Axes>"
      ]
     },
     "metadata": {},
     "output_type": "display_data"
    }
   ],
   "source": [
    "plt.plot(history.history['loss'])\n",
    "plt.plot(history.history['val_loss'])\n",
    "\n",
    "plt.title('Loss vs. Training Epoch')\n",
    "plt.xlabel('Epoch')\n",
    "plt.ylabel('Loss')\n",
    "plt.legend(['Train','Validation']);"
   ]
  },
  {
   "cell_type": "code",
   "execution_count": 416,
   "id": "92862701-23b4-4a90-add1-ae0fa02573ad",
   "metadata": {},
   "outputs": [],
   "source": [
    "## BEST MODEL is Epoch 13: 'models_baby2/model_10.13-0.6911.hdf5'\n",
    "\n",
    "y_pred_val = model.predict(X_val)\n",
    "y_pred_train = model.predict(X_train)"
   ]
  },
  {
   "cell_type": "code",
   "execution_count": 417,
   "id": "5692989f-4ab2-4b8c-bbf9-66adb13e244d",
   "metadata": {},
   "outputs": [
    {
     "data": {
      "text/plain": [
       "0"
      ]
     },
     "execution_count": 417,
     "metadata": {},
     "output_type": "execute_result"
    }
   ],
   "source": [
    "target"
   ]
  },
  {
   "cell_type": "markdown",
   "id": "10750a0f-d453-4ac3-87b2-37ad6e916282",
   "metadata": {},
   "source": [
    "# ************ THIS ONE! ************"
   ]
  },
  {
   "cell_type": "code",
   "execution_count": 421,
   "id": "c355173f-c3ba-4c15-a529-c9f4012c1dee",
   "metadata": {},
   "outputs": [
    {
     "name": "stdout",
     "output_type": "stream",
     "text": [
      "PRIMARY TARGET (0):\n",
      "Validation AUC: 0.6911\n",
      "Training AUC: 0.7066\n"
     ]
    }
   ],
   "source": [
    "# dropout = 0.3\n",
    "# l1_reg = 0.00001\n",
    "# l2_reg = 0.0001\n",
    "\n",
    "print('PRIMARY TARGET ({}):'.format(target))\n",
    "print('Validation AUC: {}'.format(round(roc_auc_score(y_val[:,target], y_pred_val), 4)))\n",
    "print('Training AUC: {}'.format(round(roc_auc_score(y_train[:,target], y_pred_train), 4)))"
   ]
  },
  {
   "cell_type": "code",
   "execution_count": 422,
   "id": "0093201b-ffd1-4b29-927f-446ce6d3e7f6",
   "metadata": {},
   "outputs": [
    {
     "name": "stdout",
     "output_type": "stream",
     "text": [
      "SECONDARY TARGET (1):\n",
      "Validation AUC: 0.5596\n",
      "Training AUC: 0.5619\n"
     ]
    }
   ],
   "source": [
    "print('SECONDARY TARGET ({}):'.format(1))\n",
    "print('Validation AUC: {}'.format(round(roc_auc_score(y_val[:,1], y_pred_val), 4)))\n",
    "print('Training AUC: {}'.format(round(roc_auc_score(y_train[:,1], y_pred_train), 4)))"
   ]
  },
  {
   "cell_type": "code",
   "execution_count": 423,
   "id": "8a61f215-a25e-45bf-a618-19eb3793e14d",
   "metadata": {},
   "outputs": [
    {
     "name": "stdout",
     "output_type": "stream",
     "text": [
      "SECONDARY TARGET (2):\n",
      "Validation AUC: 0.6281\n",
      "Training AUC: 0.6387\n"
     ]
    }
   ],
   "source": [
    "print('SECONDARY TARGET ({}):'.format(2))\n",
    "print('Validation AUC: {}'.format(round(roc_auc_score(y_val[:,2], y_pred_val), 4)))\n",
    "print('Training AUC: {}'.format(round(roc_auc_score(y_train[:,2], y_pred_train), 4)))"
   ]
  },
  {
   "cell_type": "code",
   "execution_count": 424,
   "id": "afc38f25-476f-4e2a-9ee1-295672e79a71",
   "metadata": {},
   "outputs": [
    {
     "name": "stdout",
     "output_type": "stream",
     "text": [
      "SECONDARY TARGET (3):\n",
      "Validation AUC: 0.6885\n",
      "Training AUC: 0.701\n"
     ]
    }
   ],
   "source": [
    "print('SECONDARY TARGET ({}):'.format(3))\n",
    "print('Validation AUC: {}'.format(round(roc_auc_score(y_val[:,3], y_pred_val), 4)))\n",
    "print('Training AUC: {}'.format(round(roc_auc_score(y_train[:,3], y_pred_train), 4)))"
   ]
  },
  {
   "cell_type": "markdown",
   "id": "4b134961-d888-4dad-bf2d-c616bf29cf7d",
   "metadata": {},
   "source": [
    "# 11) VGG16 + 3 Dense Layers (128, 64, 1, dropout) w/ trainable layer 5 (third target)"
   ]
  },
  {
   "cell_type": "code",
   "execution_count": 535,
   "id": "3369ab48-d431-45b6-80a1-6806c199a38c",
   "metadata": {},
   "outputs": [],
   "source": [
    "## Targets: 'Atelectasis'=0, 'Cardiomegaly'=1, 'Edema'=2, 'Pleaural Effusion'=3\n",
    "\n",
    "target = 2"
   ]
  },
  {
   "cell_type": "markdown",
   "id": "9310c956-51fd-43e7-be3a-3c9ee4aa7686",
   "metadata": {},
   "source": [
    "Class Weighting (below) based on: https://www.tensorflow.org/tutorials/structured_data/imbalanced_data"
   ]
  },
  {
   "cell_type": "code",
   "execution_count": 536,
   "id": "f2cfa320-308e-4c11-bea9-1c63991d2f6c",
   "metadata": {},
   "outputs": [
    {
     "name": "stdout",
     "output_type": "stream",
     "text": [
      "Weight for class 0: 0.71\n",
      "Weight for class 1: 1.68\n"
     ]
    }
   ],
   "source": [
    "# Scaling by total/2 helps keep the loss to a similar magnitude.\n",
    "#    The sum of the weights of all examples stays the same.\n",
    "\n",
    "# weight_for_1 = (1 / pos) * (total / 2.0)\n",
    "weight_for_1 = (1 / np.sum(y_train[:, target])) * (y_train.shape[0]/2.0)\n",
    "\n",
    "# weight_for_0 = (1 / neg) * (total / 2.0)\n",
    "weight_for_0 = (1 / (y_train.shape[0] - np.sum(y_train[:, target]))) * (y_train.shape[0]/2.0)\n",
    "\n",
    "class_weights = {0: weight_for_0, 1: weight_for_1}\n",
    "\n",
    "print('Weight for class 0: {:.2f}'.format(weight_for_0))\n",
    "print('Weight for class 1: {:.2f}'.format(weight_for_1))"
   ]
  },
  {
   "cell_type": "code",
   "execution_count": 537,
   "id": "aea94fd6-595d-47ac-9686-b2683360f5a0",
   "metadata": {},
   "outputs": [],
   "source": [
    "## FOR REPEATABILITY (must re-run this before EVERY model training run):\n",
    "\n",
    "# 1. Set the `PYTHONHASHSEED` environment variable at a fixed value\n",
    "import os\n",
    "os.environ['PYTHONHASHSEED']=str(0)\n",
    "\n",
    "# 2. Set the `python` built-in pseudo-random generator at a fixed value\n",
    "import random\n",
    "random.seed(1)\n",
    "\n",
    "# 3. Set the `numpy` pseudo-random generator at a fixed value\n",
    "import numpy as np\n",
    "np.random.seed(2)\n",
    "\n",
    "# 4. Set the `tensorflow` pseudo-random generator at a fixed value\n",
    "import tensorflow as tf\n",
    "tf.random.set_seed(2)"
   ]
  },
  {
   "cell_type": "code",
   "execution_count": 538,
   "id": "54eda6f2-cfaa-49d2-8a1b-5c877e9930e4",
   "metadata": {},
   "outputs": [
    {
     "name": "stdout",
     "output_type": "stream",
     "text": [
      "Batches train=4, val=1\n"
     ]
    }
   ],
   "source": [
    "batch_size = 256\n",
    "\n",
    "datagen = ImageDataGenerator(featurewise_center=True, featurewise_std_normalization=True)\n",
    "\n",
    "# calculate mean on training dataset\n",
    "datagen.fit(X_train)\n",
    "\n",
    "# prepare iterators to scale images\n",
    "train_iterator = datagen.flow(X_train, y_train[:, target], batch_size=batch_size)\n",
    "\n",
    "val_iterator = datagen.flow(X_val, y_val[:, target], batch_size=batch_size)\n",
    "\n",
    "print('Batches train=%d, val=%d' % (len(train_iterator), len(val_iterator)))"
   ]
  },
  {
   "cell_type": "code",
   "execution_count": 539,
   "id": "b47ff10f-29bf-4065-b2c4-6d091ad554da",
   "metadata": {},
   "outputs": [
    {
     "name": "stdout",
     "output_type": "stream",
     "text": [
      "Layer input_2 frozen.\n",
      "Layer block1_conv1 frozen.\n",
      "Layer block1_conv2 frozen.\n",
      "Layer block1_pool frozen.\n",
      "Layer block2_conv1 frozen.\n",
      "Layer block2_conv2 frozen.\n",
      "Layer block2_pool frozen.\n",
      "Layer block3_conv1 frozen.\n",
      "Layer block3_conv2 frozen.\n",
      "Layer block3_conv3 frozen.\n",
      "Layer block3_pool frozen.\n",
      "Layer block4_conv1 frozen.\n",
      "Layer block4_conv2 frozen.\n",
      "Layer block4_conv3 frozen.\n",
      "Layer block4_pool frozen.\n",
      "Model: \"vgg16\"\n",
      "_________________________________________________________________\n",
      "Layer (type)                 Output Shape              Param #   \n",
      "=================================================================\n",
      "input_2 (InputLayer)         [(None, 224, 273, 3)]     0         \n",
      "_________________________________________________________________\n",
      "block1_conv1 (Conv2D)        (None, 224, 273, 64)      1792      \n",
      "_________________________________________________________________\n",
      "block1_conv2 (Conv2D)        (None, 224, 273, 64)      36928     \n",
      "_________________________________________________________________\n",
      "block1_pool (MaxPooling2D)   (None, 112, 136, 64)      0         \n",
      "_________________________________________________________________\n",
      "block2_conv1 (Conv2D)        (None, 112, 136, 128)     73856     \n",
      "_________________________________________________________________\n",
      "block2_conv2 (Conv2D)        (None, 112, 136, 128)     147584    \n",
      "_________________________________________________________________\n",
      "block2_pool (MaxPooling2D)   (None, 56, 68, 128)       0         \n",
      "_________________________________________________________________\n",
      "block3_conv1 (Conv2D)        (None, 56, 68, 256)       295168    \n",
      "_________________________________________________________________\n",
      "block3_conv2 (Conv2D)        (None, 56, 68, 256)       590080    \n",
      "_________________________________________________________________\n",
      "block3_conv3 (Conv2D)        (None, 56, 68, 256)       590080    \n",
      "_________________________________________________________________\n",
      "block3_pool (MaxPooling2D)   (None, 28, 34, 256)       0         \n",
      "_________________________________________________________________\n",
      "block4_conv1 (Conv2D)        (None, 28, 34, 512)       1180160   \n",
      "_________________________________________________________________\n",
      "block4_conv2 (Conv2D)        (None, 28, 34, 512)       2359808   \n",
      "_________________________________________________________________\n",
      "block4_conv3 (Conv2D)        (None, 28, 34, 512)       2359808   \n",
      "_________________________________________________________________\n",
      "block4_pool (MaxPooling2D)   (None, 14, 17, 512)       0         \n",
      "_________________________________________________________________\n",
      "block5_conv1 (Conv2D)        (None, 14, 17, 512)       2359808   \n",
      "_________________________________________________________________\n",
      "block5_conv2 (Conv2D)        (None, 14, 17, 512)       2359808   \n",
      "_________________________________________________________________\n",
      "block5_conv3 (Conv2D)        (None, 14, 17, 512)       2359808   \n",
      "_________________________________________________________________\n",
      "block5_pool (MaxPooling2D)   (None, 7, 8, 512)         0         \n",
      "=================================================================\n",
      "Total params: 14,714,688\n",
      "Trainable params: 7,079,424\n",
      "Non-trainable params: 7,635,264\n",
      "_________________________________________________________________\n"
     ]
    }
   ],
   "source": [
    "keras.backend.clear_session()\n",
    "\n",
    "from tensorflow.keras.applications import VGG16\n",
    "\n",
    "# This converts the 1-channel X-rays to 3-channel images a required by mobilenet_v2\n",
    "input_tensor = Input(shape=(X_train.shape[1:]))\n",
    "x = Conv2D(3,(3,3),padding='same')(input_tensor)\n",
    "\n",
    "base_model = VGG16(weights='imagenet', \n",
    "                   include_top=False, \n",
    "#                    pooling='avg',\n",
    "                   input_shape=(X_train.shape[1], X_train.shape[2], 3)) \n",
    " \n",
    "for layer in base_model.layers:\n",
    "  if ('block5_' not in layer.name):\n",
    "      layer.trainable = False\n",
    "      print('Layer ' + layer.name + ' frozen.')\n",
    "base_model.summary()"
   ]
  },
  {
   "cell_type": "code",
   "execution_count": 540,
   "id": "9b957d56-85fc-458e-b272-7314fa4aec47",
   "metadata": {},
   "outputs": [],
   "source": [
    "dropout = 0.35\n",
    "l1_reg = 0.00025\n",
    "l2_reg = 0.0025\n",
    "\n",
    "out = base_model(x)\n",
    "new_base_model = Model(inputs=input_tensor, outputs=out)\n",
    "    \n",
    "# Establish new fully connected block\n",
    "x = new_base_model.output\n",
    "x = Flatten()(x) # flatten from convolution tensor output \n",
    "# x = Dense(units=128, activation='relu')(x)\n",
    "x = Dense(units=128, \n",
    "          activation='relu', \n",
    "          kernel_regularizer=regularizers.l1_l2(l1=l1_reg, l2=l2_reg),\n",
    "          bias_regularizer=regularizers.l1_l2(l1=l1_reg, l2=l2_reg))(x)\n",
    "x = Dropout(dropout, seed=2)(x) # adding Dropout for regularization between the Dense layers\n",
    "x = Dense(units=64,\n",
    "          activation='relu', \n",
    "          kernel_regularizer=regularizers.l1_l2(l1=l1_reg, l2=l2_reg),\n",
    "          bias_regularizer=regularizers.l1_l2(l1=l1_reg, l2=l2_reg))(x)\n",
    "x = Dropout(dropout, seed=1)(x) # adding Dropout for regularization between the Dense layers\n",
    "predictions = Dense(units=1, activation='sigmoid')(x) # 1 target labels\n",
    "\n",
    "# define formal model object to train and compile it as usual\n",
    "model = Model(inputs=new_base_model.input, outputs=predictions)"
   ]
  },
  {
   "cell_type": "code",
   "execution_count": 541,
   "id": "72216f9f-9c85-47c5-83cd-5f6259870cf6",
   "metadata": {},
   "outputs": [
    {
     "name": "stdout",
     "output_type": "stream",
     "text": [
      "Model: \"model_1\"\n",
      "_________________________________________________________________\n",
      "Layer (type)                 Output Shape              Param #   \n",
      "=================================================================\n",
      "input_1 (InputLayer)         [(None, 224, 273, 1)]     0         \n",
      "_________________________________________________________________\n",
      "conv2d (Conv2D)              (None, 224, 273, 3)       30        \n",
      "_________________________________________________________________\n",
      "vgg16 (Functional)           (None, 7, 8, 512)         14714688  \n",
      "_________________________________________________________________\n",
      "flatten (Flatten)            (None, 28672)             0         \n",
      "_________________________________________________________________\n",
      "dense (Dense)                (None, 128)               3670144   \n",
      "_________________________________________________________________\n",
      "dropout (Dropout)            (None, 128)               0         \n",
      "_________________________________________________________________\n",
      "dense_1 (Dense)              (None, 64)                8256      \n",
      "_________________________________________________________________\n",
      "dropout_1 (Dropout)          (None, 64)                0         \n",
      "_________________________________________________________________\n",
      "dense_2 (Dense)              (None, 1)                 65        \n",
      "=================================================================\n",
      "Total params: 18,393,183\n",
      "Trainable params: 10,757,919\n",
      "Non-trainable params: 7,635,264\n",
      "_________________________________________________________________\n"
     ]
    }
   ],
   "source": [
    "model.summary()"
   ]
  },
  {
   "cell_type": "code",
   "execution_count": 542,
   "id": "28b8ed98-d597-4757-aa9e-f1ce757df11c",
   "metadata": {},
   "outputs": [],
   "source": [
    "initial_learning_rate = 0.00025\n",
    "adam_opt = keras.optimizers.Adam(learning_rate=initial_learning_rate, \n",
    "                                 beta_1=0.9, \n",
    "                                 beta_2=0.999, \n",
    "                                 epsilon=1e-07, \n",
    "                                 amsgrad=False)\n",
    "\n",
    "model.compile(\n",
    "    loss='binary_crossentropy',\n",
    "    optimizer=adam_opt\n",
    ")"
   ]
  },
  {
   "cell_type": "code",
   "execution_count": 543,
   "id": "f093c82e-3191-4f22-b73e-1d35446ed028",
   "metadata": {},
   "outputs": [
    {
     "data": {
      "text/plain": [
       "0.00025"
      ]
     },
     "execution_count": 543,
     "metadata": {},
     "output_type": "execute_result"
    }
   ],
   "source": [
    "model.optimizer.get_config()['learning_rate']"
   ]
  },
  {
   "cell_type": "code",
   "execution_count": 544,
   "id": "89c87c3c-6099-49aa-895b-a9942106e274",
   "metadata": {},
   "outputs": [
    {
     "name": "stdout",
     "output_type": "stream",
     "text": [
      "Epoch 1/100\n",
      "Learning Rate: 0.00025\n",
      "4/4 [==============================] - 435s 116s/step - loss: 8.0826 - val_loss: 7.5679\n",
      "\n",
      "val-roc-auc: 0.5573                                                                                                    \n",
      "\n",
      "Epoch 2/100\n",
      "Learning Rate: 0.0002500000118743628\n",
      "4/4 [==============================] - 434s 116s/step - loss: 7.2886 - val_loss: 6.8010\n",
      "\n",
      "val-roc-auc: 0.5757                                                                                                    \n",
      "\n",
      "Epoch 3/100\n",
      "Learning Rate: 0.0002500000118743628\n",
      "4/4 [==============================] - 420s 106s/step - loss: 6.5214 - val_loss: 6.0155\n",
      "\n",
      "val-roc-auc: 0.6456                                                                                                    \n",
      "\n",
      "Epoch 4/100\n",
      "Learning Rate: 0.0002500000118743628\n",
      "4/4 [==============================] - 424s 107s/step - loss: 5.7786 - val_loss: 5.5205\n",
      "\n",
      "val-roc-auc: 0.7043                                                                                                    \n",
      "\n",
      "Epoch 5/100\n",
      "Learning Rate: 0.0002500000118743628\n",
      "4/4 [==============================] - 419s 112s/step - loss: 5.1673 - val_loss: 4.7824\n",
      "\n",
      "val-roc-auc: 0.6736                                                                                                    \n",
      "\n",
      "Epoch 6/100\n",
      "Learning Rate: 0.0002500000118743628\n",
      "4/4 [==============================] - 422s 113s/step - loss: 4.5353 - val_loss: 4.2248\n",
      "\n",
      "val-roc-auc: 0.6574                                                                                                    \n",
      "\n",
      "Epoch 7/100\n",
      "Learning Rate: 0.0001250000059371814\n",
      "4/4 [==============================] - 428s 109s/step - loss: 4.0851 - val_loss: 3.9123\n",
      "\n",
      "val-roc-auc: 0.6643                                                                                                    \n",
      "\n",
      "Epoch 8/100\n",
      "Learning Rate: 0.0001250000059371814\n",
      "4/4 [==============================] - 430s 108s/step - loss: 3.7983 - val_loss: 3.6877\n",
      "\n",
      "val-roc-auc: 0.6824                                                                                                    \n",
      "\n",
      "Epoch 9/100\n",
      "Learning Rate: 6.25000029685907e-05\n",
      "4/4 [==============================] - 424s 108s/step - loss: 3.5457 - val_loss: 3.5130\n",
      "\n",
      "val-roc-auc: 0.6802                                                                                                    \n",
      "\n",
      "Epoch 10/100\n",
      "Learning Rate: 6.25000029685907e-05\n",
      "4/4 [==============================] - 416s 105s/step - loss: 3.4040 - val_loss: 3.3858\n",
      "\n",
      "val-roc-auc: 0.6812                                                                                                    \n",
      "\n",
      "Epoch 11/100\n",
      "Learning Rate: 3.1200001103570685e-05\n",
      "4/4 [==============================] - 415s 105s/step - loss: 3.2711 - val_loss: 3.3169\n",
      "\n",
      "val-roc-auc: 0.6786                                                                                                    \n",
      "\n",
      "Epoch 12/100\n",
      "Learning Rate: 3.1200001103570685e-05\n",
      "4/4 [==============================] - 418s 106s/step - loss: 3.1923 - val_loss: 3.2696\n",
      "\n",
      "val-roc-auc: 0.6786                                                                                                    \n",
      "\n",
      "Epoch 13/100\n",
      "Learning Rate: 1.5600000551785342e-05\n",
      "4/4 [==============================] - 415s 106s/step - loss: 3.1327 - val_loss: 3.2316\n",
      "\n",
      "val-roc-auc: 0.6754                                                                                                    \n",
      "\n",
      "Epoch 14/100\n",
      "Learning Rate: 1.5600000551785342e-05\n",
      "4/4 [==============================] - 415s 106s/step - loss: 3.0912 - val_loss: 3.2081\n",
      "\n",
      "val-roc-auc: 0.674                                                                                                    \n",
      "\n"
     ]
    }
   ],
   "source": [
    "# Exponential decay learning rate scheduler comes from: \n",
    "#      https://towardsdatascience.com/learning-rate-schedule-in-practice-an-example-with-keras-and-tensorflow-2-0-2f48b2888a0c\n",
    "def lr_exp_decay(epoch, lr):\n",
    "    print('Previous lr: {}'.format(lr))\n",
    "    k = 0\n",
    "    return lr * np.exp(-k*epoch)\n",
    "\n",
    "# This AUC will be calculated at the end of each epoch on the validation set and be used for early stopping\n",
    "auc = ROAUCMetrics(val_data=(X_val, y_val[:, target]))\n",
    "\n",
    "eval_callback = LambdaCallback(on_epoch_end=lambda epoch, logs: logs.update({'auc': auc.val_aucs[-1]})) \n",
    "\n",
    "# reduce_lr = ReduceLROnPlateau(monitor='val_loss', factor=0.5, patience=5, mode='min', min_delta=0.0001, min_lr=5e-6)\n",
    "reduce_lr = ReduceLROnPlateau(monitor='auc', factor=0.5, patience=2, mode='max', min_delta=0.002)\n",
    "\n",
    "lr_callback = LambdaCallback(on_epoch_begin=lambda epoch, logs: print('Learning Rate: {}'.format(round(model.optimizer.get_config()['learning_rate'], 7))))\n",
    "\n",
    "# scheduler = LearningRateScheduler(lr_exp_decay, verbose=1)\n",
    "\n",
    "early_stopping = EarlyStopping(monitor='auc', mode='max', patience=10, restore_best_weights=True)\n",
    "\n",
    "history = model.fit(train_iterator, steps_per_epoch=len(train_iterator), epochs=100, verbose=1, validation_data=val_iterator, \n",
    "                 class_weight=class_weights, \n",
    "                 callbacks=[\n",
    "                     auc,\n",
    "                     eval_callback,\n",
    "                     reduce_lr,\n",
    "                     lr_callback,\n",
    "                     early_stopping,\n",
    "#                      scheduler,\n",
    "                     keras.callbacks.ModelCheckpoint(\n",
    "                         'models_baby2/model_11.{epoch:02d}-{auc:.4f}.hdf5',\n",
    "                         save_best_only=False)\n",
    "                 ])"
   ]
  },
  {
   "cell_type": "code",
   "execution_count": 545,
   "id": "063a9699-dc41-4656-bd32-f91bbbc4154e",
   "metadata": {},
   "outputs": [
    {
     "data": {
      "image/png": "[encoded data removed]",
      "text/plain": [
       "<Figure size 432x288 with 1 Axes>"
      ]
     },
     "metadata": {},
     "output_type": "display_data"
    }
   ],
   "source": [
    "plt.plot(history.history['loss'])\n",
    "plt.plot(history.history['val_loss'])\n",
    "\n",
    "plt.title('Loss vs. Training Epoch')\n",
    "plt.xlabel('Epoch')\n",
    "plt.ylabel('Loss')\n",
    "plt.legend(['Train','Validation']);"
   ]
  },
  {
   "cell_type": "code",
   "execution_count": 546,
   "id": "d6fc19bc-b5f1-4590-9302-9868576c61a6",
   "metadata": {},
   "outputs": [],
   "source": [
    "y_pred_val = model.predict(X_val)\n",
    "y_pred_train = model.predict(X_train)"
   ]
  },
  {
   "cell_type": "code",
   "execution_count": 547,
   "id": "4a3c6772-6262-4b50-a719-95c99579e5e3",
   "metadata": {},
   "outputs": [
    {
     "data": {
      "text/plain": [
       "2"
      ]
     },
     "execution_count": 547,
     "metadata": {},
     "output_type": "execute_result"
    }
   ],
   "source": [
    "target"
   ]
  },
  {
   "cell_type": "code",
   "execution_count": 548,
   "id": "cf68b38c-210f-4040-a033-f5393c652232",
   "metadata": {},
   "outputs": [
    {
     "name": "stdout",
     "output_type": "stream",
     "text": [
      "PRIMARY TARGET (2):\n",
      "Validation AUC: 0.7043\n",
      "Training AUC: 0.7376\n"
     ]
    }
   ],
   "source": [
    "# dropout = 0.35\n",
    "# l1_reg = 0.00025\n",
    "# l2_reg = 0.0025\n",
    "\n",
    "print('PRIMARY TARGET ({}):'.format(target))\n",
    "print('Validation AUC: {}'.format(round(roc_auc_score(y_val[:,target], y_pred_val), 4)))\n",
    "print('Training AUC: {}'.format(round(roc_auc_score(y_train[:,target], y_pred_train), 4)))"
   ]
  },
  {
   "cell_type": "code",
   "execution_count": null,
   "id": "824af5f5-754c-4717-abb5-0befe3d055a7",
   "metadata": {},
   "outputs": [],
   "source": []
  },
  {
   "cell_type": "code",
   "execution_count": 534,
   "id": "8aba97b7-b9df-4c58-a65d-9bcd34ddfcb9",
   "metadata": {},
   "outputs": [
    {
     "name": "stdout",
     "output_type": "stream",
     "text": [
      "PRIMARY TARGET (2):\n",
      "Validation AUC: 0.6728\n",
      "Training AUC: 0.8952\n"
     ]
    }
   ],
   "source": [
    "# dropout = 0.4\n",
    "# l1_reg = 0.0001\n",
    "# l2_reg = 0.001\n",
    "\n",
    "print('PRIMARY TARGET ({}):'.format(target))\n",
    "print('Validation AUC: {}'.format(round(roc_auc_score(y_val[:,target], y_pred_val), 4)))\n",
    "print('Training AUC: {}'.format(round(roc_auc_score(y_train[:,target], y_pred_train), 4)))"
   ]
  },
  {
   "cell_type": "code",
   "execution_count": null,
   "id": "00acbede-b539-4cca-a28c-cabc66ecf369",
   "metadata": {},
   "outputs": [],
   "source": []
  },
  {
   "cell_type": "code",
   "execution_count": 521,
   "id": "5f10eea4-e7eb-4c28-ac17-2282acabdb5f",
   "metadata": {},
   "outputs": [
    {
     "name": "stdout",
     "output_type": "stream",
     "text": [
      "PRIMARY TARGET (2):\n",
      "Validation AUC: 0.6697\n",
      "Training AUC: 0.8672\n"
     ]
    }
   ],
   "source": [
    "# dropout = 0.3\n",
    "# l1_reg = 0.0001\n",
    "# l2_reg = 0.001\n",
    "\n",
    "print('PRIMARY TARGET ({}):'.format(target))\n",
    "print('Validation AUC: {}'.format(round(roc_auc_score(y_val[:,target], y_pred_val), 4)))\n",
    "print('Training AUC: {}'.format(round(roc_auc_score(y_train[:,target], y_pred_train), 4)))"
   ]
  },
  {
   "cell_type": "code",
   "execution_count": null,
   "id": "686d3733-787e-4415-a44d-4d32b0bb3ec3",
   "metadata": {},
   "outputs": [],
   "source": []
  },
  {
   "cell_type": "code",
   "execution_count": 472,
   "id": "fcc1b129-1cd5-4f8c-b7af-add4960cfc32",
   "metadata": {},
   "outputs": [
    {
     "name": "stdout",
     "output_type": "stream",
     "text": [
      "PRIMARY TARGET (2):\n",
      "Validation AUC: 0.6336\n",
      "Training AUC: 0.8532\n"
     ]
    }
   ],
   "source": [
    "# dropout = 0.35\n",
    "# l1_reg = 0.00005\n",
    "# l2_reg = 0.0005\n",
    "\n",
    "print('PRIMARY TARGET ({}):'.format(target))\n",
    "print('Validation AUC: {}'.format(round(roc_auc_score(y_val[:,target], y_pred_val), 4)))\n",
    "print('Training AUC: {}'.format(round(roc_auc_score(y_train[:,target], y_pred_train), 4)))"
   ]
  },
  {
   "cell_type": "code",
   "execution_count": null,
   "id": "3d474d16-cef7-4567-8a5d-9d442668fe78",
   "metadata": {},
   "outputs": [],
   "source": []
  },
  {
   "cell_type": "code",
   "execution_count": 459,
   "id": "581874c8-6f12-411d-b909-d4fecd7365f0",
   "metadata": {},
   "outputs": [
    {
     "name": "stdout",
     "output_type": "stream",
     "text": [
      "PRIMARY TARGET (2):\n",
      "Validation AUC: 0.696\n",
      "Training AUC: 0.7849\n"
     ]
    }
   ],
   "source": [
    "# dropout = 0.35\n",
    "# l1_reg = 0.0001\n",
    "# l2_reg = 0.001\n",
    "\n",
    "print('PRIMARY TARGET ({}):'.format(target))\n",
    "print('Validation AUC: {}'.format(round(roc_auc_score(y_val[:,target], y_pred_val), 4)))\n",
    "print('Training AUC: {}'.format(round(roc_auc_score(y_train[:,target], y_pred_train), 4)))"
   ]
  },
  {
   "cell_type": "code",
   "execution_count": null,
   "id": "64186b1e-deb6-4288-a644-cc10af14ed95",
   "metadata": {},
   "outputs": [],
   "source": []
  }
 ],
 "metadata": {
  "kernelspec": {
   "display_name": "Python [conda env:metis] *",
   "language": "python",
   "name": "conda-env-metis-py"
  },
  "language_info": {
   "codemirror_mode": {
    "name": "ipython",
    "version": 3
   },
   "file_extension": ".py",
   "mimetype": "text/x-python",
   "name": "python",
   "nbconvert_exporter": "python",
   "pygments_lexer": "ipython3",
   "version": "3.8.10"
  }
 },
 "nbformat": 4,
 "nbformat_minor": 5
}

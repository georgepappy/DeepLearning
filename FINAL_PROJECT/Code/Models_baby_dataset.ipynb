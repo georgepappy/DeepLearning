{
 "cells": [
  {
   "cell_type": "code",
   "execution_count": 15,
   "id": "e00b528a-3835-44b7-9eb4-4e42a7e196fb",
   "metadata": {},
   "outputs": [],
   "source": [
    "import pandas as pd\n",
    "import seaborn as sns\n",
    "import sklearn\n",
    "from tensorflow import keras"
   ]
  },
  {
   "cell_type": "code",
   "execution_count": 16,
   "id": "a33fc3e5-99db-4911-8aa0-582119a42def",
   "metadata": {},
   "outputs": [
    {
     "name": "stdout",
     "output_type": "stream",
     "text": [
      "Populating the interactive namespace from numpy and matplotlib\n"
     ]
    }
   ],
   "source": [
    "%pylab inline \n",
    "import seaborn as sns\n",
    "sns.set()\n",
    "from IPython.display import SVG"
   ]
  },
  {
   "cell_type": "code",
   "execution_count": 4,
   "id": "33501cc1-68bf-461f-929a-5660d7c00350",
   "metadata": {},
   "outputs": [],
   "source": [
    "from sklearn.model_selection import train_test_split\n",
    "from sklearn.metrics import accuracy_score, roc_auc_score, recall_score\n",
    "from sklearn.preprocessing import StandardScaler\n",
    "from sklearn.linear_model import LogisticRegression"
   ]
  },
  {
   "cell_type": "code",
   "execution_count": 5,
   "id": "f150ec52-b190-4f24-bcc4-d7211fc48490",
   "metadata": {},
   "outputs": [],
   "source": [
    "from tensorflow.keras.models import Sequential\n",
    "from tensorflow.keras.layers import Dense, Conv2D, MaxPooling2D, Flatten, GlobalAveragePooling2D, InputLayer, Input, Dropout, BatchNormalization"
   ]
  },
  {
   "cell_type": "code",
   "execution_count": 6,
   "id": "309d7af9-5f61-4251-8473-4375c006996a",
   "metadata": {},
   "outputs": [],
   "source": [
    "from tensorflow.keras.utils import to_categorical"
   ]
  },
  {
   "cell_type": "code",
   "execution_count": 7,
   "id": "7d23033c-eb58-475c-bfbc-40f493071ed4",
   "metadata": {},
   "outputs": [],
   "source": [
    "from tensorflow.keras.preprocessing.image import ImageDataGenerator"
   ]
  },
  {
   "cell_type": "code",
   "execution_count": 8,
   "id": "9321184e-deb8-4a84-aa4c-f1ac54040439",
   "metadata": {},
   "outputs": [],
   "source": [
    "from tensorflow.keras.callbacks import EarlyStopping, ReduceLROnPlateau, LambdaCallback, LearningRateScheduler"
   ]
  },
  {
   "cell_type": "code",
   "execution_count": 9,
   "id": "c3c965dc-e95b-4c8a-98e4-f437c877d934",
   "metadata": {},
   "outputs": [],
   "source": [
    "from tensorflow.keras.models import load_model, Model"
   ]
  },
  {
   "cell_type": "code",
   "execution_count": 10,
   "id": "2970edea-82f5-42d2-9ad9-c0d4f9169c31",
   "metadata": {},
   "outputs": [],
   "source": [
    "from tensorflow.keras import regularizers"
   ]
  },
  {
   "cell_type": "code",
   "execution_count": 11,
   "id": "649193b6-070a-4d08-b66c-69db7a793e87",
   "metadata": {},
   "outputs": [],
   "source": [
    "import numpy as np\n",
    "np.set_printoptions(suppress=True) # Suppress scientific notation where possible"
   ]
  },
  {
   "cell_type": "code",
   "execution_count": 12,
   "id": "915aa074-2702-46b5-b7f5-331387d76f21",
   "metadata": {},
   "outputs": [],
   "source": [
    "# from numpy.random import seed\n",
    "# from tensorflow import random"
   ]
  },
  {
   "cell_type": "code",
   "execution_count": 13,
   "id": "51a6fd63-b96b-44f1-a014-0ee41ffe8427",
   "metadata": {},
   "outputs": [],
   "source": [
    "# Make some room to see stuff (i.e. drop display limits on Pandas rows & cols - be careful w/ big df's!)\n",
    "\n",
    "pd.set_option('display.max_rows', 200)\n",
    "pd.set_option('display.max_columns', None)"
   ]
  },
  {
   "cell_type": "markdown",
   "id": "351a704c-b4e6-4a4d-8c9f-b20f7dfa21e6",
   "metadata": {},
   "source": [
    "(Class below comes from: https://stackoverflow.com/questions/67271590/issue-with-custom-metric-auc-callback-for-keras)"
   ]
  },
  {
   "cell_type": "code",
   "execution_count": 14,
   "id": "c8851bbd-d587-4e60-8779-59f5416fd1d2",
   "metadata": {},
   "outputs": [],
   "source": [
    "# Custom skelearn-based AUROC calculation class for use with the FULL validation \n",
    "#   set (not just mini-batches) at the end of each training epoch\n",
    "\n",
    "class ROAUCMetrics(keras.callbacks.Callback):\n",
    "    def __init__(self, val_data):\n",
    "        super().__init__()\n",
    "        self.valid_x = val_data[0]\n",
    "        self.valid_y = val_data[1]\n",
    "\n",
    "    def on_train_begin(self, logs={}):\n",
    "        self.val_aucs = []\n",
    "\n",
    "    def on_epoch_end(self, epoch, logs={}):\n",
    "        pred = self.model.predict(self.valid_x)\n",
    "        val_auc = roc_auc_score(self.valid_y, pred,  average='micro')\n",
    "        print('\\nval-roc-auc: %s' % (str(round(val_auc,4))),end=100*' '+'\\n\\n')\n",
    "        self.val_aucs.append(val_auc)\n",
    "        return"
   ]
  },
  {
   "cell_type": "markdown",
   "id": "563bb2ae-2a20-4d9e-900b-996e697601cb",
   "metadata": {},
   "source": [
    "# 1) Import the training data"
   ]
  },
  {
   "cell_type": "code",
   "execution_count": 14,
   "id": "2b8f9a16-e750-4107-9aef-51338d4a013b",
   "metadata": {},
   "outputs": [
    {
     "name": "stdout",
     "output_type": "stream",
     "text": [
      "(985, 224, 273, 1)\n",
      "(985, 4)\n",
      "(247, 224, 273, 1)\n",
      "(247, 4)\n"
     ]
    }
   ],
   "source": [
    "X_train = np.load('data2/X_baby_train.dat')\n",
    "y_train = np.load('data2/y_baby_train.dat')\n",
    "\n",
    "X_val = np.load('data2/X_baby_val.dat')\n",
    "y_val = np.load('data2/y_baby_val.dat')\n",
    "\n",
    "print(X_train.shape)\n",
    "print(y_train.shape)\n",
    "print(X_val.shape)\n",
    "print(y_val.shape)"
   ]
  },
  {
   "cell_type": "code",
   "execution_count": 16,
   "id": "75cd7ddf-6375-496a-8acb-0c0f07135508",
   "metadata": {},
   "outputs": [],
   "source": [
    "# Need these to be float32 format for custom loss function to work\n",
    "\n",
    "y_train = y_train.astype(float)\n",
    "y_val = y_val.astype(float) "
   ]
  },
  {
   "cell_type": "markdown",
   "id": "4aa2e80f-95fb-47b8-b814-46d1c2bdeb4c",
   "metadata": {},
   "source": [
    "# 6) Let's Try a Pre-trained Model (VGG16) on just the last target (diagnosis = 'Pleural Effusion')"
   ]
  },
  {
   "cell_type": "code",
   "execution_count": null,
   "id": "6a82e890-94d4-48dc-a661-21cf730a33b6",
   "metadata": {},
   "outputs": [],
   "source": [
    "## Targets: 'Atelectasis'=0, 'Cardiomegaly'=1, 'Edema'=2, 'Pleaural Effusion'=3\n",
    "\n",
    "target = 3"
   ]
  },
  {
   "cell_type": "code",
   "execution_count": 27,
   "id": "6533f469-578c-45a0-b43b-d6811ad4c743",
   "metadata": {},
   "outputs": [],
   "source": [
    "## FOR REPEATABILITY (must re-run this before EVERY model training run):\n",
    "\n",
    "# 1. Set the `PYTHONHASHSEED` environment variable at a fixed value\n",
    "import os\n",
    "os.environ['PYTHONHASHSEED']=str(0)\n",
    "\n",
    "# 2. Set the `python` built-in pseudo-random generator at a fixed value\n",
    "import random\n",
    "random.seed(1)\n",
    "\n",
    "# 3. Set the `numpy` pseudo-random generator at a fixed value\n",
    "import numpy as np\n",
    "np.random.seed(2)\n",
    "\n",
    "# 4. Set the `tensorflow` pseudo-random generator at a fixed value\n",
    "import tensorflow as tf\n",
    "tf.random.set_seed(2)"
   ]
  },
  {
   "cell_type": "code",
   "execution_count": 28,
   "id": "5a3eb50a-7994-4cb3-bf22-a7d3559e3ec7",
   "metadata": {},
   "outputs": [
    {
     "name": "stdout",
     "output_type": "stream",
     "text": [
      "Batches train=4, val=1\n"
     ]
    }
   ],
   "source": [
    "batch_size = 256\n",
    "\n",
    "datagen = ImageDataGenerator(featurewise_center=True, featurewise_std_normalization=True)\n",
    "\n",
    "# calculate mean on training dataset\n",
    "datagen.fit(X_train)\n",
    "\n",
    "# prepare iterators to scale images\n",
    "train_iterator = datagen.flow(X_train, y_train[:, target], batch_size=batch_size)\n",
    "\n",
    "val_iterator = datagen.flow(X_val, y_val[:, target], batch_size=batch_size)\n",
    "\n",
    "print('Batches train=%d, val=%d' % (len(train_iterator), len(val_iterator)))"
   ]
  },
  {
   "cell_type": "code",
   "execution_count": 29,
   "id": "dd37f4be-defc-4ff9-bb9e-4218b68b6825",
   "metadata": {},
   "outputs": [],
   "source": [
    "keras.backend.clear_session()\n",
    "\n",
    "dropout = 0.25\n",
    "\n",
    "from tensorflow.keras.applications import VGG16\n",
    "\n",
    "# This converts the 1-channel X-rays to 3-channel images a required by mobilenet_v2\n",
    "input_tensor = Input(shape=(X_train.shape[1:]))\n",
    "x = Conv2D(3,(3,3),padding='same')(input_tensor)\n",
    "\n",
    "base_model = VGG16(weights='imagenet', include_top=False, input_shape=(X_train.shape[1], X_train.shape[2], 3)) \n",
    " \n",
    "# Freeze convolutional layers\n",
    "for layer in base_model.layers:\n",
    "    layer.trainable = False    \n",
    "\n",
    "out = base_model(x)\n",
    "new_base_model = Model(inputs=input_tensor, outputs=out)\n",
    "    \n",
    "# Establish new fully connected block\n",
    "x = new_base_model.output\n",
    "x = Flatten()(x) # flatten from convolution tensor output \n",
    "x = Dense(units=128, activation='relu')(x) # number of layers and units are hyperparameters, as usual\n",
    "x = Dropout(dropout, seed=2)(x) # adding Dropout for regularization between the Dense layers\n",
    "x = Dense(units=64, activation='relu')(x)\n",
    "x = Dropout(dropout, seed=1)(x) # adding Dropout for regularization between the Dense layers\n",
    "predictions = Dense(units=1, activation='sigmoid')(x) # 1 target labels\n",
    "\n",
    "# define formal model object to train and compile it as usual\n",
    "model = Model(inputs=new_base_model.input, outputs=predictions)"
   ]
  },
  {
   "cell_type": "code",
   "execution_count": 30,
   "id": "0bf246fc-d8a2-466f-817d-e8a843adac31",
   "metadata": {},
   "outputs": [
    {
     "name": "stdout",
     "output_type": "stream",
     "text": [
      "Model: \"model_1\"\n",
      "_________________________________________________________________\n",
      "Layer (type)                 Output Shape              Param #   \n",
      "=================================================================\n",
      "input_1 (InputLayer)         [(None, 224, 273, 1)]     0         \n",
      "_________________________________________________________________\n",
      "conv2d (Conv2D)              (None, 224, 273, 3)       30        \n",
      "_________________________________________________________________\n",
      "vgg16 (Functional)           (None, 7, 8, 512)         14714688  \n",
      "_________________________________________________________________\n",
      "flatten (Flatten)            (None, 28672)             0         \n",
      "_________________________________________________________________\n",
      "dense (Dense)                (None, 128)               3670144   \n",
      "_________________________________________________________________\n",
      "dropout (Dropout)            (None, 128)               0         \n",
      "_________________________________________________________________\n",
      "dense_1 (Dense)              (None, 64)                8256      \n",
      "_________________________________________________________________\n",
      "dropout_1 (Dropout)          (None, 64)                0         \n",
      "_________________________________________________________________\n",
      "dense_2 (Dense)              (None, 1)                 65        \n",
      "=================================================================\n",
      "Total params: 18,393,183\n",
      "Trainable params: 3,678,495\n",
      "Non-trainable params: 14,714,688\n",
      "_________________________________________________________________\n"
     ]
    }
   ],
   "source": [
    "model.summary()"
   ]
  },
  {
   "cell_type": "code",
   "execution_count": 31,
   "id": "e4abdd1d-4edb-48b0-b144-1f782e65d0c2",
   "metadata": {},
   "outputs": [],
   "source": [
    "initial_learning_rate = 0.0002828\n",
    "adam_opt = keras.optimizers.Adam(learning_rate=initial_learning_rate, \n",
    "                                 beta_1=0.9, \n",
    "                                 beta_2=0.999, \n",
    "                                 epsilon=1e-07, \n",
    "                                 amsgrad=False)\n",
    "\n",
    "model.compile(\n",
    "    loss='binary_crossentropy',\n",
    "    optimizer=adam_opt\n",
    ")"
   ]
  },
  {
   "cell_type": "code",
   "execution_count": 32,
   "id": "c4abc6b7-db82-4461-8544-96a3eaa22e9d",
   "metadata": {},
   "outputs": [
    {
     "data": {
      "text/plain": [
       "0.0002828"
      ]
     },
     "execution_count": 32,
     "metadata": {},
     "output_type": "execute_result"
    }
   ],
   "source": [
    "model.optimizer.get_config()['learning_rate']"
   ]
  },
  {
   "cell_type": "code",
   "execution_count": 33,
   "id": "facb1a38-21f7-4d8e-bcd4-bda573ced323",
   "metadata": {
    "scrolled": true,
    "tags": []
   },
   "outputs": [
    {
     "name": "stdout",
     "output_type": "stream",
     "text": [
      "Epoch 1/100\n",
      "Learning Rate: 0.0002828\n",
      "4/4 [==============================] - 421s 112s/step - loss: 0.7633 - val_loss: 0.6366\n",
      "\n",
      "val-roc-auc: 0.5731                                                                                                    \n",
      "\n",
      "Epoch 2/100\n",
      "Learning Rate: 0.00028279999969527125\n",
      "4/4 [==============================] - 419s 113s/step - loss: 0.6906 - val_loss: 0.6246\n",
      "\n",
      "val-roc-auc: 0.6099                                                                                                    \n",
      "\n",
      "Epoch 3/100\n",
      "Learning Rate: 0.00028279999969527125\n",
      "4/4 [==============================] - 412s 104s/step - loss: 0.6507 - val_loss: 0.6138\n",
      "\n",
      "val-roc-auc: 0.6664                                                                                                    \n",
      "\n",
      "Epoch 4/100\n",
      "Learning Rate: 0.00028279999969527125\n",
      "4/4 [==============================] - 365s 89s/step - loss: 0.6076 - val_loss: 0.5896\n",
      "\n",
      "val-roc-auc: 0.6795                                                                                                    \n",
      "\n",
      "Epoch 5/100\n",
      "Learning Rate: 0.00028279999969527125\n",
      "4/4 [==============================] - 405s 108s/step - loss: 0.5941 - val_loss: 0.5780\n",
      "\n",
      "val-roc-auc: 0.693                                                                                                    \n",
      "\n",
      "Epoch 6/100\n",
      "Learning Rate: 0.00028279999969527125\n",
      "4/4 [==============================] - 409s 109s/step - loss: 0.5684 - val_loss: 0.5619\n",
      "\n",
      "val-roc-auc: 0.7066                                                                                                    \n",
      "\n",
      "Epoch 7/100\n",
      "Learning Rate: 0.00028279999969527125\n",
      "4/4 [==============================] - 433s 110s/step - loss: 0.5355 - val_loss: 0.5577\n",
      "\n",
      "val-roc-auc: 0.7181                                                                                                    \n",
      "\n",
      "Epoch 8/100\n",
      "Learning Rate: 0.00028279999969527125\n",
      "4/4 [==============================] - 406s 103s/step - loss: 0.5088 - val_loss: 0.5453\n",
      "\n",
      "val-roc-auc: 0.7271                                                                                                    \n",
      "\n",
      "Epoch 9/100\n",
      "Learning Rate: 0.00028279999969527125\n",
      "4/4 [==============================] - 408s 104s/step - loss: 0.4998 - val_loss: 0.5420\n",
      "\n",
      "val-roc-auc: 0.7384                                                                                                    \n",
      "\n",
      "Epoch 10/100\n",
      "Learning Rate: 0.00028279999969527125\n",
      "4/4 [==============================] - 404s 103s/step - loss: 0.4637 - val_loss: 0.5317\n",
      "\n",
      "val-roc-auc: 0.7391                                                                                                    \n",
      "\n",
      "Epoch 11/100\n",
      "Learning Rate: 0.00028279999969527125\n",
      "4/4 [==============================] - 402s 102s/step - loss: 0.4626 - val_loss: 0.5239\n",
      "\n",
      "val-roc-auc: 0.7498                                                                                                    \n",
      "\n",
      "Epoch 12/100\n",
      "Learning Rate: 0.00028279999969527125\n",
      "4/4 [==============================] - 414s 105s/step - loss: 0.4326 - val_loss: 0.5201\n",
      "\n",
      "val-roc-auc: 0.7517                                                                                                    \n",
      "\n",
      "Epoch 13/100\n",
      "Learning Rate: 0.00028279999969527125\n",
      "4/4 [==============================] - 408s 104s/step - loss: 0.4050 - val_loss: 0.5190\n",
      "\n",
      "val-roc-auc: 0.7397                                                                                                    \n",
      "\n",
      "Epoch 14/100\n",
      "Learning Rate: 0.00028279999969527125\n",
      "4/4 [==============================] - 408s 103s/step - loss: 0.3774 - val_loss: 0.5158\n",
      "\n",
      "val-roc-auc: 0.7417                                                                                                    \n",
      "\n",
      "Epoch 15/100\n",
      "Learning Rate: 0.00028279999969527125\n",
      "4/4 [==============================] - 406s 103s/step - loss: 0.3636 - val_loss: 0.5145\n",
      "\n",
      "val-roc-auc: 0.7418                                                                                                    \n",
      "\n",
      "Epoch 16/100\n",
      "Learning Rate: 0.00028279999969527125\n",
      "4/4 [==============================] - 404s 103s/step - loss: 0.3553 - val_loss: 0.5274\n",
      "\n",
      "val-roc-auc: 0.7409                                                                                                    \n",
      "\n",
      "Epoch 17/100\n",
      "Learning Rate: 0.00028279999969527125\n",
      "4/4 [==============================] - 403s 107s/step - loss: 0.3275 - val_loss: 0.5230\n",
      "\n",
      "val-roc-auc: 0.7446                                                                                                    \n",
      "\n",
      "Epoch 18/100\n",
      "Learning Rate: 0.00028279999969527125\n",
      "4/4 [==============================] - 402s 102s/step - loss: 0.3233 - val_loss: 0.5154\n",
      "\n",
      "val-roc-auc: 0.7399                                                                                                    \n",
      "\n",
      "Epoch 19/100\n",
      "Learning Rate: 0.00028279999969527125\n",
      "4/4 [==============================] - 403s 102s/step - loss: 0.2724 - val_loss: 0.5215\n",
      "\n",
      "val-roc-auc: 0.7361                                                                                                    \n",
      "\n",
      "Epoch 20/100\n",
      "Learning Rate: 0.00028279999969527125\n",
      "4/4 [==============================] - 404s 103s/step - loss: 0.2633 - val_loss: 0.5320\n",
      "\n",
      "val-roc-auc: 0.7262                                                                                                    \n",
      "\n",
      "Epoch 21/100\n",
      "Learning Rate: 0.00014139999984763563\n",
      "4/4 [==============================] - 404s 102s/step - loss: 0.2488 - val_loss: 0.5344\n",
      "\n",
      "val-roc-auc: 0.7252                                                                                                    \n",
      "\n",
      "Epoch 22/100\n",
      "Learning Rate: 0.00014139999984763563\n",
      "4/4 [==============================] - 405s 103s/step - loss: 0.2395 - val_loss: 0.5312\n",
      "\n",
      "val-roc-auc: 0.7239                                                                                                    \n",
      "\n"
     ]
    }
   ],
   "source": [
    "# Exponential decay learning rate scheduler comes from: \n",
    "#      https://towardsdatascience.com/learning-rate-schedule-in-practice-an-example-with-keras-and-tensorflow-2-0-2f48b2888a0c\n",
    "def lr_exp_decay(epoch, lr):\n",
    "    print('Previous lr: {}'.format(lr))\n",
    "    k = 0\n",
    "    return lr * np.exp(-k*epoch)\n",
    "\n",
    "# This AUC will be calculated at the end of each epoch on the validation set and be used for early stopping\n",
    "auc = ROAUCMetrics(val_data=(X_val, y_val[:, target]))\n",
    "\n",
    "eval_callback = LambdaCallback(on_epoch_end=lambda epoch, logs: logs.update({'auc': auc.val_aucs[-1]})) \n",
    "\n",
    "reduce_lr = ReduceLROnPlateau(monitor='val_loss', factor=0.5, patience=5, mode='min', min_delta=0.0001, min_lr=5e-6)\n",
    "\n",
    "lr_callback = LambdaCallback(on_epoch_begin=lambda epoch, logs: print('Learning Rate: {}'.format(round(model.optimizer.get_config()['learning_rate'], 7))))\n",
    "\n",
    "# scheduler = LearningRateScheduler(lr_exp_decay, verbose=1)\n",
    "\n",
    "early_stopping = EarlyStopping(monitor='auc', mode='max', patience=10, restore_best_weights=True)\n",
    "\n",
    "history = model.fit(train_iterator, steps_per_epoch=len(train_iterator), epochs=100, verbose=1, validation_data=val_iterator, \n",
    "                 callbacks=[\n",
    "                     auc,\n",
    "                     eval_callback,\n",
    "                     reduce_lr,\n",
    "                     lr_callback,\n",
    "                     early_stopping,\n",
    "#                      scheduler,\n",
    "                     keras.callbacks.ModelCheckpoint(\n",
    "                         'models_baby/model_6.{epoch:02d}-{val_loss:.2f}.hdf5',\n",
    "                         save_best_only=False)\n",
    "                 ])"
   ]
  },
  {
   "cell_type": "code",
   "execution_count": null,
   "id": "fc01dafd-d744-4ea7-b4c0-d75a320023fd",
   "metadata": {},
   "outputs": [],
   "source": [
    "# Best model is from epoch 15: models_baby/model_6.15-0.51.hdf5"
   ]
  },
  {
   "cell_type": "code",
   "execution_count": 34,
   "id": "24dc3c4e-96c4-4658-8a7f-164ecef56f96",
   "metadata": {},
   "outputs": [
    {
     "data": {
      "image/png": "[encoded data removed]",
      "text/plain": [
       "<Figure size 432x288 with 1 Axes>"
      ]
     },
     "metadata": {},
     "output_type": "display_data"
    }
   ],
   "source": [
    "plt.plot(history.history['loss'])\n",
    "plt.plot(history.history['val_loss'])\n",
    "\n",
    "plt.title('Loss vs. Training Epoch')\n",
    "plt.xlabel('Epoch')\n",
    "plt.ylabel('Loss')\n",
    "plt.legend(['Train','Validation']);"
   ]
  },
  {
   "cell_type": "code",
   "execution_count": 35,
   "id": "0365d14b-187b-4d54-90b3-4cc4edf64c37",
   "metadata": {},
   "outputs": [],
   "source": [
    "y_pred = model.predict(X_val)"
   ]
  },
  {
   "cell_type": "code",
   "execution_count": 36,
   "id": "beed5c29-cd8f-462a-ad26-ad5cd33fb017",
   "metadata": {},
   "outputs": [
    {
     "data": {
      "text/plain": [
       "0.7516795311606632"
      ]
     },
     "execution_count": 36,
     "metadata": {},
     "output_type": "execute_result"
    }
   ],
   "source": [
    "# Initial LR=0.0002828, batch_size=256\n",
    "roc_auc_score(y_val[:,target], y_pred)"
   ]
  },
  {
   "cell_type": "code",
   "execution_count": 777,
   "id": "878a78bd-6ceb-4ee8-b8ca-e43affb7a194",
   "metadata": {},
   "outputs": [
    {
     "data": {
      "text/plain": [
       "0.7441395082904516"
      ]
     },
     "execution_count": 777,
     "metadata": {},
     "output_type": "execute_result"
    }
   ],
   "source": [
    "# Initial LR=0.00005, batch_size=32\n",
    "roc_auc_score(y_val[:,target], y_pred)"
   ]
  },
  {
   "cell_type": "code",
   "execution_count": 767,
   "id": "46bcd7ce-8bb2-44e1-9adc-a028ebf581b0",
   "metadata": {},
   "outputs": [
    {
     "data": {
      "text/plain": [
       "0.7536449399656946"
      ]
     },
     "execution_count": 767,
     "metadata": {},
     "output_type": "execute_result"
    }
   ],
   "source": [
    "# Initial LR=0.0001, batch_size=32\n",
    "roc_auc_score(y_val[:,target], y_pred)"
   ]
  },
  {
   "cell_type": "markdown",
   "id": "9b75116b-6353-4d8e-bce2-70f0b1de7074",
   "metadata": {},
   "source": [
    "# 7) Let's Try a Pre-trained Model (VGG16) on just the first target (diagnosis = 'Atelectasis')"
   ]
  },
  {
   "cell_type": "code",
   "execution_count": 165,
   "id": "783f0aff-1e0c-4907-8b47-21ca8a15a84b",
   "metadata": {},
   "outputs": [],
   "source": [
    "## Targets: 'Atelectasis'=0, 'Cardiomegaly'=1, 'Edema'=2, 'Pleaural Effusion'=3\n",
    "\n",
    "target = 0"
   ]
  },
  {
   "cell_type": "code",
   "execution_count": 166,
   "id": "d822858a-870d-4b6e-98b9-12f689a057a0",
   "metadata": {},
   "outputs": [],
   "source": [
    "## FOR REPEATABILITY (must re-run this before EVERY model training run):\n",
    "\n",
    "# 1. Set the `PYTHONHASHSEED` environment variable at a fixed value\n",
    "import os\n",
    "os.environ['PYTHONHASHSEED']=str(0)\n",
    "\n",
    "# 2. Set the `python` built-in pseudo-random generator at a fixed value\n",
    "import random\n",
    "random.seed(1)\n",
    "\n",
    "# 3. Set the `numpy` pseudo-random generator at a fixed value\n",
    "import numpy as np\n",
    "np.random.seed(2)\n",
    "\n",
    "# 4. Set the `tensorflow` pseudo-random generator at a fixed value\n",
    "import tensorflow as tf\n",
    "tf.random.set_seed(2)"
   ]
  },
  {
   "cell_type": "code",
   "execution_count": 167,
   "id": "ceea0e37-32df-4ce3-8d96-279e5c1c3876",
   "metadata": {},
   "outputs": [
    {
     "name": "stdout",
     "output_type": "stream",
     "text": [
      "Batches train=4, val=1\n"
     ]
    }
   ],
   "source": [
    "batch_size = 256\n",
    "\n",
    "datagen = ImageDataGenerator(featurewise_center=True, featurewise_std_normalization=True)\n",
    "\n",
    "# calculate mean on training dataset\n",
    "datagen.fit(X_train)\n",
    "\n",
    "# prepare iterators to scale images\n",
    "train_iterator = datagen.flow(X_train, y_train[:, target], batch_size=batch_size)\n",
    "\n",
    "val_iterator = datagen.flow(X_val, y_val[:, target], batch_size=batch_size)\n",
    "\n",
    "print('Batches train=%d, val=%d' % (len(train_iterator), len(val_iterator)))"
   ]
  },
  {
   "cell_type": "code",
   "execution_count": 168,
   "id": "5725b7b2-92ed-4ba6-9bb0-2904fdaf844b",
   "metadata": {},
   "outputs": [],
   "source": [
    "keras.backend.clear_session()\n",
    "\n",
    "dropout = 0.25\n",
    "\n",
    "from tensorflow.keras.applications import VGG16\n",
    "\n",
    "# This converts the 1-channel X-rays to 3-channel images a required by mobilenet_v2\n",
    "input_tensor = Input(shape=(X_train.shape[1:]))\n",
    "x = Conv2D(3,(3,3),padding='same')(input_tensor)\n",
    "\n",
    "base_model = VGG16(weights='imagenet', \n",
    "                   include_top=False, \n",
    "#                    pooling='avg',\n",
    "                   input_shape=(X_train.shape[1], X_train.shape[2], 3)) \n",
    " \n",
    "# Freeze convolutional layers\n",
    "for layer in base_model.layers:\n",
    "    layer.trainable = False    \n",
    "\n",
    "out = base_model(x)\n",
    "new_base_model = Model(inputs=input_tensor, outputs=out)\n",
    "    \n",
    "# Establish new fully connected block\n",
    "x = new_base_model.output\n",
    "x = Flatten()(x) # flatten from convolution tensor output \n",
    "x = Dense(units=128, activation='relu')(x) # number of layers and units are hyperparameters, as usual\n",
    "x = Dropout(dropout, seed=2)(x) # adding Dropout for regularization between the Dense layers\n",
    "x = Dense(units=64, activation='relu')(x)\n",
    "x = Dropout(dropout, seed=1)(x) # adding Dropout for regularization between the Dense layers\n",
    "predictions = Dense(units=1, activation='sigmoid')(x) # 1 target labels\n",
    "\n",
    "# define formal model object to train and compile it as usual\n",
    "model = Model(inputs=new_base_model.input, outputs=predictions)"
   ]
  },
  {
   "cell_type": "code",
   "execution_count": 169,
   "id": "1e553da9-75d8-40eb-ad02-386c982b1801",
   "metadata": {},
   "outputs": [
    {
     "name": "stdout",
     "output_type": "stream",
     "text": [
      "Model: \"model_1\"\n",
      "_________________________________________________________________\n",
      "Layer (type)                 Output Shape              Param #   \n",
      "=================================================================\n",
      "input_1 (InputLayer)         [(None, 224, 273, 1)]     0         \n",
      "_________________________________________________________________\n",
      "conv2d (Conv2D)              (None, 224, 273, 3)       30        \n",
      "_________________________________________________________________\n",
      "vgg16 (Functional)           (None, 7, 8, 512)         14714688  \n",
      "_________________________________________________________________\n",
      "flatten (Flatten)            (None, 28672)             0         \n",
      "_________________________________________________________________\n",
      "dense (Dense)                (None, 128)               3670144   \n",
      "_________________________________________________________________\n",
      "dropout (Dropout)            (None, 128)               0         \n",
      "_________________________________________________________________\n",
      "dense_1 (Dense)              (None, 64)                8256      \n",
      "_________________________________________________________________\n",
      "dropout_1 (Dropout)          (None, 64)                0         \n",
      "_________________________________________________________________\n",
      "dense_2 (Dense)              (None, 1)                 65        \n",
      "=================================================================\n",
      "Total params: 18,393,183\n",
      "Trainable params: 3,678,495\n",
      "Non-trainable params: 14,714,688\n",
      "_________________________________________________________________\n"
     ]
    }
   ],
   "source": [
    "model.summary()"
   ]
  },
  {
   "cell_type": "code",
   "execution_count": 170,
   "id": "43da7bc3-5b00-40d2-8045-f38799cc8981",
   "metadata": {},
   "outputs": [],
   "source": [
    "initial_learning_rate = 0.0005\n",
    "adam_opt = keras.optimizers.Adam(learning_rate=initial_learning_rate, \n",
    "                                 beta_1=0.9, \n",
    "                                 beta_2=0.999, \n",
    "                                 epsilon=1e-07, \n",
    "                                 amsgrad=False)\n",
    "\n",
    "model.compile(\n",
    "    loss='binary_crossentropy',\n",
    "    optimizer=adam_opt\n",
    ")"
   ]
  },
  {
   "cell_type": "code",
   "execution_count": 171,
   "id": "8b5f4ec6-b89b-4a42-8139-f4e27948f3eb",
   "metadata": {},
   "outputs": [
    {
     "data": {
      "text/plain": [
       "0.0005"
      ]
     },
     "execution_count": 171,
     "metadata": {},
     "output_type": "execute_result"
    }
   ],
   "source": [
    "model.optimizer.get_config()['learning_rate']"
   ]
  },
  {
   "cell_type": "code",
   "execution_count": 172,
   "id": "a4b2a0eb-4588-447b-acf3-b29a0d22c5fe",
   "metadata": {
    "tags": []
   },
   "outputs": [
    {
     "name": "stdout",
     "output_type": "stream",
     "text": [
      "Epoch 1/100\n",
      "Learning Rate: 0.0005\n",
      "4/4 [==============================] - 400s 106s/step - loss: 0.8760 - val_loss: 0.6432\n",
      "\n",
      "val-roc-auc: 0.5601                                                                                                    \n",
      "\n",
      "Epoch 2/100\n",
      "Learning Rate: 0.0005000000237487257\n",
      "4/4 [==============================] - 400s 106s/step - loss: 0.7028 - val_loss: 0.6157\n",
      "\n",
      "val-roc-auc: 0.5741                                                                                                    \n",
      "\n",
      "Epoch 3/100\n",
      "Learning Rate: 0.0005000000237487257\n",
      "4/4 [==============================] - 400s 101s/step - loss: 0.6660 - val_loss: 0.6101\n",
      "\n",
      "val-roc-auc: 0.5933                                                                                                    \n",
      "\n",
      "Epoch 4/100\n",
      "Learning Rate: 0.0005000000237487257\n",
      "4/4 [==============================] - 408s 104s/step - loss: 0.6541 - val_loss: 0.6228\n",
      "\n",
      "val-roc-auc: 0.599                                                                                                    \n",
      "\n",
      "Epoch 5/100\n",
      "Learning Rate: 0.0005000000237487257\n",
      "4/4 [==============================] - 401s 107s/step - loss: 0.6163 - val_loss: 0.6042\n",
      "\n",
      "val-roc-auc: 0.6024                                                                                                    \n",
      "\n",
      "Epoch 6/100\n",
      "Learning Rate: 0.0005000000237487257\n",
      "4/4 [==============================] - 401s 107s/step - loss: 0.5828 - val_loss: 0.6001\n",
      "\n",
      "val-roc-auc: 0.6084                                                                                                    \n",
      "\n",
      "Epoch 7/100\n",
      "Learning Rate: 0.0005000000237487257\n",
      "4/4 [==============================] - 407s 103s/step - loss: 0.5802 - val_loss: 0.5963\n",
      "\n",
      "val-roc-auc: 0.6142                                                                                                    \n",
      "\n",
      "Epoch 8/100\n",
      "Learning Rate: 0.0005000000237487257\n",
      "4/4 [==============================] - 404s 103s/step - loss: 0.5433 - val_loss: 0.5924\n",
      "\n",
      "val-roc-auc: 0.62                                                                                                    \n",
      "\n",
      "Epoch 9/100\n",
      "Learning Rate: 0.0005000000237487257\n",
      "4/4 [==============================] - 405s 103s/step - loss: 0.5379 - val_loss: 0.5917\n",
      "\n",
      "val-roc-auc: 0.6319                                                                                                    \n",
      "\n",
      "Epoch 10/100\n",
      "Learning Rate: 0.0005000000237487257\n",
      "4/4 [==============================] - 404s 102s/step - loss: 0.5145 - val_loss: 0.5909\n",
      "\n",
      "val-roc-auc: 0.6348                                                                                                    \n",
      "\n",
      "Epoch 11/100\n",
      "Learning Rate: 0.0005000000237487257\n",
      "4/4 [==============================] - 402s 102s/step - loss: 0.4841 - val_loss: 0.5837\n",
      "\n",
      "val-roc-auc: 0.6424                                                                                                    \n",
      "\n",
      "Epoch 12/100\n",
      "Learning Rate: 0.0005000000237487257\n",
      "4/4 [==============================] - 407s 103s/step - loss: 0.4511 - val_loss: 0.6081\n",
      "\n",
      "val-roc-auc: 0.6423                                                                                                    \n",
      "\n",
      "Epoch 13/100\n",
      "Learning Rate: 0.0005000000237487257\n",
      "4/4 [==============================] - 403s 103s/step - loss: 0.4308 - val_loss: 0.5854\n",
      "\n",
      "val-roc-auc: 0.6432                                                                                                    \n",
      "\n",
      "Epoch 14/100\n",
      "Learning Rate: 0.0002500000118743628\n",
      "4/4 [==============================] - 405s 103s/step - loss: 0.4063 - val_loss: 0.5831\n",
      "\n",
      "val-roc-auc: 0.6467                                                                                                    \n",
      "\n",
      "Epoch 15/100\n",
      "Learning Rate: 0.0002500000118743628\n",
      "4/4 [==============================] - 400s 102s/step - loss: 0.3855 - val_loss: 0.5932\n",
      "\n",
      "val-roc-auc: 0.6399                                                                                                    \n",
      "\n",
      "Epoch 16/100\n",
      "Learning Rate: 0.0001250000059371814\n",
      "4/4 [==============================] - 399s 101s/step - loss: 0.3715 - val_loss: 0.5831\n",
      "\n",
      "val-roc-auc: 0.6403                                                                                                    \n",
      "\n",
      "Epoch 17/100\n",
      "Learning Rate: 0.0001250000059371814\n",
      "4/4 [==============================] - 395s 106s/step - loss: 0.3648 - val_loss: 0.5965\n",
      "\n",
      "val-roc-auc: 0.6378                                                                                                    \n",
      "\n",
      "Epoch 18/100\n",
      "Learning Rate: 6.25000029685907e-05\n",
      "4/4 [==============================] - 396s 101s/step - loss: 0.3636 - val_loss: 0.5898\n",
      "\n",
      "val-roc-auc: 0.6385                                                                                                    \n",
      "\n",
      "Epoch 19/100\n",
      "Learning Rate: 6.25000029685907e-05\n",
      "4/4 [==============================] - 419s 104s/step - loss: 0.3452 - val_loss: 0.5858\n",
      "\n",
      "val-roc-auc: 0.6394                                                                                                    \n",
      "\n",
      "Epoch 20/100\n",
      "Learning Rate: 3.1200001103570685e-05\n",
      "4/4 [==============================] - 409s 104s/step - loss: 0.3504 - val_loss: 0.5896\n",
      "\n",
      "val-roc-auc: 0.6374                                                                                                    \n",
      "\n",
      "Epoch 21/100\n",
      "Learning Rate: 3.1200001103570685e-05\n",
      "4/4 [==============================] - 410s 104s/step - loss: 0.3404 - val_loss: 0.5972\n",
      "\n",
      "val-roc-auc: 0.6357                                                                                                    \n",
      "\n",
      "Epoch 22/100\n",
      "Learning Rate: 1.5600000551785342e-05\n",
      "4/4 [==============================] - 402s 102s/step - loss: 0.3385 - val_loss: 0.5954\n",
      "\n",
      "val-roc-auc: 0.6357                                                                                                    \n",
      "\n",
      "Epoch 23/100\n",
      "Learning Rate: 1.5600000551785342e-05\n",
      "4/4 [==============================] - 399s 101s/step - loss: 0.3429 - val_loss: 0.5891\n",
      "\n",
      "val-roc-auc: 0.6377                                                                                                    \n",
      "\n",
      "Epoch 24/100\n",
      "Learning Rate: 7.800000275892671e-06\n",
      "4/4 [==============================] - 396s 101s/step - loss: 0.3400 - val_loss: 0.5885\n",
      "\n",
      "val-roc-auc: 0.638                                                                                                    \n",
      "\n"
     ]
    }
   ],
   "source": [
    "# Exponential decay learning rate scheduler comes from: \n",
    "#      https://towardsdatascience.com/learning-rate-schedule-in-practice-an-example-with-keras-and-tensorflow-2-0-2f48b2888a0c\n",
    "def lr_exp_decay(epoch, lr):\n",
    "    print('Previous lr: {}'.format(lr))\n",
    "    k = 0\n",
    "    return lr * np.exp(-k*epoch)\n",
    "\n",
    "# This AUC will be calculated at the end of each epoch on the validation set and be used for early stopping\n",
    "auc = ROAUCMetrics(val_data=(X_val, y_val[:, target]))\n",
    "\n",
    "eval_callback = LambdaCallback(on_epoch_end=lambda epoch, logs: logs.update({'auc': auc.val_aucs[-1]})) \n",
    "\n",
    "# reduce_lr = ReduceLROnPlateau(monitor='val_loss', factor=0.5, patience=5, mode='min', min_delta=0.0001, min_lr=5e-6)\n",
    "reduce_lr = ReduceLROnPlateau(monitor='auc', factor=0.5, patience=2, mode='max', min_delta=0.005)\n",
    "\n",
    "lr_callback = LambdaCallback(on_epoch_begin=lambda epoch, logs: print('Learning Rate: {}'.format(round(model.optimizer.get_config()['learning_rate'], 7))))\n",
    "\n",
    "# scheduler = LearningRateScheduler(lr_exp_decay, verbose=1)\n",
    "\n",
    "early_stopping = EarlyStopping(monitor='auc', mode='max', patience=10, restore_best_weights=True)\n",
    "\n",
    "history = model.fit(train_iterator, steps_per_epoch=len(train_iterator), epochs=100, verbose=1, validation_data=val_iterator, \n",
    "                 callbacks=[\n",
    "                     auc,\n",
    "                     eval_callback,\n",
    "                     reduce_lr,\n",
    "                     lr_callback,\n",
    "                     early_stopping,\n",
    "#                      scheduler,\n",
    "                     keras.callbacks.ModelCheckpoint(\n",
    "                         'models_baby/model_7.{epoch:02d}-{auc:.2f}.hdf5',\n",
    "                         save_best_only=False)\n",
    "                 ])"
   ]
  },
  {
   "cell_type": "code",
   "execution_count": 173,
   "id": "20afb1d2-325e-4a2f-bd96-9c758836f3d3",
   "metadata": {},
   "outputs": [
    {
     "data": {
      "image/png": "[encoded data removed]",
      "text/plain": [
       "<Figure size 432x288 with 1 Axes>"
      ]
     },
     "metadata": {},
     "output_type": "display_data"
    }
   ],
   "source": [
    "plt.plot(history.history['loss'])\n",
    "plt.plot(history.history['val_loss'])\n",
    "\n",
    "plt.title('Loss vs. Training Epoch')\n",
    "plt.xlabel('Epoch')\n",
    "plt.ylabel('Loss')\n",
    "plt.legend(['Train','Validation']);"
   ]
  },
  {
   "cell_type": "code",
   "execution_count": 174,
   "id": "995d81cc-ce5a-462c-827e-26faf9df7921",
   "metadata": {},
   "outputs": [],
   "source": [
    "y_pred = model.predict(X_val)"
   ]
  },
  {
   "cell_type": "code",
   "execution_count": 175,
   "id": "101a1fef-d394-4bb6-b590-5818446f765c",
   "metadata": {},
   "outputs": [
    {
     "data": {
      "text/plain": [
       "0.6467350885021567"
      ]
     },
     "execution_count": 175,
     "metadata": {},
     "output_type": "execute_result"
    }
   ],
   "source": [
    "# batch_size=256, initial_lr=0.0005\n",
    "\n",
    "roc_auc_score(y_val[:,target], y_pred)"
   ]
  },
  {
   "cell_type": "markdown",
   "id": "a780b72f-37df-422c-b88b-50b440fbe32a",
   "metadata": {},
   "source": [
    "# 8) Now (VGG16) w/ trainable layer_5 (just first target, 'Atelectasis') and drop Dense layers"
   ]
  },
  {
   "cell_type": "code",
   "execution_count": 176,
   "id": "f3997815-aad0-4a81-8615-98979d725052",
   "metadata": {},
   "outputs": [],
   "source": [
    "## Targets: 'Atelectasis'=0, 'Cardiomegaly'=1, 'Edema'=2, 'Pleaural Effusion'=3\n",
    "\n",
    "target = 0"
   ]
  },
  {
   "cell_type": "code",
   "execution_count": 177,
   "id": "9c6b02ab-fb79-4db3-88f1-fca1319f25e0",
   "metadata": {},
   "outputs": [],
   "source": [
    "## FOR REPEATABILITY (must re-run this before EVERY model training run):\n",
    "\n",
    "# 1. Set the `PYTHONHASHSEED` environment variable at a fixed value\n",
    "import os\n",
    "os.environ['PYTHONHASHSEED']=str(0)\n",
    "\n",
    "# 2. Set the `python` built-in pseudo-random generator at a fixed value\n",
    "import random\n",
    "random.seed(1)\n",
    "\n",
    "# 3. Set the `numpy` pseudo-random generator at a fixed value\n",
    "import numpy as np\n",
    "np.random.seed(2)\n",
    "\n",
    "# 4. Set the `tensorflow` pseudo-random generator at a fixed value\n",
    "import tensorflow as tf\n",
    "tf.random.set_seed(2)"
   ]
  },
  {
   "cell_type": "code",
   "execution_count": 178,
   "id": "77ed164f-32f8-4f3d-ad35-bc0bd3719e69",
   "metadata": {},
   "outputs": [
    {
     "name": "stdout",
     "output_type": "stream",
     "text": [
      "Batches train=4, val=1\n"
     ]
    }
   ],
   "source": [
    "batch_size = 256\n",
    "\n",
    "datagen = ImageDataGenerator(featurewise_center=True, featurewise_std_normalization=True)\n",
    "\n",
    "# calculate mean on training dataset\n",
    "datagen.fit(X_train)\n",
    "\n",
    "# prepare iterators to scale images\n",
    "train_iterator = datagen.flow(X_train, y_train[:, target], batch_size=batch_size)\n",
    "\n",
    "val_iterator = datagen.flow(X_val, y_val[:, target], batch_size=batch_size)\n",
    "\n",
    "print('Batches train=%d, val=%d' % (len(train_iterator), len(val_iterator)))"
   ]
  },
  {
   "cell_type": "code",
   "execution_count": 179,
   "id": "34d34537-dbbc-4b2c-b252-62981b873de2",
   "metadata": {},
   "outputs": [
    {
     "name": "stdout",
     "output_type": "stream",
     "text": [
      "Layer input_2 frozen.\n",
      "Layer block1_conv1 frozen.\n",
      "Layer block1_conv2 frozen.\n",
      "Layer block1_pool frozen.\n",
      "Layer block2_conv1 frozen.\n",
      "Layer block2_conv2 frozen.\n",
      "Layer block2_pool frozen.\n",
      "Layer block3_conv1 frozen.\n",
      "Layer block3_conv2 frozen.\n",
      "Layer block3_conv3 frozen.\n",
      "Layer block3_pool frozen.\n",
      "Layer block4_conv1 frozen.\n",
      "Layer block4_conv2 frozen.\n",
      "Layer block4_conv3 frozen.\n",
      "Layer block4_pool frozen.\n",
      "Model: \"vgg16\"\n",
      "_________________________________________________________________\n",
      "Layer (type)                 Output Shape              Param #   \n",
      "=================================================================\n",
      "input_2 (InputLayer)         [(None, 224, 273, 3)]     0         \n",
      "_________________________________________________________________\n",
      "block1_conv1 (Conv2D)        (None, 224, 273, 64)      1792      \n",
      "_________________________________________________________________\n",
      "block1_conv2 (Conv2D)        (None, 224, 273, 64)      36928     \n",
      "_________________________________________________________________\n",
      "block1_pool (MaxPooling2D)   (None, 112, 136, 64)      0         \n",
      "_________________________________________________________________\n",
      "block2_conv1 (Conv2D)        (None, 112, 136, 128)     73856     \n",
      "_________________________________________________________________\n",
      "block2_conv2 (Conv2D)        (None, 112, 136, 128)     147584    \n",
      "_________________________________________________________________\n",
      "block2_pool (MaxPooling2D)   (None, 56, 68, 128)       0         \n",
      "_________________________________________________________________\n",
      "block3_conv1 (Conv2D)        (None, 56, 68, 256)       295168    \n",
      "_________________________________________________________________\n",
      "block3_conv2 (Conv2D)        (None, 56, 68, 256)       590080    \n",
      "_________________________________________________________________\n",
      "block3_conv3 (Conv2D)        (None, 56, 68, 256)       590080    \n",
      "_________________________________________________________________\n",
      "block3_pool (MaxPooling2D)   (None, 28, 34, 256)       0         \n",
      "_________________________________________________________________\n",
      "block4_conv1 (Conv2D)        (None, 28, 34, 512)       1180160   \n",
      "_________________________________________________________________\n",
      "block4_conv2 (Conv2D)        (None, 28, 34, 512)       2359808   \n",
      "_________________________________________________________________\n",
      "block4_conv3 (Conv2D)        (None, 28, 34, 512)       2359808   \n",
      "_________________________________________________________________\n",
      "block4_pool (MaxPooling2D)   (None, 14, 17, 512)       0         \n",
      "_________________________________________________________________\n",
      "block5_conv1 (Conv2D)        (None, 14, 17, 512)       2359808   \n",
      "_________________________________________________________________\n",
      "block5_conv2 (Conv2D)        (None, 14, 17, 512)       2359808   \n",
      "_________________________________________________________________\n",
      "block5_conv3 (Conv2D)        (None, 14, 17, 512)       2359808   \n",
      "_________________________________________________________________\n",
      "block5_pool (MaxPooling2D)   (None, 7, 8, 512)         0         \n",
      "=================================================================\n",
      "Total params: 14,714,688\n",
      "Trainable params: 7,079,424\n",
      "Non-trainable params: 7,635,264\n",
      "_________________________________________________________________\n"
     ]
    }
   ],
   "source": [
    "keras.backend.clear_session()\n",
    "\n",
    "# dropout = 0.25\n",
    "\n",
    "from tensorflow.keras.applications import VGG16\n",
    "\n",
    "# This converts the 1-channel X-rays to 3-channel images a required by mobilenet_v2\n",
    "input_tensor = Input(shape=(X_train.shape[1:]))\n",
    "x = Conv2D(3,(3,3),padding='same')(input_tensor)\n",
    "\n",
    "base_model = VGG16(weights='imagenet', \n",
    "                   include_top=False, \n",
    "#                    pooling='avg',\n",
    "                   input_shape=(X_train.shape[1], X_train.shape[2], 3)) \n",
    " \n",
    "for layer in base_model.layers:\n",
    "  if 'block5_' not in layer.name:\n",
    "      layer.trainable = False\n",
    "      print('Layer ' + layer.name + ' frozen.')\n",
    "base_model.summary()"
   ]
  },
  {
   "cell_type": "code",
   "execution_count": 180,
   "id": "f4a6dfd7-d49e-4a8a-82c8-00981537da86",
   "metadata": {},
   "outputs": [],
   "source": [
    "out = base_model(x)\n",
    "new_base_model = Model(inputs=input_tensor, outputs=out)\n",
    "    \n",
    "# Establish new fully connected block\n",
    "x = new_base_model.output\n",
    "x = Flatten()(x) # flatten from convolution tensor output \n",
    "# x = Dense(units=128, activation='relu')(x) # number of layers and units are hyperparameters, as usual\n",
    "# x = Dropout(dropout, seed=2)(x) # adding Dropout for regularization between the Dense layers\n",
    "# x = Dense(units=64, activation='relu')(x)\n",
    "# x = Dropout(dropout, seed=1)(x) # adding Dropout for regularization between the Dense layers\n",
    "predictions = Dense(units=1, activation='sigmoid')(x) # 1 target labels\n",
    "\n",
    "# define formal model object to train and compile it as usual\n",
    "model = Model(inputs=new_base_model.input, outputs=predictions)"
   ]
  },
  {
   "cell_type": "code",
   "execution_count": 181,
   "id": "ffe8b109-bbe3-4f7d-bc74-c5328b475b47",
   "metadata": {},
   "outputs": [
    {
     "name": "stdout",
     "output_type": "stream",
     "text": [
      "Model: \"model_1\"\n",
      "_________________________________________________________________\n",
      "Layer (type)                 Output Shape              Param #   \n",
      "=================================================================\n",
      "input_1 (InputLayer)         [(None, 224, 273, 1)]     0         \n",
      "_________________________________________________________________\n",
      "conv2d (Conv2D)              (None, 224, 273, 3)       30        \n",
      "_________________________________________________________________\n",
      "vgg16 (Functional)           (None, 7, 8, 512)         14714688  \n",
      "_________________________________________________________________\n",
      "flatten (Flatten)            (None, 28672)             0         \n",
      "_________________________________________________________________\n",
      "dense (Dense)                (None, 1)                 28673     \n",
      "=================================================================\n",
      "Total params: 14,743,391\n",
      "Trainable params: 7,108,127\n",
      "Non-trainable params: 7,635,264\n",
      "_________________________________________________________________\n"
     ]
    }
   ],
   "source": [
    "model.summary()"
   ]
  },
  {
   "cell_type": "code",
   "execution_count": 182,
   "id": "9b09bd7c-9002-483e-b6ed-4ba3bd5d62eb",
   "metadata": {},
   "outputs": [],
   "source": [
    "initial_learning_rate = 0.0005\n",
    "adam_opt = keras.optimizers.Adam(learning_rate=initial_learning_rate, \n",
    "                                 beta_1=0.9, \n",
    "                                 beta_2=0.999, \n",
    "                                 epsilon=1e-07, \n",
    "                                 amsgrad=False)\n",
    "\n",
    "model.compile(\n",
    "    loss='binary_crossentropy',\n",
    "    optimizer=adam_opt\n",
    ")"
   ]
  },
  {
   "cell_type": "code",
   "execution_count": 183,
   "id": "b2c637e3-d639-445d-9962-f7fccc160560",
   "metadata": {},
   "outputs": [
    {
     "data": {
      "text/plain": [
       "0.0005"
      ]
     },
     "execution_count": 183,
     "metadata": {},
     "output_type": "execute_result"
    }
   ],
   "source": [
    "model.optimizer.get_config()['learning_rate']"
   ]
  },
  {
   "cell_type": "code",
   "execution_count": 184,
   "id": "5182d330-abb8-4f34-938e-f191af2035d8",
   "metadata": {
    "tags": []
   },
   "outputs": [
    {
     "name": "stdout",
     "output_type": "stream",
     "text": [
      "Epoch 1/100\n",
      "Learning Rate: 0.0005\n",
      "4/4 [==============================] - 413s 110s/step - loss: 1.0106 - val_loss: 0.6603\n",
      "\n",
      "val-roc-auc: 0.5391                                                                                                    \n",
      "\n",
      "Epoch 2/100\n",
      "Learning Rate: 0.0005000000237487257\n",
      "4/4 [==============================] - 412s 110s/step - loss: 0.6368 - val_loss: 0.6469\n",
      "\n",
      "val-roc-auc: 0.5959                                                                                                    \n",
      "\n",
      "Epoch 3/100\n",
      "Learning Rate: 0.0005000000237487257\n",
      "4/4 [==============================] - 417s 106s/step - loss: 0.6339 - val_loss: 0.6287\n",
      "\n",
      "val-roc-auc: 0.6203                                                                                                    \n",
      "\n",
      "Epoch 4/100\n",
      "Learning Rate: 0.0005000000237487257\n",
      "4/4 [==============================] - 415s 105s/step - loss: 0.6207 - val_loss: 0.6188\n",
      "\n",
      "val-roc-auc: 0.6252                                                                                                    \n",
      "\n",
      "Epoch 5/100\n",
      "Learning Rate: 0.0005000000237487257\n",
      "4/4 [==============================] - 413s 110s/step - loss: 0.6129 - val_loss: 0.6090\n",
      "\n",
      "val-roc-auc: 0.6345                                                                                                    \n",
      "\n",
      "Epoch 6/100\n",
      "Learning Rate: 0.0005000000237487257\n",
      "4/4 [==============================] - 413s 110s/step - loss: 0.6019 - val_loss: 0.6032\n",
      "\n",
      "val-roc-auc: 0.6406                                                                                                    \n",
      "\n",
      "Epoch 7/100\n",
      "Learning Rate: 0.0005000000237487257\n",
      "4/4 [==============================] - 418s 106s/step - loss: 0.6001 - val_loss: 0.6102\n",
      "\n",
      "val-roc-auc: 0.6431                                                                                                    \n",
      "\n",
      "Epoch 8/100\n",
      "Learning Rate: 0.0005000000237487257\n",
      "4/4 [==============================] - 417s 106s/step - loss: 0.5855 - val_loss: 0.6047\n",
      "\n",
      "val-roc-auc: 0.6383                                                                                                    \n",
      "\n",
      "Epoch 9/100\n",
      "Learning Rate: 0.0002500000118743628\n",
      "4/4 [==============================] - 422s 107s/step - loss: 0.5707 - val_loss: 0.6003\n",
      "\n",
      "val-roc-auc: 0.6407                                                                                                    \n",
      "\n",
      "Epoch 10/100\n",
      "Learning Rate: 0.0002500000118743628\n",
      "4/4 [==============================] - 418s 106s/step - loss: 0.5586 - val_loss: 0.5984\n",
      "\n",
      "val-roc-auc: 0.6407                                                                                                    \n",
      "\n",
      "Epoch 11/100\n",
      "Learning Rate: 0.0001250000059371814\n",
      "4/4 [==============================] - 422s 108s/step - loss: 0.5492 - val_loss: 0.5976\n",
      "\n",
      "val-roc-auc: 0.6399                                                                                                    \n",
      "\n",
      "Epoch 12/100\n",
      "Learning Rate: 0.0001250000059371814\n",
      "4/4 [==============================] - 415s 105s/step - loss: 0.5431 - val_loss: 0.5969\n",
      "\n",
      "val-roc-auc: 0.6401                                                                                                    \n",
      "\n",
      "Epoch 13/100\n",
      "Learning Rate: 6.25000029685907e-05\n",
      "4/4 [==============================] - 415s 105s/step - loss: 0.5359 - val_loss: 0.5966\n",
      "\n",
      "val-roc-auc: 0.6402                                                                                                    \n",
      "\n",
      "Epoch 14/100\n",
      "Learning Rate: 6.25000029685907e-05\n",
      "4/4 [==============================] - 412s 104s/step - loss: 0.5321 - val_loss: 0.5966\n",
      "\n",
      "val-roc-auc: 0.6403                                                                                                    \n",
      "\n",
      "Epoch 15/100\n",
      "Learning Rate: 3.1200001103570685e-05\n",
      "4/4 [==============================] - 409s 104s/step - loss: 0.5279 - val_loss: 0.5964\n",
      "\n",
      "val-roc-auc: 0.6405                                                                                                    \n",
      "\n",
      "Epoch 16/100\n",
      "Learning Rate: 3.1200001103570685e-05\n",
      "4/4 [==============================] - 409s 104s/step - loss: 0.5256 - val_loss: 0.5963\n",
      "\n",
      "val-roc-auc: 0.6419                                                                                                    \n",
      "\n",
      "Epoch 17/100\n",
      "Learning Rate: 1.5600000551785342e-05\n",
      "4/4 [==============================] - 407s 108s/step - loss: 0.5235 - val_loss: 0.5962\n",
      "\n",
      "val-roc-auc: 0.6423                                                                                                    \n",
      "\n"
     ]
    }
   ],
   "source": [
    "# Exponential decay learning rate scheduler comes from: \n",
    "#      https://towardsdatascience.com/learning-rate-schedule-in-practice-an-example-with-keras-and-tensorflow-2-0-2f48b2888a0c\n",
    "def lr_exp_decay(epoch, lr):\n",
    "    print('Previous lr: {}'.format(lr))\n",
    "    k = 0\n",
    "    return lr * np.exp(-k*epoch)\n",
    "\n",
    "# This AUC will be calculated at the end of each epoch on the validation set and be used for early stopping\n",
    "auc = ROAUCMetrics(val_data=(X_val, y_val[:, target]))\n",
    "\n",
    "eval_callback = LambdaCallback(on_epoch_end=lambda epoch, logs: logs.update({'auc': auc.val_aucs[-1]})) \n",
    "\n",
    "# reduce_lr = ReduceLROnPlateau(monitor='val_loss', factor=0.5, patience=5, mode='min', min_delta=0.0001, min_lr=5e-6)\n",
    "reduce_lr = ReduceLROnPlateau(monitor='auc', factor=0.5, patience=2, mode='max', min_delta=0.005)\n",
    "\n",
    "lr_callback = LambdaCallback(on_epoch_begin=lambda epoch, logs: print('Learning Rate: {}'.format(round(model.optimizer.get_config()['learning_rate'], 7))))\n",
    "\n",
    "# scheduler = LearningRateScheduler(lr_exp_decay, verbose=1)\n",
    "\n",
    "early_stopping = EarlyStopping(monitor='auc', mode='max', patience=10, restore_best_weights=True)\n",
    "\n",
    "history = model.fit(train_iterator, steps_per_epoch=len(train_iterator), epochs=100, verbose=1, validation_data=val_iterator, \n",
    "                 callbacks=[\n",
    "                     auc,\n",
    "                     eval_callback,\n",
    "                     reduce_lr,\n",
    "                     lr_callback,\n",
    "                     early_stopping,\n",
    "#                      scheduler,\n",
    "                     keras.callbacks.ModelCheckpoint(\n",
    "                         'models_baby/model_8.{epoch:02d}-{auc:.2f}.hdf5',\n",
    "                         save_best_only=False)\n",
    "                 ])"
   ]
  },
  {
   "cell_type": "code",
   "execution_count": 185,
   "id": "83b84d26-db8d-4fb2-9d77-20843ba715f4",
   "metadata": {},
   "outputs": [
    {
     "data": {
      "image/png": "[encoded data removed]",
      "text/plain": [
       "<Figure size 432x288 with 1 Axes>"
      ]
     },
     "metadata": {},
     "output_type": "display_data"
    }
   ],
   "source": [
    "plt.plot(history.history['loss'])\n",
    "plt.plot(history.history['val_loss'])\n",
    "\n",
    "plt.title('Loss vs. Training Epoch')\n",
    "plt.xlabel('Epoch')\n",
    "plt.ylabel('Loss')\n",
    "plt.legend(['Train','Validation']);"
   ]
  },
  {
   "cell_type": "code",
   "execution_count": 186,
   "id": "b2231282-321b-4cf9-af2c-e13c18020f52",
   "metadata": {},
   "outputs": [],
   "source": [
    "y_pred = model.predict(X_val)"
   ]
  },
  {
   "cell_type": "code",
   "execution_count": 187,
   "id": "74520da7-b55c-40bd-a7ab-5de9d5c4ef00",
   "metadata": {},
   "outputs": [
    {
     "data": {
      "text/plain": [
       "0.6430908820467053"
      ]
     },
     "execution_count": 187,
     "metadata": {},
     "output_type": "execute_result"
    }
   ],
   "source": [
    "# batch_size=256, initial_lr=0.0005\n",
    "\n",
    "roc_auc_score(y_val[:,target], y_pred)"
   ]
  },
  {
   "cell_type": "code",
   "execution_count": 189,
   "id": "1c00b58d-a6cf-443d-bef3-746e2cb5db15",
   "metadata": {},
   "outputs": [],
   "source": [
    "y_pred_train = model.predict(X_train)"
   ]
  },
  {
   "cell_type": "code",
   "execution_count": 190,
   "id": "7cb354e3-f053-41d9-9058-ed74e8d8b38f",
   "metadata": {},
   "outputs": [
    {
     "data": {
      "text/plain": [
       "0.6691842900302114"
      ]
     },
     "execution_count": 190,
     "metadata": {},
     "output_type": "execute_result"
    }
   ],
   "source": [
    "roc_auc_score(y_train[:,target], y_pred_train)"
   ]
  },
  {
   "cell_type": "markdown",
   "id": "390d4673-092e-4c9d-8b11-0f495bcc914c",
   "metadata": {},
   "source": [
    "# 9) VGG16 + 3 Dense Layers (128, 64, 1, dropout) w/ trainable layer_5 (first target, 'Atelectasis')"
   ]
  },
  {
   "cell_type": "code",
   "execution_count": 250,
   "id": "6c8b0d33-5362-4397-9b95-9b6d1fbcc1a4",
   "metadata": {},
   "outputs": [],
   "source": [
    "## Targets: 'Atelectasis'=0, 'Cardiomegaly'=1, 'Edema'=2, 'Pleaural Effusion'=3\n",
    "\n",
    "target = 0"
   ]
  },
  {
   "cell_type": "code",
   "execution_count": 251,
   "id": "7858de28-d504-4b77-9f3d-0b4967af2ac2",
   "metadata": {},
   "outputs": [],
   "source": [
    "## FOR REPEATABILITY (must re-run this before EVERY model training run):\n",
    "\n",
    "# 1. Set the `PYTHONHASHSEED` environment variable at a fixed value\n",
    "import os\n",
    "os.environ['PYTHONHASHSEED']=str(0)\n",
    "\n",
    "# 2. Set the `python` built-in pseudo-random generator at a fixed value\n",
    "import random\n",
    "random.seed(1)\n",
    "\n",
    "# 3. Set the `numpy` pseudo-random generator at a fixed value\n",
    "import numpy as np\n",
    "np.random.seed(2)\n",
    "\n",
    "# 4. Set the `tensorflow` pseudo-random generator at a fixed value\n",
    "import tensorflow as tf\n",
    "tf.random.set_seed(2)"
   ]
  },
  {
   "cell_type": "code",
   "execution_count": 252,
   "id": "9c41e042-7f54-445f-9022-b34e5f7ef8ad",
   "metadata": {},
   "outputs": [
    {
     "name": "stdout",
     "output_type": "stream",
     "text": [
      "Batches train=4, val=1\n"
     ]
    }
   ],
   "source": [
    "batch_size = 256\n",
    "\n",
    "datagen = ImageDataGenerator(featurewise_center=True, featurewise_std_normalization=True)\n",
    "\n",
    "# calculate mean on training dataset\n",
    "datagen.fit(X_train)\n",
    "\n",
    "# prepare iterators to scale images\n",
    "train_iterator = datagen.flow(X_train, y_train[:, target], batch_size=batch_size)\n",
    "\n",
    "val_iterator = datagen.flow(X_val, y_val[:, target], batch_size=batch_size)\n",
    "\n",
    "print('Batches train=%d, val=%d' % (len(train_iterator), len(val_iterator)))"
   ]
  },
  {
   "cell_type": "code",
   "execution_count": 253,
   "id": "901a7799-6e4f-4e1e-8d89-5f07c503b91a",
   "metadata": {},
   "outputs": [
    {
     "name": "stdout",
     "output_type": "stream",
     "text": [
      "Layer input_2 frozen.\n",
      "Layer block1_conv1 frozen.\n",
      "Layer block1_conv2 frozen.\n",
      "Layer block1_pool frozen.\n",
      "Layer block2_conv1 frozen.\n",
      "Layer block2_conv2 frozen.\n",
      "Layer block2_pool frozen.\n",
      "Layer block3_conv1 frozen.\n",
      "Layer block3_conv2 frozen.\n",
      "Layer block3_conv3 frozen.\n",
      "Layer block3_pool frozen.\n",
      "Layer block4_conv1 frozen.\n",
      "Layer block4_conv2 frozen.\n",
      "Layer block4_conv3 frozen.\n",
      "Layer block4_pool frozen.\n",
      "Model: \"vgg16\"\n",
      "_________________________________________________________________\n",
      "Layer (type)                 Output Shape              Param #   \n",
      "=================================================================\n",
      "input_2 (InputLayer)         [(None, 224, 273, 3)]     0         \n",
      "_________________________________________________________________\n",
      "block1_conv1 (Conv2D)        (None, 224, 273, 64)      1792      \n",
      "_________________________________________________________________\n",
      "block1_conv2 (Conv2D)        (None, 224, 273, 64)      36928     \n",
      "_________________________________________________________________\n",
      "block1_pool (MaxPooling2D)   (None, 112, 136, 64)      0         \n",
      "_________________________________________________________________\n",
      "block2_conv1 (Conv2D)        (None, 112, 136, 128)     73856     \n",
      "_________________________________________________________________\n",
      "block2_conv2 (Conv2D)        (None, 112, 136, 128)     147584    \n",
      "_________________________________________________________________\n",
      "block2_pool (MaxPooling2D)   (None, 56, 68, 128)       0         \n",
      "_________________________________________________________________\n",
      "block3_conv1 (Conv2D)        (None, 56, 68, 256)       295168    \n",
      "_________________________________________________________________\n",
      "block3_conv2 (Conv2D)        (None, 56, 68, 256)       590080    \n",
      "_________________________________________________________________\n",
      "block3_conv3 (Conv2D)        (None, 56, 68, 256)       590080    \n",
      "_________________________________________________________________\n",
      "block3_pool (MaxPooling2D)   (None, 28, 34, 256)       0         \n",
      "_________________________________________________________________\n",
      "block4_conv1 (Conv2D)        (None, 28, 34, 512)       1180160   \n",
      "_________________________________________________________________\n",
      "block4_conv2 (Conv2D)        (None, 28, 34, 512)       2359808   \n",
      "_________________________________________________________________\n",
      "block4_conv3 (Conv2D)        (None, 28, 34, 512)       2359808   \n",
      "_________________________________________________________________\n",
      "block4_pool (MaxPooling2D)   (None, 14, 17, 512)       0         \n",
      "_________________________________________________________________\n",
      "block5_conv1 (Conv2D)        (None, 14, 17, 512)       2359808   \n",
      "_________________________________________________________________\n",
      "block5_conv2 (Conv2D)        (None, 14, 17, 512)       2359808   \n",
      "_________________________________________________________________\n",
      "block5_conv3 (Conv2D)        (None, 14, 17, 512)       2359808   \n",
      "_________________________________________________________________\n",
      "block5_pool (MaxPooling2D)   (None, 7, 8, 512)         0         \n",
      "=================================================================\n",
      "Total params: 14,714,688\n",
      "Trainable params: 7,079,424\n",
      "Non-trainable params: 7,635,264\n",
      "_________________________________________________________________\n"
     ]
    }
   ],
   "source": [
    "keras.backend.clear_session()\n",
    "\n",
    "from tensorflow.keras.applications import VGG16\n",
    "\n",
    "# This converts the 1-channel X-rays to 3-channel images a required by mobilenet_v2\n",
    "input_tensor = Input(shape=(X_train.shape[1:]))\n",
    "x = Conv2D(3,(3,3),padding='same')(input_tensor)\n",
    "\n",
    "base_model = VGG16(weights='imagenet', \n",
    "                   include_top=False, \n",
    "#                    pooling='avg',\n",
    "                   input_shape=(X_train.shape[1], X_train.shape[2], 3)) \n",
    " \n",
    "for layer in base_model.layers:\n",
    "  if 'block5_' not in layer.name:\n",
    "      layer.trainable = False\n",
    "      print('Layer ' + layer.name + ' frozen.')\n",
    "base_model.summary()"
   ]
  },
  {
   "cell_type": "code",
   "execution_count": 254,
   "id": "99f79354-b073-4ef8-8f25-d1e85276b798",
   "metadata": {},
   "outputs": [],
   "source": [
    "dropout = 0.3\n",
    "l1_reg = 0.000001\n",
    "l2_reg = 0.00001\n",
    "\n",
    "out = base_model(x)\n",
    "new_base_model = Model(inputs=input_tensor, outputs=out)\n",
    "    \n",
    "# Establish new fully connected block\n",
    "x = new_base_model.output\n",
    "x = Flatten()(x) # flatten from convolution tensor output \n",
    "# x = Dense(units=128, activation='relu')(x)\n",
    "x = Dense(units=128, activation='relu', kernel_regularizer=regularizers.l1_l2(l1=l1_reg, l2=l2_reg))(x)\n",
    "x = Dropout(dropout, seed=2)(x) # adding Dropout for regularization between the Dense layers\n",
    "x = Dense(units=64, activation='relu', kernel_regularizer=regularizers.l1_l2(l1=l1_reg, l2=l2_reg))(x)\n",
    "x = Dropout(dropout, seed=1)(x) # adding Dropout for regularization between the Dense layers\n",
    "predictions = Dense(units=1, activation='sigmoid')(x) # 1 target labels\n",
    "\n",
    "# define formal model object to train and compile it as usual\n",
    "model = Model(inputs=new_base_model.input, outputs=predictions)"
   ]
  },
  {
   "cell_type": "code",
   "execution_count": 255,
   "id": "e1145fc2-ebe5-4e65-84a9-3d3fe00ecb42",
   "metadata": {},
   "outputs": [
    {
     "name": "stdout",
     "output_type": "stream",
     "text": [
      "Model: \"model_1\"\n",
      "_________________________________________________________________\n",
      "Layer (type)                 Output Shape              Param #   \n",
      "=================================================================\n",
      "input_1 (InputLayer)         [(None, 224, 273, 1)]     0         \n",
      "_________________________________________________________________\n",
      "conv2d (Conv2D)              (None, 224, 273, 3)       30        \n",
      "_________________________________________________________________\n",
      "vgg16 (Functional)           (None, 7, 8, 512)         14714688  \n",
      "_________________________________________________________________\n",
      "flatten (Flatten)            (None, 28672)             0         \n",
      "_________________________________________________________________\n",
      "dense (Dense)                (None, 128)               3670144   \n",
      "_________________________________________________________________\n",
      "dropout (Dropout)            (None, 128)               0         \n",
      "_________________________________________________________________\n",
      "dense_1 (Dense)              (None, 64)                8256      \n",
      "_________________________________________________________________\n",
      "dropout_1 (Dropout)          (None, 64)                0         \n",
      "_________________________________________________________________\n",
      "dense_2 (Dense)              (None, 1)                 65        \n",
      "=================================================================\n",
      "Total params: 18,393,183\n",
      "Trainable params: 10,757,919\n",
      "Non-trainable params: 7,635,264\n",
      "_________________________________________________________________\n"
     ]
    }
   ],
   "source": [
    "model.summary()"
   ]
  },
  {
   "cell_type": "code",
   "execution_count": 256,
   "id": "bd29d02d-fff1-48c2-8739-9c3f01a24b7a",
   "metadata": {},
   "outputs": [],
   "source": [
    "initial_learning_rate = 0.0001\n",
    "adam_opt = keras.optimizers.Adam(learning_rate=initial_learning_rate, \n",
    "                                 beta_1=0.9, \n",
    "                                 beta_2=0.999, \n",
    "                                 epsilon=1e-07, \n",
    "                                 amsgrad=False)\n",
    "\n",
    "model.compile(\n",
    "    loss='binary_crossentropy',\n",
    "    optimizer=adam_opt\n",
    ")"
   ]
  },
  {
   "cell_type": "code",
   "execution_count": 257,
   "id": "28378623-74c0-4d5b-a07d-5ba380bb1a43",
   "metadata": {},
   "outputs": [
    {
     "data": {
      "text/plain": [
       "0.0001"
      ]
     },
     "execution_count": 257,
     "metadata": {},
     "output_type": "execute_result"
    }
   ],
   "source": [
    "model.optimizer.get_config()['learning_rate']"
   ]
  },
  {
   "cell_type": "code",
   "execution_count": 258,
   "id": "aecc93ec-e8a9-4c9f-b4c9-1d9e7065aed4",
   "metadata": {
    "tags": []
   },
   "outputs": [
    {
     "name": "stdout",
     "output_type": "stream",
     "text": [
      "Epoch 1/100\n",
      "Learning Rate: 0.0001\n",
      "4/4 [==============================] - 424s 112s/step - loss: 0.6832 - val_loss: 0.6500\n",
      "\n",
      "val-roc-auc: 0.5557                                                                                                    \n",
      "\n",
      "Epoch 2/100\n",
      "Learning Rate: 9.999999747378752e-05\n",
      "4/4 [==============================] - 452s 121s/step - loss: 0.6473 - val_loss: 0.6435\n",
      "\n",
      "val-roc-auc: 0.575                                                                                                    \n",
      "\n",
      "Epoch 3/100\n",
      "Learning Rate: 9.999999747378752e-05\n",
      "4/4 [==============================] - 390s 95s/step - loss: 0.6367 - val_loss: 0.6376\n",
      "\n",
      "val-roc-auc: 0.5971                                                                                                    \n",
      "\n",
      "Epoch 4/100\n",
      "Learning Rate: 9.999999747378752e-05\n",
      "4/4 [==============================] - 405s 115s/step - loss: 0.6022 - val_loss: 0.6289\n",
      "\n",
      "val-roc-auc: 0.6151                                                                                                    \n",
      "\n",
      "Epoch 5/100\n",
      "Learning Rate: 9.999999747378752e-05\n",
      "4/4 [==============================] - 437s 118s/step - loss: 0.5899 - val_loss: 0.6195\n",
      "\n",
      "val-roc-auc: 0.6389                                                                                                    \n",
      "\n",
      "Epoch 6/100\n",
      "Learning Rate: 9.999999747378752e-05\n",
      "4/4 [==============================] - 433s 116s/step - loss: 0.5446 - val_loss: 0.6157\n",
      "\n",
      "val-roc-auc: 0.6447                                                                                                    \n",
      "\n",
      "Epoch 7/100\n",
      "Learning Rate: 9.999999747378752e-05\n",
      "4/4 [==============================] - 431s 111s/step - loss: 0.5246 - val_loss: 0.6370\n",
      "\n",
      "val-roc-auc: 0.652                                                                                                    \n",
      "\n",
      "Epoch 8/100\n",
      "Learning Rate: 9.999999747378752e-05\n",
      "4/4 [==============================] - 435s 112s/step - loss: 0.4599 - val_loss: 0.6240\n",
      "\n",
      "val-roc-auc: 0.6521                                                                                                    \n",
      "\n",
      "Epoch 9/100\n",
      "Learning Rate: 9.999999747378752e-05\n",
      "4/4 [==============================] - 425s 109s/step - loss: 0.4334 - val_loss: 0.6171\n",
      "\n",
      "val-roc-auc: 0.6603                                                                                                    \n",
      "\n",
      "Epoch 10/100\n",
      "Learning Rate: 9.999999747378752e-05\n",
      "4/4 [==============================] - 426s 110s/step - loss: 0.3726 - val_loss: 0.6433\n",
      "\n",
      "val-roc-auc: 0.6503                                                                                                    \n",
      "\n",
      "Epoch 11/100\n",
      "Learning Rate: 9.999999747378752e-05\n",
      "4/4 [==============================] - 421s 108s/step - loss: 0.3644 - val_loss: 0.6368\n",
      "\n",
      "val-roc-auc: 0.6572                                                                                                    \n",
      "\n",
      "Epoch 12/100\n",
      "Learning Rate: 4.999999873689376e-05\n",
      "4/4 [==============================] - 418s 107s/step - loss: 0.2821 - val_loss: 0.6363\n",
      "\n",
      "val-roc-auc: 0.6421                                                                                                    \n",
      "\n",
      "Epoch 13/100\n",
      "Learning Rate: 4.999999873689376e-05\n",
      "4/4 [==============================] - 417s 107s/step - loss: 0.2584 - val_loss: 0.7358\n",
      "\n",
      "val-roc-auc: 0.5859                                                                                                    \n",
      "\n",
      "Epoch 14/100\n",
      "Learning Rate: 2.499999936844688e-05\n",
      "4/4 [==============================] - 417s 107s/step - loss: 0.2402 - val_loss: 0.6809\n",
      "\n",
      "val-roc-auc: 0.5782                                                                                                    \n",
      "\n",
      "Epoch 15/100\n",
      "Learning Rate: 2.499999936844688e-05\n",
      "4/4 [==============================] - 419s 107s/step - loss: 0.2110 - val_loss: 0.7639\n",
      "\n",
      "val-roc-auc: 0.5727                                                                                                    \n",
      "\n",
      "Epoch 16/100\n",
      "Learning Rate: 1.249999968422344e-05\n",
      "4/4 [==============================] - 419s 107s/step - loss: 0.2027 - val_loss: 0.7027\n",
      "\n",
      "val-roc-auc: 0.5895                                                                                                    \n",
      "\n",
      "Epoch 17/100\n",
      "Learning Rate: 1.249999968422344e-05\n",
      "4/4 [==============================] - 418s 112s/step - loss: 0.2013 - val_loss: 0.7051\n",
      "\n",
      "val-roc-auc: 0.5778                                                                                                    \n",
      "\n",
      "Epoch 18/100\n",
      "Learning Rate: 6.199999916134402e-06\n",
      "4/4 [==============================] - 419s 108s/step - loss: 0.1934 - val_loss: 0.7488\n",
      "\n",
      "val-roc-auc: 0.5656                                                                                                    \n",
      "\n",
      "Epoch 19/100\n",
      "Learning Rate: 6.199999916134402e-06\n",
      "4/4 [==============================] - 420s 108s/step - loss: 0.1881 - val_loss: 0.7397\n",
      "\n",
      "val-roc-auc: 0.5738                                                                                                    \n",
      "\n"
     ]
    }
   ],
   "source": [
    "# Exponential decay learning rate scheduler comes from: \n",
    "#      https://towardsdatascience.com/learning-rate-schedule-in-practice-an-example-with-keras-and-tensorflow-2-0-2f48b2888a0c\n",
    "def lr_exp_decay(epoch, lr):\n",
    "    print('Previous lr: {}'.format(lr))\n",
    "    k = 0\n",
    "    return lr * np.exp(-k*epoch)\n",
    "\n",
    "# This AUC will be calculated at the end of each epoch on the validation set and be used for early stopping\n",
    "auc = ROAUCMetrics(val_data=(X_val, y_val[:, target]))\n",
    "\n",
    "eval_callback = LambdaCallback(on_epoch_end=lambda epoch, logs: logs.update({'auc': auc.val_aucs[-1]})) \n",
    "\n",
    "# reduce_lr = ReduceLROnPlateau(monitor='val_loss', factor=0.5, patience=5, mode='min', min_delta=0.0001, min_lr=5e-6)\n",
    "reduce_lr = ReduceLROnPlateau(monitor='auc', factor=0.5, patience=2, mode='max', min_delta=0.002, min_lr=1e-6)\n",
    "\n",
    "lr_callback = LambdaCallback(on_epoch_begin=lambda epoch, logs: print('Learning Rate: {}'.format(round(model.optimizer.get_config()['learning_rate'], 7))))\n",
    "\n",
    "# scheduler = LearningRateScheduler(lr_exp_decay, verbose=1)\n",
    "\n",
    "early_stopping = EarlyStopping(monitor='auc', mode='max', patience=10, restore_best_weights=True)\n",
    "\n",
    "history = model.fit(train_iterator, steps_per_epoch=len(train_iterator), epochs=100, verbose=1, validation_data=val_iterator, \n",
    "                 callbacks=[\n",
    "                     auc,\n",
    "                     eval_callback,\n",
    "                     reduce_lr,\n",
    "                     lr_callback,\n",
    "                     early_stopping,\n",
    "#                      scheduler,\n",
    "                     keras.callbacks.ModelCheckpoint(\n",
    "                         'models_baby/model_9.{epoch:02d}-{auc:.4f}.hdf5',\n",
    "                         save_best_only=False)\n",
    "                 ])"
   ]
  },
  {
   "cell_type": "code",
   "execution_count": 259,
   "id": "daaf4993-8a45-4ca9-a19f-63b136924b4f",
   "metadata": {},
   "outputs": [
    {
     "data": {
      "image/png": "[encoded data removed]",
      "text/plain": [
       "<Figure size 432x288 with 1 Axes>"
      ]
     },
     "metadata": {},
     "output_type": "display_data"
    }
   ],
   "source": [
    "plt.plot(history.history['loss'])\n",
    "plt.plot(history.history['val_loss'])\n",
    "\n",
    "plt.title('Loss vs. Training Epoch')\n",
    "plt.xlabel('Epoch')\n",
    "plt.ylabel('Loss')\n",
    "plt.legend(['Train','Validation']);"
   ]
  },
  {
   "cell_type": "code",
   "execution_count": 260,
   "id": "eb851897-8651-4f87-9ac2-2e1e3280e931",
   "metadata": {},
   "outputs": [
    {
     "name": "stderr",
     "output_type": "stream",
     "text": [
      "2022-01-19 22:15:58.608285: W tensorflow/core/framework/op_kernel.cc:1755] Invalid argument: ValueError: callback pyfunc_101 is not found\n",
      "Traceback (most recent call last):\n",
      "\n",
      "  File \"/Users/georgepappy/opt/anaconda3/envs/metis/lib/python3.8/site-packages/tensorflow/python/ops/script_ops.py\", line 238, in __call__\n",
      "    raise ValueError(\"callback %s is not found\" % token)\n",
      "\n",
      "ValueError: callback pyfunc_101 is not found\n",
      "\n",
      "\n",
      "2022-01-19 22:15:58.608380: W tensorflow/core/kernels/data/generator_dataset_op.cc:107] Error occurred when finalizing GeneratorDataset iterator: Invalid argument: ValueError: callback pyfunc_101 is not found\n",
      "Traceback (most recent call last):\n",
      "\n",
      "  File \"/Users/georgepappy/opt/anaconda3/envs/metis/lib/python3.8/site-packages/tensorflow/python/ops/script_ops.py\", line 238, in __call__\n",
      "    raise ValueError(\"callback %s is not found\" % token)\n",
      "\n",
      "ValueError: callback pyfunc_101 is not found\n",
      "\n",
      "\n",
      "\t [[{{node PyFunc}}]]\n"
     ]
    }
   ],
   "source": [
    "y_pred_val = model.predict(X_val)\n",
    "y_pred_train = model.predict(X_train)"
   ]
  },
  {
   "cell_type": "code",
   "execution_count": 261,
   "id": "45b8faec-1b49-4849-9e4d-24fac959940e",
   "metadata": {},
   "outputs": [
    {
     "data": {
      "text/plain": [
       "0"
      ]
     },
     "execution_count": 261,
     "metadata": {},
     "output_type": "execute_result"
    }
   ],
   "source": [
    "target"
   ]
  },
  {
   "cell_type": "code",
   "execution_count": 262,
   "id": "715776b4-db69-4706-8d44-300481d84c96",
   "metadata": {},
   "outputs": [
    {
     "name": "stdout",
     "output_type": "stream",
     "text": [
      "Validation AUC: 0.6603\n",
      "Training AUC: 0.8216\n"
     ]
    }
   ],
   "source": [
    "# Dropout=0.3, L1=0.000001, L2=0.00001\n",
    "\n",
    "print('Validation AUC: {}'.format(round(roc_auc_score(y_val[:,target], y_pred_val), 4)))\n",
    "print('Training AUC: {}'.format(round(roc_auc_score(y_train[:,target], y_pred_train), 4)))"
   ]
  },
  {
   "cell_type": "code",
   "execution_count": null,
   "id": "1730ea34-a139-4080-8f70-06244d01e4e8",
   "metadata": {},
   "outputs": [],
   "source": []
  },
  {
   "cell_type": "code",
   "execution_count": 230,
   "id": "81330113-c901-4f86-b240-9d37955cc485",
   "metadata": {},
   "outputs": [
    {
     "name": "stdout",
     "output_type": "stream",
     "text": [
      "Validation AUC: 0.6621\n",
      "Training AUC: 0.7776\n"
     ]
    }
   ],
   "source": [
    "# Dropout = 0.3, No regularization\n",
    "\n",
    "print('Validation AUC: {}'.format(round(roc_auc_score(y_val[:,target], y_pred_val), 4)))\n",
    "print('Training AUC: {}'.format(round(roc_auc_score(y_train[:,target], y_pred_train), 4)))"
   ]
  },
  {
   "cell_type": "code",
   "execution_count": null,
   "id": "8f620893-9d6f-454e-a946-7d3e3f9048ea",
   "metadata": {},
   "outputs": [],
   "source": []
  },
  {
   "cell_type": "markdown",
   "id": "653a88d0-a107-4827-9391-8b1e16fe4902",
   "metadata": {},
   "source": [
    "# 9b) VGG16 + 3 Dense Layers (128, 64, 1, dropout) w/ trainable layer_5 (first target, 'Atelectasis')"
   ]
  },
  {
   "cell_type": "code",
   "execution_count": 263,
   "id": "a6d8b174-9628-4a50-b94d-5f1d47eb849b",
   "metadata": {},
   "outputs": [],
   "source": [
    "## Targets: 'Atelectasis'=0, 'Cardiomegaly'=1, 'Edema'=2, 'Pleaural Effusion'=3\n",
    "\n",
    "target = 0"
   ]
  },
  {
   "cell_type": "code",
   "execution_count": 264,
   "id": "f231fcbe-1178-4e5b-8ec2-24a9f1ee7974",
   "metadata": {},
   "outputs": [],
   "source": [
    "## FOR REPEATABILITY (must re-run this before EVERY model training run):\n",
    "\n",
    "# 1. Set the `PYTHONHASHSEED` environment variable at a fixed value\n",
    "import os\n",
    "os.environ['PYTHONHASHSEED']=str(0)\n",
    "\n",
    "# 2. Set the `python` built-in pseudo-random generator at a fixed value\n",
    "import random\n",
    "random.seed(1)\n",
    "\n",
    "# 3. Set the `numpy` pseudo-random generator at a fixed value\n",
    "import numpy as np\n",
    "np.random.seed(2)\n",
    "\n",
    "# 4. Set the `tensorflow` pseudo-random generator at a fixed value\n",
    "import tensorflow as tf\n",
    "tf.random.set_seed(2)"
   ]
  },
  {
   "cell_type": "code",
   "execution_count": 265,
   "id": "8f83da06-66bf-4d9e-8628-2a04e1451e20",
   "metadata": {},
   "outputs": [
    {
     "name": "stdout",
     "output_type": "stream",
     "text": [
      "Batches train=4, val=1\n"
     ]
    }
   ],
   "source": [
    "batch_size = 256\n",
    "\n",
    "datagen = ImageDataGenerator(featurewise_center=True, featurewise_std_normalization=True)\n",
    "\n",
    "# calculate mean on training dataset\n",
    "datagen.fit(X_train)\n",
    "\n",
    "# prepare iterators to scale images\n",
    "train_iterator = datagen.flow(X_train, y_train[:, target], batch_size=batch_size)\n",
    "\n",
    "val_iterator = datagen.flow(X_val, y_val[:, target], batch_size=batch_size)\n",
    "\n",
    "print('Batches train=%d, val=%d' % (len(train_iterator), len(val_iterator)))"
   ]
  },
  {
   "cell_type": "code",
   "execution_count": 266,
   "id": "98e90a73-ac1c-4f5c-be82-d69821dade19",
   "metadata": {},
   "outputs": [
    {
     "name": "stdout",
     "output_type": "stream",
     "text": [
      "Layer input_2 frozen.\n",
      "Layer block1_conv1 frozen.\n",
      "Layer block1_conv2 frozen.\n",
      "Layer block1_pool frozen.\n",
      "Layer block2_conv1 frozen.\n",
      "Layer block2_conv2 frozen.\n",
      "Layer block2_pool frozen.\n",
      "Layer block3_conv1 frozen.\n",
      "Layer block3_conv2 frozen.\n",
      "Layer block3_conv3 frozen.\n",
      "Layer block3_pool frozen.\n",
      "Layer block4_conv1 frozen.\n",
      "Layer block4_conv2 frozen.\n",
      "Layer block4_conv3 frozen.\n",
      "Layer block4_pool frozen.\n",
      "Model: \"vgg16\"\n",
      "_________________________________________________________________\n",
      "Layer (type)                 Output Shape              Param #   \n",
      "=================================================================\n",
      "input_2 (InputLayer)         [(None, 224, 273, 3)]     0         \n",
      "_________________________________________________________________\n",
      "block1_conv1 (Conv2D)        (None, 224, 273, 64)      1792      \n",
      "_________________________________________________________________\n",
      "block1_conv2 (Conv2D)        (None, 224, 273, 64)      36928     \n",
      "_________________________________________________________________\n",
      "block1_pool (MaxPooling2D)   (None, 112, 136, 64)      0         \n",
      "_________________________________________________________________\n",
      "block2_conv1 (Conv2D)        (None, 112, 136, 128)     73856     \n",
      "_________________________________________________________________\n",
      "block2_conv2 (Conv2D)        (None, 112, 136, 128)     147584    \n",
      "_________________________________________________________________\n",
      "block2_pool (MaxPooling2D)   (None, 56, 68, 128)       0         \n",
      "_________________________________________________________________\n",
      "block3_conv1 (Conv2D)        (None, 56, 68, 256)       295168    \n",
      "_________________________________________________________________\n",
      "block3_conv2 (Conv2D)        (None, 56, 68, 256)       590080    \n",
      "_________________________________________________________________\n",
      "block3_conv3 (Conv2D)        (None, 56, 68, 256)       590080    \n",
      "_________________________________________________________________\n",
      "block3_pool (MaxPooling2D)   (None, 28, 34, 256)       0         \n",
      "_________________________________________________________________\n",
      "block4_conv1 (Conv2D)        (None, 28, 34, 512)       1180160   \n",
      "_________________________________________________________________\n",
      "block4_conv2 (Conv2D)        (None, 28, 34, 512)       2359808   \n",
      "_________________________________________________________________\n",
      "block4_conv3 (Conv2D)        (None, 28, 34, 512)       2359808   \n",
      "_________________________________________________________________\n",
      "block4_pool (MaxPooling2D)   (None, 14, 17, 512)       0         \n",
      "_________________________________________________________________\n",
      "block5_conv1 (Conv2D)        (None, 14, 17, 512)       2359808   \n",
      "_________________________________________________________________\n",
      "block5_conv2 (Conv2D)        (None, 14, 17, 512)       2359808   \n",
      "_________________________________________________________________\n",
      "block5_conv3 (Conv2D)        (None, 14, 17, 512)       2359808   \n",
      "_________________________________________________________________\n",
      "block5_pool (MaxPooling2D)   (None, 7, 8, 512)         0         \n",
      "=================================================================\n",
      "Total params: 14,714,688\n",
      "Trainable params: 7,079,424\n",
      "Non-trainable params: 7,635,264\n",
      "_________________________________________________________________\n"
     ]
    }
   ],
   "source": [
    "keras.backend.clear_session()\n",
    "\n",
    "from tensorflow.keras.applications import VGG16\n",
    "\n",
    "# This converts the 1-channel X-rays to 3-channel images a required by mobilenet_v2\n",
    "input_tensor = Input(shape=(X_train.shape[1:]))\n",
    "x = Conv2D(3,(3,3),padding='same')(input_tensor)\n",
    "\n",
    "base_model = VGG16(weights='imagenet', \n",
    "                   include_top=False, \n",
    "#                    pooling='avg',\n",
    "                   input_shape=(X_train.shape[1], X_train.shape[2], 3)) \n",
    " \n",
    "for layer in base_model.layers:\n",
    "  if 'block5_' not in layer.name:\n",
    "      layer.trainable = False\n",
    "      print('Layer ' + layer.name + ' frozen.')\n",
    "base_model.summary()"
   ]
  },
  {
   "cell_type": "code",
   "execution_count": 267,
   "id": "63cc16a8-c07c-4f5e-a724-2e5f4ad34dff",
   "metadata": {},
   "outputs": [],
   "source": [
    "dropout = 0.4\n",
    "l1_reg = 0.000001\n",
    "l2_reg = 0.00001\n",
    "\n",
    "out = base_model(x)\n",
    "new_base_model = Model(inputs=input_tensor, outputs=out)\n",
    "    \n",
    "# Establish new fully connected block\n",
    "x = new_base_model.output\n",
    "x = Flatten()(x) # flatten from convolution tensor output \n",
    "# x = Dense(units=128, activation='relu')(x)\n",
    "x = Dense(units=128, activation='relu', kernel_regularizer=regularizers.l1_l2(l1=l1_reg, l2=l2_reg))(x)\n",
    "x = Dropout(dropout, seed=2)(x) # adding Dropout for regularization between the Dense layers\n",
    "x = Dense(units=64, activation='relu', kernel_regularizer=regularizers.l1_l2(l1=l1_reg, l2=l2_reg))(x)\n",
    "x = Dropout(dropout, seed=1)(x) # adding Dropout for regularization between the Dense layers\n",
    "predictions = Dense(units=1, activation='sigmoid')(x) # 1 target labels\n",
    "\n",
    "# define formal model object to train and compile it as usual\n",
    "model = Model(inputs=new_base_model.input, outputs=predictions)"
   ]
  },
  {
   "cell_type": "code",
   "execution_count": 268,
   "id": "015d5731-30bc-462f-9299-e9d8f3bf84c4",
   "metadata": {},
   "outputs": [
    {
     "name": "stdout",
     "output_type": "stream",
     "text": [
      "Model: \"model_1\"\n",
      "_________________________________________________________________\n",
      "Layer (type)                 Output Shape              Param #   \n",
      "=================================================================\n",
      "input_1 (InputLayer)         [(None, 224, 273, 1)]     0         \n",
      "_________________________________________________________________\n",
      "conv2d (Conv2D)              (None, 224, 273, 3)       30        \n",
      "_________________________________________________________________\n",
      "vgg16 (Functional)           (None, 7, 8, 512)         14714688  \n",
      "_________________________________________________________________\n",
      "flatten (Flatten)            (None, 28672)             0         \n",
      "_________________________________________________________________\n",
      "dense (Dense)                (None, 128)               3670144   \n",
      "_________________________________________________________________\n",
      "dropout (Dropout)            (None, 128)               0         \n",
      "_________________________________________________________________\n",
      "dense_1 (Dense)              (None, 64)                8256      \n",
      "_________________________________________________________________\n",
      "dropout_1 (Dropout)          (None, 64)                0         \n",
      "_________________________________________________________________\n",
      "dense_2 (Dense)              (None, 1)                 65        \n",
      "=================================================================\n",
      "Total params: 18,393,183\n",
      "Trainable params: 10,757,919\n",
      "Non-trainable params: 7,635,264\n",
      "_________________________________________________________________\n"
     ]
    }
   ],
   "source": [
    "model.summary()"
   ]
  },
  {
   "cell_type": "code",
   "execution_count": 269,
   "id": "70a70ad6-1ba3-4eff-95c8-4f4fd2707b6f",
   "metadata": {},
   "outputs": [],
   "source": [
    "initial_learning_rate = 0.0001\n",
    "adam_opt = keras.optimizers.Adam(learning_rate=initial_learning_rate, \n",
    "                                 beta_1=0.9, \n",
    "                                 beta_2=0.999, \n",
    "                                 epsilon=1e-07, \n",
    "                                 amsgrad=False)\n",
    "\n",
    "model.compile(\n",
    "    loss='binary_crossentropy',\n",
    "    optimizer=adam_opt\n",
    ")"
   ]
  },
  {
   "cell_type": "code",
   "execution_count": 270,
   "id": "f170c281-4d50-44ed-8943-231ab9bad75d",
   "metadata": {},
   "outputs": [
    {
     "data": {
      "text/plain": [
       "0.0001"
      ]
     },
     "execution_count": 270,
     "metadata": {},
     "output_type": "execute_result"
    }
   ],
   "source": [
    "model.optimizer.get_config()['learning_rate']"
   ]
  },
  {
   "cell_type": "code",
   "execution_count": 271,
   "id": "6b57a184-7465-4063-8f90-bc3e17f91c77",
   "metadata": {},
   "outputs": [
    {
     "name": "stdout",
     "output_type": "stream",
     "text": [
      "Epoch 1/100\n",
      "Learning Rate: 0.0001\n",
      "4/4 [==============================] - 433s 114s/step - loss: 0.7063 - val_loss: 0.6602\n",
      "\n",
      "val-roc-auc: 0.5689                                                                                                    \n",
      "\n",
      "Epoch 2/100\n",
      "Learning Rate: 9.999999747378752e-05\n",
      "4/4 [==============================] - 421s 111s/step - loss: 0.6583 - val_loss: 0.6487\n",
      "\n",
      "val-roc-auc: 0.5776                                                                                                    \n",
      "\n",
      "Epoch 3/100\n",
      "Learning Rate: 9.999999747378752e-05\n",
      "4/4 [==============================] - 441s 113s/step - loss: 0.6457 - val_loss: 0.6443\n",
      "\n",
      "val-roc-auc: 0.5874                                                                                                    \n",
      "\n",
      "Epoch 4/100\n",
      "Learning Rate: 9.999999747378752e-05\n",
      "4/4 [==============================] - 441s 112s/step - loss: 0.6170 - val_loss: 0.6309\n",
      "\n",
      "val-roc-auc: 0.604                                                                                                    \n",
      "\n",
      "Epoch 5/100\n",
      "Learning Rate: 9.999999747378752e-05\n",
      "4/4 [==============================] - 474s 129s/step - loss: 0.6114 - val_loss: 0.6213\n",
      "\n",
      "val-roc-auc: 0.6172                                                                                                    \n",
      "\n",
      "Epoch 6/100\n",
      "Learning Rate: 9.999999747378752e-05\n",
      "4/4 [==============================] - 465s 133s/step - loss: 0.5663 - val_loss: 0.6228\n",
      "\n",
      "val-roc-auc: 0.6211                                                                                                    \n",
      "\n",
      "Epoch 7/100\n",
      "Learning Rate: 9.999999747378752e-05\n",
      "4/4 [==============================] - 490s 127s/step - loss: 0.5646 - val_loss: 0.6268\n",
      "\n",
      "val-roc-auc: 0.6247                                                                                                    \n",
      "\n",
      "Epoch 8/100\n",
      "Learning Rate: 9.999999747378752e-05\n",
      "4/4 [==============================] - 559s 148s/step - loss: 0.5222 - val_loss: 0.6219\n",
      "\n",
      "val-roc-auc: 0.6304                                                                                                    \n",
      "\n",
      "Epoch 9/100\n",
      "Learning Rate: 9.999999747378752e-05\n",
      "4/4 [==============================] - 749s 193s/step - loss: 0.4849 - val_loss: 0.6066\n",
      "\n",
      "val-roc-auc: 0.6404                                                                                                    \n",
      "\n",
      "Epoch 10/100\n",
      "Learning Rate: 9.999999747378752e-05\n",
      "4/4 [==============================] - 621s 151s/step - loss: 0.4448 - val_loss: 0.6262\n",
      "\n",
      "val-roc-auc: 0.6323                                                                                                    \n",
      "\n",
      "Epoch 11/100\n",
      "Learning Rate: 9.999999747378752e-05\n",
      "4/4 [==============================] - 543s 136s/step - loss: 0.4182 - val_loss: 0.6607\n",
      "\n",
      "val-roc-auc: 0.6371                                                                                                    \n",
      "\n",
      "Epoch 12/100\n",
      "Learning Rate: 4.999999873689376e-05\n",
      "4/4 [==============================] - 529s 137s/step - loss: 0.3753 - val_loss: 0.6400\n",
      "\n",
      "val-roc-auc: 0.6362                                                                                                    \n",
      "\n",
      "Epoch 13/100\n",
      "Learning Rate: 4.999999873689376e-05\n",
      "4/4 [==============================] - 540s 138s/step - loss: 0.3348 - val_loss: 0.6409\n",
      "\n",
      "val-roc-auc: 0.6295                                                                                                    \n",
      "\n",
      "Epoch 14/100\n",
      "Learning Rate: 2.499999936844688e-05\n",
      "4/4 [==============================] - 535s 136s/step - loss: 0.3230 - val_loss: 0.7241\n",
      "\n",
      "val-roc-auc: 0.5989                                                                                                    \n",
      "\n",
      "Epoch 15/100\n",
      "Learning Rate: 2.499999936844688e-05\n",
      "4/4 [==============================] - 458s 117s/step - loss: 0.3043 - val_loss: 0.6710\n",
      "\n",
      "val-roc-auc: 0.6226                                                                                                    \n",
      "\n",
      "Epoch 16/100\n",
      "Learning Rate: 1.249999968422344e-05\n",
      "1/4 [======>.......................] - ETA: 6:26 - loss: 0.3059"
     ]
    },
    {
     "ename": "KeyboardInterrupt",
     "evalue": "",
     "output_type": "error",
     "traceback": [
      "\u001b[0;31m---------------------------------------------------------------------------\u001b[0m",
      "\u001b[0;31mKeyboardInterrupt\u001b[0m                         Traceback (most recent call last)",
      "\u001b[0;32m/var/folders/16/my2sdbrn4hvfl3_91fx0wj9c0000gn/T/ipykernel_36902/1212403668.py\u001b[0m in \u001b[0;36m<module>\u001b[0;34m\u001b[0m\n\u001b[1;32m     20\u001b[0m \u001b[0mearly_stopping\u001b[0m \u001b[0;34m=\u001b[0m \u001b[0mEarlyStopping\u001b[0m\u001b[0;34m(\u001b[0m\u001b[0mmonitor\u001b[0m\u001b[0;34m=\u001b[0m\u001b[0;34m'auc'\u001b[0m\u001b[0;34m,\u001b[0m \u001b[0mmode\u001b[0m\u001b[0;34m=\u001b[0m\u001b[0;34m'max'\u001b[0m\u001b[0;34m,\u001b[0m \u001b[0mpatience\u001b[0m\u001b[0;34m=\u001b[0m\u001b[0;36m10\u001b[0m\u001b[0;34m,\u001b[0m \u001b[0mrestore_best_weights\u001b[0m\u001b[0;34m=\u001b[0m\u001b[0;32mTrue\u001b[0m\u001b[0;34m)\u001b[0m\u001b[0;34m\u001b[0m\u001b[0;34m\u001b[0m\u001b[0m\n\u001b[1;32m     21\u001b[0m \u001b[0;34m\u001b[0m\u001b[0m\n\u001b[0;32m---> 22\u001b[0;31m history = model.fit(train_iterator, steps_per_epoch=len(train_iterator), epochs=100, verbose=1, validation_data=val_iterator, \n\u001b[0m\u001b[1;32m     23\u001b[0m                  callbacks=[\n\u001b[1;32m     24\u001b[0m                      \u001b[0mauc\u001b[0m\u001b[0;34m,\u001b[0m\u001b[0;34m\u001b[0m\u001b[0;34m\u001b[0m\u001b[0m\n",
      "\u001b[0;32m~/opt/anaconda3/envs/metis/lib/python3.8/site-packages/tensorflow/python/keras/engine/training.py\u001b[0m in \u001b[0;36mfit\u001b[0;34m(self, x, y, batch_size, epochs, verbose, callbacks, validation_split, validation_data, shuffle, class_weight, sample_weight, initial_epoch, steps_per_epoch, validation_steps, validation_batch_size, validation_freq, max_queue_size, workers, use_multiprocessing)\u001b[0m\n\u001b[1;32m   1181\u001b[0m                 _r=1):\n\u001b[1;32m   1182\u001b[0m               \u001b[0mcallbacks\u001b[0m\u001b[0;34m.\u001b[0m\u001b[0mon_train_batch_begin\u001b[0m\u001b[0;34m(\u001b[0m\u001b[0mstep\u001b[0m\u001b[0;34m)\u001b[0m\u001b[0;34m\u001b[0m\u001b[0;34m\u001b[0m\u001b[0m\n\u001b[0;32m-> 1183\u001b[0;31m               \u001b[0mtmp_logs\u001b[0m \u001b[0;34m=\u001b[0m \u001b[0mself\u001b[0m\u001b[0;34m.\u001b[0m\u001b[0mtrain_function\u001b[0m\u001b[0;34m(\u001b[0m\u001b[0miterator\u001b[0m\u001b[0;34m)\u001b[0m\u001b[0;34m\u001b[0m\u001b[0;34m\u001b[0m\u001b[0m\n\u001b[0m\u001b[1;32m   1184\u001b[0m               \u001b[0;32mif\u001b[0m \u001b[0mdata_handler\u001b[0m\u001b[0;34m.\u001b[0m\u001b[0mshould_sync\u001b[0m\u001b[0;34m:\u001b[0m\u001b[0;34m\u001b[0m\u001b[0;34m\u001b[0m\u001b[0m\n\u001b[1;32m   1185\u001b[0m                 \u001b[0mcontext\u001b[0m\u001b[0;34m.\u001b[0m\u001b[0masync_wait\u001b[0m\u001b[0;34m(\u001b[0m\u001b[0;34m)\u001b[0m\u001b[0;34m\u001b[0m\u001b[0;34m\u001b[0m\u001b[0m\n",
      "\u001b[0;32m~/opt/anaconda3/envs/metis/lib/python3.8/site-packages/tensorflow/python/eager/def_function.py\u001b[0m in \u001b[0;36m__call__\u001b[0;34m(self, *args, **kwds)\u001b[0m\n\u001b[1;32m    887\u001b[0m \u001b[0;34m\u001b[0m\u001b[0m\n\u001b[1;32m    888\u001b[0m       \u001b[0;32mwith\u001b[0m \u001b[0mOptionalXlaContext\u001b[0m\u001b[0;34m(\u001b[0m\u001b[0mself\u001b[0m\u001b[0;34m.\u001b[0m\u001b[0m_jit_compile\u001b[0m\u001b[0;34m)\u001b[0m\u001b[0;34m:\u001b[0m\u001b[0;34m\u001b[0m\u001b[0;34m\u001b[0m\u001b[0m\n\u001b[0;32m--> 889\u001b[0;31m         \u001b[0mresult\u001b[0m \u001b[0;34m=\u001b[0m \u001b[0mself\u001b[0m\u001b[0;34m.\u001b[0m\u001b[0m_call\u001b[0m\u001b[0;34m(\u001b[0m\u001b[0;34m*\u001b[0m\u001b[0margs\u001b[0m\u001b[0;34m,\u001b[0m \u001b[0;34m**\u001b[0m\u001b[0mkwds\u001b[0m\u001b[0;34m)\u001b[0m\u001b[0;34m\u001b[0m\u001b[0;34m\u001b[0m\u001b[0m\n\u001b[0m\u001b[1;32m    890\u001b[0m \u001b[0;34m\u001b[0m\u001b[0m\n\u001b[1;32m    891\u001b[0m       \u001b[0mnew_tracing_count\u001b[0m \u001b[0;34m=\u001b[0m \u001b[0mself\u001b[0m\u001b[0;34m.\u001b[0m\u001b[0mexperimental_get_tracing_count\u001b[0m\u001b[0;34m(\u001b[0m\u001b[0;34m)\u001b[0m\u001b[0;34m\u001b[0m\u001b[0;34m\u001b[0m\u001b[0m\n",
      "\u001b[0;32m~/opt/anaconda3/envs/metis/lib/python3.8/site-packages/tensorflow/python/eager/def_function.py\u001b[0m in \u001b[0;36m_call\u001b[0;34m(self, *args, **kwds)\u001b[0m\n\u001b[1;32m    915\u001b[0m       \u001b[0;31m# In this case we have created variables on the first call, so we run the\u001b[0m\u001b[0;34m\u001b[0m\u001b[0;34m\u001b[0m\u001b[0;34m\u001b[0m\u001b[0m\n\u001b[1;32m    916\u001b[0m       \u001b[0;31m# defunned version which is guaranteed to never create variables.\u001b[0m\u001b[0;34m\u001b[0m\u001b[0;34m\u001b[0m\u001b[0;34m\u001b[0m\u001b[0m\n\u001b[0;32m--> 917\u001b[0;31m       \u001b[0;32mreturn\u001b[0m \u001b[0mself\u001b[0m\u001b[0;34m.\u001b[0m\u001b[0m_stateless_fn\u001b[0m\u001b[0;34m(\u001b[0m\u001b[0;34m*\u001b[0m\u001b[0margs\u001b[0m\u001b[0;34m,\u001b[0m \u001b[0;34m**\u001b[0m\u001b[0mkwds\u001b[0m\u001b[0;34m)\u001b[0m  \u001b[0;31m# pylint: disable=not-callable\u001b[0m\u001b[0;34m\u001b[0m\u001b[0;34m\u001b[0m\u001b[0m\n\u001b[0m\u001b[1;32m    918\u001b[0m     \u001b[0;32melif\u001b[0m \u001b[0mself\u001b[0m\u001b[0;34m.\u001b[0m\u001b[0m_stateful_fn\u001b[0m \u001b[0;32mis\u001b[0m \u001b[0;32mnot\u001b[0m \u001b[0;32mNone\u001b[0m\u001b[0;34m:\u001b[0m\u001b[0;34m\u001b[0m\u001b[0;34m\u001b[0m\u001b[0m\n\u001b[1;32m    919\u001b[0m       \u001b[0;31m# Release the lock early so that multiple threads can perform the call\u001b[0m\u001b[0;34m\u001b[0m\u001b[0;34m\u001b[0m\u001b[0;34m\u001b[0m\u001b[0m\n",
      "\u001b[0;32m~/opt/anaconda3/envs/metis/lib/python3.8/site-packages/tensorflow/python/eager/function.py\u001b[0m in \u001b[0;36m__call__\u001b[0;34m(self, *args, **kwargs)\u001b[0m\n\u001b[1;32m   3021\u001b[0m       (graph_function,\n\u001b[1;32m   3022\u001b[0m        filtered_flat_args) = self._maybe_define_function(args, kwargs)\n\u001b[0;32m-> 3023\u001b[0;31m     return graph_function._call_flat(\n\u001b[0m\u001b[1;32m   3024\u001b[0m         filtered_flat_args, captured_inputs=graph_function.captured_inputs)  # pylint: disable=protected-access\n\u001b[1;32m   3025\u001b[0m \u001b[0;34m\u001b[0m\u001b[0m\n",
      "\u001b[0;32m~/opt/anaconda3/envs/metis/lib/python3.8/site-packages/tensorflow/python/eager/function.py\u001b[0m in \u001b[0;36m_call_flat\u001b[0;34m(self, args, captured_inputs, cancellation_manager)\u001b[0m\n\u001b[1;32m   1958\u001b[0m         and executing_eagerly):\n\u001b[1;32m   1959\u001b[0m       \u001b[0;31m# No tape is watching; skip to running the function.\u001b[0m\u001b[0;34m\u001b[0m\u001b[0;34m\u001b[0m\u001b[0;34m\u001b[0m\u001b[0m\n\u001b[0;32m-> 1960\u001b[0;31m       return self._build_call_outputs(self._inference_function.call(\n\u001b[0m\u001b[1;32m   1961\u001b[0m           ctx, args, cancellation_manager=cancellation_manager))\n\u001b[1;32m   1962\u001b[0m     forward_backward = self._select_forward_and_backward_functions(\n",
      "\u001b[0;32m~/opt/anaconda3/envs/metis/lib/python3.8/site-packages/tensorflow/python/eager/function.py\u001b[0m in \u001b[0;36mcall\u001b[0;34m(self, ctx, args, cancellation_manager)\u001b[0m\n\u001b[1;32m    589\u001b[0m       \u001b[0;32mwith\u001b[0m \u001b[0m_InterpolateFunctionError\u001b[0m\u001b[0;34m(\u001b[0m\u001b[0mself\u001b[0m\u001b[0;34m)\u001b[0m\u001b[0;34m:\u001b[0m\u001b[0;34m\u001b[0m\u001b[0;34m\u001b[0m\u001b[0m\n\u001b[1;32m    590\u001b[0m         \u001b[0;32mif\u001b[0m \u001b[0mcancellation_manager\u001b[0m \u001b[0;32mis\u001b[0m \u001b[0;32mNone\u001b[0m\u001b[0;34m:\u001b[0m\u001b[0;34m\u001b[0m\u001b[0;34m\u001b[0m\u001b[0m\n\u001b[0;32m--> 591\u001b[0;31m           outputs = execute.execute(\n\u001b[0m\u001b[1;32m    592\u001b[0m               \u001b[0mstr\u001b[0m\u001b[0;34m(\u001b[0m\u001b[0mself\u001b[0m\u001b[0;34m.\u001b[0m\u001b[0msignature\u001b[0m\u001b[0;34m.\u001b[0m\u001b[0mname\u001b[0m\u001b[0;34m)\u001b[0m\u001b[0;34m,\u001b[0m\u001b[0;34m\u001b[0m\u001b[0;34m\u001b[0m\u001b[0m\n\u001b[1;32m    593\u001b[0m               \u001b[0mnum_outputs\u001b[0m\u001b[0;34m=\u001b[0m\u001b[0mself\u001b[0m\u001b[0;34m.\u001b[0m\u001b[0m_num_outputs\u001b[0m\u001b[0;34m,\u001b[0m\u001b[0;34m\u001b[0m\u001b[0;34m\u001b[0m\u001b[0m\n",
      "\u001b[0;32m~/opt/anaconda3/envs/metis/lib/python3.8/site-packages/tensorflow/python/eager/execute.py\u001b[0m in \u001b[0;36mquick_execute\u001b[0;34m(op_name, num_outputs, inputs, attrs, ctx, name)\u001b[0m\n\u001b[1;32m     57\u001b[0m   \u001b[0;32mtry\u001b[0m\u001b[0;34m:\u001b[0m\u001b[0;34m\u001b[0m\u001b[0;34m\u001b[0m\u001b[0m\n\u001b[1;32m     58\u001b[0m     \u001b[0mctx\u001b[0m\u001b[0;34m.\u001b[0m\u001b[0mensure_initialized\u001b[0m\u001b[0;34m(\u001b[0m\u001b[0;34m)\u001b[0m\u001b[0;34m\u001b[0m\u001b[0;34m\u001b[0m\u001b[0m\n\u001b[0;32m---> 59\u001b[0;31m     tensors = pywrap_tfe.TFE_Py_Execute(ctx._handle, device_name, op_name,\n\u001b[0m\u001b[1;32m     60\u001b[0m                                         inputs, attrs, num_outputs)\n\u001b[1;32m     61\u001b[0m   \u001b[0;32mexcept\u001b[0m \u001b[0mcore\u001b[0m\u001b[0;34m.\u001b[0m\u001b[0m_NotOkStatusException\u001b[0m \u001b[0;32mas\u001b[0m \u001b[0me\u001b[0m\u001b[0;34m:\u001b[0m\u001b[0;34m\u001b[0m\u001b[0;34m\u001b[0m\u001b[0m\n",
      "\u001b[0;31mKeyboardInterrupt\u001b[0m: "
     ]
    }
   ],
   "source": [
    "# Exponential decay learning rate scheduler comes from: \n",
    "#      https://towardsdatascience.com/learning-rate-schedule-in-practice-an-example-with-keras-and-tensorflow-2-0-2f48b2888a0c\n",
    "def lr_exp_decay(epoch, lr):\n",
    "    print('Previous lr: {}'.format(lr))\n",
    "    k = 0\n",
    "    return lr * np.exp(-k*epoch)\n",
    "\n",
    "# This AUC will be calculated at the end of each epoch on the validation set and be used for early stopping\n",
    "auc = ROAUCMetrics(val_data=(X_val, y_val[:, target]))\n",
    "\n",
    "eval_callback = LambdaCallback(on_epoch_end=lambda epoch, logs: logs.update({'auc': auc.val_aucs[-1]})) \n",
    "\n",
    "# reduce_lr = ReduceLROnPlateau(monitor='val_loss', factor=0.5, patience=5, mode='min', min_delta=0.0001, min_lr=5e-6)\n",
    "reduce_lr = ReduceLROnPlateau(monitor='auc', factor=0.5, patience=2, mode='max', min_delta=0.002, min_lr=1e-6)\n",
    "\n",
    "lr_callback = LambdaCallback(on_epoch_begin=lambda epoch, logs: print('Learning Rate: {}'.format(round(model.optimizer.get_config()['learning_rate'], 7))))\n",
    "\n",
    "# scheduler = LearningRateScheduler(lr_exp_decay, verbose=1)\n",
    "\n",
    "early_stopping = EarlyStopping(monitor='auc', mode='max', patience=10, restore_best_weights=True)\n",
    "\n",
    "history = model.fit(train_iterator, steps_per_epoch=len(train_iterator), epochs=100, verbose=1, validation_data=val_iterator, \n",
    "                 callbacks=[\n",
    "                     auc,\n",
    "                     eval_callback,\n",
    "                     reduce_lr,\n",
    "                     lr_callback,\n",
    "                     early_stopping,\n",
    "#                      scheduler,\n",
    "                     keras.callbacks.ModelCheckpoint(\n",
    "                         'models_baby/model_9.{epoch:02d}-{auc:.4f}.hdf5',\n",
    "                         save_best_only=False)\n",
    "                 ])"
   ]
  },
  {
   "cell_type": "code",
   "execution_count": null,
   "id": "449ac6cc-880c-4e49-80cf-3ee8f7f876ef",
   "metadata": {},
   "outputs": [],
   "source": [
    "plt.plot(history.history['loss'])\n",
    "plt.plot(history.history['val_loss'])\n",
    "\n",
    "plt.title('Loss vs. Training Epoch')\n",
    "plt.xlabel('Epoch')\n",
    "plt.ylabel('Loss')\n",
    "plt.legend(['Train','Validation']);"
   ]
  },
  {
   "cell_type": "code",
   "execution_count": null,
   "id": "5ba63107-9685-4d3a-ae7a-bf115e9a2495",
   "metadata": {},
   "outputs": [],
   "source": [
    "y_pred_val = model.predict(X_val)\n",
    "y_pred_train = model.predict(X_train)"
   ]
  },
  {
   "cell_type": "code",
   "execution_count": null,
   "id": "4ab71d02-e367-4ce5-a4c9-d4c3889ff007",
   "metadata": {},
   "outputs": [],
   "source": [
    "target"
   ]
  },
  {
   "cell_type": "code",
   "execution_count": null,
   "id": "44157bee-05e7-4bdd-8966-29d40e182b5b",
   "metadata": {},
   "outputs": [],
   "source": [
    "# dropout = 0.4\n",
    "# l1_reg = 0.000001\n",
    "# l2_reg = 0.00001\n",
    "\n",
    "print('Validation AUC: {}'.format(round(roc_auc_score(y_val[:,target], y_pred_val), 4)))\n",
    "print('Training AUC: {}'.format(round(roc_auc_score(y_train[:,target], y_pred_train), 4)))"
   ]
  },
  {
   "cell_type": "markdown",
   "id": "ed38a9d8-a90d-4a69-9226-660f91948cdb",
   "metadata": {},
   "source": [
    "# 9c) VGG16 + 3 Dense Layers (128, 64, 1, dropout) w/ trainable layer_5 (first target, 'Atelectasis')"
   ]
  },
  {
   "cell_type": "code",
   "execution_count": 294,
   "id": "cee11f01-0fe7-41e8-ae64-c87e39771cf8",
   "metadata": {},
   "outputs": [],
   "source": [
    "## Targets: 'Atelectasis'=0, 'Cardiomegaly'=1, 'Edema'=2, 'Pleaural Effusion'=3\n",
    "\n",
    "target = 0"
   ]
  },
  {
   "cell_type": "code",
   "execution_count": 295,
   "id": "17b985da-c587-45c5-b5c1-10b3ba2366dd",
   "metadata": {},
   "outputs": [],
   "source": [
    "## FOR REPEATABILITY (must re-run this before EVERY model training run):\n",
    "\n",
    "# 1. Set the `PYTHONHASHSEED` environment variable at a fixed value\n",
    "import os\n",
    "os.environ['PYTHONHASHSEED']=str(0)\n",
    "\n",
    "# 2. Set the `python` built-in pseudo-random generator at a fixed value\n",
    "import random\n",
    "random.seed(1)\n",
    "\n",
    "# 3. Set the `numpy` pseudo-random generator at a fixed value\n",
    "import numpy as np\n",
    "np.random.seed(2)\n",
    "\n",
    "# 4. Set the `tensorflow` pseudo-random generator at a fixed value\n",
    "import tensorflow as tf\n",
    "tf.random.set_seed(2)"
   ]
  },
  {
   "cell_type": "code",
   "execution_count": 296,
   "id": "3f3c8068-e42a-4660-865a-ff49d58385d6",
   "metadata": {},
   "outputs": [
    {
     "name": "stdout",
     "output_type": "stream",
     "text": [
      "Batches train=4, val=1\n"
     ]
    }
   ],
   "source": [
    "batch_size = 256\n",
    "\n",
    "datagen = ImageDataGenerator(featurewise_center=True, featurewise_std_normalization=True)\n",
    "\n",
    "# calculate mean on training dataset\n",
    "datagen.fit(X_train)\n",
    "\n",
    "# prepare iterators to scale images\n",
    "train_iterator = datagen.flow(X_train, y_train[:, target], batch_size=batch_size)\n",
    "\n",
    "val_iterator = datagen.flow(X_val, y_val[:, target], batch_size=batch_size)\n",
    "\n",
    "print('Batches train=%d, val=%d' % (len(train_iterator), len(val_iterator)))"
   ]
  },
  {
   "cell_type": "code",
   "execution_count": 297,
   "id": "e69d04fa-bb07-42b9-938f-9526ef061fec",
   "metadata": {},
   "outputs": [
    {
     "name": "stdout",
     "output_type": "stream",
     "text": [
      "Layer input_2 frozen.\n",
      "Layer block1_conv1 frozen.\n",
      "Layer block1_conv2 frozen.\n",
      "Layer block1_pool frozen.\n",
      "Layer block2_conv1 frozen.\n",
      "Layer block2_conv2 frozen.\n",
      "Layer block2_pool frozen.\n",
      "Layer block3_conv1 frozen.\n",
      "Layer block3_conv2 frozen.\n",
      "Layer block3_conv3 frozen.\n",
      "Layer block3_pool frozen.\n",
      "Layer block4_conv1 frozen.\n",
      "Layer block4_conv2 frozen.\n",
      "Layer block4_conv3 frozen.\n",
      "Layer block4_pool frozen.\n",
      "Model: \"vgg16\"\n",
      "_________________________________________________________________\n",
      "Layer (type)                 Output Shape              Param #   \n",
      "=================================================================\n",
      "input_2 (InputLayer)         [(None, 224, 273, 3)]     0         \n",
      "_________________________________________________________________\n",
      "block1_conv1 (Conv2D)        (None, 224, 273, 64)      1792      \n",
      "_________________________________________________________________\n",
      "block1_conv2 (Conv2D)        (None, 224, 273, 64)      36928     \n",
      "_________________________________________________________________\n",
      "block1_pool (MaxPooling2D)   (None, 112, 136, 64)      0         \n",
      "_________________________________________________________________\n",
      "block2_conv1 (Conv2D)        (None, 112, 136, 128)     73856     \n",
      "_________________________________________________________________\n",
      "block2_conv2 (Conv2D)        (None, 112, 136, 128)     147584    \n",
      "_________________________________________________________________\n",
      "block2_pool (MaxPooling2D)   (None, 56, 68, 128)       0         \n",
      "_________________________________________________________________\n",
      "block3_conv1 (Conv2D)        (None, 56, 68, 256)       295168    \n",
      "_________________________________________________________________\n",
      "block3_conv2 (Conv2D)        (None, 56, 68, 256)       590080    \n",
      "_________________________________________________________________\n",
      "block3_conv3 (Conv2D)        (None, 56, 68, 256)       590080    \n",
      "_________________________________________________________________\n",
      "block3_pool (MaxPooling2D)   (None, 28, 34, 256)       0         \n",
      "_________________________________________________________________\n",
      "block4_conv1 (Conv2D)        (None, 28, 34, 512)       1180160   \n",
      "_________________________________________________________________\n",
      "block4_conv2 (Conv2D)        (None, 28, 34, 512)       2359808   \n",
      "_________________________________________________________________\n",
      "block4_conv3 (Conv2D)        (None, 28, 34, 512)       2359808   \n",
      "_________________________________________________________________\n",
      "block4_pool (MaxPooling2D)   (None, 14, 17, 512)       0         \n",
      "_________________________________________________________________\n",
      "block5_conv1 (Conv2D)        (None, 14, 17, 512)       2359808   \n",
      "_________________________________________________________________\n",
      "block5_conv2 (Conv2D)        (None, 14, 17, 512)       2359808   \n",
      "_________________________________________________________________\n",
      "block5_conv3 (Conv2D)        (None, 14, 17, 512)       2359808   \n",
      "_________________________________________________________________\n",
      "block5_pool (MaxPooling2D)   (None, 7, 8, 512)         0         \n",
      "=================================================================\n",
      "Total params: 14,714,688\n",
      "Trainable params: 7,079,424\n",
      "Non-trainable params: 7,635,264\n",
      "_________________________________________________________________\n"
     ]
    }
   ],
   "source": [
    "keras.backend.clear_session()\n",
    "\n",
    "from tensorflow.keras.applications import VGG16\n",
    "\n",
    "# This converts the 1-channel X-rays to 3-channel images a required by mobilenet_v2\n",
    "input_tensor = Input(shape=(X_train.shape[1:]))\n",
    "x = Conv2D(3,(3,3),padding='same')(input_tensor)\n",
    "\n",
    "base_model = VGG16(weights='imagenet', \n",
    "                   include_top=False, \n",
    "#                    pooling='avg',\n",
    "                   input_shape=(X_train.shape[1], X_train.shape[2], 3)) \n",
    " \n",
    "for layer in base_model.layers:\n",
    "  if 'block5_' not in layer.name:\n",
    "      layer.trainable = False\n",
    "      print('Layer ' + layer.name + ' frozen.')\n",
    "base_model.summary()"
   ]
  },
  {
   "cell_type": "code",
   "execution_count": 298,
   "id": "35e66bf7-cdbf-4c96-8fe4-70c0770843de",
   "metadata": {},
   "outputs": [],
   "source": [
    "dropout = 0.3\n",
    "l1_reg = 0.00001\n",
    "l2_reg = 0.0001\n",
    "\n",
    "out = base_model(x)\n",
    "new_base_model = Model(inputs=input_tensor, outputs=out)\n",
    "    \n",
    "# Establish new fully connected block\n",
    "x = new_base_model.output\n",
    "x = Flatten()(x) # flatten from convolution tensor output \n",
    "# x = Dense(units=128, activation='relu')(x)\n",
    "x = Dense(units=128, \n",
    "          activation='relu', \n",
    "          kernel_regularizer=regularizers.l1_l2(l1=l1_reg, l2=l2_reg),\n",
    "          bias_regularizer=regularizers.l1_l2(l1=l1_reg, l2=l2_reg))(x)\n",
    "x = Dropout(dropout, seed=2)(x) # adding Dropout for regularization between the Dense layers\n",
    "x = Dense(units=64,\n",
    "          activation='relu', \n",
    "          kernel_regularizer=regularizers.l1_l2(l1=l1_reg, l2=l2_reg),\n",
    "          bias_regularizer=regularizers.l1_l2(l1=l1_reg, l2=l2_reg))(x)\n",
    "x = Dropout(dropout, seed=1)(x) # adding Dropout for regularization between the Dense layers\n",
    "predictions = Dense(units=1, activation='sigmoid')(x) # 1 target labels\n",
    "\n",
    "# define formal model object to train and compile it as usual\n",
    "model = Model(inputs=new_base_model.input, outputs=predictions)"
   ]
  },
  {
   "cell_type": "code",
   "execution_count": 299,
   "id": "db2839d1-011b-478d-b063-1aba1039a705",
   "metadata": {},
   "outputs": [
    {
     "name": "stdout",
     "output_type": "stream",
     "text": [
      "Model: \"model_1\"\n",
      "_________________________________________________________________\n",
      "Layer (type)                 Output Shape              Param #   \n",
      "=================================================================\n",
      "input_1 (InputLayer)         [(None, 224, 273, 1)]     0         \n",
      "_________________________________________________________________\n",
      "conv2d (Conv2D)              (None, 224, 273, 3)       30        \n",
      "_________________________________________________________________\n",
      "vgg16 (Functional)           (None, 7, 8, 512)         14714688  \n",
      "_________________________________________________________________\n",
      "flatten (Flatten)            (None, 28672)             0         \n",
      "_________________________________________________________________\n",
      "dense (Dense)                (None, 128)               3670144   \n",
      "_________________________________________________________________\n",
      "dropout (Dropout)            (None, 128)               0         \n",
      "_________________________________________________________________\n",
      "dense_1 (Dense)              (None, 64)                8256      \n",
      "_________________________________________________________________\n",
      "dropout_1 (Dropout)          (None, 64)                0         \n",
      "_________________________________________________________________\n",
      "dense_2 (Dense)              (None, 1)                 65        \n",
      "=================================================================\n",
      "Total params: 18,393,183\n",
      "Trainable params: 10,757,919\n",
      "Non-trainable params: 7,635,264\n",
      "_________________________________________________________________\n"
     ]
    }
   ],
   "source": [
    "model.summary()"
   ]
  },
  {
   "cell_type": "code",
   "execution_count": 300,
   "id": "7ca8f2e7-a963-45d1-ae56-0e880b898e32",
   "metadata": {},
   "outputs": [],
   "source": [
    "initial_learning_rate = 0.00025\n",
    "adam_opt = keras.optimizers.Adam(learning_rate=initial_learning_rate, \n",
    "                                 beta_1=0.9, \n",
    "                                 beta_2=0.999, \n",
    "                                 epsilon=1e-07, \n",
    "                                 amsgrad=False)\n",
    "\n",
    "model.compile(\n",
    "    loss='binary_crossentropy',\n",
    "    optimizer=adam_opt\n",
    ")"
   ]
  },
  {
   "cell_type": "code",
   "execution_count": 301,
   "id": "4471a9ca-b03f-49c1-9e53-fd6108dcf518",
   "metadata": {},
   "outputs": [
    {
     "data": {
      "text/plain": [
       "0.00025"
      ]
     },
     "execution_count": 301,
     "metadata": {},
     "output_type": "execute_result"
    }
   ],
   "source": [
    "model.optimizer.get_config()['learning_rate']"
   ]
  },
  {
   "cell_type": "code",
   "execution_count": 302,
   "id": "56b0e802-da1e-4212-ade4-9a1e6e87daa1",
   "metadata": {},
   "outputs": [
    {
     "name": "stdout",
     "output_type": "stream",
     "text": [
      "Epoch 1/100\n",
      "Learning Rate: 0.00025\n",
      "4/4 [==============================] - 326s 87s/step - loss: 1.0344 - val_loss: 0.9336\n",
      "\n",
      "val-roc-auc: 0.5132                                                                                                    \n",
      "\n",
      "Epoch 2/100\n",
      "Learning Rate: 0.0002500000118743628\n",
      "4/4 [==============================] - 311s 84s/step - loss: 0.9301 - val_loss: 0.9044\n",
      "\n",
      "val-roc-auc: 0.5316                                                                                                    \n",
      "\n",
      "Epoch 3/100\n",
      "Learning Rate: 0.0002500000118743628\n",
      "4/4 [==============================] - 318s 79s/step - loss: 0.9053 - val_loss: 0.8801\n",
      "\n",
      "val-roc-auc: 0.5801                                                                                                    \n",
      "\n",
      "Epoch 4/100\n",
      "Learning Rate: 0.0002500000118743628\n",
      "4/4 [==============================] - 359s 95s/step - loss: 0.8789 - val_loss: 0.8562\n",
      "\n",
      "val-roc-auc: 0.5959                                                                                                    \n",
      "\n",
      "Epoch 5/100\n",
      "Learning Rate: 0.0002500000118743628\n",
      "4/4 [==============================] - 307s 79s/step - loss: 0.8564 - val_loss: 0.8316\n",
      "\n",
      "val-roc-auc: 0.6361                                                                                                    \n",
      "\n",
      "Epoch 6/100\n",
      "Learning Rate: 0.0002500000118743628\n",
      "4/4 [==============================] - 336s 87s/step - loss: 0.8240 - val_loss: 0.8199\n",
      "\n",
      "val-roc-auc: 0.6582                                                                                                    \n",
      "\n",
      "Epoch 7/100\n",
      "Learning Rate: 0.0002500000118743628\n",
      "4/4 [==============================] - 322s 79s/step - loss: 0.8202 - val_loss: 0.7944\n",
      "\n",
      "val-roc-auc: 0.6488                                                                                                    \n",
      "\n",
      "Epoch 8/100\n",
      "Learning Rate: 0.0002500000118743628\n",
      "4/4 [==============================] - 332s 85s/step - loss: 0.7881 - val_loss: 0.7755\n",
      "\n",
      "val-roc-auc: 0.6704                                                                                                    \n",
      "\n",
      "Epoch 9/100\n",
      "Learning Rate: 0.0002500000118743628\n",
      "4/4 [==============================] - 345s 89s/step - loss: 0.7689 - val_loss: 0.7701\n",
      "\n",
      "val-roc-auc: 0.6685                                                                                                    \n",
      "\n",
      "Epoch 10/100\n",
      "Learning Rate: 0.0002500000118743628\n",
      "4/4 [==============================] - 296s 70s/step - loss: 0.7568 - val_loss: 0.7608\n",
      "\n",
      "val-roc-auc: 0.636                                                                                                    \n",
      "\n",
      "Epoch 11/100\n",
      "Learning Rate: 0.0001250000059371814\n",
      "4/4 [==============================] - 247s 63s/step - loss: 0.7470 - val_loss: 0.7500\n",
      "\n",
      "val-roc-auc: 0.6467                                                                                                    \n",
      "\n",
      "Epoch 12/100\n",
      "Learning Rate: 0.0001250000059371814\n",
      "4/4 [==============================] - 330s 90s/step - loss: 0.7295 - val_loss: 0.7408\n",
      "\n",
      "val-roc-auc: 0.6598                                                                                                    \n",
      "\n",
      "Epoch 13/100\n",
      "Learning Rate: 6.25000029685907e-05\n",
      "4/4 [==============================] - 424s 108s/step - loss: 0.7150 - val_loss: 0.7349\n",
      "\n",
      "val-roc-auc: 0.6648                                                                                                    \n",
      "\n",
      "Epoch 14/100\n",
      "Learning Rate: 6.25000029685907e-05\n",
      "4/4 [==============================] - 429s 110s/step - loss: 0.7077 - val_loss: 0.7432\n",
      "\n",
      "val-roc-auc: 0.6631                                                                                                    \n",
      "\n",
      "Epoch 15/100\n",
      "Learning Rate: 3.1200001103570685e-05\n",
      "4/4 [==============================] - 419s 107s/step - loss: 0.7062 - val_loss: 0.7311\n",
      "\n",
      "val-roc-auc: 0.6681                                                                                                    \n",
      "\n",
      "Epoch 16/100\n",
      "Learning Rate: 3.1200001103570685e-05\n",
      "4/4 [==============================] - 419s 107s/step - loss: 0.6971 - val_loss: 0.7279\n",
      "\n",
      "val-roc-auc: 0.6725                                                                                                    \n",
      "\n",
      "Epoch 17/100\n",
      "Learning Rate: 3.1200001103570685e-05\n",
      "4/4 [==============================] - 420s 112s/step - loss: 0.6868 - val_loss: 0.7282\n",
      "\n",
      "val-roc-auc: 0.672                                                                                                    \n",
      "\n",
      "Epoch 18/100\n",
      "Learning Rate: 3.1200001103570685e-05\n",
      "4/4 [==============================] - 418s 107s/step - loss: 0.6896 - val_loss: 0.7347\n",
      "\n",
      "val-roc-auc: 0.668                                                                                                    \n",
      "\n",
      "Epoch 19/100\n",
      "Learning Rate: 1.5600000551785342e-05\n",
      "4/4 [==============================] - 421s 108s/step - loss: 0.6876 - val_loss: 0.7284\n",
      "\n",
      "val-roc-auc: 0.6719                                                                                                    \n",
      "\n",
      "Epoch 20/100\n",
      "Learning Rate: 1.5600000551785342e-05\n",
      "4/4 [==============================] - 414s 105s/step - loss: 0.6823 - val_loss: 0.7249\n",
      "\n",
      "val-roc-auc: 0.6745                                                                                                    \n",
      "\n",
      "Epoch 21/100\n",
      "Learning Rate: 1.5600000551785342e-05\n",
      "4/4 [==============================] - 413s 105s/step - loss: 0.6721 - val_loss: 0.7249\n",
      "\n",
      "val-roc-auc: 0.6754                                                                                                    \n",
      "\n",
      "Epoch 22/100\n",
      "Learning Rate: 1.5600000551785342e-05\n",
      "4/4 [==============================] - 413s 105s/step - loss: 0.6735 - val_loss: 0.7283\n",
      "\n",
      "val-roc-auc: 0.6743                                                                                                    \n",
      "\n",
      "Epoch 23/100\n",
      "Learning Rate: 7.800000275892671e-06\n",
      "4/4 [==============================] - 415s 106s/step - loss: 0.6832 - val_loss: 0.7266\n",
      "\n",
      "val-roc-auc: 0.6757                                                                                                    \n",
      "\n",
      "Epoch 24/100\n",
      "Learning Rate: 7.800000275892671e-06\n",
      "4/4 [==============================] - 413s 106s/step - loss: 0.6802 - val_loss: 0.7242\n",
      "\n",
      "val-roc-auc: 0.6764                                                                                                    \n",
      "\n",
      "Epoch 25/100\n",
      "Learning Rate: 3.900000137946336e-06\n",
      "4/4 [==============================] - 415s 106s/step - loss: 0.6765 - val_loss: 0.7239\n",
      "\n",
      "val-roc-auc: 0.6766                                                                                                    \n",
      "\n"
     ]
    },
    {
     "name": "stderr",
     "output_type": "stream",
     "text": [
      "2022-01-20 04:17:24.965506: W tensorflow/core/framework/op_kernel.cc:1755] Invalid argument: ValueError: callback pyfunc_107 is not found\n",
      "Traceback (most recent call last):\n",
      "\n",
      "  File \"/Users/georgepappy/opt/anaconda3/envs/metis/lib/python3.8/site-packages/tensorflow/python/ops/script_ops.py\", line 238, in __call__\n",
      "    raise ValueError(\"callback %s is not found\" % token)\n",
      "\n",
      "ValueError: callback pyfunc_107 is not found\n",
      "\n",
      "\n",
      "2022-01-20 04:17:24.965593: W tensorflow/core/kernels/data/generator_dataset_op.cc:107] Error occurred when finalizing GeneratorDataset iterator: Invalid argument: ValueError: callback pyfunc_107 is not found\n",
      "Traceback (most recent call last):\n",
      "\n",
      "  File \"/Users/georgepappy/opt/anaconda3/envs/metis/lib/python3.8/site-packages/tensorflow/python/ops/script_ops.py\", line 238, in __call__\n",
      "    raise ValueError(\"callback %s is not found\" % token)\n",
      "\n",
      "ValueError: callback pyfunc_107 is not found\n",
      "\n",
      "\n",
      "\t [[{{node PyFunc}}]]\n",
      "2022-01-20 04:17:25.095634: W tensorflow/core/framework/op_kernel.cc:1755] Invalid argument: ValueError: callback pyfunc_119 is not found\n",
      "Traceback (most recent call last):\n",
      "\n",
      "  File \"/Users/georgepappy/opt/anaconda3/envs/metis/lib/python3.8/site-packages/tensorflow/python/ops/script_ops.py\", line 238, in __call__\n",
      "    raise ValueError(\"callback %s is not found\" % token)\n",
      "\n",
      "ValueError: callback pyfunc_119 is not found\n",
      "\n",
      "\n",
      "2022-01-20 04:17:25.095711: W tensorflow/core/kernels/data/generator_dataset_op.cc:107] Error occurred when finalizing GeneratorDataset iterator: Invalid argument: ValueError: callback pyfunc_119 is not found\n",
      "Traceback (most recent call last):\n",
      "\n",
      "  File \"/Users/georgepappy/opt/anaconda3/envs/metis/lib/python3.8/site-packages/tensorflow/python/ops/script_ops.py\", line 238, in __call__\n",
      "    raise ValueError(\"callback %s is not found\" % token)\n",
      "\n",
      "ValueError: callback pyfunc_119 is not found\n",
      "\n",
      "\n",
      "\t [[{{node PyFunc}}]]\n"
     ]
    },
    {
     "name": "stdout",
     "output_type": "stream",
     "text": [
      "Epoch 26/100\n",
      "Learning Rate: 3.900000137946336e-06\n",
      "4/4 [==============================] - 423s 113s/step - loss: 0.6665 - val_loss: 0.7242\n",
      "\n",
      "val-roc-auc: 0.6771                                                                                                    \n",
      "\n",
      "Epoch 27/100\n",
      "Learning Rate: 3.900000137946336e-06\n",
      "4/4 [==============================] - 417s 106s/step - loss: 0.6701 - val_loss: 0.7249\n",
      "\n",
      "val-roc-auc: 0.6775                                                                                                    \n",
      "\n",
      "Epoch 28/100\n",
      "Learning Rate: 1.9999999949504854e-06\n",
      "4/4 [==============================] - 418s 107s/step - loss: 0.6682 - val_loss: 0.7249\n",
      "\n",
      "val-roc-auc: 0.6779                                                                                                    \n",
      "\n",
      "Epoch 29/100\n",
      "Learning Rate: 1.9999999949504854e-06\n",
      "4/4 [==============================] - 421s 112s/step - loss: 0.6717 - val_loss: 0.7248\n",
      "\n",
      "val-roc-auc: 0.6775                                                                                                    \n",
      "\n",
      "Epoch 30/100\n",
      "Learning Rate: 9.999999974752427e-07\n",
      "4/4 [==============================] - 417s 106s/step - loss: 0.6754 - val_loss: 0.7247\n",
      "\n",
      "val-roc-auc: 0.6775                                                                                                    \n",
      "\n",
      "Epoch 31/100\n",
      "Learning Rate: 9.999999974752427e-07\n",
      "4/4 [==============================] - 432s 112s/step - loss: 0.6654 - val_loss: 0.7245\n",
      "\n",
      "val-roc-auc: 0.6775                                                                                                    \n",
      "\n",
      "Epoch 32/100\n",
      "Learning Rate: 9.999999974752427e-07\n",
      "4/4 [==============================] - 422s 107s/step - loss: 0.6777 - val_loss: 0.7244\n",
      "\n",
      "val-roc-auc: 0.6775                                                                                                    \n",
      "\n",
      "Epoch 33/100\n",
      "Learning Rate: 9.999999974752427e-07\n",
      "4/4 [==============================] - 419s 107s/step - loss: 0.6710 - val_loss: 0.7242\n",
      "\n",
      "val-roc-auc: 0.6774                                                                                                    \n",
      "\n",
      "Epoch 34/100\n",
      "Learning Rate: 9.999999974752427e-07\n",
      "4/4 [==============================] - 418s 107s/step - loss: 0.6608 - val_loss: 0.7240\n",
      "\n",
      "val-roc-auc: 0.6775                                                                                                    \n",
      "\n",
      "Epoch 35/100\n",
      "Learning Rate: 9.999999974752427e-07\n",
      "4/4 [==============================] - 336s 79s/step - loss: 0.6720 - val_loss: 0.7239\n",
      "\n",
      "val-roc-auc: 0.6775                                                                                                    \n",
      "\n",
      "Epoch 36/100\n",
      "Learning Rate: 9.999999974752427e-07\n",
      "4/4 [==============================] - 240s 61s/step - loss: 0.6722 - val_loss: 0.7239\n",
      "\n",
      "val-roc-auc: 0.6775                                                                                                    \n",
      "\n",
      "Epoch 37/100\n",
      "Learning Rate: 9.999999974752427e-07\n",
      "4/4 [==============================] - 312s 71s/step - loss: 0.6686 - val_loss: 0.7239\n",
      "\n",
      "val-roc-auc: 0.6777                                                                                                    \n",
      "\n",
      "Epoch 38/100\n",
      "Learning Rate: 9.999999974752427e-07\n",
      "4/4 [==============================] - 245s 65s/step - loss: 0.6661 - val_loss: 0.7241\n",
      "\n",
      "val-roc-auc: 0.6777                                                                                                    \n",
      "\n"
     ]
    }
   ],
   "source": [
    "# Exponential decay learning rate scheduler comes from: \n",
    "#      https://towardsdatascience.com/learning-rate-schedule-in-practice-an-example-with-keras-and-tensorflow-2-0-2f48b2888a0c\n",
    "def lr_exp_decay(epoch, lr):\n",
    "    print('Previous lr: {}'.format(lr))\n",
    "    k = 0\n",
    "    return lr * np.exp(-k*epoch)\n",
    "\n",
    "# This AUC will be calculated at the end of each epoch on the validation set and be used for early stopping\n",
    "auc = ROAUCMetrics(val_data=(X_val, y_val[:, target]))\n",
    "\n",
    "eval_callback = LambdaCallback(on_epoch_end=lambda epoch, logs: logs.update({'auc': auc.val_aucs[-1]})) \n",
    "\n",
    "# reduce_lr = ReduceLROnPlateau(monitor='val_loss', factor=0.5, patience=5, mode='min', min_delta=0.0001, min_lr=5e-6)\n",
    "reduce_lr = ReduceLROnPlateau(monitor='auc', factor=0.5, patience=2, mode='max', min_delta=0.002, min_lr=1e-6)\n",
    "\n",
    "lr_callback = LambdaCallback(on_epoch_begin=lambda epoch, logs: print('Learning Rate: {}'.format(round(model.optimizer.get_config()['learning_rate'], 7))))\n",
    "\n",
    "# scheduler = LearningRateScheduler(lr_exp_decay, verbose=1)\n",
    "\n",
    "early_stopping = EarlyStopping(monitor='auc', mode='max', patience=10, restore_best_weights=True)\n",
    "\n",
    "history = model.fit(train_iterator, steps_per_epoch=len(train_iterator), epochs=100, verbose=1, validation_data=val_iterator, \n",
    "                 callbacks=[\n",
    "                     auc,\n",
    "                     eval_callback,\n",
    "                     reduce_lr,\n",
    "                     lr_callback,\n",
    "                     early_stopping,\n",
    "#                      scheduler,\n",
    "                     keras.callbacks.ModelCheckpoint(\n",
    "                         'models_baby/model_9.{epoch:02d}-{auc:.4f}.hdf5',\n",
    "                         save_best_only=False)\n",
    "                 ])"
   ]
  },
  {
   "cell_type": "code",
   "execution_count": 303,
   "id": "1cb4271b-f897-45d1-9c74-f5bacc046e04",
   "metadata": {},
   "outputs": [
    {
     "data": {
      "image/png": "[encoded data removed]",
      "text/plain": [
       "<Figure size 432x288 with 1 Axes>"
      ]
     },
     "metadata": {},
     "output_type": "display_data"
    }
   ],
   "source": [
    "plt.plot(history.history['loss'])\n",
    "plt.plot(history.history['val_loss'])\n",
    "\n",
    "plt.title('Loss vs. Training Epoch')\n",
    "plt.xlabel('Epoch')\n",
    "plt.ylabel('Loss')\n",
    "plt.legend(['Train','Validation']);"
   ]
  },
  {
   "cell_type": "code",
   "execution_count": 304,
   "id": "9c7e59a0-1166-45d5-8b35-b0f6f0fd5108",
   "metadata": {},
   "outputs": [],
   "source": [
    "y_pred_val = model.predict(X_val)\n",
    "y_pred_train = model.predict(X_train)"
   ]
  },
  {
   "cell_type": "code",
   "execution_count": 305,
   "id": "ba91822d-ed96-44fe-91ae-55ab72c65a1a",
   "metadata": {},
   "outputs": [
    {
     "data": {
      "text/plain": [
       "0"
      ]
     },
     "execution_count": 305,
     "metadata": {},
     "output_type": "execute_result"
    }
   ],
   "source": [
    "target"
   ]
  },
  {
   "cell_type": "code",
   "execution_count": 307,
   "id": "d88069c7-62c7-4933-affc-f0e23791670f",
   "metadata": {},
   "outputs": [
    {
     "name": "stdout",
     "output_type": "stream",
     "text": [
      "PRIMARY TARGET (0):\n",
      "Validation AUC: 0.6779\n",
      "Training AUC: 0.7458\n"
     ]
    }
   ],
   "source": [
    "print('PRIMARY TARGET ({}):'.format(target))\n",
    "print('Validation AUC: {}'.format(round(roc_auc_score(y_val[:,target], y_pred_val), 4)))\n",
    "print('Training AUC: {}'.format(round(roc_auc_score(y_train[:,target], y_pred_train), 4)))"
   ]
  },
  {
   "cell_type": "code",
   "execution_count": 308,
   "id": "3a431a7a-dbcc-4855-bbf9-87ece0061a4a",
   "metadata": {},
   "outputs": [
    {
     "name": "stdout",
     "output_type": "stream",
     "text": [
      "SECONDARY TARGET (1):\n",
      "Validation AUC: 0.591\n",
      "Training AUC: 0.5869\n"
     ]
    }
   ],
   "source": [
    "print('SECONDARY TARGET ({}):'.format(1))\n",
    "print('Validation AUC: {}'.format(round(roc_auc_score(y_val[:,1], y_pred_val), 4)))\n",
    "print('Training AUC: {}'.format(round(roc_auc_score(y_train[:,1], y_pred_train), 4)))"
   ]
  },
  {
   "cell_type": "code",
   "execution_count": 309,
   "id": "df614b6d-9c29-4666-a534-be406a024db8",
   "metadata": {},
   "outputs": [
    {
     "name": "stdout",
     "output_type": "stream",
     "text": [
      "SECONDARY TARGET (2):\n",
      "Validation AUC: 0.6391\n",
      "Training AUC: 0.6264\n"
     ]
    }
   ],
   "source": [
    "print('SECONDARY TARGET ({}):'.format(2))\n",
    "print('Validation AUC: {}'.format(round(roc_auc_score(y_val[:,2], y_pred_val), 4)))\n",
    "print('Training AUC: {}'.format(round(roc_auc_score(y_train[:,2], y_pred_train), 4)))"
   ]
  },
  {
   "cell_type": "code",
   "execution_count": 310,
   "id": "531e45df-4326-4ef3-89cd-aa08559e3913",
   "metadata": {},
   "outputs": [
    {
     "name": "stdout",
     "output_type": "stream",
     "text": [
      "SECONDARY TARGET (3):\n",
      "Validation AUC: 0.6768\n",
      "Training AUC: 0.6653\n"
     ]
    }
   ],
   "source": [
    "print('SECONDARY TARGET ({}):'.format(3))\n",
    "print('Validation AUC: {}'.format(round(roc_auc_score(y_val[:,3], y_pred_val), 4)))\n",
    "print('Training AUC: {}'.format(round(roc_auc_score(y_train[:,3], y_pred_train), 4)))"
   ]
  },
  {
   "cell_type": "markdown",
   "id": "017901af-67c9-4ac8-a754-38ae4feee005",
   "metadata": {},
   "source": [
    "# 10) VGG16 + 3 Dense Layers (128, 64, 1, dropout) w/ trainable layer_5 (second target)"
   ]
  },
  {
   "cell_type": "code",
   "execution_count": 387,
   "id": "07a84774-2d75-4a39-8022-ac9af9dea1e1",
   "metadata": {},
   "outputs": [],
   "source": [
    "## Targets: 'Atelectasis'=0, 'Cardiomegaly'=1, 'Edema'=2, 'Pleaural Effusion'=3\n",
    "\n",
    "target = 1"
   ]
  },
  {
   "cell_type": "code",
   "execution_count": 388,
   "id": "121573f2-6610-43d8-bb22-a1c72081a593",
   "metadata": {},
   "outputs": [
    {
     "name": "stdout",
     "output_type": "stream",
     "text": [
      "Weight for class 0: 0.59\n",
      "Weight for class 1: 3.35\n"
     ]
    }
   ],
   "source": [
    "# Scaling by total/2 helps keep the loss to a similar magnitude.\n",
    "#    The sum of the weights of all examples stays the same.\n",
    "\n",
    "# weight_for_1 = (1 / pos) * (total / 2.0)\n",
    "weight_for_1 = (1 / np.sum(y_train[:, target])) * (y_train.shape[0]/2.0)\n",
    "\n",
    "# weight_for_0 = (1 / neg) * (total / 2.0)\n",
    "weight_for_0 = (1 / (y_train.shape[0] - np.sum(y_train[:, target]))) * (y_train.shape[0]/2.0)\n",
    "\n",
    "class_weights = {0: weight_for_0, 1: weight_for_1}\n",
    "\n",
    "print('Weight for class 0: {:.2f}'.format(weight_for_0))\n",
    "print('Weight for class 1: {:.2f}'.format(weight_for_1))"
   ]
  },
  {
   "cell_type": "code",
   "execution_count": 389,
   "id": "83620181-4e02-4dcd-a460-40e4d5e30d54",
   "metadata": {},
   "outputs": [],
   "source": [
    "## FOR REPEATABILITY (must re-run this before EVERY model training run):\n",
    "\n",
    "# 1. Set the `PYTHONHASHSEED` environment variable at a fixed value\n",
    "import os\n",
    "os.environ['PYTHONHASHSEED']=str(0)\n",
    "\n",
    "# 2. Set the `python` built-in pseudo-random generator at a fixed value\n",
    "import random\n",
    "random.seed(1)\n",
    "\n",
    "# 3. Set the `numpy` pseudo-random generator at a fixed value\n",
    "import numpy as np\n",
    "np.random.seed(2)\n",
    "\n",
    "# 4. Set the `tensorflow` pseudo-random generator at a fixed value\n",
    "import tensorflow as tf\n",
    "tf.random.set_seed(2)"
   ]
  },
  {
   "cell_type": "code",
   "execution_count": 390,
   "id": "cb1f01cd-1eb7-44f7-b3d8-c465fd0a9354",
   "metadata": {},
   "outputs": [
    {
     "name": "stdout",
     "output_type": "stream",
     "text": [
      "Batches train=4, val=1\n"
     ]
    }
   ],
   "source": [
    "batch_size = 256\n",
    "\n",
    "datagen = ImageDataGenerator(featurewise_center=True, featurewise_std_normalization=True)\n",
    "\n",
    "# calculate mean on training dataset\n",
    "datagen.fit(X_train)\n",
    "\n",
    "# prepare iterators to scale images\n",
    "train_iterator = datagen.flow(X_train, y_train[:, target], batch_size=batch_size)\n",
    "\n",
    "val_iterator = datagen.flow(X_val, y_val[:, target], batch_size=batch_size)\n",
    "\n",
    "print('Batches train=%d, val=%d' % (len(train_iterator), len(val_iterator)))"
   ]
  },
  {
   "cell_type": "code",
   "execution_count": 391,
   "id": "7a199bfe-ea7b-40fc-9939-4392b234bcae",
   "metadata": {},
   "outputs": [
    {
     "name": "stdout",
     "output_type": "stream",
     "text": [
      "Layer input_2 frozen.\n",
      "Layer block1_conv1 frozen.\n",
      "Layer block1_conv2 frozen.\n",
      "Layer block1_pool frozen.\n",
      "Layer block2_conv1 frozen.\n",
      "Layer block2_conv2 frozen.\n",
      "Layer block2_pool frozen.\n",
      "Layer block3_conv1 frozen.\n",
      "Layer block3_conv2 frozen.\n",
      "Layer block3_conv3 frozen.\n",
      "Layer block3_pool frozen.\n",
      "Layer block4_conv1 frozen.\n",
      "Layer block4_conv2 frozen.\n",
      "Layer block4_conv3 frozen.\n",
      "Layer block4_pool frozen.\n",
      "Model: \"vgg16\"\n",
      "_________________________________________________________________\n",
      "Layer (type)                 Output Shape              Param #   \n",
      "=================================================================\n",
      "input_2 (InputLayer)         [(None, 224, 273, 3)]     0         \n",
      "_________________________________________________________________\n",
      "block1_conv1 (Conv2D)        (None, 224, 273, 64)      1792      \n",
      "_________________________________________________________________\n",
      "block1_conv2 (Conv2D)        (None, 224, 273, 64)      36928     \n",
      "_________________________________________________________________\n",
      "block1_pool (MaxPooling2D)   (None, 112, 136, 64)      0         \n",
      "_________________________________________________________________\n",
      "block2_conv1 (Conv2D)        (None, 112, 136, 128)     73856     \n",
      "_________________________________________________________________\n",
      "block2_conv2 (Conv2D)        (None, 112, 136, 128)     147584    \n",
      "_________________________________________________________________\n",
      "block2_pool (MaxPooling2D)   (None, 56, 68, 128)       0         \n",
      "_________________________________________________________________\n",
      "block3_conv1 (Conv2D)        (None, 56, 68, 256)       295168    \n",
      "_________________________________________________________________\n",
      "block3_conv2 (Conv2D)        (None, 56, 68, 256)       590080    \n",
      "_________________________________________________________________\n",
      "block3_conv3 (Conv2D)        (None, 56, 68, 256)       590080    \n",
      "_________________________________________________________________\n",
      "block3_pool (MaxPooling2D)   (None, 28, 34, 256)       0         \n",
      "_________________________________________________________________\n",
      "block4_conv1 (Conv2D)        (None, 28, 34, 512)       1180160   \n",
      "_________________________________________________________________\n",
      "block4_conv2 (Conv2D)        (None, 28, 34, 512)       2359808   \n",
      "_________________________________________________________________\n",
      "block4_conv3 (Conv2D)        (None, 28, 34, 512)       2359808   \n",
      "_________________________________________________________________\n",
      "block4_pool (MaxPooling2D)   (None, 14, 17, 512)       0         \n",
      "_________________________________________________________________\n",
      "block5_conv1 (Conv2D)        (None, 14, 17, 512)       2359808   \n",
      "_________________________________________________________________\n",
      "block5_conv2 (Conv2D)        (None, 14, 17, 512)       2359808   \n",
      "_________________________________________________________________\n",
      "block5_conv3 (Conv2D)        (None, 14, 17, 512)       2359808   \n",
      "_________________________________________________________________\n",
      "block5_pool (MaxPooling2D)   (None, 7, 8, 512)         0         \n",
      "=================================================================\n",
      "Total params: 14,714,688\n",
      "Trainable params: 7,079,424\n",
      "Non-trainable params: 7,635,264\n",
      "_________________________________________________________________\n"
     ]
    }
   ],
   "source": [
    "keras.backend.clear_session()\n",
    "\n",
    "from tensorflow.keras.applications import VGG16\n",
    "\n",
    "# This converts the 1-channel X-rays to 3-channel images a required by mobilenet_v2\n",
    "input_tensor = Input(shape=(X_train.shape[1:]))\n",
    "x = Conv2D(3,(3,3),padding='same')(input_tensor)\n",
    "\n",
    "base_model = VGG16(weights='imagenet', \n",
    "                   include_top=False, \n",
    "#                    pooling='avg',\n",
    "                   input_shape=(X_train.shape[1], X_train.shape[2], 3)) \n",
    " \n",
    "for layer in base_model.layers:\n",
    "  if ('block5_' not in layer.name):\n",
    "      layer.trainable = False\n",
    "      print('Layer ' + layer.name + ' frozen.')\n",
    "base_model.summary()"
   ]
  },
  {
   "cell_type": "code",
   "execution_count": 392,
   "id": "699b54ad-6fa1-494a-a8da-07e315f17585",
   "metadata": {},
   "outputs": [],
   "source": [
    "dropout = 0.4\n",
    "l1_reg = 0.0001\n",
    "l2_reg = 0.001\n",
    "\n",
    "out = base_model(x)\n",
    "new_base_model = Model(inputs=input_tensor, outputs=out)\n",
    "    \n",
    "# Establish new fully connected block\n",
    "x = new_base_model.output\n",
    "x = Flatten()(x) # flatten from convolution tensor output \n",
    "# x = Dense(units=128, activation='relu')(x)\n",
    "x = Dense(units=128, \n",
    "          activation='relu', \n",
    "          kernel_regularizer=regularizers.l1_l2(l1=l1_reg, l2=l2_reg),\n",
    "          bias_regularizer=regularizers.l1_l2(l1=l1_reg, l2=l2_reg))(x)\n",
    "x = Dropout(dropout, seed=2)(x) # adding Dropout for regularization between the Dense layers\n",
    "x = Dense(units=64,\n",
    "          activation='relu', \n",
    "          kernel_regularizer=regularizers.l1_l2(l1=l1_reg, l2=l2_reg),\n",
    "          bias_regularizer=regularizers.l1_l2(l1=l1_reg, l2=l2_reg))(x)\n",
    "x = Dropout(dropout, seed=1)(x) # adding Dropout for regularization between the Dense layers\n",
    "predictions = Dense(units=1, activation='sigmoid')(x) # 1 target labels\n",
    "\n",
    "# define formal model object to train and compile it as usual\n",
    "model = Model(inputs=new_base_model.input, outputs=predictions)"
   ]
  },
  {
   "cell_type": "code",
   "execution_count": 393,
   "id": "3768af02-7db0-4dab-bf1b-f634a054e770",
   "metadata": {},
   "outputs": [
    {
     "name": "stdout",
     "output_type": "stream",
     "text": [
      "Model: \"model_1\"\n",
      "_________________________________________________________________\n",
      "Layer (type)                 Output Shape              Param #   \n",
      "=================================================================\n",
      "input_1 (InputLayer)         [(None, 224, 273, 1)]     0         \n",
      "_________________________________________________________________\n",
      "conv2d (Conv2D)              (None, 224, 273, 3)       30        \n",
      "_________________________________________________________________\n",
      "vgg16 (Functional)           (None, 7, 8, 512)         14714688  \n",
      "_________________________________________________________________\n",
      "flatten (Flatten)            (None, 28672)             0         \n",
      "_________________________________________________________________\n",
      "dense (Dense)                (None, 128)               3670144   \n",
      "_________________________________________________________________\n",
      "dropout (Dropout)            (None, 128)               0         \n",
      "_________________________________________________________________\n",
      "dense_1 (Dense)              (None, 64)                8256      \n",
      "_________________________________________________________________\n",
      "dropout_1 (Dropout)          (None, 64)                0         \n",
      "_________________________________________________________________\n",
      "dense_2 (Dense)              (None, 1)                 65        \n",
      "=================================================================\n",
      "Total params: 18,393,183\n",
      "Trainable params: 10,757,919\n",
      "Non-trainable params: 7,635,264\n",
      "_________________________________________________________________\n"
     ]
    }
   ],
   "source": [
    "model.summary()"
   ]
  },
  {
   "cell_type": "code",
   "execution_count": 394,
   "id": "6c51c0b6-ece4-4b23-a8d5-a323c803e237",
   "metadata": {
    "tags": []
   },
   "outputs": [],
   "source": [
    "initial_learning_rate = 0.00025\n",
    "adam_opt = keras.optimizers.Adam(learning_rate=initial_learning_rate, \n",
    "                                 beta_1=0.9, \n",
    "                                 beta_2=0.999, \n",
    "                                 epsilon=1e-07, \n",
    "                                 amsgrad=False)\n",
    "\n",
    "model.compile(\n",
    "    loss='binary_crossentropy',\n",
    "    optimizer=adam_opt\n",
    ")"
   ]
  },
  {
   "cell_type": "code",
   "execution_count": 395,
   "id": "d897c80d-d5d9-41af-936f-39d123ae467a",
   "metadata": {},
   "outputs": [
    {
     "data": {
      "text/plain": [
       "0.00025"
      ]
     },
     "execution_count": 395,
     "metadata": {},
     "output_type": "execute_result"
    }
   ],
   "source": [
    "model.optimizer.get_config()['learning_rate']"
   ]
  },
  {
   "cell_type": "code",
   "execution_count": 396,
   "id": "c802455f-63bf-4873-bdc5-72bf571a490a",
   "metadata": {
    "tags": []
   },
   "outputs": [
    {
     "name": "stdout",
     "output_type": "stream",
     "text": [
      "Epoch 1/100\n",
      "Learning Rate: 0.00025\n",
      "4/4 [==============================] - 467s 125s/step - loss: 3.5135 - val_loss: 3.2452\n",
      "\n",
      "val-roc-auc: 0.4894                                                                                                    \n",
      "\n",
      "Epoch 2/100\n",
      "Learning Rate: 0.0002500000118743628\n",
      "4/4 [==============================] - 452s 118s/step - loss: 3.1680 - val_loss: 2.9572\n",
      "\n",
      "val-roc-auc: 0.5282                                                                                                    \n",
      "\n",
      "Epoch 3/100\n",
      "Learning Rate: 0.0002500000118743628\n",
      "4/4 [==============================] - 437s 111s/step - loss: 2.8771 - val_loss: 2.7055\n",
      "\n",
      "val-roc-auc: 0.5474                                                                                                    \n",
      "\n",
      "Epoch 4/100\n",
      "Learning Rate: 0.0002500000118743628\n",
      "4/4 [==============================] - 440s 112s/step - loss: 2.6317 - val_loss: 2.4956\n",
      "\n",
      "val-roc-auc: 0.5837                                                                                                    \n",
      "\n",
      "Epoch 5/100\n",
      "Learning Rate: 0.0002500000118743628\n",
      "4/4 [==============================] - 407s 106s/step - loss: 2.3963 - val_loss: 2.2322\n",
      "\n",
      "val-roc-auc: 0.6091                                                                                                    \n",
      "\n",
      "Epoch 6/100\n",
      "Learning Rate: 0.0002500000118743628\n",
      "4/4 [==============================] - 312s 88s/step - loss: 2.1542 - val_loss: 2.0263\n",
      "\n",
      "val-roc-auc: 0.6062                                                                                                    \n",
      "\n",
      "Epoch 7/100\n",
      "Learning Rate: 0.0002500000118743628\n",
      "4/4 [==============================] - 439s 112s/step - loss: 1.9604 - val_loss: 1.8620\n",
      "\n",
      "val-roc-auc: 0.6296                                                                                                    \n",
      "\n",
      "Epoch 8/100\n",
      "Learning Rate: 0.0002500000118743628\n",
      "4/4 [==============================] - 424s 107s/step - loss: 1.7674 - val_loss: 1.6762\n",
      "\n",
      "val-roc-auc: 0.6202                                                                                                    \n",
      "\n",
      "Epoch 9/100\n",
      "Learning Rate: 0.0002500000118743628\n",
      "4/4 [==============================] - 421s 106s/step - loss: 1.5801 - val_loss: 1.5211\n",
      "\n",
      "val-roc-auc: 0.6233                                                                                                    \n",
      "\n",
      "Epoch 10/100\n",
      "Learning Rate: 0.0001250000059371814\n",
      "4/4 [==============================] - 422s 107s/step - loss: 1.4464 - val_loss: 1.4550\n",
      "\n",
      "val-roc-auc: 0.6215                                                                                                    \n",
      "\n",
      "Epoch 11/100\n",
      "Learning Rate: 0.0001250000059371814\n",
      "4/4 [==============================] - 418s 105s/step - loss: 1.3654 - val_loss: 1.3686\n",
      "\n",
      "val-roc-auc: 0.6386                                                                                                    \n",
      "\n",
      "Epoch 12/100\n",
      "Learning Rate: 0.0001250000059371814\n",
      "4/4 [==============================] - 423s 107s/step - loss: 1.2877 - val_loss: 1.3096\n",
      "\n",
      "val-roc-auc: 0.6389                                                                                                    \n",
      "\n",
      "Epoch 13/100\n",
      "Learning Rate: 0.0001250000059371814\n",
      "4/4 [==============================] - 434s 111s/step - loss: 1.2204 - val_loss: 1.2451\n",
      "\n",
      "val-roc-auc: 0.6274                                                                                                    \n",
      "\n",
      "Epoch 14/100\n",
      "Learning Rate: 6.25000029685907e-05\n",
      "4/4 [==============================] - 426s 108s/step - loss: 1.1513 - val_loss: 1.2130\n",
      "\n",
      "val-roc-auc: 0.6272                                                                                                    \n",
      "\n",
      "Epoch 15/100\n",
      "Learning Rate: 6.25000029685907e-05\n",
      "4/4 [==============================] - 426s 108s/step - loss: 1.1003 - val_loss: 1.1840\n",
      "\n",
      "val-roc-auc: 0.6297                                                                                                    \n",
      "\n",
      "Epoch 16/100\n",
      "Learning Rate: 3.1200001103570685e-05\n",
      "4/4 [==============================] - 418s 106s/step - loss: 1.0789 - val_loss: 1.1695\n",
      "\n",
      "val-roc-auc: 0.6315                                                                                                    \n",
      "\n",
      "Epoch 17/100\n",
      "Learning Rate: 3.1200001103570685e-05\n",
      "4/4 [==============================] - 415s 110s/step - loss: 1.0552 - val_loss: 1.1589\n",
      "\n",
      "val-roc-auc: 0.6284                                                                                                    \n",
      "\n",
      "Epoch 18/100\n",
      "Learning Rate: 1.5600000551785342e-05\n",
      "4/4 [==============================] - 417s 106s/step - loss: 1.0394 - val_loss: 1.1510\n",
      "\n",
      "val-roc-auc: 0.63                                                                                                    \n",
      "\n",
      "Epoch 19/100\n",
      "Learning Rate: 1.5600000551785342e-05\n",
      "4/4 [==============================] - 416s 106s/step - loss: 1.0261 - val_loss: 1.1432\n",
      "\n",
      "val-roc-auc: 0.6332                                                                                                    \n",
      "\n",
      "Epoch 20/100\n",
      "Learning Rate: 7.800000275892671e-06\n",
      "4/4 [==============================] - 352s 84s/step - loss: 1.0254 - val_loss: 1.1387\n",
      "\n",
      "val-roc-auc: 0.632                                                                                                    \n",
      "\n",
      "Epoch 21/100\n",
      "Learning Rate: 7.800000275892671e-06\n",
      "4/4 [==============================] - 237s 60s/step - loss: 1.0145 - val_loss: 1.1395\n",
      "\n",
      "val-roc-auc: 0.6384                                                                                                    \n",
      "\n",
      "Epoch 22/100\n",
      "Learning Rate: 3.900000137946336e-06\n",
      "4/4 [==============================] - 237s 60s/step - loss: 1.0149 - val_loss: 1.1394\n",
      "\n",
      "val-roc-auc: 0.6342                                                                                                    \n",
      "\n"
     ]
    }
   ],
   "source": [
    "# Exponential decay learning rate scheduler comes from: \n",
    "#      https://towardsdatascience.com/learning-rate-schedule-in-practice-an-example-with-keras-and-tensorflow-2-0-2f48b2888a0c\n",
    "def lr_exp_decay(epoch, lr):\n",
    "    print('Previous lr: {}'.format(lr))\n",
    "    k = 0\n",
    "    return lr * np.exp(-k*epoch)\n",
    "\n",
    "# This AUC will be calculated at the end of each epoch on the validation set and be used for early stopping\n",
    "auc = ROAUCMetrics(val_data=(X_val, y_val[:, target]))\n",
    "\n",
    "eval_callback = LambdaCallback(on_epoch_end=lambda epoch, logs: logs.update({'auc': auc.val_aucs[-1]})) \n",
    "\n",
    "# reduce_lr = ReduceLROnPlateau(monitor='val_loss', factor=0.5, patience=5, mode='min', min_delta=0.0001, min_lr=5e-6)\n",
    "reduce_lr = ReduceLROnPlateau(monitor='auc', factor=0.5, patience=2, mode='max', min_delta=0.002, min_lr=1e-6)\n",
    "\n",
    "lr_callback = LambdaCallback(on_epoch_begin=lambda epoch, logs: print('Learning Rate: {}'.format(round(model.optimizer.get_config()['learning_rate'], 7))))\n",
    "\n",
    "# scheduler = LearningRateScheduler(lr_exp_decay, verbose=1)\n",
    "\n",
    "early_stopping = EarlyStopping(monitor='auc', mode='max', patience=10, restore_best_weights=True)\n",
    "\n",
    "history = model.fit(train_iterator, steps_per_epoch=len(train_iterator), epochs=100, verbose=1, validation_data=val_iterator, \n",
    "                 callbacks=[\n",
    "                     auc,\n",
    "                     eval_callback,\n",
    "                     reduce_lr,\n",
    "                     lr_callback,\n",
    "                     early_stopping,\n",
    "#                      scheduler,\n",
    "                     keras.callbacks.ModelCheckpoint(\n",
    "                         'models_baby/model_10.{epoch:02d}-{auc:.4f}.hdf5',\n",
    "                         save_best_only=False)\n",
    "                 ])"
   ]
  },
  {
   "cell_type": "code",
   "execution_count": 397,
   "id": "5684b399-d7b0-4907-98cb-81bfc22a058a",
   "metadata": {},
   "outputs": [
    {
     "data": {
      "image/png": "[encoded data removed]",
      "text/plain": [
       "<Figure size 432x288 with 1 Axes>"
      ]
     },
     "metadata": {},
     "output_type": "display_data"
    }
   ],
   "source": [
    "plt.plot(history.history['loss'])\n",
    "plt.plot(history.history['val_loss'])\n",
    "\n",
    "plt.title('Loss vs. Training Epoch')\n",
    "plt.xlabel('Epoch')\n",
    "plt.ylabel('Loss')\n",
    "plt.legend(['Train','Validation']);"
   ]
  },
  {
   "cell_type": "code",
   "execution_count": 401,
   "id": "a0c6f8ce-5853-4472-90ec-9b1c19e33610",
   "metadata": {
    "scrolled": true,
    "tags": []
   },
   "outputs": [
    {
     "data": {
      "text/plain": [
       "{'name': 'model_1',\n",
       " 'layers': [{'class_name': 'InputLayer',\n",
       "   'config': {'batch_input_shape': (None, 224, 273, 1),\n",
       "    'dtype': 'float32',\n",
       "    'sparse': False,\n",
       "    'ragged': False,\n",
       "    'name': 'input_1'},\n",
       "   'name': 'input_1',\n",
       "   'inbound_nodes': []},\n",
       "  {'class_name': 'Conv2D',\n",
       "   'config': {'name': 'conv2d',\n",
       "    'trainable': True,\n",
       "    'dtype': 'float32',\n",
       "    'filters': 3,\n",
       "    'kernel_size': (3, 3),\n",
       "    'strides': (1, 1),\n",
       "    'padding': 'same',\n",
       "    'data_format': 'channels_last',\n",
       "    'dilation_rate': (1, 1),\n",
       "    'groups': 1,\n",
       "    'activation': 'linear',\n",
       "    'use_bias': True,\n",
       "    'kernel_initializer': {'class_name': 'GlorotUniform',\n",
       "     'config': {'seed': None}},\n",
       "    'bias_initializer': {'class_name': 'Zeros', 'config': {}},\n",
       "    'kernel_regularizer': None,\n",
       "    'bias_regularizer': None,\n",
       "    'activity_regularizer': None,\n",
       "    'kernel_constraint': None,\n",
       "    'bias_constraint': None},\n",
       "   'name': 'conv2d',\n",
       "   'inbound_nodes': [[['input_1', 0, 0, {}]]]},\n",
       "  {'class_name': 'Functional',\n",
       "   'config': {'name': 'vgg16',\n",
       "    'layers': [{'class_name': 'InputLayer',\n",
       "      'config': {'batch_input_shape': (None, 224, 273, 3),\n",
       "       'dtype': 'float32',\n",
       "       'sparse': False,\n",
       "       'ragged': False,\n",
       "       'name': 'input_2'},\n",
       "      'name': 'input_2',\n",
       "      'inbound_nodes': []},\n",
       "     {'class_name': 'Conv2D',\n",
       "      'config': {'name': 'block1_conv1',\n",
       "       'trainable': False,\n",
       "       'dtype': 'float32',\n",
       "       'filters': 64,\n",
       "       'kernel_size': (3, 3),\n",
       "       'strides': (1, 1),\n",
       "       'padding': 'same',\n",
       "       'data_format': 'channels_last',\n",
       "       'dilation_rate': (1, 1),\n",
       "       'groups': 1,\n",
       "       'activation': 'relu',\n",
       "       'use_bias': True,\n",
       "       'kernel_initializer': {'class_name': 'GlorotUniform',\n",
       "        'config': {'seed': None}},\n",
       "       'bias_initializer': {'class_name': 'Zeros', 'config': {}},\n",
       "       'kernel_regularizer': None,\n",
       "       'bias_regularizer': None,\n",
       "       'activity_regularizer': None,\n",
       "       'kernel_constraint': None,\n",
       "       'bias_constraint': None},\n",
       "      'name': 'block1_conv1',\n",
       "      'inbound_nodes': [[['input_2', 0, 0, {}]]]},\n",
       "     {'class_name': 'Conv2D',\n",
       "      'config': {'name': 'block1_conv2',\n",
       "       'trainable': False,\n",
       "       'dtype': 'float32',\n",
       "       'filters': 64,\n",
       "       'kernel_size': (3, 3),\n",
       "       'strides': (1, 1),\n",
       "       'padding': 'same',\n",
       "       'data_format': 'channels_last',\n",
       "       'dilation_rate': (1, 1),\n",
       "       'groups': 1,\n",
       "       'activation': 'relu',\n",
       "       'use_bias': True,\n",
       "       'kernel_initializer': {'class_name': 'GlorotUniform',\n",
       "        'config': {'seed': None}},\n",
       "       'bias_initializer': {'class_name': 'Zeros', 'config': {}},\n",
       "       'kernel_regularizer': None,\n",
       "       'bias_regularizer': None,\n",
       "       'activity_regularizer': None,\n",
       "       'kernel_constraint': None,\n",
       "       'bias_constraint': None},\n",
       "      'name': 'block1_conv2',\n",
       "      'inbound_nodes': [[['block1_conv1', 0, 0, {}]]]},\n",
       "     {'class_name': 'MaxPooling2D',\n",
       "      'config': {'name': 'block1_pool',\n",
       "       'trainable': False,\n",
       "       'dtype': 'float32',\n",
       "       'pool_size': (2, 2),\n",
       "       'padding': 'valid',\n",
       "       'strides': (2, 2),\n",
       "       'data_format': 'channels_last'},\n",
       "      'name': 'block1_pool',\n",
       "      'inbound_nodes': [[['block1_conv2', 0, 0, {}]]]},\n",
       "     {'class_name': 'Conv2D',\n",
       "      'config': {'name': 'block2_conv1',\n",
       "       'trainable': False,\n",
       "       'dtype': 'float32',\n",
       "       'filters': 128,\n",
       "       'kernel_size': (3, 3),\n",
       "       'strides': (1, 1),\n",
       "       'padding': 'same',\n",
       "       'data_format': 'channels_last',\n",
       "       'dilation_rate': (1, 1),\n",
       "       'groups': 1,\n",
       "       'activation': 'relu',\n",
       "       'use_bias': True,\n",
       "       'kernel_initializer': {'class_name': 'GlorotUniform',\n",
       "        'config': {'seed': None}},\n",
       "       'bias_initializer': {'class_name': 'Zeros', 'config': {}},\n",
       "       'kernel_regularizer': None,\n",
       "       'bias_regularizer': None,\n",
       "       'activity_regularizer': None,\n",
       "       'kernel_constraint': None,\n",
       "       'bias_constraint': None},\n",
       "      'name': 'block2_conv1',\n",
       "      'inbound_nodes': [[['block1_pool', 0, 0, {}]]]},\n",
       "     {'class_name': 'Conv2D',\n",
       "      'config': {'name': 'block2_conv2',\n",
       "       'trainable': False,\n",
       "       'dtype': 'float32',\n",
       "       'filters': 128,\n",
       "       'kernel_size': (3, 3),\n",
       "       'strides': (1, 1),\n",
       "       'padding': 'same',\n",
       "       'data_format': 'channels_last',\n",
       "       'dilation_rate': (1, 1),\n",
       "       'groups': 1,\n",
       "       'activation': 'relu',\n",
       "       'use_bias': True,\n",
       "       'kernel_initializer': {'class_name': 'GlorotUniform',\n",
       "        'config': {'seed': None}},\n",
       "       'bias_initializer': {'class_name': 'Zeros', 'config': {}},\n",
       "       'kernel_regularizer': None,\n",
       "       'bias_regularizer': None,\n",
       "       'activity_regularizer': None,\n",
       "       'kernel_constraint': None,\n",
       "       'bias_constraint': None},\n",
       "      'name': 'block2_conv2',\n",
       "      'inbound_nodes': [[['block2_conv1', 0, 0, {}]]]},\n",
       "     {'class_name': 'MaxPooling2D',\n",
       "      'config': {'name': 'block2_pool',\n",
       "       'trainable': False,\n",
       "       'dtype': 'float32',\n",
       "       'pool_size': (2, 2),\n",
       "       'padding': 'valid',\n",
       "       'strides': (2, 2),\n",
       "       'data_format': 'channels_last'},\n",
       "      'name': 'block2_pool',\n",
       "      'inbound_nodes': [[['block2_conv2', 0, 0, {}]]]},\n",
       "     {'class_name': 'Conv2D',\n",
       "      'config': {'name': 'block3_conv1',\n",
       "       'trainable': False,\n",
       "       'dtype': 'float32',\n",
       "       'filters': 256,\n",
       "       'kernel_size': (3, 3),\n",
       "       'strides': (1, 1),\n",
       "       'padding': 'same',\n",
       "       'data_format': 'channels_last',\n",
       "       'dilation_rate': (1, 1),\n",
       "       'groups': 1,\n",
       "       'activation': 'relu',\n",
       "       'use_bias': True,\n",
       "       'kernel_initializer': {'class_name': 'GlorotUniform',\n",
       "        'config': {'seed': None}},\n",
       "       'bias_initializer': {'class_name': 'Zeros', 'config': {}},\n",
       "       'kernel_regularizer': None,\n",
       "       'bias_regularizer': None,\n",
       "       'activity_regularizer': None,\n",
       "       'kernel_constraint': None,\n",
       "       'bias_constraint': None},\n",
       "      'name': 'block3_conv1',\n",
       "      'inbound_nodes': [[['block2_pool', 0, 0, {}]]]},\n",
       "     {'class_name': 'Conv2D',\n",
       "      'config': {'name': 'block3_conv2',\n",
       "       'trainable': False,\n",
       "       'dtype': 'float32',\n",
       "       'filters': 256,\n",
       "       'kernel_size': (3, 3),\n",
       "       'strides': (1, 1),\n",
       "       'padding': 'same',\n",
       "       'data_format': 'channels_last',\n",
       "       'dilation_rate': (1, 1),\n",
       "       'groups': 1,\n",
       "       'activation': 'relu',\n",
       "       'use_bias': True,\n",
       "       'kernel_initializer': {'class_name': 'GlorotUniform',\n",
       "        'config': {'seed': None}},\n",
       "       'bias_initializer': {'class_name': 'Zeros', 'config': {}},\n",
       "       'kernel_regularizer': None,\n",
       "       'bias_regularizer': None,\n",
       "       'activity_regularizer': None,\n",
       "       'kernel_constraint': None,\n",
       "       'bias_constraint': None},\n",
       "      'name': 'block3_conv2',\n",
       "      'inbound_nodes': [[['block3_conv1', 0, 0, {}]]]},\n",
       "     {'class_name': 'Conv2D',\n",
       "      'config': {'name': 'block3_conv3',\n",
       "       'trainable': False,\n",
       "       'dtype': 'float32',\n",
       "       'filters': 256,\n",
       "       'kernel_size': (3, 3),\n",
       "       'strides': (1, 1),\n",
       "       'padding': 'same',\n",
       "       'data_format': 'channels_last',\n",
       "       'dilation_rate': (1, 1),\n",
       "       'groups': 1,\n",
       "       'activation': 'relu',\n",
       "       'use_bias': True,\n",
       "       'kernel_initializer': {'class_name': 'GlorotUniform',\n",
       "        'config': {'seed': None}},\n",
       "       'bias_initializer': {'class_name': 'Zeros', 'config': {}},\n",
       "       'kernel_regularizer': None,\n",
       "       'bias_regularizer': None,\n",
       "       'activity_regularizer': None,\n",
       "       'kernel_constraint': None,\n",
       "       'bias_constraint': None},\n",
       "      'name': 'block3_conv3',\n",
       "      'inbound_nodes': [[['block3_conv2', 0, 0, {}]]]},\n",
       "     {'class_name': 'MaxPooling2D',\n",
       "      'config': {'name': 'block3_pool',\n",
       "       'trainable': False,\n",
       "       'dtype': 'float32',\n",
       "       'pool_size': (2, 2),\n",
       "       'padding': 'valid',\n",
       "       'strides': (2, 2),\n",
       "       'data_format': 'channels_last'},\n",
       "      'name': 'block3_pool',\n",
       "      'inbound_nodes': [[['block3_conv3', 0, 0, {}]]]},\n",
       "     {'class_name': 'Conv2D',\n",
       "      'config': {'name': 'block4_conv1',\n",
       "       'trainable': False,\n",
       "       'dtype': 'float32',\n",
       "       'filters': 512,\n",
       "       'kernel_size': (3, 3),\n",
       "       'strides': (1, 1),\n",
       "       'padding': 'same',\n",
       "       'data_format': 'channels_last',\n",
       "       'dilation_rate': (1, 1),\n",
       "       'groups': 1,\n",
       "       'activation': 'relu',\n",
       "       'use_bias': True,\n",
       "       'kernel_initializer': {'class_name': 'GlorotUniform',\n",
       "        'config': {'seed': None}},\n",
       "       'bias_initializer': {'class_name': 'Zeros', 'config': {}},\n",
       "       'kernel_regularizer': None,\n",
       "       'bias_regularizer': None,\n",
       "       'activity_regularizer': None,\n",
       "       'kernel_constraint': None,\n",
       "       'bias_constraint': None},\n",
       "      'name': 'block4_conv1',\n",
       "      'inbound_nodes': [[['block3_pool', 0, 0, {}]]]},\n",
       "     {'class_name': 'Conv2D',\n",
       "      'config': {'name': 'block4_conv2',\n",
       "       'trainable': False,\n",
       "       'dtype': 'float32',\n",
       "       'filters': 512,\n",
       "       'kernel_size': (3, 3),\n",
       "       'strides': (1, 1),\n",
       "       'padding': 'same',\n",
       "       'data_format': 'channels_last',\n",
       "       'dilation_rate': (1, 1),\n",
       "       'groups': 1,\n",
       "       'activation': 'relu',\n",
       "       'use_bias': True,\n",
       "       'kernel_initializer': {'class_name': 'GlorotUniform',\n",
       "        'config': {'seed': None}},\n",
       "       'bias_initializer': {'class_name': 'Zeros', 'config': {}},\n",
       "       'kernel_regularizer': None,\n",
       "       'bias_regularizer': None,\n",
       "       'activity_regularizer': None,\n",
       "       'kernel_constraint': None,\n",
       "       'bias_constraint': None},\n",
       "      'name': 'block4_conv2',\n",
       "      'inbound_nodes': [[['block4_conv1', 0, 0, {}]]]},\n",
       "     {'class_name': 'Conv2D',\n",
       "      'config': {'name': 'block4_conv3',\n",
       "       'trainable': False,\n",
       "       'dtype': 'float32',\n",
       "       'filters': 512,\n",
       "       'kernel_size': (3, 3),\n",
       "       'strides': (1, 1),\n",
       "       'padding': 'same',\n",
       "       'data_format': 'channels_last',\n",
       "       'dilation_rate': (1, 1),\n",
       "       'groups': 1,\n",
       "       'activation': 'relu',\n",
       "       'use_bias': True,\n",
       "       'kernel_initializer': {'class_name': 'GlorotUniform',\n",
       "        'config': {'seed': None}},\n",
       "       'bias_initializer': {'class_name': 'Zeros', 'config': {}},\n",
       "       'kernel_regularizer': None,\n",
       "       'bias_regularizer': None,\n",
       "       'activity_regularizer': None,\n",
       "       'kernel_constraint': None,\n",
       "       'bias_constraint': None},\n",
       "      'name': 'block4_conv3',\n",
       "      'inbound_nodes': [[['block4_conv2', 0, 0, {}]]]},\n",
       "     {'class_name': 'MaxPooling2D',\n",
       "      'config': {'name': 'block4_pool',\n",
       "       'trainable': False,\n",
       "       'dtype': 'float32',\n",
       "       'pool_size': (2, 2),\n",
       "       'padding': 'valid',\n",
       "       'strides': (2, 2),\n",
       "       'data_format': 'channels_last'},\n",
       "      'name': 'block4_pool',\n",
       "      'inbound_nodes': [[['block4_conv3', 0, 0, {}]]]},\n",
       "     {'class_name': 'Conv2D',\n",
       "      'config': {'name': 'block5_conv1',\n",
       "       'trainable': True,\n",
       "       'dtype': 'float32',\n",
       "       'filters': 512,\n",
       "       'kernel_size': (3, 3),\n",
       "       'strides': (1, 1),\n",
       "       'padding': 'same',\n",
       "       'data_format': 'channels_last',\n",
       "       'dilation_rate': (1, 1),\n",
       "       'groups': 1,\n",
       "       'activation': 'relu',\n",
       "       'use_bias': True,\n",
       "       'kernel_initializer': {'class_name': 'GlorotUniform',\n",
       "        'config': {'seed': None}},\n",
       "       'bias_initializer': {'class_name': 'Zeros', 'config': {}},\n",
       "       'kernel_regularizer': None,\n",
       "       'bias_regularizer': None,\n",
       "       'activity_regularizer': None,\n",
       "       'kernel_constraint': None,\n",
       "       'bias_constraint': None},\n",
       "      'name': 'block5_conv1',\n",
       "      'inbound_nodes': [[['block4_pool', 0, 0, {}]]]},\n",
       "     {'class_name': 'Conv2D',\n",
       "      'config': {'name': 'block5_conv2',\n",
       "       'trainable': True,\n",
       "       'dtype': 'float32',\n",
       "       'filters': 512,\n",
       "       'kernel_size': (3, 3),\n",
       "       'strides': (1, 1),\n",
       "       'padding': 'same',\n",
       "       'data_format': 'channels_last',\n",
       "       'dilation_rate': (1, 1),\n",
       "       'groups': 1,\n",
       "       'activation': 'relu',\n",
       "       'use_bias': True,\n",
       "       'kernel_initializer': {'class_name': 'GlorotUniform',\n",
       "        'config': {'seed': None}},\n",
       "       'bias_initializer': {'class_name': 'Zeros', 'config': {}},\n",
       "       'kernel_regularizer': None,\n",
       "       'bias_regularizer': None,\n",
       "       'activity_regularizer': None,\n",
       "       'kernel_constraint': None,\n",
       "       'bias_constraint': None},\n",
       "      'name': 'block5_conv2',\n",
       "      'inbound_nodes': [[['block5_conv1', 0, 0, {}]]]},\n",
       "     {'class_name': 'Conv2D',\n",
       "      'config': {'name': 'block5_conv3',\n",
       "       'trainable': True,\n",
       "       'dtype': 'float32',\n",
       "       'filters': 512,\n",
       "       'kernel_size': (3, 3),\n",
       "       'strides': (1, 1),\n",
       "       'padding': 'same',\n",
       "       'data_format': 'channels_last',\n",
       "       'dilation_rate': (1, 1),\n",
       "       'groups': 1,\n",
       "       'activation': 'relu',\n",
       "       'use_bias': True,\n",
       "       'kernel_initializer': {'class_name': 'GlorotUniform',\n",
       "        'config': {'seed': None}},\n",
       "       'bias_initializer': {'class_name': 'Zeros', 'config': {}},\n",
       "       'kernel_regularizer': None,\n",
       "       'bias_regularizer': None,\n",
       "       'activity_regularizer': None,\n",
       "       'kernel_constraint': None,\n",
       "       'bias_constraint': None},\n",
       "      'name': 'block5_conv3',\n",
       "      'inbound_nodes': [[['block5_conv2', 0, 0, {}]]]},\n",
       "     {'class_name': 'MaxPooling2D',\n",
       "      'config': {'name': 'block5_pool',\n",
       "       'trainable': True,\n",
       "       'dtype': 'float32',\n",
       "       'pool_size': (2, 2),\n",
       "       'padding': 'valid',\n",
       "       'strides': (2, 2),\n",
       "       'data_format': 'channels_last'},\n",
       "      'name': 'block5_pool',\n",
       "      'inbound_nodes': [[['block5_conv3', 0, 0, {}]]]}],\n",
       "    'input_layers': [['input_2', 0, 0]],\n",
       "    'output_layers': [['block5_pool', 0, 0]]},\n",
       "   'name': 'vgg16',\n",
       "   'inbound_nodes': [[['conv2d', 0, 0, {}]]]},\n",
       "  {'class_name': 'Flatten',\n",
       "   'config': {'name': 'flatten',\n",
       "    'trainable': True,\n",
       "    'dtype': 'float32',\n",
       "    'data_format': 'channels_last'},\n",
       "   'name': 'flatten',\n",
       "   'inbound_nodes': [[['vgg16', 1, 0, {}]]]},\n",
       "  {'class_name': 'Dense',\n",
       "   'config': {'name': 'dense',\n",
       "    'trainable': True,\n",
       "    'dtype': 'float32',\n",
       "    'units': 128,\n",
       "    'activation': 'relu',\n",
       "    'use_bias': True,\n",
       "    'kernel_initializer': {'class_name': 'GlorotUniform',\n",
       "     'config': {'seed': None}},\n",
       "    'bias_initializer': {'class_name': 'Zeros', 'config': {}},\n",
       "    'kernel_regularizer': {'class_name': 'L1L2',\n",
       "     'config': {'l1': 9.999999747378752e-05, 'l2': 0.0010000000474974513}},\n",
       "    'bias_regularizer': {'class_name': 'L1L2',\n",
       "     'config': {'l1': 9.999999747378752e-05, 'l2': 0.0010000000474974513}},\n",
       "    'activity_regularizer': None,\n",
       "    'kernel_constraint': None,\n",
       "    'bias_constraint': None},\n",
       "   'name': 'dense',\n",
       "   'inbound_nodes': [[['flatten', 0, 0, {}]]]},\n",
       "  {'class_name': 'Dropout',\n",
       "   'config': {'name': 'dropout',\n",
       "    'trainable': True,\n",
       "    'dtype': 'float32',\n",
       "    'rate': 0.4,\n",
       "    'noise_shape': None,\n",
       "    'seed': 2},\n",
       "   'name': 'dropout',\n",
       "   'inbound_nodes': [[['dense', 0, 0, {}]]]},\n",
       "  {'class_name': 'Dense',\n",
       "   'config': {'name': 'dense_1',\n",
       "    'trainable': True,\n",
       "    'dtype': 'float32',\n",
       "    'units': 64,\n",
       "    'activation': 'relu',\n",
       "    'use_bias': True,\n",
       "    'kernel_initializer': {'class_name': 'GlorotUniform',\n",
       "     'config': {'seed': None}},\n",
       "    'bias_initializer': {'class_name': 'Zeros', 'config': {}},\n",
       "    'kernel_regularizer': {'class_name': 'L1L2',\n",
       "     'config': {'l1': 9.999999747378752e-05, 'l2': 0.0010000000474974513}},\n",
       "    'bias_regularizer': {'class_name': 'L1L2',\n",
       "     'config': {'l1': 9.999999747378752e-05, 'l2': 0.0010000000474974513}},\n",
       "    'activity_regularizer': None,\n",
       "    'kernel_constraint': None,\n",
       "    'bias_constraint': None},\n",
       "   'name': 'dense_1',\n",
       "   'inbound_nodes': [[['dropout', 0, 0, {}]]]},\n",
       "  {'class_name': 'Dropout',\n",
       "   'config': {'name': 'dropout_1',\n",
       "    'trainable': True,\n",
       "    'dtype': 'float32',\n",
       "    'rate': 0.4,\n",
       "    'noise_shape': None,\n",
       "    'seed': 1},\n",
       "   'name': 'dropout_1',\n",
       "   'inbound_nodes': [[['dense_1', 0, 0, {}]]]},\n",
       "  {'class_name': 'Dense',\n",
       "   'config': {'name': 'dense_2',\n",
       "    'trainable': True,\n",
       "    'dtype': 'float32',\n",
       "    'units': 1,\n",
       "    'activation': 'sigmoid',\n",
       "    'use_bias': True,\n",
       "    'kernel_initializer': {'class_name': 'GlorotUniform',\n",
       "     'config': {'seed': None}},\n",
       "    'bias_initializer': {'class_name': 'Zeros', 'config': {}},\n",
       "    'kernel_regularizer': None,\n",
       "    'bias_regularizer': None,\n",
       "    'activity_regularizer': None,\n",
       "    'kernel_constraint': None,\n",
       "    'bias_constraint': None},\n",
       "   'name': 'dense_2',\n",
       "   'inbound_nodes': [[['dropout_1', 0, 0, {}]]]}],\n",
       " 'input_layers': [['input_1', 0, 0]],\n",
       " 'output_layers': [['dense_2', 0, 0]]}"
      ]
     },
     "execution_count": 401,
     "metadata": {},
     "output_type": "execute_result"
    }
   ],
   "source": [
    "model.get_config()"
   ]
  },
  {
   "cell_type": "code",
   "execution_count": 403,
   "id": "d72bc56b-e8f8-422f-a4cf-da7c3107d83d",
   "metadata": {},
   "outputs": [
    {
     "data": {
      "text/plain": [
       "{'name': 'Adam',\n",
       " 'learning_rate': 3.90625e-06,\n",
       " 'decay': 0.0,\n",
       " 'beta_1': 0.9,\n",
       " 'beta_2': 0.999,\n",
       " 'epsilon': 1e-07,\n",
       " 'amsgrad': False}"
      ]
     },
     "execution_count": 403,
     "metadata": {},
     "output_type": "execute_result"
    }
   ],
   "source": [
    "model.optimizer.get_config()"
   ]
  },
  {
   "cell_type": "code",
   "execution_count": 398,
   "id": "2c0dcfa5-8e52-4656-bc7a-9f1570910f08",
   "metadata": {},
   "outputs": [],
   "source": [
    "y_pred_val = model.predict(X_val)\n",
    "y_pred_train = model.predict(X_train)"
   ]
  },
  {
   "cell_type": "code",
   "execution_count": 399,
   "id": "f1de0471-5ba2-4cce-8727-00498e05ff95",
   "metadata": {},
   "outputs": [
    {
     "data": {
      "text/plain": [
       "1"
      ]
     },
     "execution_count": 399,
     "metadata": {},
     "output_type": "execute_result"
    }
   ],
   "source": [
    "target"
   ]
  },
  {
   "cell_type": "code",
   "execution_count": 400,
   "id": "e197e3c8-d244-4fa0-851a-b1ece97becb0",
   "metadata": {},
   "outputs": [
    {
     "name": "stdout",
     "output_type": "stream",
     "text": [
      "PRIMARY TARGET (1):\n",
      "Validation AUC: 0.6389\n",
      "Training AUC: 0.8139\n"
     ]
    }
   ],
   "source": [
    "# dropout = 0.4\n",
    "# l1_reg = 0.0001\n",
    "# l2_reg = 0.001\n",
    "\n",
    "print('PRIMARY TARGET ({}):'.format(target))\n",
    "print('Validation AUC: {}'.format(round(roc_auc_score(y_val[:,target], y_pred_val), 4)))\n",
    "print('Training AUC: {}'.format(round(roc_auc_score(y_train[:,target], y_pred_train), 4)))"
   ]
  },
  {
   "cell_type": "code",
   "execution_count": null,
   "id": "5c562531-2f70-4226-82fc-515435db00c7",
   "metadata": {},
   "outputs": [],
   "source": []
  },
  {
   "cell_type": "code",
   "execution_count": 386,
   "id": "91b2374b-bbc2-490b-9a2c-61e043d63117",
   "metadata": {},
   "outputs": [
    {
     "name": "stdout",
     "output_type": "stream",
     "text": [
      "PRIMARY TARGET (1):\n",
      "Validation AUC: 0.6311\n",
      "Training AUC: 0.9003\n"
     ]
    }
   ],
   "source": [
    "# dropout = 0.3\n",
    "# l1_reg = 0.00001\n",
    "# l2_reg = 0.0001\n",
    "\n",
    "print('PRIMARY TARGET ({}):'.format(target))\n",
    "print('Validation AUC: {}'.format(round(roc_auc_score(y_val[:,target], y_pred_val), 4)))\n",
    "print('Training AUC: {}'.format(round(roc_auc_score(y_train[:,target], y_pred_train), 4)))"
   ]
  },
  {
   "cell_type": "code",
   "execution_count": null,
   "id": "dd2363ba-276a-491f-9bd9-a80a46e84208",
   "metadata": {},
   "outputs": [],
   "source": []
  },
  {
   "cell_type": "code",
   "execution_count": 363,
   "id": "692159da-5577-4ffb-8051-4f340b1cf35b",
   "metadata": {},
   "outputs": [
    {
     "name": "stdout",
     "output_type": "stream",
     "text": [
      "PRIMARY TARGET (1):\n",
      "Validation AUC: 0.6595\n",
      "Training AUC: 0.834\n"
     ]
    }
   ],
   "source": [
    "# dropout = 0.35\n",
    "# l1_reg = 0.00005\n",
    "# l2_reg = 0.0005\n",
    "\n",
    "print('PRIMARY TARGET ({}):'.format(target))\n",
    "print('Validation AUC: {}'.format(round(roc_auc_score(y_val[:,target], y_pred_val), 4)))\n",
    "print('Training AUC: {}'.format(round(roc_auc_score(y_train[:,target], y_pred_train), 4)))"
   ]
  },
  {
   "cell_type": "code",
   "execution_count": null,
   "id": "ebfd2c0c-43fa-422b-a43d-dbdf7ee2f1ff",
   "metadata": {},
   "outputs": [],
   "source": []
  },
  {
   "cell_type": "code",
   "execution_count": 347,
   "id": "3915b716-5895-427e-912f-c06bb6a3adbe",
   "metadata": {},
   "outputs": [
    {
     "name": "stdout",
     "output_type": "stream",
     "text": [
      "PRIMARY TARGET (1):\n",
      "Validation AUC: 0.6224\n",
      "Training AUC: 0.7687\n"
     ]
    }
   ],
   "source": [
    "# dropout = 0.35\n",
    "# l1_reg = 0.00001\n",
    "# l2_reg = 0.0001\n",
    "\n",
    "print('PRIMARY TARGET ({}):'.format(target))\n",
    "print('Validation AUC: {}'.format(round(roc_auc_score(y_val[:,target], y_pred_val), 4)))\n",
    "print('Training AUC: {}'.format(round(roc_auc_score(y_train[:,target], y_pred_train), 4)))"
   ]
  },
  {
   "cell_type": "code",
   "execution_count": null,
   "id": "1f6d1c84-f64a-4399-b89c-d897f18c0951",
   "metadata": {},
   "outputs": [],
   "source": []
  },
  {
   "cell_type": "code",
   "execution_count": null,
   "id": "8c1ce586-3e3d-4b4a-b470-5fbdea2e4b89",
   "metadata": {},
   "outputs": [],
   "source": []
  }
 ],
 "metadata": {
  "kernelspec": {
   "display_name": "Python [conda env:metis] *",
   "language": "python",
   "name": "conda-env-metis-py"
  },
  "language_info": {
   "codemirror_mode": {
    "name": "ipython",
    "version": 3
   },
   "file_extension": ".py",
   "mimetype": "text/x-python",
   "name": "python",
   "nbconvert_exporter": "python",
   "pygments_lexer": "ipython3",
   "version": "3.8.10"
  }
 },
 "nbformat": 4,
 "nbformat_minor": 5
}

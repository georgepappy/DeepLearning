{
 "cells": [
  {
   "cell_type": "code",
   "execution_count": 1,
   "id": "e00b528a-3835-44b7-9eb4-4e42a7e196fb",
   "metadata": {},
   "outputs": [],
   "source": [
    "import pandas as pd\n",
    "import seaborn as sns\n",
    "import sklearn\n",
    "from tensorflow import keras"
   ]
  },
  {
   "cell_type": "code",
   "execution_count": 2,
   "id": "a33fc3e5-99db-4911-8aa0-582119a42def",
   "metadata": {},
   "outputs": [
    {
     "name": "stdout",
     "output_type": "stream",
     "text": [
      "Populating the interactive namespace from numpy and matplotlib\n"
     ]
    }
   ],
   "source": [
    "%pylab inline \n",
    "import seaborn as sns\n",
    "sns.set()\n",
    "from IPython.display import SVG"
   ]
  },
  {
   "cell_type": "code",
   "execution_count": 4,
   "id": "33501cc1-68bf-461f-929a-5660d7c00350",
   "metadata": {},
   "outputs": [],
   "source": [
    "from sklearn.model_selection import train_test_split\n",
    "from sklearn.metrics import accuracy_score, roc_auc_score, recall_score\n",
    "from sklearn.preprocessing import StandardScaler\n",
    "from sklearn.linear_model import LogisticRegression"
   ]
  },
  {
   "cell_type": "code",
   "execution_count": 5,
   "id": "f150ec52-b190-4f24-bcc4-d7211fc48490",
   "metadata": {},
   "outputs": [],
   "source": [
    "from tensorflow.keras.models import Sequential\n",
    "from tensorflow.keras.layers import Dense, Conv2D, MaxPooling2D, Flatten, GlobalAveragePooling2D, InputLayer, Input, Dropout, BatchNormalization"
   ]
  },
  {
   "cell_type": "code",
   "execution_count": 6,
   "id": "309d7af9-5f61-4251-8473-4375c006996a",
   "metadata": {},
   "outputs": [],
   "source": [
    "from tensorflow.keras.utils import to_categorical"
   ]
  },
  {
   "cell_type": "code",
   "execution_count": 7,
   "id": "7d23033c-eb58-475c-bfbc-40f493071ed4",
   "metadata": {},
   "outputs": [],
   "source": [
    "from tensorflow.keras.preprocessing.image import ImageDataGenerator"
   ]
  },
  {
   "cell_type": "code",
   "execution_count": 8,
   "id": "9321184e-deb8-4a84-aa4c-f1ac54040439",
   "metadata": {},
   "outputs": [],
   "source": [
    "from tensorflow.keras.callbacks import EarlyStopping, ReduceLROnPlateau, LambdaCallback, LearningRateScheduler"
   ]
  },
  {
   "cell_type": "code",
   "execution_count": 9,
   "id": "c3c965dc-e95b-4c8a-98e4-f437c877d934",
   "metadata": {},
   "outputs": [],
   "source": [
    "from tensorflow.keras.models import load_model, Model"
   ]
  },
  {
   "cell_type": "code",
   "execution_count": 25,
   "id": "aae18b0c-c054-4640-9147-449c252eec94",
   "metadata": {},
   "outputs": [],
   "source": [
    "from tensorflow.keras import regularizers"
   ]
  },
  {
   "cell_type": "code",
   "execution_count": 10,
   "id": "649193b6-070a-4d08-b66c-69db7a793e87",
   "metadata": {},
   "outputs": [],
   "source": [
    "import numpy as np\n",
    "np.set_printoptions(suppress=True) # Suppress scientific notation where possible"
   ]
  },
  {
   "cell_type": "code",
   "execution_count": 11,
   "id": "51a6fd63-b96b-44f1-a014-0ee41ffe8427",
   "metadata": {},
   "outputs": [],
   "source": [
    "# Make some room to see stuff (i.e. drop display limits on Pandas rows & cols - be careful w/ big df's!)\n",
    "\n",
    "pd.set_option('display.max_rows', 200)\n",
    "pd.set_option('display.max_columns', None)"
   ]
  },
  {
   "cell_type": "markdown",
   "id": "351a704c-b4e6-4a4d-8c9f-b20f7dfa21e6",
   "metadata": {},
   "source": [
    "(Class below comes from: https://stackoverflow.com/questions/67271590/issue-with-custom-metric-auc-callback-for-keras)"
   ]
  },
  {
   "cell_type": "code",
   "execution_count": 12,
   "id": "c8851bbd-d587-4e60-8779-59f5416fd1d2",
   "metadata": {},
   "outputs": [],
   "source": [
    "# Custom skelearn-based AUROC calculation class for use with the FULL validation \n",
    "#   set (not just mini-batches) at the end of each training epoch\n",
    "\n",
    "class ROAUCMetrics(keras.callbacks.Callback):\n",
    "    def __init__(self, val_data):\n",
    "        super().__init__()\n",
    "        self.valid_x = val_data[0]\n",
    "        self.valid_y = val_data[1]\n",
    "\n",
    "    def on_train_begin(self, logs={}):\n",
    "        self.val_aucs = []\n",
    "\n",
    "    def on_epoch_end(self, epoch, logs={}):\n",
    "        pred = self.model.predict(self.valid_x)\n",
    "        val_auc = roc_auc_score(self.valid_y, pred,  average='micro')\n",
    "        print('\\nval-roc-auc: %s' % (str(round(val_auc,4))),end=100*' '+'\\n\\n')\n",
    "        self.val_aucs.append(val_auc)\n",
    "        return"
   ]
  },
  {
   "cell_type": "markdown",
   "id": "563bb2ae-2a20-4d9e-900b-996e697601cb",
   "metadata": {},
   "source": [
    "# 1) Import the training data"
   ]
  },
  {
   "cell_type": "code",
   "execution_count": 14,
   "id": "2b8f9a16-e750-4107-9aef-51338d4a013b",
   "metadata": {},
   "outputs": [
    {
     "name": "stdout",
     "output_type": "stream",
     "text": [
      "(985, 224, 273, 1)\n",
      "(985, 4)\n",
      "(247, 224, 273, 1)\n",
      "(247, 4)\n"
     ]
    }
   ],
   "source": [
    "X_train = np.load('data2/X_baby_train.dat')\n",
    "y_train = np.load('data2/y_baby_train.dat')\n",
    "\n",
    "X_val = np.load('data2/X_baby_val.dat')\n",
    "y_val = np.load('data2/y_baby_val.dat')\n",
    "\n",
    "print(X_train.shape)\n",
    "print(y_train.shape)\n",
    "print(X_val.shape)\n",
    "print(y_val.shape)"
   ]
  },
  {
   "cell_type": "code",
   "execution_count": 16,
   "id": "75cd7ddf-6375-496a-8acb-0c0f07135508",
   "metadata": {},
   "outputs": [],
   "source": [
    "# Need these to be float32 format for custom loss function to work\n",
    "\n",
    "y_train = y_train.astype(float)\n",
    "y_val = y_val.astype(float) "
   ]
  },
  {
   "cell_type": "markdown",
   "id": "9905f27f-f049-4abd-95c5-51b8e2a70bd7",
   "metadata": {},
   "source": [
    "# 3) Let's Try a Pre-trained Model (VGG16) on just the first target (diagnosis = 'Atelectasis')"
   ]
  },
  {
   "cell_type": "code",
   "execution_count": 91,
   "id": "266dbedb-fe08-4fc9-8158-765663b6219c",
   "metadata": {},
   "outputs": [],
   "source": [
    "## FOR REPEATABILITY (must re-run this before EVERY model training run):\n",
    "\n",
    "# 1. Set the `PYTHONHASHSEED` environment variable at a fixed value\n",
    "import os\n",
    "os.environ['PYTHONHASHSEED']=str(0)\n",
    "\n",
    "# 2. Set the `python` built-in pseudo-random generator at a fixed value\n",
    "import random\n",
    "random.seed(1)\n",
    "\n",
    "# 3. Set the `numpy` pseudo-random generator at a fixed value\n",
    "import numpy as np\n",
    "np.random.seed(2)\n",
    "\n",
    "# 4. Set the `tensorflow` pseudo-random generator at a fixed value\n",
    "import tensorflow as tf\n",
    "tf.random.set_seed(2)"
   ]
  },
  {
   "cell_type": "code",
   "execution_count": 92,
   "id": "9ca8d2ed-2bfe-4e95-82b7-b1886bbea117",
   "metadata": {},
   "outputs": [
    {
     "name": "stdout",
     "output_type": "stream",
     "text": [
      "Batches train=31, val=8\n"
     ]
    }
   ],
   "source": [
    "# Not sure, but I think this batch_size has to be consistent w/ what is used in the CNN model (which defaults to 32)\n",
    "batch_size = 32\n",
    "\n",
    "datagen = ImageDataGenerator(featurewise_center=True, featurewise_std_normalization=True)\n",
    "\n",
    "# calculate mean on training dataset\n",
    "datagen.fit(X_train)\n",
    "\n",
    "# prepare iterators to scale images\n",
    "train_iterator = datagen.flow(X_train, y_train[:, 0], batch_size=batch_size)\n",
    "\n",
    "val_iterator = datagen.flow(X_val, y_val[:, 0], batch_size=batch_size)\n",
    "\n",
    "print('Batches train=%d, val=%d' % (len(train_iterator), len(val_iterator)))"
   ]
  },
  {
   "cell_type": "code",
   "execution_count": 93,
   "id": "98ef5385-4405-4ab8-9552-3c274ae373fd",
   "metadata": {},
   "outputs": [],
   "source": [
    "keras.backend.clear_session()\n",
    "\n",
    "# dropout = 0.4\n",
    "\n",
    "from tensorflow.keras.applications import VGG16\n",
    "\n",
    "# This converts the 1-channel X-rays to 3-channel images a required by mobilenet_v2\n",
    "input_tensor = Input(shape=(X_train.shape[1:]))\n",
    "x = Conv2D(3,(3,3),padding='same')(input_tensor)\n",
    "\n",
    "base_model = VGG16(weights='imagenet', include_top=False, input_shape=(X_train.shape[1], X_train.shape[2], 3)) \n",
    " \n",
    "# Freeze convolutional layers\n",
    "for layer in base_model.layers:\n",
    "    layer.trainable = False    \n",
    "\n",
    "out = base_model(x)\n",
    "new_base_model = Model(inputs=input_tensor, outputs=out)\n",
    "    \n",
    "# Establish new fully connected block\n",
    "x = new_base_model.output\n",
    "x = Flatten()(x) # flatten from convolution tensor output \n",
    "# x = Dense(units=128, activation='relu')(x) # number of layers and units are hyperparameters, as usual\n",
    "# x = Dropout(dropout, seed=2)(x) # adding Dropout for regularization between the Dense layers\n",
    "# x = Dense(units=64, activation='relu')(x)\n",
    "# x = Dropout(dropout, seed=1)(x) # adding Dropout for regularization between the Dense layers\n",
    "predictions = Dense(units=1, activation='sigmoid')(x) # 1 target labels\n",
    "\n",
    "# define formal model object to train and compile it as usual\n",
    "model = Model(inputs=new_base_model.input, outputs=predictions)"
   ]
  },
  {
   "cell_type": "code",
   "execution_count": 94,
   "id": "71d24ba8-e963-40b5-a466-76b80e01a968",
   "metadata": {},
   "outputs": [
    {
     "name": "stdout",
     "output_type": "stream",
     "text": [
      "Model: \"model_1\"\n",
      "_________________________________________________________________\n",
      "Layer (type)                 Output Shape              Param #   \n",
      "=================================================================\n",
      "input_1 (InputLayer)         [(None, 224, 273, 1)]     0         \n",
      "_________________________________________________________________\n",
      "conv2d (Conv2D)              (None, 224, 273, 3)       30        \n",
      "_________________________________________________________________\n",
      "vgg16 (Functional)           (None, 7, 8, 512)         14714688  \n",
      "_________________________________________________________________\n",
      "flatten (Flatten)            (None, 28672)             0         \n",
      "_________________________________________________________________\n",
      "dense (Dense)                (None, 1)                 28673     \n",
      "=================================================================\n",
      "Total params: 14,743,391\n",
      "Trainable params: 28,703\n",
      "Non-trainable params: 14,714,688\n",
      "_________________________________________________________________\n"
     ]
    }
   ],
   "source": [
    "model.summary()"
   ]
  },
  {
   "cell_type": "code",
   "execution_count": 95,
   "id": "36220b20-b3b3-4495-9bea-b114d4ca158d",
   "metadata": {},
   "outputs": [],
   "source": [
    "initial_learning_rate = 0.0001\n",
    "adam_opt = keras.optimizers.Adam(learning_rate=initial_learning_rate, \n",
    "                                 beta_1=0.9, \n",
    "                                 beta_2=0.999, \n",
    "                                 epsilon=1e-07, \n",
    "                                 amsgrad=False)\n",
    "\n",
    "model.compile(\n",
    "    loss='binary_crossentropy',\n",
    "    optimizer=adam_opt\n",
    ")"
   ]
  },
  {
   "cell_type": "code",
   "execution_count": 96,
   "id": "bb8dccca-897f-4c0d-84c4-2045b7626c29",
   "metadata": {},
   "outputs": [
    {
     "data": {
      "text/plain": [
       "0.0001"
      ]
     },
     "execution_count": 96,
     "metadata": {},
     "output_type": "execute_result"
    }
   ],
   "source": [
    "model.optimizer.get_config()['learning_rate']"
   ]
  },
  {
   "cell_type": "code",
   "execution_count": 97,
   "id": "f2aff6c9-c7c7-4c9f-a0e4-bcfbded8aff6",
   "metadata": {
    "tags": []
   },
   "outputs": [
    {
     "name": "stdout",
     "output_type": "stream",
     "text": [
      "Epoch 1/100\n",
      "Learning Rate: 0.0001\n",
      "31/31 [==============================] - 250s 8s/step - loss: 0.6405 - val_loss: 0.6425\n",
      "\n",
      "val-roc-auc: 0.5353                                                                                                    \n",
      "\n",
      "Epoch 2/100\n",
      "Learning Rate: 9.999999747378752e-05\n",
      "31/31 [==============================] - 234s 8s/step - loss: 0.5970 - val_loss: 0.6230\n",
      "\n",
      "val-roc-auc: 0.5777                                                                                                    \n",
      "\n",
      "Epoch 3/100\n",
      "Learning Rate: 9.999999747378752e-05\n",
      "31/31 [==============================] - 230s 7s/step - loss: 0.5726 - val_loss: 0.6189\n",
      "\n",
      "val-roc-auc: 0.5984                                                                                                    \n",
      "\n",
      "Epoch 4/100\n",
      "Learning Rate: 9.999999747378752e-05\n",
      "31/31 [==============================] - 232s 8s/step - loss: 0.5622 - val_loss: 0.6205\n",
      "\n",
      "val-roc-auc: 0.6108                                                                                                    \n",
      "\n",
      "Epoch 5/100\n",
      "Learning Rate: 9.999999747378752e-05\n",
      "31/31 [==============================] - 335s 11s/step - loss: 0.5341 - val_loss: 0.6001\n",
      "\n",
      "val-roc-auc: 0.6231                                                                                                    \n",
      "\n",
      "Epoch 6/100\n",
      "Learning Rate: 9.999999747378752e-05\n",
      "31/31 [==============================] - 393s 13s/step - loss: 0.5216 - val_loss: 0.6088\n",
      "\n",
      "val-roc-auc: 0.6264                                                                                                    \n",
      "\n",
      "Epoch 7/100\n",
      "Learning Rate: 9.999999747378752e-05\n",
      "31/31 [==============================] - 394s 13s/step - loss: 0.5051 - val_loss: 0.5943\n",
      "\n",
      "val-roc-auc: 0.6357                                                                                                    \n",
      "\n",
      "Epoch 8/100\n",
      "Learning Rate: 9.999999747378752e-05\n",
      "31/31 [==============================] - 389s 13s/step - loss: 0.4855 - val_loss: 0.6048\n",
      "\n",
      "val-roc-auc: 0.642                                                                                                    \n",
      "\n",
      "Epoch 9/100\n",
      "Learning Rate: 9.999999747378752e-05\n",
      "31/31 [==============================] - 391s 13s/step - loss: 0.4738 - val_loss: 0.5992\n",
      "\n",
      "val-roc-auc: 0.6434                                                                                                    \n",
      "\n",
      "Epoch 10/100\n",
      "Learning Rate: 9.999999747378752e-05\n",
      "31/31 [==============================] - 399s 13s/step - loss: 0.4604 - val_loss: 0.5931\n",
      "\n",
      "val-roc-auc: 0.6486                                                                                                    \n",
      "\n",
      "Epoch 11/100\n",
      "Learning Rate: 9.999999747378752e-05\n",
      "31/31 [==============================] - 398s 13s/step - loss: 0.4526 - val_loss: 0.5982\n",
      "\n",
      "val-roc-auc: 0.6482                                                                                                    \n",
      "\n",
      "Epoch 12/100\n",
      "Learning Rate: 9.999999747378752e-05\n",
      "31/31 [==============================] - 409s 13s/step - loss: 0.4370 - val_loss: 0.5921\n",
      "\n",
      "val-roc-auc: 0.6468                                                                                                    \n",
      "\n",
      "Epoch 13/100\n",
      "Learning Rate: 9.999999747378752e-05\n",
      "31/31 [==============================] - 402s 13s/step - loss: 0.4235 - val_loss: 0.5857\n",
      "\n",
      "val-roc-auc: 0.6533                                                                                                    \n",
      "\n",
      "Epoch 14/100\n",
      "Learning Rate: 9.999999747378752e-05\n",
      "31/31 [==============================] - 405s 13s/step - loss: 0.4115 - val_loss: 0.5854\n",
      "\n",
      "val-roc-auc: 0.653                                                                                                    \n",
      "\n",
      "Epoch 15/100\n",
      "Learning Rate: 9.999999747378752e-05\n",
      "31/31 [==============================] - 399s 13s/step - loss: 0.3991 - val_loss: 0.5907\n",
      "\n",
      "val-roc-auc: 0.6524                                                                                                    \n",
      "\n",
      "Epoch 16/100\n",
      "Learning Rate: 9.999999747378752e-05\n",
      "31/31 [==============================] - 408s 13s/step - loss: 0.3916 - val_loss: 0.5954\n",
      "\n",
      "val-roc-auc: 0.6503                                                                                                    \n",
      "\n",
      "Epoch 17/100\n",
      "Learning Rate: 9.999999747378752e-05\n",
      "31/31 [==============================] - 351s 11s/step - loss: 0.3788 - val_loss: 0.5872\n",
      "\n",
      "val-roc-auc: 0.6526                                                                                                    \n",
      "\n",
      "Epoch 18/100\n",
      "Learning Rate: 9.999999747378752e-05\n",
      "31/31 [==============================] - 399s 13s/step - loss: 0.3683 - val_loss: 0.5895\n",
      "\n",
      "val-roc-auc: 0.6508                                                                                                    \n",
      "\n",
      "Epoch 19/100\n",
      "Learning Rate: 9.999999747378752e-05\n",
      "31/31 [==============================] - 400s 13s/step - loss: 0.3597 - val_loss: 0.5879\n",
      "\n",
      "val-roc-auc: 0.6518                                                                                                    \n",
      "\n",
      "Epoch 20/100\n",
      "Learning Rate: 4.999999873689376e-05\n",
      "31/31 [==============================] - 417s 13s/step - loss: 0.3501 - val_loss: 0.5887\n",
      "\n",
      "val-roc-auc: 0.6507                                                                                                    \n",
      "\n",
      "Epoch 21/100\n",
      "Learning Rate: 4.999999873689376e-05\n",
      "31/31 [==============================] - 422s 14s/step - loss: 0.3458 - val_loss: 0.6051\n",
      "\n",
      "val-roc-auc: 0.6494                                                                                                    \n",
      "\n",
      "Epoch 22/100\n",
      "Learning Rate: 4.999999873689376e-05\n",
      "31/31 [==============================] - 407s 13s/step - loss: 0.3480 - val_loss: 0.5914\n",
      "\n",
      "val-roc-auc: 0.6507                                                                                                    \n",
      "\n",
      "Epoch 23/100\n",
      "Learning Rate: 4.999999873689376e-05\n",
      "31/31 [==============================] - 399s 13s/step - loss: 0.3352 - val_loss: 0.5908\n",
      "\n",
      "val-roc-auc: 0.6516                                                                                                    \n",
      "\n"
     ]
    }
   ],
   "source": [
    "# Exponential decay learning rate scheduler comes from: \n",
    "#      https://towardsdatascience.com/learning-rate-schedule-in-practice-an-example-with-keras-and-tensorflow-2-0-2f48b2888a0c\n",
    "def lr_exp_decay(epoch, lr):\n",
    "    print('Previous lr: {}'.format(lr))\n",
    "    k = 0\n",
    "    return lr * np.exp(-k*epoch)\n",
    "\n",
    "# This AUC will be calculated at the end of each epoch on the validation set and be used for early stopping\n",
    "auc = ROAUCMetrics(val_data=(X_val, y_val[:, 0]))\n",
    "\n",
    "eval_callback = LambdaCallback(on_epoch_end=lambda epoch, logs: logs.update({'auc': auc.val_aucs[-1]})) \n",
    "\n",
    "reduce_lr = ReduceLROnPlateau(monitor='val_loss', factor=0.5, patience=5, mode='min', min_delta=0.0001, min_lr=5e-6)\n",
    "\n",
    "lr_callback = LambdaCallback(on_epoch_begin=lambda epoch, logs: print('Learning Rate: {}'.format(round(model.optimizer.get_config()['learning_rate'], 7))))\n",
    "\n",
    "# scheduler = LearningRateScheduler(lr_exp_decay, verbose=1)\n",
    "\n",
    "early_stopping = EarlyStopping(monitor='auc', mode='max', patience=10, restore_best_weights=True)\n",
    "\n",
    "history = model.fit(train_iterator, steps_per_epoch=len(train_iterator), epochs=100, verbose=1, validation_data=val_iterator, \n",
    "                 callbacks=[\n",
    "                     auc,\n",
    "                     eval_callback,\n",
    "                     reduce_lr,\n",
    "                     lr_callback,\n",
    "                     early_stopping,\n",
    "#                      scheduler,\n",
    "                     keras.callbacks.ModelCheckpoint(\n",
    "                         'models_baby/model_3.{epoch:02d}-{val_loss:.2f}.hdf5',\n",
    "                         save_best_only=True)\n",
    "                 ])"
   ]
  },
  {
   "cell_type": "code",
   "execution_count": 98,
   "id": "911c01f4-afd9-49e3-a182-72934fdc2c01",
   "metadata": {},
   "outputs": [
    {
     "data": {
      "image/png": "[encoded data removed]",
      "text/plain": [
       "<Figure size 432x288 with 1 Axes>"
      ]
     },
     "metadata": {},
     "output_type": "display_data"
    }
   ],
   "source": [
    "plt.plot(history.history['loss'])\n",
    "plt.plot(history.history['val_loss'])\n",
    "\n",
    "plt.title('Loss vs. Training Epoch')\n",
    "plt.xlabel('Epoch')\n",
    "plt.ylabel('Loss')\n",
    "plt.legend(['Train','Validation']);"
   ]
  },
  {
   "cell_type": "code",
   "execution_count": 99,
   "id": "174865f0-de9f-46a6-b58d-bb47eb56e447",
   "metadata": {},
   "outputs": [],
   "source": [
    "y_pred = model.predict(X_val)"
   ]
  },
  {
   "cell_type": "code",
   "execution_count": 100,
   "id": "5b5b76f5-42b0-4b8a-88b7-c7da35ed3a72",
   "metadata": {},
   "outputs": [
    {
     "data": {
      "text/plain": [
       "0.6532797858099063"
      ]
     },
     "execution_count": 100,
     "metadata": {},
     "output_type": "execute_result"
    }
   ],
   "source": [
    "roc_auc_score(y_val[:,0], y_pred)"
   ]
  },
  {
   "cell_type": "markdown",
   "id": "d1a6b850-5ba0-4d84-9f85-54d2352187b6",
   "metadata": {},
   "source": [
    "# 3b) Same as above (1st target only) but with a super simple output from VGG16"
   ]
  },
  {
   "cell_type": "code",
   "execution_count": 169,
   "id": "ebd65d50-409b-4af6-bf0f-bd531f3f0f73",
   "metadata": {},
   "outputs": [],
   "source": [
    "## FOR REPEATABILITY (must re-run this before EVERY model training run):\n",
    "\n",
    "# 1. Set the `PYTHONHASHSEED` environment variable at a fixed value\n",
    "import os\n",
    "os.environ['PYTHONHASHSEED']=str(0)\n",
    "\n",
    "# 2. Set the `python` built-in pseudo-random generator at a fixed value\n",
    "import random\n",
    "random.seed(1)\n",
    "\n",
    "# 3. Set the `numpy` pseudo-random generator at a fixed value\n",
    "import numpy as np\n",
    "np.random.seed(2)\n",
    "\n",
    "# 4. Set the `tensorflow` pseudo-random generator at a fixed value\n",
    "import tensorflow as tf\n",
    "tf.random.set_seed(2)"
   ]
  },
  {
   "cell_type": "code",
   "execution_count": 170,
   "id": "60620106-7e1b-4784-8a51-1df0a4089c30",
   "metadata": {},
   "outputs": [
    {
     "name": "stdout",
     "output_type": "stream",
     "text": [
      "Batches train=4, val=1\n"
     ]
    }
   ],
   "source": [
    "batch_size = 256\n",
    "\n",
    "datagen = ImageDataGenerator(featurewise_center=True, featurewise_std_normalization=True)\n",
    "\n",
    "# calculate mean on training dataset\n",
    "datagen.fit(X_train)\n",
    "\n",
    "# prepare iterators to scale images\n",
    "train_iterator = datagen.flow(X_train, y_train[:, 0], batch_size=batch_size)\n",
    "\n",
    "val_iterator = datagen.flow(X_val, y_val[:, 0], batch_size=batch_size)\n",
    "\n",
    "print('Batches train=%d, val=%d' % (len(train_iterator), len(val_iterator)))"
   ]
  },
  {
   "cell_type": "code",
   "execution_count": 171,
   "id": "df34cf52-1aeb-4498-a605-988619cefd59",
   "metadata": {},
   "outputs": [],
   "source": [
    "keras.backend.clear_session()\n",
    "\n",
    "# dropout = 0.4\n",
    "\n",
    "from tensorflow.keras.applications import VGG16\n",
    "\n",
    "# This converts the 1-channel X-rays to 3-channel images a required by mobilenet_v2\n",
    "input_tensor = Input(shape=(X_train.shape[1:]))\n",
    "x = Conv2D(3,(3,3),padding='same')(input_tensor)\n",
    "\n",
    "base_model = VGG16(weights='imagenet', \n",
    "                   include_top=False, \n",
    "                   pooling='avg',\n",
    "                   input_shape=(X_train.shape[1], X_train.shape[2], 3)) \n",
    " \n",
    "# Freeze convolutional layers\n",
    "for layer in base_model.layers:\n",
    "    layer.trainable = False    \n",
    "\n",
    "out = base_model(x)\n",
    "new_base_model = Model(inputs=input_tensor, outputs=out)\n",
    "    \n",
    "# Establish new fully connected block\n",
    "x = new_base_model.output\n",
    "x = Flatten()(x) # flatten from convolution tensor output \n",
    "# x = Dense(units=128, activation='relu')(x) # number of layers and units are hyperparameters, as usual\n",
    "# x = Dropout(dropout, seed=2)(x) # adding Dropout for regularization between the Dense layers\n",
    "# x = Dense(units=64, activation='relu')(x)\n",
    "# x = Dropout(dropout, seed=1)(x) # adding Dropout for regularization between the Dense layers\n",
    "predictions = Dense(units=1, activation='sigmoid')(x) # 1 target labels\n",
    "\n",
    "# define formal model object to train and compile it as usual\n",
    "model = Model(inputs=new_base_model.input, outputs=predictions)"
   ]
  },
  {
   "cell_type": "code",
   "execution_count": 172,
   "id": "1a5a1e58-d653-4b52-bd28-02a13abd5c74",
   "metadata": {},
   "outputs": [
    {
     "name": "stdout",
     "output_type": "stream",
     "text": [
      "Model: \"model_1\"\n",
      "_________________________________________________________________\n",
      "Layer (type)                 Output Shape              Param #   \n",
      "=================================================================\n",
      "input_1 (InputLayer)         [(None, 224, 273, 1)]     0         \n",
      "_________________________________________________________________\n",
      "conv2d (Conv2D)              (None, 224, 273, 3)       30        \n",
      "_________________________________________________________________\n",
      "vgg16 (Functional)           (None, 512)               14714688  \n",
      "_________________________________________________________________\n",
      "flatten (Flatten)            (None, 512)               0         \n",
      "_________________________________________________________________\n",
      "dense (Dense)                (None, 1)                 513       \n",
      "=================================================================\n",
      "Total params: 14,715,231\n",
      "Trainable params: 543\n",
      "Non-trainable params: 14,714,688\n",
      "_________________________________________________________________\n"
     ]
    }
   ],
   "source": [
    "model.summary()"
   ]
  },
  {
   "cell_type": "code",
   "execution_count": 173,
   "id": "b9a04631-8b91-4d3a-96da-2d56c502f3eb",
   "metadata": {},
   "outputs": [],
   "source": [
    "initial_learning_rate = 0.0002828\n",
    "adam_opt = keras.optimizers.Adam(learning_rate=initial_learning_rate, \n",
    "                                 beta_1=0.9, \n",
    "                                 beta_2=0.999, \n",
    "                                 epsilon=1e-07, \n",
    "                                 amsgrad=False)\n",
    "\n",
    "model.compile(\n",
    "    loss='binary_crossentropy',\n",
    "    optimizer=adam_opt\n",
    ")"
   ]
  },
  {
   "cell_type": "code",
   "execution_count": 174,
   "id": "f58dbed4-5a36-48e5-97fb-d3113c27c15c",
   "metadata": {},
   "outputs": [
    {
     "data": {
      "text/plain": [
       "0.0002828"
      ]
     },
     "execution_count": 174,
     "metadata": {},
     "output_type": "execute_result"
    }
   ],
   "source": [
    "model.optimizer.get_config()['learning_rate']"
   ]
  },
  {
   "cell_type": "code",
   "execution_count": null,
   "id": "c43c9205-b4d8-4fa1-9bdb-e94aa4c8583f",
   "metadata": {
    "tags": []
   },
   "outputs": [
    {
     "name": "stdout",
     "output_type": "stream",
     "text": [
      "Epoch 1/100\n",
      "Learning Rate: 0.0002828\n"
     ]
    },
    {
     "name": "stderr",
     "output_type": "stream",
     "text": [
      "2022-01-18 07:08:05.032270: W tensorflow/core/framework/op_kernel.cc:1755] Invalid argument: ValueError: callback pyfunc_59 is not found\n",
      "Traceback (most recent call last):\n",
      "\n",
      "  File \"/Users/georgepappy/opt/anaconda3/envs/metis/lib/python3.8/site-packages/tensorflow/python/ops/script_ops.py\", line 238, in __call__\n",
      "    raise ValueError(\"callback %s is not found\" % token)\n",
      "\n",
      "ValueError: callback pyfunc_59 is not found\n",
      "\n",
      "\n",
      "2022-01-18 07:08:05.032950: W tensorflow/core/kernels/data/generator_dataset_op.cc:107] Error occurred when finalizing GeneratorDataset iterator: Invalid argument: ValueError: callback pyfunc_59 is not found\n",
      "Traceback (most recent call last):\n",
      "\n",
      "  File \"/Users/georgepappy/opt/anaconda3/envs/metis/lib/python3.8/site-packages/tensorflow/python/ops/script_ops.py\", line 238, in __call__\n",
      "    raise ValueError(\"callback %s is not found\" % token)\n",
      "\n",
      "ValueError: callback pyfunc_59 is not found\n",
      "\n",
      "\n",
      "\t [[{{node PyFunc}}]]\n"
     ]
    },
    {
     "name": "stdout",
     "output_type": "stream",
     "text": [
      "4/4 [==============================] - 421s 110s/step - loss: 0.8916 - val_loss: 0.8699\n",
      "\n",
      "val-roc-auc: 0.6037                                                                                                    \n",
      "\n",
      "Epoch 2/100\n",
      "Learning Rate: 0.00028279999969527125\n",
      "4/4 [==============================] - 405s 108s/step - loss: 0.8610 - val_loss: 0.8413\n",
      "\n",
      "val-roc-auc: 0.6136                                                                                                    \n",
      "\n",
      "Epoch 3/100\n",
      "Learning Rate: 0.00028279999969527125\n",
      "4/4 [==============================] - 421s 107s/step - loss: 0.8342 - val_loss: 0.8146\n",
      "\n",
      "val-roc-auc: 0.6183                                                                                                    \n",
      "\n",
      "Epoch 4/100\n",
      "Learning Rate: 0.00028279999969527125\n",
      "4/4 [==============================] - 415s 106s/step - loss: 0.8078 - val_loss: 0.7902\n",
      "\n",
      "val-roc-auc: 0.6214                                                                                                    \n",
      "\n",
      "Epoch 5/100\n",
      "Learning Rate: 0.00028279999969527125\n",
      "4/4 [==============================] - 418s 112s/step - loss: 0.7840 - val_loss: 0.7679\n",
      "\n",
      "val-roc-auc: 0.624                                                                                                    \n",
      "\n",
      "Epoch 6/100\n",
      "Learning Rate: 0.00028279999969527125\n",
      "4/4 [==============================] - 423s 113s/step - loss: 0.7626 - val_loss: 0.7478\n",
      "\n",
      "val-roc-auc: 0.6226                                                                                                    \n",
      "\n",
      "Epoch 7/100\n",
      "Learning Rate: 0.00028279999969527125\n",
      "4/4 [==============================] - 272s 61s/step - loss: 0.7433 - val_loss: 0.7297\n",
      "\n",
      "val-roc-auc: 0.6197                                                                                                    \n",
      "\n",
      "Epoch 8/100\n",
      "Learning Rate: 0.00028279999969527125\n",
      "4/4 [==============================] - 341s 94s/step - loss: 0.7260 - val_loss: 0.7136\n",
      "\n",
      "val-roc-auc: 0.6165                                                                                                    \n",
      "\n",
      "Epoch 9/100\n",
      "Learning Rate: 0.00028279999969527125\n",
      "2/4 [==============>...............] - ETA: 3:08 - loss: 0.7157"
     ]
    }
   ],
   "source": [
    "# Exponential decay learning rate scheduler comes from: \n",
    "#      https://towardsdatascience.com/learning-rate-schedule-in-practice-an-example-with-keras-and-tensorflow-2-0-2f48b2888a0c\n",
    "def lr_exp_decay(epoch, lr):\n",
    "    print('Previous lr: {}'.format(lr))\n",
    "    k = 0\n",
    "    return lr * np.exp(-k*epoch)\n",
    "\n",
    "# This AUC will be calculated at the end of each epoch on the validation set and be used for early stopping\n",
    "auc = ROAUCMetrics(val_data=(X_val, y_val[:, 0]))\n",
    "\n",
    "eval_callback = LambdaCallback(on_epoch_end=lambda epoch, logs: logs.update({'auc': auc.val_aucs[-1]})) \n",
    "\n",
    "reduce_lr = ReduceLROnPlateau(monitor='val_loss', factor=0.5, patience=5, mode='min', min_delta=0.0001, min_lr=5e-6)\n",
    "\n",
    "lr_callback = LambdaCallback(on_epoch_begin=lambda epoch, logs: print('Learning Rate: {}'.format(round(model.optimizer.get_config()['learning_rate'], 7))))\n",
    "\n",
    "# scheduler = LearningRateScheduler(lr_exp_decay, verbose=1)\n",
    "\n",
    "early_stopping = EarlyStopping(monitor='auc', mode='max', patience=10, restore_best_weights=True)\n",
    "\n",
    "history = model.fit(train_iterator, steps_per_epoch=len(train_iterator), epochs=100, verbose=1, validation_data=val_iterator, \n",
    "                 callbacks=[\n",
    "                     auc,\n",
    "                     eval_callback,\n",
    "                     reduce_lr,\n",
    "                     lr_callback,\n",
    "                     early_stopping,\n",
    "#                      scheduler,\n",
    "                     keras.callbacks.ModelCheckpoint(\n",
    "                         'models_baby2/model_3b.{epoch:02d}-{val_loss:.2f}.hdf5',\n",
    "                         save_best_only=False)\n",
    "                 ])"
   ]
  },
  {
   "cell_type": "code",
   "execution_count": null,
   "id": "d7dada4e-cd46-477f-8f88-1529119b1a5d",
   "metadata": {},
   "outputs": [],
   "source": [
    "# Best model saved is for epoch 48:  models_baby/model_3b.48-0.59.hdf5"
   ]
  },
  {
   "cell_type": "code",
   "execution_count": 155,
   "id": "ea6ea830-3c5e-40cb-b03b-6e1af4b20b10",
   "metadata": {},
   "outputs": [
    {
     "data": {
      "image/png": "[encoded data removed]",
      "text/plain": [
       "<Figure size 432x288 with 1 Axes>"
      ]
     },
     "metadata": {},
     "output_type": "display_data"
    }
   ],
   "source": [
    "plt.plot(history.history['loss'])\n",
    "plt.plot(history.history['val_loss'])\n",
    "\n",
    "plt.title('Loss vs. Training Epoch')\n",
    "plt.xlabel('Epoch')\n",
    "plt.ylabel('Loss')\n",
    "plt.legend(['Train','Validation']);"
   ]
  },
  {
   "cell_type": "code",
   "execution_count": 156,
   "id": "d1aad81c-1b07-42f8-bfc2-ded011379593",
   "metadata": {},
   "outputs": [],
   "source": [
    "y_pred = model.predict(X_val)"
   ]
  },
  {
   "cell_type": "code",
   "execution_count": 157,
   "id": "69d06cb1-8e02-43dc-8e4a-b7d0e786eee4",
   "metadata": {},
   "outputs": [
    {
     "data": {
      "text/plain": [
       "0.6513461252417075"
      ]
     },
     "execution_count": 157,
     "metadata": {},
     "output_type": "execute_result"
    }
   ],
   "source": [
    "# Initial LR=0.0001, batch_size=256\n",
    "roc_auc_score(y_val[:,0], y_pred)"
   ]
  },
  {
   "cell_type": "code",
   "execution_count": 110,
   "id": "1b1ceafa-1a35-460a-8a1e-01c75c47962a",
   "metadata": {},
   "outputs": [
    {
     "data": {
      "text/plain": [
       "0.6532797858099063"
      ]
     },
     "execution_count": 110,
     "metadata": {},
     "output_type": "execute_result"
    }
   ],
   "source": [
    "# Initial LR=0.0001, batch_size=32\n",
    "roc_auc_score(y_val[:,0], y_pred)"
   ]
  },
  {
   "cell_type": "code",
   "execution_count": 88,
   "id": "2b65ccf7-2b02-45b0-982c-7d4091718548",
   "metadata": {},
   "outputs": [
    {
     "data": {
      "text/plain": [
       "0.6481481481481483"
      ]
     },
     "execution_count": 88,
     "metadata": {},
     "output_type": "execute_result"
    }
   ],
   "source": [
    "# Initial LR=0.001, batch_size=32\n",
    "roc_auc_score(y_val[:,0], y_pred)"
   ]
  },
  {
   "cell_type": "markdown",
   "id": "12c8a422-3a15-4f05-9215-b71bfd9b013f",
   "metadata": {},
   "source": [
    "# 4) Let's Try InceptionV3 Pre-Trained Model (1st target only)"
   ]
  },
  {
   "cell_type": "code",
   "execution_count": 16,
   "id": "2ccca1be-79e0-42d0-b76e-cd62de3bc3db",
   "metadata": {},
   "outputs": [],
   "source": [
    "## FOR REPEATABILITY (must re-run this before EVERY model training run):\n",
    "\n",
    "# 1. Set the `PYTHONHASHSEED` environment variable at a fixed value\n",
    "import os\n",
    "os.environ['PYTHONHASHSEED']=str(0)\n",
    "\n",
    "# 2. Set the `python` built-in pseudo-random generator at a fixed value\n",
    "import random\n",
    "random.seed(1)\n",
    "\n",
    "# 3. Set the `numpy` pseudo-random generator at a fixed value\n",
    "import numpy as np\n",
    "np.random.seed(2)\n",
    "\n",
    "# 4. Set the `tensorflow` pseudo-random generator at a fixed value\n",
    "import tensorflow as tf\n",
    "tf.random.set_seed(2)"
   ]
  },
  {
   "cell_type": "code",
   "execution_count": 17,
   "id": "860fa6b4-90b4-4e42-a7c9-4901c28c36ec",
   "metadata": {},
   "outputs": [
    {
     "name": "stdout",
     "output_type": "stream",
     "text": [
      "Batches train=4, val=1\n"
     ]
    }
   ],
   "source": [
    "batch_size = 256\n",
    "\n",
    "datagen = ImageDataGenerator(featurewise_center=True, featurewise_std_normalization=True)\n",
    "\n",
    "# calculate mean on training dataset\n",
    "datagen.fit(X_train)\n",
    "\n",
    "# prepare iterators to scale images\n",
    "train_iterator = datagen.flow(X_train, y_train[:, 0], batch_size=batch_size)\n",
    "\n",
    "val_iterator = datagen.flow(X_val, y_val[:, 0], batch_size=batch_size)\n",
    "\n",
    "print('Batches train=%d, val=%d' % (len(train_iterator), len(val_iterator)))"
   ]
  },
  {
   "cell_type": "code",
   "execution_count": 18,
   "id": "fc59c119-47a5-46e5-90e4-44a751db00de",
   "metadata": {},
   "outputs": [
    {
     "name": "stderr",
     "output_type": "stream",
     "text": [
      "2022-01-18 12:57:54.663855: I tensorflow/core/platform/cpu_feature_guard.cc:142] This TensorFlow binary is optimized with oneAPI Deep Neural Network Library (oneDNN) to use the following CPU instructions in performance-critical operations:  AVX2 FMA\n",
      "To enable them in other operations, rebuild TensorFlow with the appropriate compiler flags.\n"
     ]
    }
   ],
   "source": [
    "keras.backend.clear_session()\n",
    "\n",
    "# dropout = 0.4\n",
    "\n",
    "from tensorflow.keras.applications import InceptionV3\n",
    "\n",
    "# This converts the 1-channel X-rays to 3-channel images a required by mobilenet_v2\n",
    "input_tensor = Input(shape=(X_train.shape[1:]))\n",
    "x = Conv2D(3,(3,3),padding='same')(input_tensor)\n",
    "\n",
    "base_model = InceptionV3(weights='imagenet',\n",
    "                         include_top=False,\n",
    "#                          pooling='avg',\n",
    "                         input_shape=(X_train.shape[1], X_train.shape[2], 3)) \n",
    " \n",
    "# Freeze convolutional layers\n",
    "for layer in base_model.layers:\n",
    "    layer.trainable = False    \n",
    "\n",
    "out = base_model(x)\n",
    "new_base_model = Model(inputs=input_tensor, outputs=out)\n",
    "    \n",
    "# Establish new fully connected block\n",
    "x = new_base_model.output\n",
    "x = Flatten()(x) # flatten from convolution tensor output \n",
    "# x = Dense(units=128, activation='relu')(x) # number of layers and units are hyperparameters, as usual\n",
    "# x = Dropout(dropout, seed=2)(x) # adding Dropout for regularization between the Dense layers\n",
    "# x = Dense(units=64, activation='relu')(x)\n",
    "# x = Dropout(dropout, seed=1)(x) # adding Dropout for regularization between the Dense layers\n",
    "predictions = Dense(units=1, activation='sigmoid')(x) # 1 target labels\n",
    "\n",
    "# define formal model object to train and compile it as usual\n",
    "model = Model(inputs=new_base_model.input, outputs=predictions)"
   ]
  },
  {
   "cell_type": "code",
   "execution_count": 19,
   "id": "24f36e80-15fd-4349-8a37-9e6e066005ef",
   "metadata": {},
   "outputs": [
    {
     "name": "stdout",
     "output_type": "stream",
     "text": [
      "Model: \"model_1\"\n",
      "_________________________________________________________________\n",
      "Layer (type)                 Output Shape              Param #   \n",
      "=================================================================\n",
      "input_1 (InputLayer)         [(None, 224, 273, 1)]     0         \n",
      "_________________________________________________________________\n",
      "conv2d (Conv2D)              (None, 224, 273, 3)       30        \n",
      "_________________________________________________________________\n",
      "inception_v3 (Functional)    (None, 5, 7, 2048)        21802784  \n",
      "_________________________________________________________________\n",
      "flatten (Flatten)            (None, 71680)             0         \n",
      "_________________________________________________________________\n",
      "dense (Dense)                (None, 1)                 71681     \n",
      "=================================================================\n",
      "Total params: 21,874,495\n",
      "Trainable params: 71,711\n",
      "Non-trainable params: 21,802,784\n",
      "_________________________________________________________________\n"
     ]
    }
   ],
   "source": [
    "model.summary()"
   ]
  },
  {
   "cell_type": "code",
   "execution_count": 20,
   "id": "aee9c581-6246-4649-8132-e2533d497aae",
   "metadata": {},
   "outputs": [],
   "source": [
    "initial_learning_rate = 0.0005\n",
    "adam_opt = keras.optimizers.Adam(learning_rate=initial_learning_rate, \n",
    "                                 beta_1=0.9, \n",
    "                                 beta_2=0.999, \n",
    "                                 epsilon=1e-07, \n",
    "                                 amsgrad=False)\n",
    "\n",
    "model.compile(\n",
    "    loss='binary_crossentropy',\n",
    "    optimizer=adam_opt\n",
    ")"
   ]
  },
  {
   "cell_type": "code",
   "execution_count": 21,
   "id": "d3e0dcad-ea67-43e9-8f44-73d2fa74ca9b",
   "metadata": {},
   "outputs": [
    {
     "data": {
      "text/plain": [
       "0.0005"
      ]
     },
     "execution_count": 21,
     "metadata": {},
     "output_type": "execute_result"
    }
   ],
   "source": [
    "model.optimizer.get_config()['learning_rate']"
   ]
  },
  {
   "cell_type": "code",
   "execution_count": 22,
   "id": "c0f21fc1-a2fd-42f5-bf72-182e4b540cda",
   "metadata": {
    "tags": []
   },
   "outputs": [
    {
     "name": "stderr",
     "output_type": "stream",
     "text": [
      "2022-01-18 12:59:05.292119: I tensorflow/compiler/mlir/mlir_graph_optimization_pass.cc:176] None of the MLIR Optimization Passes are enabled (registered 2)\n"
     ]
    },
    {
     "name": "stdout",
     "output_type": "stream",
     "text": [
      "Epoch 1/100\n",
      "Learning Rate: 0.0005\n",
      "4/4 [==============================] - 152s 37s/step - loss: 2.4387 - val_loss: 2.9448\n",
      "\n",
      "val-roc-auc: 0.4309                                                                                                    \n",
      "\n",
      "Epoch 2/100\n",
      "Learning Rate: 0.0005000000237487257\n",
      "4/4 [==============================] - 132s 35s/step - loss: 3.4891 - val_loss: 1.2558\n",
      "\n",
      "val-roc-auc: 0.4421                                                                                                    \n",
      "\n",
      "Epoch 3/100\n",
      "Learning Rate: 0.0005000000237487257\n",
      "4/4 [==============================] - 134s 34s/step - loss: 1.7520 - val_loss: 0.9891\n",
      "\n",
      "val-roc-auc: 0.4502                                                                                                    \n",
      "\n",
      "Epoch 4/100\n",
      "Learning Rate: 0.0005000000237487257\n",
      "4/4 [==============================] - 133s 33s/step - loss: 1.5409 - val_loss: 1.1260\n",
      "\n",
      "val-roc-auc: 0.4446                                                                                                    \n",
      "\n",
      "Epoch 5/100\n",
      "Learning Rate: 0.0005000000237487257\n",
      "4/4 [==============================] - 133s 35s/step - loss: 1.0870 - val_loss: 0.7526\n",
      "\n",
      "val-roc-auc: 0.4549                                                                                                    \n",
      "\n",
      "Epoch 6/100\n",
      "Learning Rate: 0.0002500000118743628\n",
      "4/4 [==============================] - 133s 35s/step - loss: 0.6912 - val_loss: 1.0326\n",
      "\n",
      "val-roc-auc: 0.4353                                                                                                    \n",
      "\n",
      "Epoch 7/100\n",
      "Learning Rate: 0.0002500000118743628\n",
      "4/4 [==============================] - 137s 34s/step - loss: 0.5980 - val_loss: 0.8117\n",
      "\n",
      "val-roc-auc: 0.451                                                                                                    \n",
      "\n",
      "Epoch 8/100\n",
      "Learning Rate: 0.0001250000059371814\n",
      "4/4 [==============================] - 136s 35s/step - loss: 0.5349 - val_loss: 0.7213\n",
      "\n",
      "val-roc-auc: 0.438                                                                                                    \n",
      "\n",
      "Epoch 9/100\n",
      "Learning Rate: 0.0001250000059371814\n",
      "3/4 [=====================>........] - ETA: 29s - loss: 0.4257 "
     ]
    },
    {
     "ename": "KeyboardInterrupt",
     "evalue": "",
     "output_type": "error",
     "traceback": [
      "\u001b[0;31m---------------------------------------------------------------------------\u001b[0m",
      "\u001b[0;31mKeyboardInterrupt\u001b[0m                         Traceback (most recent call last)",
      "\u001b[0;32m/var/folders/16/my2sdbrn4hvfl3_91fx0wj9c0000gn/T/ipykernel_41427/1785160486.py\u001b[0m in \u001b[0;36m<module>\u001b[0;34m\u001b[0m\n\u001b[1;32m     20\u001b[0m \u001b[0mearly_stopping\u001b[0m \u001b[0;34m=\u001b[0m \u001b[0mEarlyStopping\u001b[0m\u001b[0;34m(\u001b[0m\u001b[0mmonitor\u001b[0m\u001b[0;34m=\u001b[0m\u001b[0;34m'auc'\u001b[0m\u001b[0;34m,\u001b[0m \u001b[0mmode\u001b[0m\u001b[0;34m=\u001b[0m\u001b[0;34m'max'\u001b[0m\u001b[0;34m,\u001b[0m \u001b[0mpatience\u001b[0m\u001b[0;34m=\u001b[0m\u001b[0;36m10\u001b[0m\u001b[0;34m,\u001b[0m \u001b[0mrestore_best_weights\u001b[0m\u001b[0;34m=\u001b[0m\u001b[0;32mTrue\u001b[0m\u001b[0;34m)\u001b[0m\u001b[0;34m\u001b[0m\u001b[0;34m\u001b[0m\u001b[0m\n\u001b[1;32m     21\u001b[0m \u001b[0;34m\u001b[0m\u001b[0m\n\u001b[0;32m---> 22\u001b[0;31m history = model.fit(train_iterator, steps_per_epoch=len(train_iterator), epochs=100, verbose=1, validation_data=val_iterator, \n\u001b[0m\u001b[1;32m     23\u001b[0m                  callbacks=[\n\u001b[1;32m     24\u001b[0m                      \u001b[0mauc\u001b[0m\u001b[0;34m,\u001b[0m\u001b[0;34m\u001b[0m\u001b[0;34m\u001b[0m\u001b[0m\n",
      "\u001b[0;32m~/opt/anaconda3/envs/metis/lib/python3.8/site-packages/tensorflow/python/keras/engine/training.py\u001b[0m in \u001b[0;36mfit\u001b[0;34m(self, x, y, batch_size, epochs, verbose, callbacks, validation_split, validation_data, shuffle, class_weight, sample_weight, initial_epoch, steps_per_epoch, validation_steps, validation_batch_size, validation_freq, max_queue_size, workers, use_multiprocessing)\u001b[0m\n\u001b[1;32m   1181\u001b[0m                 _r=1):\n\u001b[1;32m   1182\u001b[0m               \u001b[0mcallbacks\u001b[0m\u001b[0;34m.\u001b[0m\u001b[0mon_train_batch_begin\u001b[0m\u001b[0;34m(\u001b[0m\u001b[0mstep\u001b[0m\u001b[0;34m)\u001b[0m\u001b[0;34m\u001b[0m\u001b[0;34m\u001b[0m\u001b[0m\n\u001b[0;32m-> 1183\u001b[0;31m               \u001b[0mtmp_logs\u001b[0m \u001b[0;34m=\u001b[0m \u001b[0mself\u001b[0m\u001b[0;34m.\u001b[0m\u001b[0mtrain_function\u001b[0m\u001b[0;34m(\u001b[0m\u001b[0miterator\u001b[0m\u001b[0;34m)\u001b[0m\u001b[0;34m\u001b[0m\u001b[0;34m\u001b[0m\u001b[0m\n\u001b[0m\u001b[1;32m   1184\u001b[0m               \u001b[0;32mif\u001b[0m \u001b[0mdata_handler\u001b[0m\u001b[0;34m.\u001b[0m\u001b[0mshould_sync\u001b[0m\u001b[0;34m:\u001b[0m\u001b[0;34m\u001b[0m\u001b[0;34m\u001b[0m\u001b[0m\n\u001b[1;32m   1185\u001b[0m                 \u001b[0mcontext\u001b[0m\u001b[0;34m.\u001b[0m\u001b[0masync_wait\u001b[0m\u001b[0;34m(\u001b[0m\u001b[0;34m)\u001b[0m\u001b[0;34m\u001b[0m\u001b[0;34m\u001b[0m\u001b[0m\n",
      "\u001b[0;32m~/opt/anaconda3/envs/metis/lib/python3.8/site-packages/tensorflow/python/eager/def_function.py\u001b[0m in \u001b[0;36m__call__\u001b[0;34m(self, *args, **kwds)\u001b[0m\n\u001b[1;32m    887\u001b[0m \u001b[0;34m\u001b[0m\u001b[0m\n\u001b[1;32m    888\u001b[0m       \u001b[0;32mwith\u001b[0m \u001b[0mOptionalXlaContext\u001b[0m\u001b[0;34m(\u001b[0m\u001b[0mself\u001b[0m\u001b[0;34m.\u001b[0m\u001b[0m_jit_compile\u001b[0m\u001b[0;34m)\u001b[0m\u001b[0;34m:\u001b[0m\u001b[0;34m\u001b[0m\u001b[0;34m\u001b[0m\u001b[0m\n\u001b[0;32m--> 889\u001b[0;31m         \u001b[0mresult\u001b[0m \u001b[0;34m=\u001b[0m \u001b[0mself\u001b[0m\u001b[0;34m.\u001b[0m\u001b[0m_call\u001b[0m\u001b[0;34m(\u001b[0m\u001b[0;34m*\u001b[0m\u001b[0margs\u001b[0m\u001b[0;34m,\u001b[0m \u001b[0;34m**\u001b[0m\u001b[0mkwds\u001b[0m\u001b[0;34m)\u001b[0m\u001b[0;34m\u001b[0m\u001b[0;34m\u001b[0m\u001b[0m\n\u001b[0m\u001b[1;32m    890\u001b[0m \u001b[0;34m\u001b[0m\u001b[0m\n\u001b[1;32m    891\u001b[0m       \u001b[0mnew_tracing_count\u001b[0m \u001b[0;34m=\u001b[0m \u001b[0mself\u001b[0m\u001b[0;34m.\u001b[0m\u001b[0mexperimental_get_tracing_count\u001b[0m\u001b[0;34m(\u001b[0m\u001b[0;34m)\u001b[0m\u001b[0;34m\u001b[0m\u001b[0;34m\u001b[0m\u001b[0m\n",
      "\u001b[0;32m~/opt/anaconda3/envs/metis/lib/python3.8/site-packages/tensorflow/python/eager/def_function.py\u001b[0m in \u001b[0;36m_call\u001b[0;34m(self, *args, **kwds)\u001b[0m\n\u001b[1;32m    915\u001b[0m       \u001b[0;31m# In this case we have created variables on the first call, so we run the\u001b[0m\u001b[0;34m\u001b[0m\u001b[0;34m\u001b[0m\u001b[0;34m\u001b[0m\u001b[0m\n\u001b[1;32m    916\u001b[0m       \u001b[0;31m# defunned version which is guaranteed to never create variables.\u001b[0m\u001b[0;34m\u001b[0m\u001b[0;34m\u001b[0m\u001b[0;34m\u001b[0m\u001b[0m\n\u001b[0;32m--> 917\u001b[0;31m       \u001b[0;32mreturn\u001b[0m \u001b[0mself\u001b[0m\u001b[0;34m.\u001b[0m\u001b[0m_stateless_fn\u001b[0m\u001b[0;34m(\u001b[0m\u001b[0;34m*\u001b[0m\u001b[0margs\u001b[0m\u001b[0;34m,\u001b[0m \u001b[0;34m**\u001b[0m\u001b[0mkwds\u001b[0m\u001b[0;34m)\u001b[0m  \u001b[0;31m# pylint: disable=not-callable\u001b[0m\u001b[0;34m\u001b[0m\u001b[0;34m\u001b[0m\u001b[0m\n\u001b[0m\u001b[1;32m    918\u001b[0m     \u001b[0;32melif\u001b[0m \u001b[0mself\u001b[0m\u001b[0;34m.\u001b[0m\u001b[0m_stateful_fn\u001b[0m \u001b[0;32mis\u001b[0m \u001b[0;32mnot\u001b[0m \u001b[0;32mNone\u001b[0m\u001b[0;34m:\u001b[0m\u001b[0;34m\u001b[0m\u001b[0;34m\u001b[0m\u001b[0m\n\u001b[1;32m    919\u001b[0m       \u001b[0;31m# Release the lock early so that multiple threads can perform the call\u001b[0m\u001b[0;34m\u001b[0m\u001b[0;34m\u001b[0m\u001b[0;34m\u001b[0m\u001b[0m\n",
      "\u001b[0;32m~/opt/anaconda3/envs/metis/lib/python3.8/site-packages/tensorflow/python/eager/function.py\u001b[0m in \u001b[0;36m__call__\u001b[0;34m(self, *args, **kwargs)\u001b[0m\n\u001b[1;32m   3021\u001b[0m       (graph_function,\n\u001b[1;32m   3022\u001b[0m        filtered_flat_args) = self._maybe_define_function(args, kwargs)\n\u001b[0;32m-> 3023\u001b[0;31m     return graph_function._call_flat(\n\u001b[0m\u001b[1;32m   3024\u001b[0m         filtered_flat_args, captured_inputs=graph_function.captured_inputs)  # pylint: disable=protected-access\n\u001b[1;32m   3025\u001b[0m \u001b[0;34m\u001b[0m\u001b[0m\n",
      "\u001b[0;32m~/opt/anaconda3/envs/metis/lib/python3.8/site-packages/tensorflow/python/eager/function.py\u001b[0m in \u001b[0;36m_call_flat\u001b[0;34m(self, args, captured_inputs, cancellation_manager)\u001b[0m\n\u001b[1;32m   1958\u001b[0m         and executing_eagerly):\n\u001b[1;32m   1959\u001b[0m       \u001b[0;31m# No tape is watching; skip to running the function.\u001b[0m\u001b[0;34m\u001b[0m\u001b[0;34m\u001b[0m\u001b[0;34m\u001b[0m\u001b[0m\n\u001b[0;32m-> 1960\u001b[0;31m       return self._build_call_outputs(self._inference_function.call(\n\u001b[0m\u001b[1;32m   1961\u001b[0m           ctx, args, cancellation_manager=cancellation_manager))\n\u001b[1;32m   1962\u001b[0m     forward_backward = self._select_forward_and_backward_functions(\n",
      "\u001b[0;32m~/opt/anaconda3/envs/metis/lib/python3.8/site-packages/tensorflow/python/eager/function.py\u001b[0m in \u001b[0;36mcall\u001b[0;34m(self, ctx, args, cancellation_manager)\u001b[0m\n\u001b[1;32m    589\u001b[0m       \u001b[0;32mwith\u001b[0m \u001b[0m_InterpolateFunctionError\u001b[0m\u001b[0;34m(\u001b[0m\u001b[0mself\u001b[0m\u001b[0;34m)\u001b[0m\u001b[0;34m:\u001b[0m\u001b[0;34m\u001b[0m\u001b[0;34m\u001b[0m\u001b[0m\n\u001b[1;32m    590\u001b[0m         \u001b[0;32mif\u001b[0m \u001b[0mcancellation_manager\u001b[0m \u001b[0;32mis\u001b[0m \u001b[0;32mNone\u001b[0m\u001b[0;34m:\u001b[0m\u001b[0;34m\u001b[0m\u001b[0;34m\u001b[0m\u001b[0m\n\u001b[0;32m--> 591\u001b[0;31m           outputs = execute.execute(\n\u001b[0m\u001b[1;32m    592\u001b[0m               \u001b[0mstr\u001b[0m\u001b[0;34m(\u001b[0m\u001b[0mself\u001b[0m\u001b[0;34m.\u001b[0m\u001b[0msignature\u001b[0m\u001b[0;34m.\u001b[0m\u001b[0mname\u001b[0m\u001b[0;34m)\u001b[0m\u001b[0;34m,\u001b[0m\u001b[0;34m\u001b[0m\u001b[0;34m\u001b[0m\u001b[0m\n\u001b[1;32m    593\u001b[0m               \u001b[0mnum_outputs\u001b[0m\u001b[0;34m=\u001b[0m\u001b[0mself\u001b[0m\u001b[0;34m.\u001b[0m\u001b[0m_num_outputs\u001b[0m\u001b[0;34m,\u001b[0m\u001b[0;34m\u001b[0m\u001b[0;34m\u001b[0m\u001b[0m\n",
      "\u001b[0;32m~/opt/anaconda3/envs/metis/lib/python3.8/site-packages/tensorflow/python/eager/execute.py\u001b[0m in \u001b[0;36mquick_execute\u001b[0;34m(op_name, num_outputs, inputs, attrs, ctx, name)\u001b[0m\n\u001b[1;32m     57\u001b[0m   \u001b[0;32mtry\u001b[0m\u001b[0;34m:\u001b[0m\u001b[0;34m\u001b[0m\u001b[0;34m\u001b[0m\u001b[0m\n\u001b[1;32m     58\u001b[0m     \u001b[0mctx\u001b[0m\u001b[0;34m.\u001b[0m\u001b[0mensure_initialized\u001b[0m\u001b[0;34m(\u001b[0m\u001b[0;34m)\u001b[0m\u001b[0;34m\u001b[0m\u001b[0;34m\u001b[0m\u001b[0m\n\u001b[0;32m---> 59\u001b[0;31m     tensors = pywrap_tfe.TFE_Py_Execute(ctx._handle, device_name, op_name,\n\u001b[0m\u001b[1;32m     60\u001b[0m                                         inputs, attrs, num_outputs)\n\u001b[1;32m     61\u001b[0m   \u001b[0;32mexcept\u001b[0m \u001b[0mcore\u001b[0m\u001b[0;34m.\u001b[0m\u001b[0m_NotOkStatusException\u001b[0m \u001b[0;32mas\u001b[0m \u001b[0me\u001b[0m\u001b[0;34m:\u001b[0m\u001b[0;34m\u001b[0m\u001b[0;34m\u001b[0m\u001b[0m\n",
      "\u001b[0;31mKeyboardInterrupt\u001b[0m: "
     ]
    }
   ],
   "source": [
    "# Exponential decay learning rate scheduler comes from: \n",
    "#      https://towardsdatascience.com/learning-rate-schedule-in-practice-an-example-with-keras-and-tensorflow-2-0-2f48b2888a0c\n",
    "def lr_exp_decay(epoch, lr):\n",
    "    print('Previous lr: {}'.format(lr))\n",
    "    k = 0\n",
    "    return lr * np.exp(-k*epoch)\n",
    "\n",
    "# This AUC will be calculated at the end of each epoch on the validation set and be used for early stopping\n",
    "auc = ROAUCMetrics(val_data=(X_val, y_val[:, 0]))\n",
    "\n",
    "eval_callback = LambdaCallback(on_epoch_end=lambda epoch, logs: logs.update({'auc': auc.val_aucs[-1]})) \n",
    "\n",
    "# reduce_lr = ReduceLROnPlateau(monitor='val_loss', factor=0.5, patience=5, mode='min', min_delta=0.0001, min_lr=5e-6)\n",
    "reduce_lr = ReduceLROnPlateau(monitor='auc', factor=0.5, patience=2, mode='max', min_delta=0.005, min_lr=1e-6)\n",
    "\n",
    "lr_callback = LambdaCallback(on_epoch_begin=lambda epoch, logs: print('Learning Rate: {}'.format(round(model.optimizer.get_config()['learning_rate'], 7))))\n",
    "\n",
    "# scheduler = LearningRateScheduler(lr_exp_decay, verbose=1)\n",
    "\n",
    "early_stopping = EarlyStopping(monitor='auc', mode='max', patience=10, restore_best_weights=True)\n",
    "\n",
    "history = model.fit(train_iterator, steps_per_epoch=len(train_iterator), epochs=100, verbose=1, validation_data=val_iterator, \n",
    "                 callbacks=[\n",
    "                     auc,\n",
    "                     eval_callback,\n",
    "                     reduce_lr,\n",
    "                     lr_callback,\n",
    "                     early_stopping,\n",
    "#                      scheduler,\n",
    "                     keras.callbacks.ModelCheckpoint(\n",
    "                         'models_baby2/model_4.{epoch:02d}-{val_loss:.2f}.hdf5',\n",
    "                         save_best_only=False)\n",
    "                 ])"
   ]
  },
  {
   "cell_type": "code",
   "execution_count": null,
   "id": "618ef516-9de5-497c-aefe-109ade1e1afd",
   "metadata": {},
   "outputs": [],
   "source": []
  },
  {
   "cell_type": "markdown",
   "id": "6ae30744-cb16-4260-b490-7fcb16115587",
   "metadata": {},
   "source": [
    "# 5) Let's Try ResNet50V2 Pre-Trained Model (1st target only)"
   ]
  },
  {
   "cell_type": "code",
   "execution_count": 23,
   "id": "f66845d2-f917-48aa-84af-fae1be3219bd",
   "metadata": {},
   "outputs": [],
   "source": [
    "## FOR REPEATABILITY (must re-run this before EVERY model training run):\n",
    "\n",
    "# 1. Set the `PYTHONHASHSEED` environment variable at a fixed value\n",
    "import os\n",
    "os.environ['PYTHONHASHSEED']=str(0)\n",
    "\n",
    "# 2. Set the `python` built-in pseudo-random generator at a fixed value\n",
    "import random\n",
    "random.seed(1)\n",
    "\n",
    "# 3. Set the `numpy` pseudo-random generator at a fixed value\n",
    "import numpy as np\n",
    "np.random.seed(2)\n",
    "\n",
    "# 4. Set the `tensorflow` pseudo-random generator at a fixed value\n",
    "import tensorflow as tf\n",
    "tf.random.set_seed(2)"
   ]
  },
  {
   "cell_type": "code",
   "execution_count": 24,
   "id": "c30434c9-3c8d-4216-ad38-2e309fadad43",
   "metadata": {},
   "outputs": [
    {
     "name": "stdout",
     "output_type": "stream",
     "text": [
      "Batches train=4, val=1\n"
     ]
    }
   ],
   "source": [
    "batch_size = 256\n",
    "\n",
    "datagen = ImageDataGenerator(featurewise_center=True, featurewise_std_normalization=True)\n",
    "\n",
    "# calculate mean on training dataset\n",
    "datagen.fit(X_train)\n",
    "\n",
    "# prepare iterators to scale images\n",
    "train_iterator = datagen.flow(X_train, y_train[:, 0], batch_size=batch_size)\n",
    "\n",
    "val_iterator = datagen.flow(X_val, y_val[:, 0], batch_size=batch_size)\n",
    "\n",
    "print('Batches train=%d, val=%d' % (len(train_iterator), len(val_iterator)))"
   ]
  },
  {
   "cell_type": "code",
   "execution_count": 25,
   "id": "1af5a8b7-f38f-437e-bd42-2a1ebf9402e4",
   "metadata": {},
   "outputs": [
    {
     "name": "stdout",
     "output_type": "stream",
     "text": [
      "Downloading data from https://storage.googleapis.com/tensorflow/keras-applications/resnet/resnet50v2_weights_tf_dim_ordering_tf_kernels_notop.h5\n",
      "94674944/94668760 [==============================] - 37s 0us/step\n"
     ]
    }
   ],
   "source": [
    "keras.backend.clear_session()\n",
    "\n",
    "# dropout = 0.4\n",
    "\n",
    "from tensorflow.keras.applications import ResNet50V2\n",
    "\n",
    "# This converts the 1-channel X-rays to 3-channel images a required by mobilenet_v2\n",
    "input_tensor = Input(shape=(X_train.shape[1:]))\n",
    "x = Conv2D(3,(3,3),padding='same')(input_tensor)\n",
    "\n",
    "base_model = ResNet50V2(weights='imagenet',\n",
    "                         include_top=False,\n",
    "#                          pooling='avg',\n",
    "                         input_shape=(X_train.shape[1], X_train.shape[2], 3)) \n",
    " \n",
    "# Freeze convolutional layers\n",
    "for layer in base_model.layers:\n",
    "    layer.trainable = False    \n",
    "\n",
    "out = base_model(x)\n",
    "new_base_model = Model(inputs=input_tensor, outputs=out)\n",
    "    \n",
    "# Establish new fully connected block\n",
    "x = new_base_model.output\n",
    "x = Flatten()(x) # flatten from convolution tensor output \n",
    "# x = Dense(units=128, activation='relu')(x) # number of layers and units are hyperparameters, as usual\n",
    "# x = Dropout(dropout, seed=2)(x) # adding Dropout for regularization between the Dense layers\n",
    "# x = Dense(units=64, activation='relu')(x)\n",
    "# x = Dropout(dropout, seed=1)(x) # adding Dropout for regularization between the Dense layers\n",
    "predictions = Dense(units=1, activation='sigmoid')(x) # 1 target labels\n",
    "\n",
    "# define formal model object to train and compile it as usual\n",
    "model = Model(inputs=new_base_model.input, outputs=predictions)"
   ]
  },
  {
   "cell_type": "code",
   "execution_count": 26,
   "id": "2d9ffad8-1d46-48ee-8e5d-fc0b2dacf557",
   "metadata": {},
   "outputs": [
    {
     "name": "stdout",
     "output_type": "stream",
     "text": [
      "Model: \"model_1\"\n",
      "_________________________________________________________________\n",
      "Layer (type)                 Output Shape              Param #   \n",
      "=================================================================\n",
      "input_1 (InputLayer)         [(None, 224, 273, 1)]     0         \n",
      "_________________________________________________________________\n",
      "conv2d (Conv2D)              (None, 224, 273, 3)       30        \n",
      "_________________________________________________________________\n",
      "resnet50v2 (Functional)      (None, 7, 9, 2048)        23564800  \n",
      "_________________________________________________________________\n",
      "flatten (Flatten)            (None, 129024)            0         \n",
      "_________________________________________________________________\n",
      "dense (Dense)                (None, 1)                 129025    \n",
      "=================================================================\n",
      "Total params: 23,693,855\n",
      "Trainable params: 129,055\n",
      "Non-trainable params: 23,564,800\n",
      "_________________________________________________________________\n"
     ]
    }
   ],
   "source": [
    "model.summary()"
   ]
  },
  {
   "cell_type": "code",
   "execution_count": 27,
   "id": "79271383-feb9-4b68-8fe7-e9ad37b27989",
   "metadata": {},
   "outputs": [],
   "source": [
    "initial_learning_rate = 0.0005\n",
    "adam_opt = keras.optimizers.Adam(learning_rate=initial_learning_rate, \n",
    "                                 beta_1=0.9, \n",
    "                                 beta_2=0.999, \n",
    "                                 epsilon=1e-07, \n",
    "                                 amsgrad=False)\n",
    "\n",
    "model.compile(\n",
    "    loss='binary_crossentropy',\n",
    "    optimizer=adam_opt\n",
    ")"
   ]
  },
  {
   "cell_type": "code",
   "execution_count": 28,
   "id": "8704e317-c3db-4780-8f23-9d03c5ce2a4a",
   "metadata": {},
   "outputs": [
    {
     "data": {
      "text/plain": [
       "0.0005"
      ]
     },
     "execution_count": 28,
     "metadata": {},
     "output_type": "execute_result"
    }
   ],
   "source": [
    "model.optimizer.get_config()['learning_rate']"
   ]
  },
  {
   "cell_type": "code",
   "execution_count": 29,
   "id": "93535696-2a59-40f0-8141-81ec0a30c6e8",
   "metadata": {
    "tags": []
   },
   "outputs": [
    {
     "name": "stdout",
     "output_type": "stream",
     "text": [
      "Epoch 1/100\n",
      "Learning Rate: 0.0005\n",
      "4/4 [==============================] - 201s 51s/step - loss: 4.2839 - val_loss: 4.9521\n",
      "\n",
      "val-roc-auc: 0.5                                                                                                    \n",
      "\n"
     ]
    },
    {
     "name": "stderr",
     "output_type": "stream",
     "text": [
      "/Users/georgepappy/opt/anaconda3/envs/metis/lib/python3.8/site-packages/tensorflow/python/keras/utils/generic_utils.py:494: CustomMaskWarning: Custom mask layers require a config and must override get_config. When loading, the custom mask layer must be passed to the custom_objects argument.\n",
      "  warnings.warn('Custom mask layers require a config and must override '\n"
     ]
    },
    {
     "name": "stdout",
     "output_type": "stream",
     "text": [
      "Epoch 2/100\n",
      "Learning Rate: 0.0005000000237487257\n",
      "4/4 [==============================] - 189s 50s/step - loss: 4.8136 - val_loss: 2.7152\n",
      "\n",
      "val-roc-auc: 0.5                                                                                                    \n",
      "\n"
     ]
    },
    {
     "name": "stderr",
     "output_type": "stream",
     "text": [
      "/Users/georgepappy/opt/anaconda3/envs/metis/lib/python3.8/site-packages/tensorflow/python/keras/utils/generic_utils.py:494: CustomMaskWarning: Custom mask layers require a config and must override get_config. When loading, the custom mask layer must be passed to the custom_objects argument.\n",
      "  warnings.warn('Custom mask layers require a config and must override '\n"
     ]
    },
    {
     "name": "stdout",
     "output_type": "stream",
     "text": [
      "Epoch 3/100\n",
      "Learning Rate: 0.0005000000237487257\n",
      "4/4 [==============================] - 190s 48s/step - loss: 1.9654 - val_loss: 2.7858\n",
      "\n",
      "val-roc-auc: 0.5001                                                                                                    \n",
      "\n"
     ]
    },
    {
     "name": "stderr",
     "output_type": "stream",
     "text": [
      "/Users/georgepappy/opt/anaconda3/envs/metis/lib/python3.8/site-packages/tensorflow/python/keras/utils/generic_utils.py:494: CustomMaskWarning: Custom mask layers require a config and must override get_config. When loading, the custom mask layer must be passed to the custom_objects argument.\n",
      "  warnings.warn('Custom mask layers require a config and must override '\n"
     ]
    },
    {
     "name": "stdout",
     "output_type": "stream",
     "text": [
      "Epoch 4/100\n",
      "Learning Rate: 0.0002500000118743628\n",
      "4/4 [==============================] - 194s 49s/step - loss: 1.1887 - val_loss: 1.6872\n",
      "\n",
      "val-roc-auc: 0.5                                                                                                    \n",
      "\n"
     ]
    },
    {
     "name": "stderr",
     "output_type": "stream",
     "text": [
      "/Users/georgepappy/opt/anaconda3/envs/metis/lib/python3.8/site-packages/tensorflow/python/keras/utils/generic_utils.py:494: CustomMaskWarning: Custom mask layers require a config and must override get_config. When loading, the custom mask layer must be passed to the custom_objects argument.\n",
      "  warnings.warn('Custom mask layers require a config and must override '\n"
     ]
    },
    {
     "name": "stdout",
     "output_type": "stream",
     "text": [
      "Epoch 5/100\n",
      "Learning Rate: 0.0002500000118743628\n",
      "4/4 [==============================] - 171s 44s/step - loss: 1.2111 - val_loss: 1.9097\n",
      "\n",
      "val-roc-auc: 0.5                                                                                                    \n",
      "\n"
     ]
    },
    {
     "name": "stderr",
     "output_type": "stream",
     "text": [
      "/Users/georgepappy/opt/anaconda3/envs/metis/lib/python3.8/site-packages/tensorflow/python/keras/utils/generic_utils.py:494: CustomMaskWarning: Custom mask layers require a config and must override get_config. When loading, the custom mask layer must be passed to the custom_objects argument.\n",
      "  warnings.warn('Custom mask layers require a config and must override '\n"
     ]
    },
    {
     "name": "stdout",
     "output_type": "stream",
     "text": [
      "Epoch 6/100\n",
      "Learning Rate: 0.0001250000059371814\n",
      "4/4 [==============================] - 112s 30s/step - loss: 0.7320 - val_loss: 1.0873\n",
      "\n",
      "val-roc-auc: 0.5                                                                                                    \n",
      "\n"
     ]
    },
    {
     "name": "stderr",
     "output_type": "stream",
     "text": [
      "/Users/georgepappy/opt/anaconda3/envs/metis/lib/python3.8/site-packages/tensorflow/python/keras/utils/generic_utils.py:494: CustomMaskWarning: Custom mask layers require a config and must override get_config. When loading, the custom mask layer must be passed to the custom_objects argument.\n",
      "  warnings.warn('Custom mask layers require a config and must override '\n"
     ]
    },
    {
     "name": "stdout",
     "output_type": "stream",
     "text": [
      "Epoch 7/100\n",
      "Learning Rate: 0.0001250000059371814\n",
      "4/4 [==============================] - 208s 53s/step - loss: 0.4443 - val_loss: 1.2605\n",
      "\n",
      "val-roc-auc: 0.5                                                                                                    \n",
      "\n"
     ]
    },
    {
     "name": "stderr",
     "output_type": "stream",
     "text": [
      "/Users/georgepappy/opt/anaconda3/envs/metis/lib/python3.8/site-packages/tensorflow/python/keras/utils/generic_utils.py:494: CustomMaskWarning: Custom mask layers require a config and must override get_config. When loading, the custom mask layer must be passed to the custom_objects argument.\n",
      "  warnings.warn('Custom mask layers require a config and must override '\n"
     ]
    },
    {
     "name": "stdout",
     "output_type": "stream",
     "text": [
      "Epoch 8/100\n",
      "Learning Rate: 6.25000029685907e-05\n"
     ]
    },
    {
     "ename": "KeyboardInterrupt",
     "evalue": "",
     "output_type": "error",
     "traceback": [
      "\u001b[0;31m---------------------------------------------------------------------------\u001b[0m",
      "\u001b[0;31mKeyboardInterrupt\u001b[0m                         Traceback (most recent call last)",
      "\u001b[0;32m/var/folders/16/my2sdbrn4hvfl3_91fx0wj9c0000gn/T/ipykernel_41427/446135936.py\u001b[0m in \u001b[0;36m<module>\u001b[0;34m\u001b[0m\n\u001b[1;32m     20\u001b[0m \u001b[0mearly_stopping\u001b[0m \u001b[0;34m=\u001b[0m \u001b[0mEarlyStopping\u001b[0m\u001b[0;34m(\u001b[0m\u001b[0mmonitor\u001b[0m\u001b[0;34m=\u001b[0m\u001b[0;34m'auc'\u001b[0m\u001b[0;34m,\u001b[0m \u001b[0mmode\u001b[0m\u001b[0;34m=\u001b[0m\u001b[0;34m'max'\u001b[0m\u001b[0;34m,\u001b[0m \u001b[0mpatience\u001b[0m\u001b[0;34m=\u001b[0m\u001b[0;36m10\u001b[0m\u001b[0;34m,\u001b[0m \u001b[0mrestore_best_weights\u001b[0m\u001b[0;34m=\u001b[0m\u001b[0;32mTrue\u001b[0m\u001b[0;34m)\u001b[0m\u001b[0;34m\u001b[0m\u001b[0;34m\u001b[0m\u001b[0m\n\u001b[1;32m     21\u001b[0m \u001b[0;34m\u001b[0m\u001b[0m\n\u001b[0;32m---> 22\u001b[0;31m history = model.fit(train_iterator, steps_per_epoch=len(train_iterator), epochs=100, verbose=1, validation_data=val_iterator, \n\u001b[0m\u001b[1;32m     23\u001b[0m                  callbacks=[\n\u001b[1;32m     24\u001b[0m                      \u001b[0mauc\u001b[0m\u001b[0;34m,\u001b[0m\u001b[0;34m\u001b[0m\u001b[0;34m\u001b[0m\u001b[0m\n",
      "\u001b[0;32m~/opt/anaconda3/envs/metis/lib/python3.8/site-packages/tensorflow/python/keras/engine/training.py\u001b[0m in \u001b[0;36mfit\u001b[0;34m(self, x, y, batch_size, epochs, verbose, callbacks, validation_split, validation_data, shuffle, class_weight, sample_weight, initial_epoch, steps_per_epoch, validation_steps, validation_batch_size, validation_freq, max_queue_size, workers, use_multiprocessing)\u001b[0m\n\u001b[1;32m   1181\u001b[0m                 _r=1):\n\u001b[1;32m   1182\u001b[0m               \u001b[0mcallbacks\u001b[0m\u001b[0;34m.\u001b[0m\u001b[0mon_train_batch_begin\u001b[0m\u001b[0;34m(\u001b[0m\u001b[0mstep\u001b[0m\u001b[0;34m)\u001b[0m\u001b[0;34m\u001b[0m\u001b[0;34m\u001b[0m\u001b[0m\n\u001b[0;32m-> 1183\u001b[0;31m               \u001b[0mtmp_logs\u001b[0m \u001b[0;34m=\u001b[0m \u001b[0mself\u001b[0m\u001b[0;34m.\u001b[0m\u001b[0mtrain_function\u001b[0m\u001b[0;34m(\u001b[0m\u001b[0miterator\u001b[0m\u001b[0;34m)\u001b[0m\u001b[0;34m\u001b[0m\u001b[0;34m\u001b[0m\u001b[0m\n\u001b[0m\u001b[1;32m   1184\u001b[0m               \u001b[0;32mif\u001b[0m \u001b[0mdata_handler\u001b[0m\u001b[0;34m.\u001b[0m\u001b[0mshould_sync\u001b[0m\u001b[0;34m:\u001b[0m\u001b[0;34m\u001b[0m\u001b[0;34m\u001b[0m\u001b[0m\n\u001b[1;32m   1185\u001b[0m                 \u001b[0mcontext\u001b[0m\u001b[0;34m.\u001b[0m\u001b[0masync_wait\u001b[0m\u001b[0;34m(\u001b[0m\u001b[0;34m)\u001b[0m\u001b[0;34m\u001b[0m\u001b[0;34m\u001b[0m\u001b[0m\n",
      "\u001b[0;32m~/opt/anaconda3/envs/metis/lib/python3.8/site-packages/tensorflow/python/eager/def_function.py\u001b[0m in \u001b[0;36m__call__\u001b[0;34m(self, *args, **kwds)\u001b[0m\n\u001b[1;32m    887\u001b[0m \u001b[0;34m\u001b[0m\u001b[0m\n\u001b[1;32m    888\u001b[0m       \u001b[0;32mwith\u001b[0m \u001b[0mOptionalXlaContext\u001b[0m\u001b[0;34m(\u001b[0m\u001b[0mself\u001b[0m\u001b[0;34m.\u001b[0m\u001b[0m_jit_compile\u001b[0m\u001b[0;34m)\u001b[0m\u001b[0;34m:\u001b[0m\u001b[0;34m\u001b[0m\u001b[0;34m\u001b[0m\u001b[0m\n\u001b[0;32m--> 889\u001b[0;31m         \u001b[0mresult\u001b[0m \u001b[0;34m=\u001b[0m \u001b[0mself\u001b[0m\u001b[0;34m.\u001b[0m\u001b[0m_call\u001b[0m\u001b[0;34m(\u001b[0m\u001b[0;34m*\u001b[0m\u001b[0margs\u001b[0m\u001b[0;34m,\u001b[0m \u001b[0;34m**\u001b[0m\u001b[0mkwds\u001b[0m\u001b[0;34m)\u001b[0m\u001b[0;34m\u001b[0m\u001b[0;34m\u001b[0m\u001b[0m\n\u001b[0m\u001b[1;32m    890\u001b[0m \u001b[0;34m\u001b[0m\u001b[0m\n\u001b[1;32m    891\u001b[0m       \u001b[0mnew_tracing_count\u001b[0m \u001b[0;34m=\u001b[0m \u001b[0mself\u001b[0m\u001b[0;34m.\u001b[0m\u001b[0mexperimental_get_tracing_count\u001b[0m\u001b[0;34m(\u001b[0m\u001b[0;34m)\u001b[0m\u001b[0;34m\u001b[0m\u001b[0;34m\u001b[0m\u001b[0m\n",
      "\u001b[0;32m~/opt/anaconda3/envs/metis/lib/python3.8/site-packages/tensorflow/python/eager/def_function.py\u001b[0m in \u001b[0;36m_call\u001b[0;34m(self, *args, **kwds)\u001b[0m\n\u001b[1;32m    915\u001b[0m       \u001b[0;31m# In this case we have created variables on the first call, so we run the\u001b[0m\u001b[0;34m\u001b[0m\u001b[0;34m\u001b[0m\u001b[0;34m\u001b[0m\u001b[0m\n\u001b[1;32m    916\u001b[0m       \u001b[0;31m# defunned version which is guaranteed to never create variables.\u001b[0m\u001b[0;34m\u001b[0m\u001b[0;34m\u001b[0m\u001b[0;34m\u001b[0m\u001b[0m\n\u001b[0;32m--> 917\u001b[0;31m       \u001b[0;32mreturn\u001b[0m \u001b[0mself\u001b[0m\u001b[0;34m.\u001b[0m\u001b[0m_stateless_fn\u001b[0m\u001b[0;34m(\u001b[0m\u001b[0;34m*\u001b[0m\u001b[0margs\u001b[0m\u001b[0;34m,\u001b[0m \u001b[0;34m**\u001b[0m\u001b[0mkwds\u001b[0m\u001b[0;34m)\u001b[0m  \u001b[0;31m# pylint: disable=not-callable\u001b[0m\u001b[0;34m\u001b[0m\u001b[0;34m\u001b[0m\u001b[0m\n\u001b[0m\u001b[1;32m    918\u001b[0m     \u001b[0;32melif\u001b[0m \u001b[0mself\u001b[0m\u001b[0;34m.\u001b[0m\u001b[0m_stateful_fn\u001b[0m \u001b[0;32mis\u001b[0m \u001b[0;32mnot\u001b[0m \u001b[0;32mNone\u001b[0m\u001b[0;34m:\u001b[0m\u001b[0;34m\u001b[0m\u001b[0;34m\u001b[0m\u001b[0m\n\u001b[1;32m    919\u001b[0m       \u001b[0;31m# Release the lock early so that multiple threads can perform the call\u001b[0m\u001b[0;34m\u001b[0m\u001b[0;34m\u001b[0m\u001b[0;34m\u001b[0m\u001b[0m\n",
      "\u001b[0;32m~/opt/anaconda3/envs/metis/lib/python3.8/site-packages/tensorflow/python/eager/function.py\u001b[0m in \u001b[0;36m__call__\u001b[0;34m(self, *args, **kwargs)\u001b[0m\n\u001b[1;32m   3021\u001b[0m       (graph_function,\n\u001b[1;32m   3022\u001b[0m        filtered_flat_args) = self._maybe_define_function(args, kwargs)\n\u001b[0;32m-> 3023\u001b[0;31m     return graph_function._call_flat(\n\u001b[0m\u001b[1;32m   3024\u001b[0m         filtered_flat_args, captured_inputs=graph_function.captured_inputs)  # pylint: disable=protected-access\n\u001b[1;32m   3025\u001b[0m \u001b[0;34m\u001b[0m\u001b[0m\n",
      "\u001b[0;32m~/opt/anaconda3/envs/metis/lib/python3.8/site-packages/tensorflow/python/eager/function.py\u001b[0m in \u001b[0;36m_call_flat\u001b[0;34m(self, args, captured_inputs, cancellation_manager)\u001b[0m\n\u001b[1;32m   1958\u001b[0m         and executing_eagerly):\n\u001b[1;32m   1959\u001b[0m       \u001b[0;31m# No tape is watching; skip to running the function.\u001b[0m\u001b[0;34m\u001b[0m\u001b[0;34m\u001b[0m\u001b[0;34m\u001b[0m\u001b[0m\n\u001b[0;32m-> 1960\u001b[0;31m       return self._build_call_outputs(self._inference_function.call(\n\u001b[0m\u001b[1;32m   1961\u001b[0m           ctx, args, cancellation_manager=cancellation_manager))\n\u001b[1;32m   1962\u001b[0m     forward_backward = self._select_forward_and_backward_functions(\n",
      "\u001b[0;32m~/opt/anaconda3/envs/metis/lib/python3.8/site-packages/tensorflow/python/eager/function.py\u001b[0m in \u001b[0;36mcall\u001b[0;34m(self, ctx, args, cancellation_manager)\u001b[0m\n\u001b[1;32m    589\u001b[0m       \u001b[0;32mwith\u001b[0m \u001b[0m_InterpolateFunctionError\u001b[0m\u001b[0;34m(\u001b[0m\u001b[0mself\u001b[0m\u001b[0;34m)\u001b[0m\u001b[0;34m:\u001b[0m\u001b[0;34m\u001b[0m\u001b[0;34m\u001b[0m\u001b[0m\n\u001b[1;32m    590\u001b[0m         \u001b[0;32mif\u001b[0m \u001b[0mcancellation_manager\u001b[0m \u001b[0;32mis\u001b[0m \u001b[0;32mNone\u001b[0m\u001b[0;34m:\u001b[0m\u001b[0;34m\u001b[0m\u001b[0;34m\u001b[0m\u001b[0m\n\u001b[0;32m--> 591\u001b[0;31m           outputs = execute.execute(\n\u001b[0m\u001b[1;32m    592\u001b[0m               \u001b[0mstr\u001b[0m\u001b[0;34m(\u001b[0m\u001b[0mself\u001b[0m\u001b[0;34m.\u001b[0m\u001b[0msignature\u001b[0m\u001b[0;34m.\u001b[0m\u001b[0mname\u001b[0m\u001b[0;34m)\u001b[0m\u001b[0;34m,\u001b[0m\u001b[0;34m\u001b[0m\u001b[0;34m\u001b[0m\u001b[0m\n\u001b[1;32m    593\u001b[0m               \u001b[0mnum_outputs\u001b[0m\u001b[0;34m=\u001b[0m\u001b[0mself\u001b[0m\u001b[0;34m.\u001b[0m\u001b[0m_num_outputs\u001b[0m\u001b[0;34m,\u001b[0m\u001b[0;34m\u001b[0m\u001b[0;34m\u001b[0m\u001b[0m\n",
      "\u001b[0;32m~/opt/anaconda3/envs/metis/lib/python3.8/site-packages/tensorflow/python/eager/execute.py\u001b[0m in \u001b[0;36mquick_execute\u001b[0;34m(op_name, num_outputs, inputs, attrs, ctx, name)\u001b[0m\n\u001b[1;32m     57\u001b[0m   \u001b[0;32mtry\u001b[0m\u001b[0;34m:\u001b[0m\u001b[0;34m\u001b[0m\u001b[0;34m\u001b[0m\u001b[0m\n\u001b[1;32m     58\u001b[0m     \u001b[0mctx\u001b[0m\u001b[0;34m.\u001b[0m\u001b[0mensure_initialized\u001b[0m\u001b[0;34m(\u001b[0m\u001b[0;34m)\u001b[0m\u001b[0;34m\u001b[0m\u001b[0;34m\u001b[0m\u001b[0m\n\u001b[0;32m---> 59\u001b[0;31m     tensors = pywrap_tfe.TFE_Py_Execute(ctx._handle, device_name, op_name,\n\u001b[0m\u001b[1;32m     60\u001b[0m                                         inputs, attrs, num_outputs)\n\u001b[1;32m     61\u001b[0m   \u001b[0;32mexcept\u001b[0m \u001b[0mcore\u001b[0m\u001b[0;34m.\u001b[0m\u001b[0m_NotOkStatusException\u001b[0m \u001b[0;32mas\u001b[0m \u001b[0me\u001b[0m\u001b[0;34m:\u001b[0m\u001b[0;34m\u001b[0m\u001b[0;34m\u001b[0m\u001b[0m\n",
      "\u001b[0;31mKeyboardInterrupt\u001b[0m: "
     ]
    }
   ],
   "source": [
    "# Exponential decay learning rate scheduler comes from: \n",
    "#      https://towardsdatascience.com/learning-rate-schedule-in-practice-an-example-with-keras-and-tensorflow-2-0-2f48b2888a0c\n",
    "def lr_exp_decay(epoch, lr):\n",
    "    print('Previous lr: {}'.format(lr))\n",
    "    k = 0\n",
    "    return lr * np.exp(-k*epoch)\n",
    "\n",
    "# This AUC will be calculated at the end of each epoch on the validation set and be used for early stopping\n",
    "auc = ROAUCMetrics(val_data=(X_val, y_val[:, 0]))\n",
    "\n",
    "eval_callback = LambdaCallback(on_epoch_end=lambda epoch, logs: logs.update({'auc': auc.val_aucs[-1]})) \n",
    "\n",
    "# reduce_lr = ReduceLROnPlateau(monitor='val_loss', factor=0.5, patience=5, mode='min', min_delta=0.0001, min_lr=5e-6)\n",
    "reduce_lr = ReduceLROnPlateau(monitor='auc', factor=0.5, patience=2, mode='max', min_delta=0.005, min_lr=1e-6)\n",
    "\n",
    "lr_callback = LambdaCallback(on_epoch_begin=lambda epoch, logs: print('Learning Rate: {}'.format(round(model.optimizer.get_config()['learning_rate'], 7))))\n",
    "\n",
    "# scheduler = LearningRateScheduler(lr_exp_decay, verbose=1)\n",
    "\n",
    "early_stopping = EarlyStopping(monitor='auc', mode='max', patience=10, restore_best_weights=True)\n",
    "\n",
    "history = model.fit(train_iterator, steps_per_epoch=len(train_iterator), epochs=100, verbose=1, validation_data=val_iterator, \n",
    "                 callbacks=[\n",
    "                     auc,\n",
    "                     eval_callback,\n",
    "                     reduce_lr,\n",
    "                     lr_callback,\n",
    "                     early_stopping,\n",
    "#                      scheduler,\n",
    "                     keras.callbacks.ModelCheckpoint(\n",
    "                         'models_baby3/model_5.{epoch:02d}-{val_loss:.2f}.hdf5',\n",
    "                         save_best_only=False)\n",
    "                 ])"
   ]
  },
  {
   "cell_type": "markdown",
   "id": "564f793e-231f-4673-8c2a-48f62213b4f6",
   "metadata": {},
   "source": [
    "# 6) VGG16 + 3 Dense Layers (128, 64, 1, dropout) w/ trainable layer_5 (last target)"
   ]
  },
  {
   "cell_type": "code",
   "execution_count": 79,
   "id": "2e536601-3404-4b48-9ef0-0feb1a89d6cc",
   "metadata": {},
   "outputs": [],
   "source": [
    "## Targets: 'Atelectasis'=0, 'Cardiomegaly'=1, 'Edema'=2, 'Pleaural Effusion'=3\n",
    "\n",
    "target = 3"
   ]
  },
  {
   "cell_type": "code",
   "execution_count": 80,
   "id": "624cc6fd-04fc-4172-90d8-9fb0b0f166a9",
   "metadata": {},
   "outputs": [
    {
     "name": "stdout",
     "output_type": "stream",
     "text": [
      "Weight for class 0: 0.77\n",
      "Weight for class 1: 1.41\n"
     ]
    }
   ],
   "source": [
    "# Scaling by total/2 helps keep the loss to a similar magnitude.\n",
    "#    The sum of the weights of all examples stays the same.\n",
    "\n",
    "# weight_for_1 = (1 / pos) * (total / 2.0)\n",
    "weight_for_1 = (1 / np.sum(y_train[:, target])) * (y_train.shape[0]/2.0)\n",
    "\n",
    "# weight_for_0 = (1 / neg) * (total / 2.0)\n",
    "weight_for_0 = (1 / (y_train.shape[0] - np.sum(y_train[:, target]))) * (y_train.shape[0]/2.0)\n",
    "\n",
    "class_weights = {0: weight_for_0, 1: weight_for_1}\n",
    "\n",
    "print('Weight for class 0: {:.2f}'.format(weight_for_0))\n",
    "print('Weight for class 1: {:.2f}'.format(weight_for_1))"
   ]
  },
  {
   "cell_type": "code",
   "execution_count": 81,
   "id": "72045b8b-b5d5-40b0-8043-0cdb20bf8ceb",
   "metadata": {},
   "outputs": [],
   "source": [
    "## FOR REPEATABILITY (must re-run this before EVERY model training run):\n",
    "\n",
    "# 1. Set the `PYTHONHASHSEED` environment variable at a fixed value\n",
    "import os\n",
    "os.environ['PYTHONHASHSEED']=str(0)\n",
    "\n",
    "# 2. Set the `python` built-in pseudo-random generator at a fixed value\n",
    "import random\n",
    "random.seed(1)\n",
    "\n",
    "# 3. Set the `numpy` pseudo-random generator at a fixed value\n",
    "import numpy as np\n",
    "np.random.seed(2)\n",
    "\n",
    "# 4. Set the `tensorflow` pseudo-random generator at a fixed value\n",
    "import tensorflow as tf\n",
    "tf.random.set_seed(2)"
   ]
  },
  {
   "cell_type": "code",
   "execution_count": 82,
   "id": "4cde6e3e-8db0-4353-99ba-d609a27c2311",
   "metadata": {},
   "outputs": [
    {
     "name": "stdout",
     "output_type": "stream",
     "text": [
      "Batches train=4, val=1\n"
     ]
    }
   ],
   "source": [
    "batch_size = 256\n",
    "\n",
    "datagen = ImageDataGenerator(featurewise_center=True, featurewise_std_normalization=True)\n",
    "\n",
    "# calculate mean on training dataset\n",
    "datagen.fit(X_train)\n",
    "\n",
    "# prepare iterators to scale images\n",
    "train_iterator = datagen.flow(X_train, y_train[:, target], batch_size=batch_size)\n",
    "\n",
    "val_iterator = datagen.flow(X_val, y_val[:, target], batch_size=batch_size)\n",
    "\n",
    "print('Batches train=%d, val=%d' % (len(train_iterator), len(val_iterator)))"
   ]
  },
  {
   "cell_type": "code",
   "execution_count": 83,
   "id": "19e8cc00-46e2-4946-a85c-dce083cd359c",
   "metadata": {},
   "outputs": [
    {
     "name": "stdout",
     "output_type": "stream",
     "text": [
      "Layer input_2 frozen.\n",
      "Layer block1_conv1 frozen.\n",
      "Layer block1_conv2 frozen.\n",
      "Layer block1_pool frozen.\n",
      "Layer block2_conv1 frozen.\n",
      "Layer block2_conv2 frozen.\n",
      "Layer block2_pool frozen.\n",
      "Layer block3_conv1 frozen.\n",
      "Layer block3_conv2 frozen.\n",
      "Layer block3_conv3 frozen.\n",
      "Layer block3_pool frozen.\n",
      "Layer block4_conv1 frozen.\n",
      "Layer block4_conv2 frozen.\n",
      "Layer block4_conv3 frozen.\n",
      "Layer block4_pool frozen.\n",
      "Model: \"vgg16\"\n",
      "_________________________________________________________________\n",
      "Layer (type)                 Output Shape              Param #   \n",
      "=================================================================\n",
      "input_2 (InputLayer)         [(None, 224, 273, 3)]     0         \n",
      "_________________________________________________________________\n",
      "block1_conv1 (Conv2D)        (None, 224, 273, 64)      1792      \n",
      "_________________________________________________________________\n",
      "block1_conv2 (Conv2D)        (None, 224, 273, 64)      36928     \n",
      "_________________________________________________________________\n",
      "block1_pool (MaxPooling2D)   (None, 112, 136, 64)      0         \n",
      "_________________________________________________________________\n",
      "block2_conv1 (Conv2D)        (None, 112, 136, 128)     73856     \n",
      "_________________________________________________________________\n",
      "block2_conv2 (Conv2D)        (None, 112, 136, 128)     147584    \n",
      "_________________________________________________________________\n",
      "block2_pool (MaxPooling2D)   (None, 56, 68, 128)       0         \n",
      "_________________________________________________________________\n",
      "block3_conv1 (Conv2D)        (None, 56, 68, 256)       295168    \n",
      "_________________________________________________________________\n",
      "block3_conv2 (Conv2D)        (None, 56, 68, 256)       590080    \n",
      "_________________________________________________________________\n",
      "block3_conv3 (Conv2D)        (None, 56, 68, 256)       590080    \n",
      "_________________________________________________________________\n",
      "block3_pool (MaxPooling2D)   (None, 28, 34, 256)       0         \n",
      "_________________________________________________________________\n",
      "block4_conv1 (Conv2D)        (None, 28, 34, 512)       1180160   \n",
      "_________________________________________________________________\n",
      "block4_conv2 (Conv2D)        (None, 28, 34, 512)       2359808   \n",
      "_________________________________________________________________\n",
      "block4_conv3 (Conv2D)        (None, 28, 34, 512)       2359808   \n",
      "_________________________________________________________________\n",
      "block4_pool (MaxPooling2D)   (None, 14, 17, 512)       0         \n",
      "_________________________________________________________________\n",
      "block5_conv1 (Conv2D)        (None, 14, 17, 512)       2359808   \n",
      "_________________________________________________________________\n",
      "block5_conv2 (Conv2D)        (None, 14, 17, 512)       2359808   \n",
      "_________________________________________________________________\n",
      "block5_conv3 (Conv2D)        (None, 14, 17, 512)       2359808   \n",
      "_________________________________________________________________\n",
      "block5_pool (MaxPooling2D)   (None, 7, 8, 512)         0         \n",
      "=================================================================\n",
      "Total params: 14,714,688\n",
      "Trainable params: 7,079,424\n",
      "Non-trainable params: 7,635,264\n",
      "_________________________________________________________________\n"
     ]
    }
   ],
   "source": [
    "keras.backend.clear_session()\n",
    "\n",
    "from tensorflow.keras.applications import VGG16\n",
    "\n",
    "# This converts the 1-channel X-rays to 3-channel images a required by mobilenet_v2\n",
    "input_tensor = Input(shape=(X_train.shape[1:]))\n",
    "x = Conv2D(3,(3,3),padding='same')(input_tensor)\n",
    "\n",
    "base_model = VGG16(weights='imagenet', \n",
    "                   include_top=False, \n",
    "#                    pooling='avg',\n",
    "                   input_shape=(X_train.shape[1], X_train.shape[2], 3)) \n",
    " \n",
    "for layer in base_model.layers:\n",
    "  if 'block5_' not in layer.name:\n",
    "      layer.trainable = False\n",
    "      print('Layer ' + layer.name + ' frozen.')\n",
    "base_model.summary()"
   ]
  },
  {
   "cell_type": "code",
   "execution_count": 84,
   "id": "1b06d07f-9fad-4293-ba8f-609ca76d9545",
   "metadata": {},
   "outputs": [],
   "source": [
    "dropout = 0.425\n",
    "l1_reg = 0.00001\n",
    "l2_reg = 0.0001\n",
    "\n",
    "out = base_model(x)\n",
    "new_base_model = Model(inputs=input_tensor, outputs=out)\n",
    "    \n",
    "# Establish new fully connected block\n",
    "x = new_base_model.output\n",
    "x = Flatten()(x) # flatten from convolution tensor output \n",
    "# x = Dense(units=128, activation='relu')(x)\n",
    "x = Dense(units=128, \n",
    "          activation='relu', \n",
    "          kernel_regularizer=regularizers.l1_l2(l1=l1_reg, l2=l2_reg),\n",
    "          bias_regularizer=regularizers.l1_l2(l1=l1_reg, l2=l2_reg))(x)\n",
    "x = Dropout(dropout, seed=2)(x) # adding Dropout for regularization between the Dense layers\n",
    "x = Dense(units=64,\n",
    "          activation='relu', \n",
    "          kernel_regularizer=regularizers.l1_l2(l1=l1_reg, l2=l2_reg),\n",
    "          bias_regularizer=regularizers.l1_l2(l1=l1_reg, l2=l2_reg))(x)\n",
    "x = Dropout(dropout, seed=1)(x) # adding Dropout for regularization between the Dense layers\n",
    "predictions = Dense(units=1, activation='sigmoid')(x) # 1 target labels\n",
    "\n",
    "# define formal model object to train and compile it as usual\n",
    "model = Model(inputs=new_base_model.input, outputs=predictions)"
   ]
  },
  {
   "cell_type": "code",
   "execution_count": 85,
   "id": "08cedd9d-573e-47e8-a30a-eb9b9656ce6d",
   "metadata": {},
   "outputs": [
    {
     "name": "stdout",
     "output_type": "stream",
     "text": [
      "Model: \"model_1\"\n",
      "_________________________________________________________________\n",
      "Layer (type)                 Output Shape              Param #   \n",
      "=================================================================\n",
      "input_1 (InputLayer)         [(None, 224, 273, 1)]     0         \n",
      "_________________________________________________________________\n",
      "conv2d (Conv2D)              (None, 224, 273, 3)       30        \n",
      "_________________________________________________________________\n",
      "vgg16 (Functional)           (None, 7, 8, 512)         14714688  \n",
      "_________________________________________________________________\n",
      "flatten (Flatten)            (None, 28672)             0         \n",
      "_________________________________________________________________\n",
      "dense (Dense)                (None, 128)               3670144   \n",
      "_________________________________________________________________\n",
      "dropout (Dropout)            (None, 128)               0         \n",
      "_________________________________________________________________\n",
      "dense_1 (Dense)              (None, 64)                8256      \n",
      "_________________________________________________________________\n",
      "dropout_1 (Dropout)          (None, 64)                0         \n",
      "_________________________________________________________________\n",
      "dense_2 (Dense)              (None, 1)                 65        \n",
      "=================================================================\n",
      "Total params: 18,393,183\n",
      "Trainable params: 10,757,919\n",
      "Non-trainable params: 7,635,264\n",
      "_________________________________________________________________\n"
     ]
    }
   ],
   "source": [
    "model.summary()"
   ]
  },
  {
   "cell_type": "code",
   "execution_count": 86,
   "id": "ecb64340-ace5-4edb-9ba4-f5fc53ecf082",
   "metadata": {},
   "outputs": [],
   "source": [
    "initial_learning_rate = 0.00025\n",
    "adam_opt = keras.optimizers.Adam(learning_rate=initial_learning_rate, \n",
    "                                 beta_1=0.9, \n",
    "                                 beta_2=0.999, \n",
    "                                 epsilon=1e-07, \n",
    "                                 amsgrad=False)\n",
    "\n",
    "model.compile(\n",
    "    loss='binary_crossentropy',\n",
    "    optimizer=adam_opt\n",
    ")"
   ]
  },
  {
   "cell_type": "code",
   "execution_count": 87,
   "id": "b8c45804-f7dd-4c32-9e3a-98677d410002",
   "metadata": {},
   "outputs": [
    {
     "data": {
      "text/plain": [
       "0.00025"
      ]
     },
     "execution_count": 87,
     "metadata": {},
     "output_type": "execute_result"
    }
   ],
   "source": [
    "model.optimizer.get_config()['learning_rate']"
   ]
  },
  {
   "cell_type": "code",
   "execution_count": 88,
   "id": "0a2226f8-8086-4da2-9b43-ab2c2a55902d",
   "metadata": {},
   "outputs": [
    {
     "name": "stdout",
     "output_type": "stream",
     "text": [
      "Epoch 1/100\n",
      "Learning Rate: 0.00025\n",
      "4/4 [==============================] - 646s 171s/step - loss: 1.0143 - val_loss: 0.9512\n",
      "\n",
      "val-roc-auc: 0.5467                                                                                                    \n",
      "\n",
      "Epoch 2/100\n",
      "Learning Rate: 0.0002500000118743628\n",
      "4/4 [==============================] - 650s 172s/step - loss: 0.9537 - val_loss: 0.9207\n",
      "\n",
      "val-roc-auc: 0.6078                                                                                                    \n",
      "\n",
      "Epoch 3/100\n",
      "Learning Rate: 0.0002500000118743628\n",
      "4/4 [==============================] - 629s 159s/step - loss: 0.9172 - val_loss: 0.8739\n",
      "\n",
      "val-roc-auc: 0.6672                                                                                                    \n",
      "\n",
      "Epoch 4/100\n",
      "Learning Rate: 0.0002500000118743628\n",
      "4/4 [==============================] - 670s 171s/step - loss: 0.8736 - val_loss: 0.8426\n",
      "\n",
      "val-roc-auc: 0.7146                                                                                                    \n",
      "\n",
      "Epoch 5/100\n",
      "Learning Rate: 0.0002500000118743628\n",
      "4/4 [==============================] - 651s 173s/step - loss: 0.8323 - val_loss: 0.8235\n",
      "\n",
      "val-roc-auc: 0.7194                                                                                                    \n",
      "\n",
      "Epoch 6/100\n",
      "Learning Rate: 0.0002500000118743628\n",
      "4/4 [==============================] - 579s 151s/step - loss: 0.8011 - val_loss: 0.8179\n",
      "\n",
      "val-roc-auc: 0.7221                                                                                                    \n",
      "\n",
      "Epoch 7/100\n",
      "Learning Rate: 0.0002500000118743628\n",
      "4/4 [==============================] - 537s 142s/step - loss: 0.8002 - val_loss: 0.7755\n",
      "\n",
      "val-roc-auc: 0.7444                                                                                                    \n",
      "\n",
      "Epoch 8/100\n",
      "Learning Rate: 0.0002500000118743628\n",
      "4/4 [==============================] - 602s 148s/step - loss: 0.7724 - val_loss: 0.7564\n",
      "\n",
      "val-roc-auc: 0.738                                                                                                    \n",
      "\n",
      "Epoch 9/100\n",
      "Learning Rate: 0.0002500000118743628\n",
      "4/4 [==============================] - 653s 166s/step - loss: 0.7309 - val_loss: 0.7378\n",
      "\n",
      "val-roc-auc: 0.7409                                                                                                    \n",
      "\n",
      "Epoch 10/100\n",
      "Learning Rate: 0.0001250000059371814\n",
      "4/4 [==============================] - 638s 157s/step - loss: 0.6969 - val_loss: 0.7293\n",
      "\n",
      "val-roc-auc: 0.7445                                                                                                    \n",
      "\n",
      "Epoch 11/100\n",
      "Learning Rate: 0.0001250000059371814\n",
      "4/4 [==============================] - 655s 160s/step - loss: 0.6848 - val_loss: 0.7120\n",
      "\n",
      "val-roc-auc: 0.7499                                                                                                    \n",
      "\n",
      "Epoch 12/100\n",
      "Learning Rate: 0.0001250000059371814\n",
      "4/4 [==============================] - 666s 166s/step - loss: 0.6616 - val_loss: 0.6985\n",
      "\n",
      "val-roc-auc: 0.7582                                                                                                    \n",
      "\n",
      "Epoch 13/100\n",
      "Learning Rate: 0.0001250000059371814\n",
      "4/4 [==============================] - 628s 157s/step - loss: 0.6407 - val_loss: 0.7028\n",
      "\n",
      "val-roc-auc: 0.7584                                                                                                    \n",
      "\n",
      "Epoch 14/100\n",
      "Learning Rate: 0.0001250000059371814\n",
      "4/4 [==============================] - 635s 160s/step - loss: 0.6185 - val_loss: 0.6936\n",
      "\n",
      "val-roc-auc: 0.751                                                                                                    \n",
      "\n",
      "Epoch 15/100\n",
      "Learning Rate: 6.25000029685907e-05\n",
      "4/4 [==============================] - 635s 159s/step - loss: 0.6109 - val_loss: 0.6852\n",
      "\n",
      "val-roc-auc: 0.7654                                                                                                    \n",
      "\n",
      "Epoch 16/100\n",
      "Learning Rate: 6.25000029685907e-05\n",
      "4/4 [==============================] - 641s 163s/step - loss: 0.5698 - val_loss: 0.7110\n",
      "\n",
      "val-roc-auc: 0.7549                                                                                                    \n",
      "\n",
      "Epoch 17/100\n",
      "Learning Rate: 6.25000029685907e-05\n",
      "4/4 [==============================] - 617s 165s/step - loss: 0.5693 - val_loss: 0.6944\n",
      "\n",
      "val-roc-auc: 0.7573                                                                                                    \n",
      "\n",
      "Epoch 18/100\n",
      "Learning Rate: 3.1200001103570685e-05\n",
      "4/4 [==============================] - 629s 159s/step - loss: 0.5612 - val_loss: 0.6812\n",
      "\n",
      "val-roc-auc: 0.7536                                                                                                    \n",
      "\n",
      "Epoch 19/100\n",
      "Learning Rate: 3.1200001103570685e-05\n"
     ]
    },
    {
     "ename": "KeyboardInterrupt",
     "evalue": "",
     "output_type": "error",
     "traceback": [
      "\u001b[0;31m---------------------------------------------------------------------------\u001b[0m",
      "\u001b[0;31mKeyboardInterrupt\u001b[0m                         Traceback (most recent call last)",
      "\u001b[0;32m/var/folders/16/my2sdbrn4hvfl3_91fx0wj9c0000gn/T/ipykernel_50063/2648728863.py\u001b[0m in \u001b[0;36m<module>\u001b[0;34m\u001b[0m\n\u001b[1;32m     20\u001b[0m \u001b[0mearly_stopping\u001b[0m \u001b[0;34m=\u001b[0m \u001b[0mEarlyStopping\u001b[0m\u001b[0;34m(\u001b[0m\u001b[0mmonitor\u001b[0m\u001b[0;34m=\u001b[0m\u001b[0;34m'auc'\u001b[0m\u001b[0;34m,\u001b[0m \u001b[0mmode\u001b[0m\u001b[0;34m=\u001b[0m\u001b[0;34m'max'\u001b[0m\u001b[0;34m,\u001b[0m \u001b[0mpatience\u001b[0m\u001b[0;34m=\u001b[0m\u001b[0;36m10\u001b[0m\u001b[0;34m,\u001b[0m \u001b[0mrestore_best_weights\u001b[0m\u001b[0;34m=\u001b[0m\u001b[0;32mTrue\u001b[0m\u001b[0;34m)\u001b[0m\u001b[0;34m\u001b[0m\u001b[0;34m\u001b[0m\u001b[0m\n\u001b[1;32m     21\u001b[0m \u001b[0;34m\u001b[0m\u001b[0m\n\u001b[0;32m---> 22\u001b[0;31m history = model.fit(train_iterator, steps_per_epoch=len(train_iterator), epochs=100, verbose=1, validation_data=val_iterator, \n\u001b[0m\u001b[1;32m     23\u001b[0m                  callbacks=[\n\u001b[1;32m     24\u001b[0m                      \u001b[0mauc\u001b[0m\u001b[0;34m,\u001b[0m\u001b[0;34m\u001b[0m\u001b[0;34m\u001b[0m\u001b[0m\n",
      "\u001b[0;32m~/opt/anaconda3/envs/metis/lib/python3.8/site-packages/tensorflow/python/keras/engine/training.py\u001b[0m in \u001b[0;36mfit\u001b[0;34m(self, x, y, batch_size, epochs, verbose, callbacks, validation_split, validation_data, shuffle, class_weight, sample_weight, initial_epoch, steps_per_epoch, validation_steps, validation_batch_size, validation_freq, max_queue_size, workers, use_multiprocessing)\u001b[0m\n\u001b[1;32m   1181\u001b[0m                 _r=1):\n\u001b[1;32m   1182\u001b[0m               \u001b[0mcallbacks\u001b[0m\u001b[0;34m.\u001b[0m\u001b[0mon_train_batch_begin\u001b[0m\u001b[0;34m(\u001b[0m\u001b[0mstep\u001b[0m\u001b[0;34m)\u001b[0m\u001b[0;34m\u001b[0m\u001b[0;34m\u001b[0m\u001b[0m\n\u001b[0;32m-> 1183\u001b[0;31m               \u001b[0mtmp_logs\u001b[0m \u001b[0;34m=\u001b[0m \u001b[0mself\u001b[0m\u001b[0;34m.\u001b[0m\u001b[0mtrain_function\u001b[0m\u001b[0;34m(\u001b[0m\u001b[0miterator\u001b[0m\u001b[0;34m)\u001b[0m\u001b[0;34m\u001b[0m\u001b[0;34m\u001b[0m\u001b[0m\n\u001b[0m\u001b[1;32m   1184\u001b[0m               \u001b[0;32mif\u001b[0m \u001b[0mdata_handler\u001b[0m\u001b[0;34m.\u001b[0m\u001b[0mshould_sync\u001b[0m\u001b[0;34m:\u001b[0m\u001b[0;34m\u001b[0m\u001b[0;34m\u001b[0m\u001b[0m\n\u001b[1;32m   1185\u001b[0m                 \u001b[0mcontext\u001b[0m\u001b[0;34m.\u001b[0m\u001b[0masync_wait\u001b[0m\u001b[0;34m(\u001b[0m\u001b[0;34m)\u001b[0m\u001b[0;34m\u001b[0m\u001b[0;34m\u001b[0m\u001b[0m\n",
      "\u001b[0;32m~/opt/anaconda3/envs/metis/lib/python3.8/site-packages/tensorflow/python/eager/def_function.py\u001b[0m in \u001b[0;36m__call__\u001b[0;34m(self, *args, **kwds)\u001b[0m\n\u001b[1;32m    887\u001b[0m \u001b[0;34m\u001b[0m\u001b[0m\n\u001b[1;32m    888\u001b[0m       \u001b[0;32mwith\u001b[0m \u001b[0mOptionalXlaContext\u001b[0m\u001b[0;34m(\u001b[0m\u001b[0mself\u001b[0m\u001b[0;34m.\u001b[0m\u001b[0m_jit_compile\u001b[0m\u001b[0;34m)\u001b[0m\u001b[0;34m:\u001b[0m\u001b[0;34m\u001b[0m\u001b[0;34m\u001b[0m\u001b[0m\n\u001b[0;32m--> 889\u001b[0;31m         \u001b[0mresult\u001b[0m \u001b[0;34m=\u001b[0m \u001b[0mself\u001b[0m\u001b[0;34m.\u001b[0m\u001b[0m_call\u001b[0m\u001b[0;34m(\u001b[0m\u001b[0;34m*\u001b[0m\u001b[0margs\u001b[0m\u001b[0;34m,\u001b[0m \u001b[0;34m**\u001b[0m\u001b[0mkwds\u001b[0m\u001b[0;34m)\u001b[0m\u001b[0;34m\u001b[0m\u001b[0;34m\u001b[0m\u001b[0m\n\u001b[0m\u001b[1;32m    890\u001b[0m \u001b[0;34m\u001b[0m\u001b[0m\n\u001b[1;32m    891\u001b[0m       \u001b[0mnew_tracing_count\u001b[0m \u001b[0;34m=\u001b[0m \u001b[0mself\u001b[0m\u001b[0;34m.\u001b[0m\u001b[0mexperimental_get_tracing_count\u001b[0m\u001b[0;34m(\u001b[0m\u001b[0;34m)\u001b[0m\u001b[0;34m\u001b[0m\u001b[0;34m\u001b[0m\u001b[0m\n",
      "\u001b[0;32m~/opt/anaconda3/envs/metis/lib/python3.8/site-packages/tensorflow/python/eager/def_function.py\u001b[0m in \u001b[0;36m_call\u001b[0;34m(self, *args, **kwds)\u001b[0m\n\u001b[1;32m    915\u001b[0m       \u001b[0;31m# In this case we have created variables on the first call, so we run the\u001b[0m\u001b[0;34m\u001b[0m\u001b[0;34m\u001b[0m\u001b[0;34m\u001b[0m\u001b[0m\n\u001b[1;32m    916\u001b[0m       \u001b[0;31m# defunned version which is guaranteed to never create variables.\u001b[0m\u001b[0;34m\u001b[0m\u001b[0;34m\u001b[0m\u001b[0;34m\u001b[0m\u001b[0m\n\u001b[0;32m--> 917\u001b[0;31m       \u001b[0;32mreturn\u001b[0m \u001b[0mself\u001b[0m\u001b[0;34m.\u001b[0m\u001b[0m_stateless_fn\u001b[0m\u001b[0;34m(\u001b[0m\u001b[0;34m*\u001b[0m\u001b[0margs\u001b[0m\u001b[0;34m,\u001b[0m \u001b[0;34m**\u001b[0m\u001b[0mkwds\u001b[0m\u001b[0;34m)\u001b[0m  \u001b[0;31m# pylint: disable=not-callable\u001b[0m\u001b[0;34m\u001b[0m\u001b[0;34m\u001b[0m\u001b[0m\n\u001b[0m\u001b[1;32m    918\u001b[0m     \u001b[0;32melif\u001b[0m \u001b[0mself\u001b[0m\u001b[0;34m.\u001b[0m\u001b[0m_stateful_fn\u001b[0m \u001b[0;32mis\u001b[0m \u001b[0;32mnot\u001b[0m \u001b[0;32mNone\u001b[0m\u001b[0;34m:\u001b[0m\u001b[0;34m\u001b[0m\u001b[0;34m\u001b[0m\u001b[0m\n\u001b[1;32m    919\u001b[0m       \u001b[0;31m# Release the lock early so that multiple threads can perform the call\u001b[0m\u001b[0;34m\u001b[0m\u001b[0;34m\u001b[0m\u001b[0;34m\u001b[0m\u001b[0m\n",
      "\u001b[0;32m~/opt/anaconda3/envs/metis/lib/python3.8/site-packages/tensorflow/python/eager/function.py\u001b[0m in \u001b[0;36m__call__\u001b[0;34m(self, *args, **kwargs)\u001b[0m\n\u001b[1;32m   3021\u001b[0m       (graph_function,\n\u001b[1;32m   3022\u001b[0m        filtered_flat_args) = self._maybe_define_function(args, kwargs)\n\u001b[0;32m-> 3023\u001b[0;31m     return graph_function._call_flat(\n\u001b[0m\u001b[1;32m   3024\u001b[0m         filtered_flat_args, captured_inputs=graph_function.captured_inputs)  # pylint: disable=protected-access\n\u001b[1;32m   3025\u001b[0m \u001b[0;34m\u001b[0m\u001b[0m\n",
      "\u001b[0;32m~/opt/anaconda3/envs/metis/lib/python3.8/site-packages/tensorflow/python/eager/function.py\u001b[0m in \u001b[0;36m_call_flat\u001b[0;34m(self, args, captured_inputs, cancellation_manager)\u001b[0m\n\u001b[1;32m   1958\u001b[0m         and executing_eagerly):\n\u001b[1;32m   1959\u001b[0m       \u001b[0;31m# No tape is watching; skip to running the function.\u001b[0m\u001b[0;34m\u001b[0m\u001b[0;34m\u001b[0m\u001b[0;34m\u001b[0m\u001b[0m\n\u001b[0;32m-> 1960\u001b[0;31m       return self._build_call_outputs(self._inference_function.call(\n\u001b[0m\u001b[1;32m   1961\u001b[0m           ctx, args, cancellation_manager=cancellation_manager))\n\u001b[1;32m   1962\u001b[0m     forward_backward = self._select_forward_and_backward_functions(\n",
      "\u001b[0;32m~/opt/anaconda3/envs/metis/lib/python3.8/site-packages/tensorflow/python/eager/function.py\u001b[0m in \u001b[0;36mcall\u001b[0;34m(self, ctx, args, cancellation_manager)\u001b[0m\n\u001b[1;32m    589\u001b[0m       \u001b[0;32mwith\u001b[0m \u001b[0m_InterpolateFunctionError\u001b[0m\u001b[0;34m(\u001b[0m\u001b[0mself\u001b[0m\u001b[0;34m)\u001b[0m\u001b[0;34m:\u001b[0m\u001b[0;34m\u001b[0m\u001b[0;34m\u001b[0m\u001b[0m\n\u001b[1;32m    590\u001b[0m         \u001b[0;32mif\u001b[0m \u001b[0mcancellation_manager\u001b[0m \u001b[0;32mis\u001b[0m \u001b[0;32mNone\u001b[0m\u001b[0;34m:\u001b[0m\u001b[0;34m\u001b[0m\u001b[0;34m\u001b[0m\u001b[0m\n\u001b[0;32m--> 591\u001b[0;31m           outputs = execute.execute(\n\u001b[0m\u001b[1;32m    592\u001b[0m               \u001b[0mstr\u001b[0m\u001b[0;34m(\u001b[0m\u001b[0mself\u001b[0m\u001b[0;34m.\u001b[0m\u001b[0msignature\u001b[0m\u001b[0;34m.\u001b[0m\u001b[0mname\u001b[0m\u001b[0;34m)\u001b[0m\u001b[0;34m,\u001b[0m\u001b[0;34m\u001b[0m\u001b[0;34m\u001b[0m\u001b[0m\n\u001b[1;32m    593\u001b[0m               \u001b[0mnum_outputs\u001b[0m\u001b[0;34m=\u001b[0m\u001b[0mself\u001b[0m\u001b[0;34m.\u001b[0m\u001b[0m_num_outputs\u001b[0m\u001b[0;34m,\u001b[0m\u001b[0;34m\u001b[0m\u001b[0;34m\u001b[0m\u001b[0m\n",
      "\u001b[0;32m~/opt/anaconda3/envs/metis/lib/python3.8/site-packages/tensorflow/python/eager/execute.py\u001b[0m in \u001b[0;36mquick_execute\u001b[0;34m(op_name, num_outputs, inputs, attrs, ctx, name)\u001b[0m\n\u001b[1;32m     57\u001b[0m   \u001b[0;32mtry\u001b[0m\u001b[0;34m:\u001b[0m\u001b[0;34m\u001b[0m\u001b[0;34m\u001b[0m\u001b[0m\n\u001b[1;32m     58\u001b[0m     \u001b[0mctx\u001b[0m\u001b[0;34m.\u001b[0m\u001b[0mensure_initialized\u001b[0m\u001b[0;34m(\u001b[0m\u001b[0;34m)\u001b[0m\u001b[0;34m\u001b[0m\u001b[0;34m\u001b[0m\u001b[0m\n\u001b[0;32m---> 59\u001b[0;31m     tensors = pywrap_tfe.TFE_Py_Execute(ctx._handle, device_name, op_name,\n\u001b[0m\u001b[1;32m     60\u001b[0m                                         inputs, attrs, num_outputs)\n\u001b[1;32m     61\u001b[0m   \u001b[0;32mexcept\u001b[0m \u001b[0mcore\u001b[0m\u001b[0;34m.\u001b[0m\u001b[0m_NotOkStatusException\u001b[0m \u001b[0;32mas\u001b[0m \u001b[0me\u001b[0m\u001b[0;34m:\u001b[0m\u001b[0;34m\u001b[0m\u001b[0;34m\u001b[0m\u001b[0m\n",
      "\u001b[0;31mKeyboardInterrupt\u001b[0m: "
     ]
    }
   ],
   "source": [
    "# Exponential decay learning rate scheduler comes from: \n",
    "#      https://towardsdatascience.com/learning-rate-schedule-in-practice-an-example-with-keras-and-tensorflow-2-0-2f48b2888a0c\n",
    "def lr_exp_decay(epoch, lr):\n",
    "    print('Previous lr: {}'.format(lr))\n",
    "    k = 0\n",
    "    return lr * np.exp(-k*epoch)\n",
    "\n",
    "# This AUC will be calculated at the end of each epoch on the validation set and be used for early stopping\n",
    "auc = ROAUCMetrics(val_data=(X_val, y_val[:, target]))\n",
    "\n",
    "eval_callback = LambdaCallback(on_epoch_end=lambda epoch, logs: logs.update({'auc': auc.val_aucs[-1]})) \n",
    "\n",
    "# reduce_lr = ReduceLROnPlateau(monitor='val_loss', factor=0.5, patience=5, mode='min', min_delta=0.0001, min_lr=5e-6)\n",
    "reduce_lr = ReduceLROnPlateau(monitor='auc', factor=0.5, patience=2, mode='max', min_delta=0.002, min_lr=1e-6)\n",
    "\n",
    "lr_callback = LambdaCallback(on_epoch_begin=lambda epoch, logs: print('Learning Rate: {}'.format(round(model.optimizer.get_config()['learning_rate'], 7))))\n",
    "\n",
    "# scheduler = LearningRateScheduler(lr_exp_decay, verbose=1)\n",
    "\n",
    "early_stopping = EarlyStopping(monitor='auc', mode='max', patience=10, restore_best_weights=True)\n",
    "\n",
    "history = model.fit(train_iterator, steps_per_epoch=len(train_iterator), epochs=100, verbose=1, validation_data=val_iterator, \n",
    "                 callbacks=[\n",
    "                     auc,\n",
    "                     eval_callback,\n",
    "                     reduce_lr,\n",
    "                     lr_callback,\n",
    "                     early_stopping,\n",
    "#                      scheduler,\n",
    "                     keras.callbacks.ModelCheckpoint(\n",
    "                         'models_baby3/model_6.{epoch:02d}-{auc:.4f}.hdf5',\n",
    "                         save_best_only=False)\n",
    "                 ])"
   ]
  },
  {
   "cell_type": "code",
   "execution_count": 49,
   "id": "4645d1d8-0c91-4aec-bc64-e3a2c972ca61",
   "metadata": {},
   "outputs": [
    {
     "data": {
      "image/png": "[encoded data removed]",
      "text/plain": [
       "<Figure size 432x288 with 1 Axes>"
      ]
     },
     "metadata": {},
     "output_type": "display_data"
    }
   ],
   "source": [
    "plt.plot(history.history['loss'])\n",
    "plt.plot(history.history['val_loss'])\n",
    "\n",
    "plt.title('Loss vs. Training Epoch')\n",
    "plt.xlabel('Epoch')\n",
    "plt.ylabel('Loss')\n",
    "plt.legend(['Train','Validation']);"
   ]
  },
  {
   "cell_type": "code",
   "execution_count": 89,
   "id": "4414462f-8a53-404b-9e95-a0c7369d14c8",
   "metadata": {},
   "outputs": [],
   "source": [
    "y_pred_val = model.predict(X_val)\n",
    "y_pred_train = model.predict(X_train)"
   ]
  },
  {
   "cell_type": "code",
   "execution_count": 90,
   "id": "e54be97b-5069-4997-bec5-75107e674e26",
   "metadata": {},
   "outputs": [
    {
     "data": {
      "text/plain": [
       "3"
      ]
     },
     "execution_count": 90,
     "metadata": {},
     "output_type": "execute_result"
    }
   ],
   "source": [
    "target"
   ]
  },
  {
   "cell_type": "code",
   "execution_count": 91,
   "id": "59ceafe8-3cbe-4aa4-846e-4a7cf5280389",
   "metadata": {},
   "outputs": [
    {
     "name": "stdout",
     "output_type": "stream",
     "text": [
      "PRIMARY TARGET (3):\n",
      "Validation AUC: 0.7524\n",
      "Training AUC: 0.8486\n"
     ]
    }
   ],
   "source": [
    "# dropout = 0.425\n",
    "# l1_reg = 0.00001\n",
    "# l2_reg = 0.0001\n",
    "\n",
    "print('PRIMARY TARGET ({}):'.format(target))\n",
    "print('Validation AUC: {}'.format(round(roc_auc_score(y_val[:,target], y_pred_val), 4)))\n",
    "print('Training AUC: {}'.format(round(roc_auc_score(y_train[:,target], y_pred_train), 4)))"
   ]
  },
  {
   "cell_type": "code",
   "execution_count": null,
   "id": "bcc4e8c1-10ab-4d40-92d9-ab5329c0d819",
   "metadata": {},
   "outputs": [],
   "source": []
  },
  {
   "cell_type": "code",
   "execution_count": 78,
   "id": "8c3a5592-e4af-4108-869c-91546255af9d",
   "metadata": {},
   "outputs": [
    {
     "name": "stdout",
     "output_type": "stream",
     "text": [
      "PRIMARY TARGET (3):\n",
      "Validation AUC: 0.7553\n",
      "Training AUC: 0.8675\n"
     ]
    }
   ],
   "source": [
    "# dropout = 0.4\n",
    "# l1_reg = 0.000005\n",
    "# l2_reg = 0.00005\n",
    "\n",
    "print('PRIMARY TARGET ({}):'.format(target))\n",
    "print('Validation AUC: {}'.format(round(roc_auc_score(y_val[:,target], y_pred_val), 4)))\n",
    "print('Training AUC: {}'.format(round(roc_auc_score(y_train[:,target], y_pred_train), 4)))"
   ]
  },
  {
   "cell_type": "code",
   "execution_count": null,
   "id": "56e75e05-a83c-4fca-be93-aac1ac595572",
   "metadata": {},
   "outputs": [],
   "source": []
  },
  {
   "cell_type": "code",
   "execution_count": 65,
   "id": "1293dada-71e3-4926-9c0e-f3cb503ff190",
   "metadata": {},
   "outputs": [
    {
     "name": "stdout",
     "output_type": "stream",
     "text": [
      "PRIMARY TARGET (3):\n",
      "Validation AUC: 0.7396\n",
      "Training AUC: 0.8482\n"
     ]
    }
   ],
   "source": [
    "# dropout = 0.4\n",
    "# l1_reg = 0.00005\n",
    "# l2_reg = 0.0005\n",
    "\n",
    "print('PRIMARY TARGET ({}):'.format(target))\n",
    "print('Validation AUC: {}'.format(round(roc_auc_score(y_val[:,target], y_pred_val), 4)))\n",
    "print('Training AUC: {}'.format(round(roc_auc_score(y_train[:,target], y_pred_train), 4)))"
   ]
  },
  {
   "cell_type": "markdown",
   "id": "9b9646c9-82ff-40d8-8a50-1903d46e2230",
   "metadata": {},
   "source": [
    "# ************ THIS ONE! ************"
   ]
  },
  {
   "cell_type": "code",
   "execution_count": 52,
   "id": "82505259-9ac3-4d45-9255-1d9283317168",
   "metadata": {},
   "outputs": [
    {
     "name": "stdout",
     "output_type": "stream",
     "text": [
      "PRIMARY TARGET (3):\n",
      "Validation AUC: 0.7715\n",
      "Training AUC: 0.8066\n"
     ]
    }
   ],
   "source": [
    "# dropout = 0.4\n",
    "# l1_reg = 0.00001\n",
    "# l2_reg = 0.0001\n",
    "\n",
    "print('PRIMARY TARGET ({}):'.format(target))\n",
    "print('Validation AUC: {}'.format(round(roc_auc_score(y_val[:,target], y_pred_val), 4)))\n",
    "print('Training AUC: {}'.format(round(roc_auc_score(y_train[:,target], y_pred_train), 4)))"
   ]
  },
  {
   "cell_type": "code",
   "execution_count": null,
   "id": "5f39210f-e2da-4727-8402-2006961efa91",
   "metadata": {},
   "outputs": [],
   "source": []
  },
  {
   "cell_type": "code",
   "execution_count": 38,
   "id": "b40a58ab-cd35-4eea-bc32-65d6b4d03013",
   "metadata": {},
   "outputs": [
    {
     "name": "stdout",
     "output_type": "stream",
     "text": [
      "PRIMARY TARGET (3):\n",
      "Validation AUC: 0.7676\n",
      "Training AUC: 0.8558\n"
     ]
    }
   ],
   "source": [
    "# dropout = 0.3\n",
    "# l1_reg = 0.00001\n",
    "# l2_reg = 0.0001\n",
    "\n",
    "print('PRIMARY TARGET ({}):'.format(target))\n",
    "print('Validation AUC: {}'.format(round(roc_auc_score(y_val[:,target], y_pred_val), 4)))\n",
    "print('Training AUC: {}'.format(round(roc_auc_score(y_train[:,target], y_pred_train), 4)))"
   ]
  },
  {
   "cell_type": "code",
   "execution_count": null,
   "id": "7a98c341-cacf-4884-acfd-9b85a9420a06",
   "metadata": {},
   "outputs": [],
   "source": []
  }
 ],
 "metadata": {
  "kernelspec": {
   "display_name": "Python [conda env:metis] *",
   "language": "python",
   "name": "conda-env-metis-py"
  },
  "language_info": {
   "codemirror_mode": {
    "name": "ipython",
    "version": 3
   },
   "file_extension": ".py",
   "mimetype": "text/x-python",
   "name": "python",
   "nbconvert_exporter": "python",
   "pygments_lexer": "ipython3",
   "version": "3.8.10"
  }
 },
 "nbformat": 4,
 "nbformat_minor": 5
}

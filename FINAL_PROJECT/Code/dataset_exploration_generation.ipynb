{
 "cells": [
  {
   "cell_type": "code",
   "execution_count": 1,
   "id": "3406128e-c439-4c2e-9cac-b44303dc40b9",
   "metadata": {},
   "outputs": [],
   "source": [
    "import pandas as pd\n",
    "import seaborn as sns\n",
    "import sklearn\n",
    "from tensorflow import keras"
   ]
  },
  {
   "cell_type": "code",
   "execution_count": 2,
   "id": "33501cc1-68bf-461f-929a-5660d7c00350",
   "metadata": {},
   "outputs": [],
   "source": [
    "from tensorflow.keras.preprocessing import image"
   ]
  },
  {
   "cell_type": "code",
   "execution_count": 3,
   "id": "309d7af9-5f61-4251-8473-4375c006996a",
   "metadata": {},
   "outputs": [],
   "source": [
    "from sklearn.model_selection import train_test_split"
   ]
  },
  {
   "cell_type": "code",
   "execution_count": 4,
   "id": "649193b6-070a-4d08-b66c-69db7a793e87",
   "metadata": {},
   "outputs": [],
   "source": [
    "import numpy as np\n",
    "np.set_printoptions(suppress=True) # Suppress scientific notation where possible"
   ]
  },
  {
   "cell_type": "code",
   "execution_count": 5,
   "id": "51a6fd63-b96b-44f1-a014-0ee41ffe8427",
   "metadata": {},
   "outputs": [],
   "source": [
    "# Make some room to see stuff (i.e. drop display limits on Pandas rows & cols - be careful w/ big df's!)\n",
    "\n",
    "pd.set_option('display.max_rows', 200)\n",
    "pd.set_option('display.max_columns', None)"
   ]
  },
  {
   "cell_type": "markdown",
   "id": "563bb2ae-2a20-4d9e-900b-996e697601cb",
   "metadata": {},
   "source": [
    "# Import the metadata\n",
    "### Decoder Ring for Labels: 1='positive', 0='negative', -1='uncertain' and NaN='no mention of condition in radiology report'"
   ]
  },
  {
   "cell_type": "code",
   "execution_count": 6,
   "id": "0ac9d9f8-84fd-4ee8-a5d0-3028436b229c",
   "metadata": {},
   "outputs": [
    {
     "name": "stdout",
     "output_type": "stream",
     "text": [
      "(223414, 19)\n",
      "(223648, 19)\n"
     ]
    },
    {
     "data": {
      "text/html": [
       "<div>\n",
       "<style scoped>\n",
       "    .dataframe tbody tr th:only-of-type {\n",
       "        vertical-align: middle;\n",
       "    }\n",
       "\n",
       "    .dataframe tbody tr th {\n",
       "        vertical-align: top;\n",
       "    }\n",
       "\n",
       "    .dataframe thead th {\n",
       "        text-align: right;\n",
       "    }\n",
       "</style>\n",
       "<table border=\"1\" class=\"dataframe\">\n",
       "  <thead>\n",
       "    <tr style=\"text-align: right;\">\n",
       "      <th></th>\n",
       "      <th>Path</th>\n",
       "      <th>Sex</th>\n",
       "      <th>Age</th>\n",
       "      <th>Frontal/Lateral</th>\n",
       "      <th>AP/PA</th>\n",
       "      <th>No Finding</th>\n",
       "      <th>Enlarged Cardiomediastinum</th>\n",
       "      <th>Cardiomegaly</th>\n",
       "      <th>Lung Opacity</th>\n",
       "      <th>Lung Lesion</th>\n",
       "      <th>Edema</th>\n",
       "      <th>Consolidation</th>\n",
       "      <th>Pneumonia</th>\n",
       "      <th>Atelectasis</th>\n",
       "      <th>Pneumothorax</th>\n",
       "      <th>Pleural Effusion</th>\n",
       "      <th>Pleural Other</th>\n",
       "      <th>Fracture</th>\n",
       "      <th>Support Devices</th>\n",
       "    </tr>\n",
       "  </thead>\n",
       "  <tbody>\n",
       "    <tr>\n",
       "      <th>0</th>\n",
       "      <td>CheXpert-v1.0-small/train/patient00001/study1/...</td>\n",
       "      <td>Female</td>\n",
       "      <td>68</td>\n",
       "      <td>Frontal</td>\n",
       "      <td>AP</td>\n",
       "      <td>1.0</td>\n",
       "      <td>NaN</td>\n",
       "      <td>NaN</td>\n",
       "      <td>NaN</td>\n",
       "      <td>NaN</td>\n",
       "      <td>NaN</td>\n",
       "      <td>NaN</td>\n",
       "      <td>NaN</td>\n",
       "      <td>NaN</td>\n",
       "      <td>0.0</td>\n",
       "      <td>NaN</td>\n",
       "      <td>NaN</td>\n",
       "      <td>NaN</td>\n",
       "      <td>1.0</td>\n",
       "    </tr>\n",
       "    <tr>\n",
       "      <th>1</th>\n",
       "      <td>CheXpert-v1.0-small/train/patient00002/study2/...</td>\n",
       "      <td>Female</td>\n",
       "      <td>87</td>\n",
       "      <td>Frontal</td>\n",
       "      <td>AP</td>\n",
       "      <td>NaN</td>\n",
       "      <td>NaN</td>\n",
       "      <td>-1.0</td>\n",
       "      <td>1.0</td>\n",
       "      <td>NaN</td>\n",
       "      <td>-1.0</td>\n",
       "      <td>-1.0</td>\n",
       "      <td>NaN</td>\n",
       "      <td>-1.0</td>\n",
       "      <td>NaN</td>\n",
       "      <td>-1.0</td>\n",
       "      <td>NaN</td>\n",
       "      <td>1.0</td>\n",
       "      <td>NaN</td>\n",
       "    </tr>\n",
       "    <tr>\n",
       "      <th>2</th>\n",
       "      <td>CheXpert-v1.0-small/train/patient00002/study1/...</td>\n",
       "      <td>Female</td>\n",
       "      <td>83</td>\n",
       "      <td>Frontal</td>\n",
       "      <td>AP</td>\n",
       "      <td>NaN</td>\n",
       "      <td>NaN</td>\n",
       "      <td>NaN</td>\n",
       "      <td>1.0</td>\n",
       "      <td>NaN</td>\n",
       "      <td>NaN</td>\n",
       "      <td>-1.0</td>\n",
       "      <td>NaN</td>\n",
       "      <td>NaN</td>\n",
       "      <td>NaN</td>\n",
       "      <td>NaN</td>\n",
       "      <td>NaN</td>\n",
       "      <td>1.0</td>\n",
       "      <td>NaN</td>\n",
       "    </tr>\n",
       "    <tr>\n",
       "      <th>3</th>\n",
       "      <td>CheXpert-v1.0-small/train/patient00002/study1/...</td>\n",
       "      <td>Female</td>\n",
       "      <td>83</td>\n",
       "      <td>Lateral</td>\n",
       "      <td>NaN</td>\n",
       "      <td>NaN</td>\n",
       "      <td>NaN</td>\n",
       "      <td>NaN</td>\n",
       "      <td>1.0</td>\n",
       "      <td>NaN</td>\n",
       "      <td>NaN</td>\n",
       "      <td>-1.0</td>\n",
       "      <td>NaN</td>\n",
       "      <td>NaN</td>\n",
       "      <td>NaN</td>\n",
       "      <td>NaN</td>\n",
       "      <td>NaN</td>\n",
       "      <td>1.0</td>\n",
       "      <td>NaN</td>\n",
       "    </tr>\n",
       "    <tr>\n",
       "      <th>4</th>\n",
       "      <td>CheXpert-v1.0-small/train/patient00003/study1/...</td>\n",
       "      <td>Male</td>\n",
       "      <td>41</td>\n",
       "      <td>Frontal</td>\n",
       "      <td>AP</td>\n",
       "      <td>NaN</td>\n",
       "      <td>NaN</td>\n",
       "      <td>NaN</td>\n",
       "      <td>NaN</td>\n",
       "      <td>NaN</td>\n",
       "      <td>1.0</td>\n",
       "      <td>NaN</td>\n",
       "      <td>NaN</td>\n",
       "      <td>NaN</td>\n",
       "      <td>0.0</td>\n",
       "      <td>NaN</td>\n",
       "      <td>NaN</td>\n",
       "      <td>NaN</td>\n",
       "      <td>NaN</td>\n",
       "    </tr>\n",
       "  </tbody>\n",
       "</table>\n",
       "</div>"
      ],
      "text/plain": [
       "                                                Path     Sex  Age  \\\n",
       "0  CheXpert-v1.0-small/train/patient00001/study1/...  Female   68   \n",
       "1  CheXpert-v1.0-small/train/patient00002/study2/...  Female   87   \n",
       "2  CheXpert-v1.0-small/train/patient00002/study1/...  Female   83   \n",
       "3  CheXpert-v1.0-small/train/patient00002/study1/...  Female   83   \n",
       "4  CheXpert-v1.0-small/train/patient00003/study1/...    Male   41   \n",
       "\n",
       "  Frontal/Lateral AP/PA  No Finding  Enlarged Cardiomediastinum  Cardiomegaly  \\\n",
       "0         Frontal    AP         1.0                         NaN           NaN   \n",
       "1         Frontal    AP         NaN                         NaN          -1.0   \n",
       "2         Frontal    AP         NaN                         NaN           NaN   \n",
       "3         Lateral   NaN         NaN                         NaN           NaN   \n",
       "4         Frontal    AP         NaN                         NaN           NaN   \n",
       "\n",
       "   Lung Opacity  Lung Lesion  Edema  Consolidation  Pneumonia  Atelectasis  \\\n",
       "0           NaN          NaN    NaN            NaN        NaN          NaN   \n",
       "1           1.0          NaN   -1.0           -1.0        NaN         -1.0   \n",
       "2           1.0          NaN    NaN           -1.0        NaN          NaN   \n",
       "3           1.0          NaN    NaN           -1.0        NaN          NaN   \n",
       "4           NaN          NaN    1.0            NaN        NaN          NaN   \n",
       "\n",
       "   Pneumothorax  Pleural Effusion  Pleural Other  Fracture  Support Devices  \n",
       "0           0.0               NaN            NaN       NaN              1.0  \n",
       "1           NaN              -1.0            NaN       1.0              NaN  \n",
       "2           NaN               NaN            NaN       1.0              NaN  \n",
       "3           NaN               NaN            NaN       1.0              NaN  \n",
       "4           0.0               NaN            NaN       NaN              NaN  "
      ]
     },
     "execution_count": 6,
     "metadata": {},
     "output_type": "execute_result"
    }
   ],
   "source": [
    "train_info = pd.read_csv('CheXpert-v1.0-small/train.csv')\n",
    "print(train_info.shape)\n",
    "\n",
    "# Add in the tiny pre-segregated validation set (just 234 rows) and we'll split later ourselves\n",
    "\n",
    "train_info = pd.concat([train_info, pd.read_csv('CheXpert-v1.0-small/valid.csv')], axis=0)\n",
    "\n",
    "print(train_info.shape)\n",
    "train_info.head()"
   ]
  },
  {
   "cell_type": "markdown",
   "id": "f4bc85b5-5639-4bed-89df-810ae6274c6b",
   "metadata": {},
   "source": [
    "### Let's drop the Lateral views:"
   ]
  },
  {
   "cell_type": "code",
   "execution_count": 7,
   "id": "05692390-a239-478d-8f0c-38a35711b039",
   "metadata": {},
   "outputs": [
    {
     "name": "stdout",
     "output_type": "stream",
     "text": [
      "(191229, 8)\n"
     ]
    },
    {
     "data": {
      "text/html": [
       "<div>\n",
       "<style scoped>\n",
       "    .dataframe tbody tr th:only-of-type {\n",
       "        vertical-align: middle;\n",
       "    }\n",
       "\n",
       "    .dataframe tbody tr th {\n",
       "        vertical-align: top;\n",
       "    }\n",
       "\n",
       "    .dataframe thead th {\n",
       "        text-align: right;\n",
       "    }\n",
       "</style>\n",
       "<table border=\"1\" class=\"dataframe\">\n",
       "  <thead>\n",
       "    <tr style=\"text-align: right;\">\n",
       "      <th></th>\n",
       "      <th>Path</th>\n",
       "      <th>Sex</th>\n",
       "      <th>Age</th>\n",
       "      <th>AP/PA</th>\n",
       "      <th>Atelectasis</th>\n",
       "      <th>Cardiomegaly</th>\n",
       "      <th>Edema</th>\n",
       "      <th>Pleural Effusion</th>\n",
       "    </tr>\n",
       "  </thead>\n",
       "  <tbody>\n",
       "    <tr>\n",
       "      <th>0</th>\n",
       "      <td>CheXpert-v1.0-small/train/patient00001/study1/...</td>\n",
       "      <td>Female</td>\n",
       "      <td>68</td>\n",
       "      <td>AP</td>\n",
       "      <td>NaN</td>\n",
       "      <td>NaN</td>\n",
       "      <td>NaN</td>\n",
       "      <td>NaN</td>\n",
       "    </tr>\n",
       "    <tr>\n",
       "      <th>1</th>\n",
       "      <td>CheXpert-v1.0-small/train/patient00002/study2/...</td>\n",
       "      <td>Female</td>\n",
       "      <td>87</td>\n",
       "      <td>AP</td>\n",
       "      <td>-1.0</td>\n",
       "      <td>-1.0</td>\n",
       "      <td>-1.0</td>\n",
       "      <td>-1.0</td>\n",
       "    </tr>\n",
       "    <tr>\n",
       "      <th>2</th>\n",
       "      <td>CheXpert-v1.0-small/train/patient00002/study1/...</td>\n",
       "      <td>Female</td>\n",
       "      <td>83</td>\n",
       "      <td>AP</td>\n",
       "      <td>NaN</td>\n",
       "      <td>NaN</td>\n",
       "      <td>NaN</td>\n",
       "      <td>NaN</td>\n",
       "    </tr>\n",
       "    <tr>\n",
       "      <th>4</th>\n",
       "      <td>CheXpert-v1.0-small/train/patient00003/study1/...</td>\n",
       "      <td>Male</td>\n",
       "      <td>41</td>\n",
       "      <td>AP</td>\n",
       "      <td>NaN</td>\n",
       "      <td>NaN</td>\n",
       "      <td>1.0</td>\n",
       "      <td>NaN</td>\n",
       "    </tr>\n",
       "    <tr>\n",
       "      <th>5</th>\n",
       "      <td>CheXpert-v1.0-small/train/patient00004/study1/...</td>\n",
       "      <td>Female</td>\n",
       "      <td>20</td>\n",
       "      <td>PA</td>\n",
       "      <td>NaN</td>\n",
       "      <td>NaN</td>\n",
       "      <td>NaN</td>\n",
       "      <td>0.0</td>\n",
       "    </tr>\n",
       "  </tbody>\n",
       "</table>\n",
       "</div>"
      ],
      "text/plain": [
       "                                                Path     Sex  Age AP/PA  \\\n",
       "0  CheXpert-v1.0-small/train/patient00001/study1/...  Female   68    AP   \n",
       "1  CheXpert-v1.0-small/train/patient00002/study2/...  Female   87    AP   \n",
       "2  CheXpert-v1.0-small/train/patient00002/study1/...  Female   83    AP   \n",
       "4  CheXpert-v1.0-small/train/patient00003/study1/...    Male   41    AP   \n",
       "5  CheXpert-v1.0-small/train/patient00004/study1/...  Female   20    PA   \n",
       "\n",
       "   Atelectasis  Cardiomegaly  Edema  Pleural Effusion  \n",
       "0          NaN           NaN    NaN               NaN  \n",
       "1         -1.0          -1.0   -1.0              -1.0  \n",
       "2          NaN           NaN    NaN               NaN  \n",
       "4          NaN           NaN    1.0               NaN  \n",
       "5          NaN           NaN    NaN               0.0  "
      ]
     },
     "execution_count": 7,
     "metadata": {},
     "output_type": "execute_result"
    }
   ],
   "source": [
    "cols = ['Path', 'Sex', 'Age', 'AP/PA', 'Atelectasis', 'Cardiomegaly', 'Edema', 'Pleural Effusion']\n",
    "\n",
    "train_info = train_info[(train_info['Frontal/Lateral'] == 'Frontal')][cols]\n",
    "\n",
    "print(train_info.shape)\n",
    "train_info.head()"
   ]
  },
  {
   "cell_type": "markdown",
   "id": "624e76b7-cd29-4e15-b541-89ce3351e5fb",
   "metadata": {},
   "source": [
    "### 'AP' means X-ray taken from the front; let's just keep these and drop the 'PA' X-rays (shot from behind the patient)"
   ]
  },
  {
   "cell_type": "code",
   "execution_count": 8,
   "id": "e4edf41d-a3e5-46cc-80a6-b37e5dd4a916",
   "metadata": {},
   "outputs": [
    {
     "name": "stdout",
     "output_type": "stream",
     "text": [
      "AP: (161759, 8)\n",
      "PA: (29453, 8)\n",
      "(161759, 7)\n"
     ]
    },
    {
     "data": {
      "text/html": [
       "<div>\n",
       "<style scoped>\n",
       "    .dataframe tbody tr th:only-of-type {\n",
       "        vertical-align: middle;\n",
       "    }\n",
       "\n",
       "    .dataframe tbody tr th {\n",
       "        vertical-align: top;\n",
       "    }\n",
       "\n",
       "    .dataframe thead th {\n",
       "        text-align: right;\n",
       "    }\n",
       "</style>\n",
       "<table border=\"1\" class=\"dataframe\">\n",
       "  <thead>\n",
       "    <tr style=\"text-align: right;\">\n",
       "      <th></th>\n",
       "      <th>Path</th>\n",
       "      <th>Sex</th>\n",
       "      <th>Age</th>\n",
       "      <th>Atelectasis</th>\n",
       "      <th>Cardiomegaly</th>\n",
       "      <th>Edema</th>\n",
       "      <th>Pleural Effusion</th>\n",
       "    </tr>\n",
       "  </thead>\n",
       "  <tbody>\n",
       "    <tr>\n",
       "      <th>0</th>\n",
       "      <td>CheXpert-v1.0-small/train/patient00001/study1/...</td>\n",
       "      <td>Female</td>\n",
       "      <td>68</td>\n",
       "      <td>NaN</td>\n",
       "      <td>NaN</td>\n",
       "      <td>NaN</td>\n",
       "      <td>NaN</td>\n",
       "    </tr>\n",
       "    <tr>\n",
       "      <th>1</th>\n",
       "      <td>CheXpert-v1.0-small/train/patient00002/study2/...</td>\n",
       "      <td>Female</td>\n",
       "      <td>87</td>\n",
       "      <td>-1.0</td>\n",
       "      <td>-1.0</td>\n",
       "      <td>-1.0</td>\n",
       "      <td>-1.0</td>\n",
       "    </tr>\n",
       "    <tr>\n",
       "      <th>2</th>\n",
       "      <td>CheXpert-v1.0-small/train/patient00002/study1/...</td>\n",
       "      <td>Female</td>\n",
       "      <td>83</td>\n",
       "      <td>NaN</td>\n",
       "      <td>NaN</td>\n",
       "      <td>NaN</td>\n",
       "      <td>NaN</td>\n",
       "    </tr>\n",
       "    <tr>\n",
       "      <th>4</th>\n",
       "      <td>CheXpert-v1.0-small/train/patient00003/study1/...</td>\n",
       "      <td>Male</td>\n",
       "      <td>41</td>\n",
       "      <td>NaN</td>\n",
       "      <td>NaN</td>\n",
       "      <td>1.0</td>\n",
       "      <td>NaN</td>\n",
       "    </tr>\n",
       "    <tr>\n",
       "      <th>9</th>\n",
       "      <td>CheXpert-v1.0-small/train/patient00005/study2/...</td>\n",
       "      <td>Male</td>\n",
       "      <td>33</td>\n",
       "      <td>NaN</td>\n",
       "      <td>NaN</td>\n",
       "      <td>NaN</td>\n",
       "      <td>NaN</td>\n",
       "    </tr>\n",
       "  </tbody>\n",
       "</table>\n",
       "</div>"
      ],
      "text/plain": [
       "                                                Path     Sex  Age  \\\n",
       "0  CheXpert-v1.0-small/train/patient00001/study1/...  Female   68   \n",
       "1  CheXpert-v1.0-small/train/patient00002/study2/...  Female   87   \n",
       "2  CheXpert-v1.0-small/train/patient00002/study1/...  Female   83   \n",
       "4  CheXpert-v1.0-small/train/patient00003/study1/...    Male   41   \n",
       "9  CheXpert-v1.0-small/train/patient00005/study2/...    Male   33   \n",
       "\n",
       "   Atelectasis  Cardiomegaly  Edema  Pleural Effusion  \n",
       "0          NaN           NaN    NaN               NaN  \n",
       "1         -1.0          -1.0   -1.0              -1.0  \n",
       "2          NaN           NaN    NaN               NaN  \n",
       "4          NaN           NaN    1.0               NaN  \n",
       "9          NaN           NaN    NaN               NaN  "
      ]
     },
     "execution_count": 8,
     "metadata": {},
     "output_type": "execute_result"
    }
   ],
   "source": [
    "print('AP: {}'.format(train_info[train_info['AP/PA'] == 'AP'].shape))\n",
    "print('PA: {}'.format(train_info[train_info['AP/PA'] == 'PA'].shape))\n",
    "\n",
    "train_info = train_info[train_info['AP/PA'] == 'AP'].drop(columns='AP/PA')\n",
    "\n",
    "print(train_info.shape)\n",
    "train_info.head()"
   ]
  },
  {
   "cell_type": "markdown",
   "id": "5b355d01-6dd2-44b9-9294-d761bfff7c5e",
   "metadata": {},
   "source": [
    "### NaN means \"no mention\" on report, so we'll assume this maps to 0 (\"negative\"); otherwise, the report would have mentioned the condition"
   ]
  },
  {
   "cell_type": "code",
   "execution_count": 9,
   "id": "6dd980d8-6191-45c3-9e02-0616c956fdfe",
   "metadata": {},
   "outputs": [
    {
     "data": {
      "text/html": [
       "<div>\n",
       "<style scoped>\n",
       "    .dataframe tbody tr th:only-of-type {\n",
       "        vertical-align: middle;\n",
       "    }\n",
       "\n",
       "    .dataframe tbody tr th {\n",
       "        vertical-align: top;\n",
       "    }\n",
       "\n",
       "    .dataframe thead th {\n",
       "        text-align: right;\n",
       "    }\n",
       "</style>\n",
       "<table border=\"1\" class=\"dataframe\">\n",
       "  <thead>\n",
       "    <tr style=\"text-align: right;\">\n",
       "      <th></th>\n",
       "      <th>Path</th>\n",
       "      <th>Sex</th>\n",
       "      <th>Age</th>\n",
       "      <th>Atelectasis</th>\n",
       "      <th>Cardiomegaly</th>\n",
       "      <th>Edema</th>\n",
       "      <th>Pleural Effusion</th>\n",
       "    </tr>\n",
       "  </thead>\n",
       "  <tbody>\n",
       "    <tr>\n",
       "      <th>0</th>\n",
       "      <td>CheXpert-v1.0-small/train/patient00001/study1/...</td>\n",
       "      <td>Female</td>\n",
       "      <td>68</td>\n",
       "      <td>0</td>\n",
       "      <td>0</td>\n",
       "      <td>0</td>\n",
       "      <td>0</td>\n",
       "    </tr>\n",
       "    <tr>\n",
       "      <th>1</th>\n",
       "      <td>CheXpert-v1.0-small/train/patient00002/study2/...</td>\n",
       "      <td>Female</td>\n",
       "      <td>87</td>\n",
       "      <td>-1</td>\n",
       "      <td>-1</td>\n",
       "      <td>-1</td>\n",
       "      <td>-1</td>\n",
       "    </tr>\n",
       "    <tr>\n",
       "      <th>2</th>\n",
       "      <td>CheXpert-v1.0-small/train/patient00002/study1/...</td>\n",
       "      <td>Female</td>\n",
       "      <td>83</td>\n",
       "      <td>0</td>\n",
       "      <td>0</td>\n",
       "      <td>0</td>\n",
       "      <td>0</td>\n",
       "    </tr>\n",
       "    <tr>\n",
       "      <th>4</th>\n",
       "      <td>CheXpert-v1.0-small/train/patient00003/study1/...</td>\n",
       "      <td>Male</td>\n",
       "      <td>41</td>\n",
       "      <td>0</td>\n",
       "      <td>0</td>\n",
       "      <td>1</td>\n",
       "      <td>0</td>\n",
       "    </tr>\n",
       "    <tr>\n",
       "      <th>9</th>\n",
       "      <td>CheXpert-v1.0-small/train/patient00005/study2/...</td>\n",
       "      <td>Male</td>\n",
       "      <td>33</td>\n",
       "      <td>0</td>\n",
       "      <td>0</td>\n",
       "      <td>0</td>\n",
       "      <td>0</td>\n",
       "    </tr>\n",
       "  </tbody>\n",
       "</table>\n",
       "</div>"
      ],
      "text/plain": [
       "                                                Path     Sex  Age  \\\n",
       "0  CheXpert-v1.0-small/train/patient00001/study1/...  Female   68   \n",
       "1  CheXpert-v1.0-small/train/patient00002/study2/...  Female   87   \n",
       "2  CheXpert-v1.0-small/train/patient00002/study1/...  Female   83   \n",
       "4  CheXpert-v1.0-small/train/patient00003/study1/...    Male   41   \n",
       "9  CheXpert-v1.0-small/train/patient00005/study2/...    Male   33   \n",
       "\n",
       "   Atelectasis  Cardiomegaly  Edema  Pleural Effusion  \n",
       "0            0             0      0                 0  \n",
       "1           -1            -1     -1                -1  \n",
       "2            0             0      0                 0  \n",
       "4            0             0      1                 0  \n",
       "9            0             0      0                 0  "
      ]
     },
     "execution_count": 9,
     "metadata": {},
     "output_type": "execute_result"
    }
   ],
   "source": [
    "train_info['Atelectasis'] = train_info['Atelectasis'].apply(lambda x: 0 if np.isnan(x) else x).astype(int)\n",
    "\n",
    "train_info['Cardiomegaly'] = train_info['Cardiomegaly'].apply(lambda x: 0 if np.isnan(x) else x).astype(int)\n",
    "\n",
    "train_info['Edema'] = train_info['Edema'].apply(lambda x: 0 if np.isnan(x) else x).astype(int)\n",
    "\n",
    "train_info['Pleural Effusion'] = train_info['Pleural Effusion'].apply(lambda x: 0 if np.isnan(x) else x).astype(int)\n",
    "\n",
    "train_info.head()"
   ]
  },
  {
   "cell_type": "markdown",
   "id": "6b968440-a7f4-4a20-92c1-63c57c6974d6",
   "metadata": {},
   "source": [
    "### -1.0 target labels are 'uncertain', but to be \"safe,\" we want to flag these as potential positives, so remap them to 1.0 ('positive'):"
   ]
  },
  {
   "cell_type": "code",
   "execution_count": 10,
   "id": "8c3f531a-cea0-404a-aab0-17ade73ff1a7",
   "metadata": {},
   "outputs": [
    {
     "data": {
      "text/html": [
       "<div>\n",
       "<style scoped>\n",
       "    .dataframe tbody tr th:only-of-type {\n",
       "        vertical-align: middle;\n",
       "    }\n",
       "\n",
       "    .dataframe tbody tr th {\n",
       "        vertical-align: top;\n",
       "    }\n",
       "\n",
       "    .dataframe thead th {\n",
       "        text-align: right;\n",
       "    }\n",
       "</style>\n",
       "<table border=\"1\" class=\"dataframe\">\n",
       "  <thead>\n",
       "    <tr style=\"text-align: right;\">\n",
       "      <th></th>\n",
       "      <th>Path</th>\n",
       "      <th>Sex</th>\n",
       "      <th>Age</th>\n",
       "      <th>Atelectasis</th>\n",
       "      <th>Cardiomegaly</th>\n",
       "      <th>Edema</th>\n",
       "      <th>Pleural Effusion</th>\n",
       "    </tr>\n",
       "  </thead>\n",
       "  <tbody>\n",
       "    <tr>\n",
       "      <th>0</th>\n",
       "      <td>CheXpert-v1.0-small/train/patient00001/study1/...</td>\n",
       "      <td>Female</td>\n",
       "      <td>68</td>\n",
       "      <td>0</td>\n",
       "      <td>0</td>\n",
       "      <td>0</td>\n",
       "      <td>0</td>\n",
       "    </tr>\n",
       "    <tr>\n",
       "      <th>1</th>\n",
       "      <td>CheXpert-v1.0-small/train/patient00002/study2/...</td>\n",
       "      <td>Female</td>\n",
       "      <td>87</td>\n",
       "      <td>1</td>\n",
       "      <td>1</td>\n",
       "      <td>1</td>\n",
       "      <td>1</td>\n",
       "    </tr>\n",
       "    <tr>\n",
       "      <th>2</th>\n",
       "      <td>CheXpert-v1.0-small/train/patient00002/study1/...</td>\n",
       "      <td>Female</td>\n",
       "      <td>83</td>\n",
       "      <td>0</td>\n",
       "      <td>0</td>\n",
       "      <td>0</td>\n",
       "      <td>0</td>\n",
       "    </tr>\n",
       "    <tr>\n",
       "      <th>4</th>\n",
       "      <td>CheXpert-v1.0-small/train/patient00003/study1/...</td>\n",
       "      <td>Male</td>\n",
       "      <td>41</td>\n",
       "      <td>0</td>\n",
       "      <td>0</td>\n",
       "      <td>1</td>\n",
       "      <td>0</td>\n",
       "    </tr>\n",
       "    <tr>\n",
       "      <th>9</th>\n",
       "      <td>CheXpert-v1.0-small/train/patient00005/study2/...</td>\n",
       "      <td>Male</td>\n",
       "      <td>33</td>\n",
       "      <td>0</td>\n",
       "      <td>0</td>\n",
       "      <td>0</td>\n",
       "      <td>0</td>\n",
       "    </tr>\n",
       "  </tbody>\n",
       "</table>\n",
       "</div>"
      ],
      "text/plain": [
       "                                                Path     Sex  Age  \\\n",
       "0  CheXpert-v1.0-small/train/patient00001/study1/...  Female   68   \n",
       "1  CheXpert-v1.0-small/train/patient00002/study2/...  Female   87   \n",
       "2  CheXpert-v1.0-small/train/patient00002/study1/...  Female   83   \n",
       "4  CheXpert-v1.0-small/train/patient00003/study1/...    Male   41   \n",
       "9  CheXpert-v1.0-small/train/patient00005/study2/...    Male   33   \n",
       "\n",
       "   Atelectasis  Cardiomegaly  Edema  Pleural Effusion  \n",
       "0            0             0      0                 0  \n",
       "1            1             1      1                 1  \n",
       "2            0             0      0                 0  \n",
       "4            0             0      1                 0  \n",
       "9            0             0      0                 0  "
      ]
     },
     "execution_count": 10,
     "metadata": {},
     "output_type": "execute_result"
    }
   ],
   "source": [
    "train_info['Atelectasis'] = train_info['Atelectasis'].apply(lambda x: 1 if x == -1 else x).astype(int)\n",
    "\n",
    "train_info['Cardiomegaly'] = train_info['Cardiomegaly'].apply(lambda x: 1 if x == -1 else x).astype(int)\n",
    "\n",
    "train_info['Edema'] = train_info['Edema'].apply(lambda x: 1 if x == -1 else x).astype(int)\n",
    "\n",
    "train_info['Pleural Effusion'] = train_info['Pleural Effusion'].apply(lambda x: 1 if x == -1 else x).astype(int)\n",
    "\n",
    "train_info.head()"
   ]
  },
  {
   "cell_type": "markdown",
   "id": "b09bc9c7-0ef6-49f5-84cd-035136bc3121",
   "metadata": {},
   "source": [
    "### There are multiple images (\"studies\") for some patients; need to be sure we can stratify train/val/test by patient, so add \"Patient\" column"
   ]
  },
  {
   "cell_type": "code",
   "execution_count": 11,
   "id": "20b6284e-91f0-498c-aae6-b3d45d4f296a",
   "metadata": {},
   "outputs": [
    {
     "data": {
      "text/plain": [
       "count    161759.000000\n",
       "mean      30667.483676\n",
       "std       16724.347926\n",
       "min           1.000000\n",
       "25%       16442.000000\n",
       "50%       33059.000000\n",
       "75%       42743.000000\n",
       "max       64740.000000\n",
       "Name: Patient, dtype: float64"
      ]
     },
     "execution_count": 11,
     "metadata": {},
     "output_type": "execute_result"
    }
   ],
   "source": [
    "train_info['Patient'] = train_info['Path'].map(lambda x: x.split('/')[2].strip('patient')).astype(int)\n",
    "\n",
    "train_info['Patient'].describe()"
   ]
  },
  {
   "cell_type": "code",
   "execution_count": 12,
   "id": "8a9b4916-3ac2-4cf2-bc8c-ece8a504a83a",
   "metadata": {},
   "outputs": [
    {
     "data": {
      "text/html": [
       "<div>\n",
       "<style scoped>\n",
       "    .dataframe tbody tr th:only-of-type {\n",
       "        vertical-align: middle;\n",
       "    }\n",
       "\n",
       "    .dataframe tbody tr th {\n",
       "        vertical-align: top;\n",
       "    }\n",
       "\n",
       "    .dataframe thead th {\n",
       "        text-align: right;\n",
       "    }\n",
       "</style>\n",
       "<table border=\"1\" class=\"dataframe\">\n",
       "  <thead>\n",
       "    <tr style=\"text-align: right;\">\n",
       "      <th></th>\n",
       "      <th>Path</th>\n",
       "      <th>Sex</th>\n",
       "      <th>Age</th>\n",
       "      <th>Atelectasis</th>\n",
       "      <th>Cardiomegaly</th>\n",
       "      <th>Edema</th>\n",
       "      <th>Pleural Effusion</th>\n",
       "      <th>Patient</th>\n",
       "    </tr>\n",
       "  </thead>\n",
       "  <tbody>\n",
       "  </tbody>\n",
       "</table>\n",
       "</div>"
      ],
      "text/plain": [
       "Empty DataFrame\n",
       "Columns: [Path, Sex, Age, Atelectasis, Cardiomegaly, Edema, Pleural Effusion, Patient]\n",
       "Index: []"
      ]
     },
     "execution_count": 12,
     "metadata": {},
     "output_type": "execute_result"
    }
   ],
   "source": [
    "# Check for any NaNs\n",
    "\n",
    "train_info[train_info.isnull().any(axis=1)]"
   ]
  },
  {
   "cell_type": "code",
   "execution_count": 13,
   "id": "9a2ada0e-9a3e-499d-91d0-2c11fe1c9e3b",
   "metadata": {},
   "outputs": [
    {
     "name": "stdout",
     "output_type": "stream",
     "text": [
      "<class 'pandas.core.frame.DataFrame'>\n",
      "Int64Index: 161759 entries, 0 to 233\n",
      "Data columns (total 8 columns):\n",
      " #   Column            Non-Null Count   Dtype \n",
      "---  ------            --------------   ----- \n",
      " 0   Path              161759 non-null  object\n",
      " 1   Patient           161759 non-null  int64 \n",
      " 2   Sex               161759 non-null  object\n",
      " 3   Age               161759 non-null  int64 \n",
      " 4   Atelectasis       161759 non-null  int64 \n",
      " 5   Cardiomegaly      161759 non-null  int64 \n",
      " 6   Edema             161759 non-null  int64 \n",
      " 7   Pleural Effusion  161759 non-null  int64 \n",
      "dtypes: int64(6), object(2)\n",
      "memory usage: 11.1+ MB\n"
     ]
    }
   ],
   "source": [
    "train_info = train_info[['Path', 'Patient', 'Sex', 'Age', 'Atelectasis', 'Cardiomegaly', 'Edema', 'Pleural Effusion']]\n",
    "\n",
    "train_info.info()"
   ]
  },
  {
   "cell_type": "code",
   "execution_count": 14,
   "id": "34681762-0c2e-454a-92ff-f72893dffef1",
   "metadata": {},
   "outputs": [
    {
     "data": {
      "text/html": [
       "<div>\n",
       "<style scoped>\n",
       "    .dataframe tbody tr th:only-of-type {\n",
       "        vertical-align: middle;\n",
       "    }\n",
       "\n",
       "    .dataframe tbody tr th {\n",
       "        vertical-align: top;\n",
       "    }\n",
       "\n",
       "    .dataframe thead th {\n",
       "        text-align: right;\n",
       "    }\n",
       "</style>\n",
       "<table border=\"1\" class=\"dataframe\">\n",
       "  <thead>\n",
       "    <tr style=\"text-align: right;\">\n",
       "      <th></th>\n",
       "      <th>Path</th>\n",
       "      <th>Patient</th>\n",
       "      <th>Sex</th>\n",
       "      <th>Age</th>\n",
       "      <th>Atelectasis</th>\n",
       "      <th>Cardiomegaly</th>\n",
       "      <th>Edema</th>\n",
       "      <th>Pleural Effusion</th>\n",
       "    </tr>\n",
       "  </thead>\n",
       "  <tbody>\n",
       "    <tr>\n",
       "      <th>0</th>\n",
       "      <td>CheXpert-v1.0-small/train/patient00001/study1/...</td>\n",
       "      <td>1</td>\n",
       "      <td>Female</td>\n",
       "      <td>68</td>\n",
       "      <td>0</td>\n",
       "      <td>0</td>\n",
       "      <td>0</td>\n",
       "      <td>0</td>\n",
       "    </tr>\n",
       "    <tr>\n",
       "      <th>1</th>\n",
       "      <td>CheXpert-v1.0-small/train/patient00002/study2/...</td>\n",
       "      <td>2</td>\n",
       "      <td>Female</td>\n",
       "      <td>87</td>\n",
       "      <td>1</td>\n",
       "      <td>1</td>\n",
       "      <td>1</td>\n",
       "      <td>1</td>\n",
       "    </tr>\n",
       "    <tr>\n",
       "      <th>2</th>\n",
       "      <td>CheXpert-v1.0-small/train/patient00002/study1/...</td>\n",
       "      <td>2</td>\n",
       "      <td>Female</td>\n",
       "      <td>83</td>\n",
       "      <td>0</td>\n",
       "      <td>0</td>\n",
       "      <td>0</td>\n",
       "      <td>0</td>\n",
       "    </tr>\n",
       "    <tr>\n",
       "      <th>4</th>\n",
       "      <td>CheXpert-v1.0-small/train/patient00003/study1/...</td>\n",
       "      <td>3</td>\n",
       "      <td>Male</td>\n",
       "      <td>41</td>\n",
       "      <td>0</td>\n",
       "      <td>0</td>\n",
       "      <td>1</td>\n",
       "      <td>0</td>\n",
       "    </tr>\n",
       "    <tr>\n",
       "      <th>9</th>\n",
       "      <td>CheXpert-v1.0-small/train/patient00005/study2/...</td>\n",
       "      <td>5</td>\n",
       "      <td>Male</td>\n",
       "      <td>33</td>\n",
       "      <td>0</td>\n",
       "      <td>0</td>\n",
       "      <td>0</td>\n",
       "      <td>0</td>\n",
       "    </tr>\n",
       "  </tbody>\n",
       "</table>\n",
       "</div>"
      ],
      "text/plain": [
       "                                                Path  Patient     Sex  Age  \\\n",
       "0  CheXpert-v1.0-small/train/patient00001/study1/...        1  Female   68   \n",
       "1  CheXpert-v1.0-small/train/patient00002/study2/...        2  Female   87   \n",
       "2  CheXpert-v1.0-small/train/patient00002/study1/...        2  Female   83   \n",
       "4  CheXpert-v1.0-small/train/patient00003/study1/...        3    Male   41   \n",
       "9  CheXpert-v1.0-small/train/patient00005/study2/...        5    Male   33   \n",
       "\n",
       "   Atelectasis  Cardiomegaly  Edema  Pleural Effusion  \n",
       "0            0             0      0                 0  \n",
       "1            1             1      1                 1  \n",
       "2            0             0      0                 0  \n",
       "4            0             0      1                 0  \n",
       "9            0             0      0                 0  "
      ]
     },
     "execution_count": 14,
     "metadata": {},
     "output_type": "execute_result"
    }
   ],
   "source": [
    "train_info.head()"
   ]
  },
  {
   "cell_type": "markdown",
   "id": "f2359db0-c4ea-4934-819a-3c561b5d88e3",
   "metadata": {},
   "source": [
    "### We'll treat the 4 targets as a multi-label problem:"
   ]
  },
  {
   "cell_type": "code",
   "execution_count": 15,
   "id": "07d4cd61-5289-42ec-825f-afe0792b9b9f",
   "metadata": {},
   "outputs": [
    {
     "data": {
      "text/html": [
       "<div>\n",
       "<style scoped>\n",
       "    .dataframe tbody tr th:only-of-type {\n",
       "        vertical-align: middle;\n",
       "    }\n",
       "\n",
       "    .dataframe tbody tr th {\n",
       "        vertical-align: top;\n",
       "    }\n",
       "\n",
       "    .dataframe thead th {\n",
       "        text-align: right;\n",
       "    }\n",
       "</style>\n",
       "<table border=\"1\" class=\"dataframe\">\n",
       "  <thead>\n",
       "    <tr style=\"text-align: right;\">\n",
       "      <th></th>\n",
       "      <th>Atelectasis</th>\n",
       "      <th>Cardiomegaly</th>\n",
       "      <th>Edema</th>\n",
       "      <th>Pleural Effusion</th>\n",
       "    </tr>\n",
       "  </thead>\n",
       "  <tbody>\n",
       "    <tr>\n",
       "      <th>0</th>\n",
       "      <td>0</td>\n",
       "      <td>0</td>\n",
       "      <td>0</td>\n",
       "      <td>0</td>\n",
       "    </tr>\n",
       "    <tr>\n",
       "      <th>1</th>\n",
       "      <td>0</td>\n",
       "      <td>0</td>\n",
       "      <td>0</td>\n",
       "      <td>1</td>\n",
       "    </tr>\n",
       "    <tr>\n",
       "      <th>2</th>\n",
       "      <td>0</td>\n",
       "      <td>0</td>\n",
       "      <td>1</td>\n",
       "      <td>0</td>\n",
       "    </tr>\n",
       "    <tr>\n",
       "      <th>3</th>\n",
       "      <td>0</td>\n",
       "      <td>0</td>\n",
       "      <td>1</td>\n",
       "      <td>1</td>\n",
       "    </tr>\n",
       "    <tr>\n",
       "      <th>4</th>\n",
       "      <td>0</td>\n",
       "      <td>1</td>\n",
       "      <td>0</td>\n",
       "      <td>0</td>\n",
       "    </tr>\n",
       "    <tr>\n",
       "      <th>5</th>\n",
       "      <td>0</td>\n",
       "      <td>1</td>\n",
       "      <td>0</td>\n",
       "      <td>1</td>\n",
       "    </tr>\n",
       "    <tr>\n",
       "      <th>6</th>\n",
       "      <td>0</td>\n",
       "      <td>1</td>\n",
       "      <td>1</td>\n",
       "      <td>0</td>\n",
       "    </tr>\n",
       "    <tr>\n",
       "      <th>7</th>\n",
       "      <td>0</td>\n",
       "      <td>1</td>\n",
       "      <td>1</td>\n",
       "      <td>1</td>\n",
       "    </tr>\n",
       "    <tr>\n",
       "      <th>8</th>\n",
       "      <td>1</td>\n",
       "      <td>0</td>\n",
       "      <td>0</td>\n",
       "      <td>0</td>\n",
       "    </tr>\n",
       "    <tr>\n",
       "      <th>9</th>\n",
       "      <td>1</td>\n",
       "      <td>0</td>\n",
       "      <td>0</td>\n",
       "      <td>1</td>\n",
       "    </tr>\n",
       "    <tr>\n",
       "      <th>10</th>\n",
       "      <td>1</td>\n",
       "      <td>0</td>\n",
       "      <td>1</td>\n",
       "      <td>0</td>\n",
       "    </tr>\n",
       "    <tr>\n",
       "      <th>11</th>\n",
       "      <td>1</td>\n",
       "      <td>0</td>\n",
       "      <td>1</td>\n",
       "      <td>1</td>\n",
       "    </tr>\n",
       "    <tr>\n",
       "      <th>12</th>\n",
       "      <td>1</td>\n",
       "      <td>1</td>\n",
       "      <td>0</td>\n",
       "      <td>0</td>\n",
       "    </tr>\n",
       "    <tr>\n",
       "      <th>13</th>\n",
       "      <td>1</td>\n",
       "      <td>1</td>\n",
       "      <td>0</td>\n",
       "      <td>1</td>\n",
       "    </tr>\n",
       "    <tr>\n",
       "      <th>14</th>\n",
       "      <td>1</td>\n",
       "      <td>1</td>\n",
       "      <td>1</td>\n",
       "      <td>0</td>\n",
       "    </tr>\n",
       "    <tr>\n",
       "      <th>15</th>\n",
       "      <td>1</td>\n",
       "      <td>1</td>\n",
       "      <td>1</td>\n",
       "      <td>1</td>\n",
       "    </tr>\n",
       "  </tbody>\n",
       "</table>\n",
       "</div>"
      ],
      "text/plain": [
       "    Atelectasis  Cardiomegaly  Edema  Pleural Effusion\n",
       "0             0             0      0                 0\n",
       "1             0             0      0                 1\n",
       "2             0             0      1                 0\n",
       "3             0             0      1                 1\n",
       "4             0             1      0                 0\n",
       "5             0             1      0                 1\n",
       "6             0             1      1                 0\n",
       "7             0             1      1                 1\n",
       "8             1             0      0                 0\n",
       "9             1             0      0                 1\n",
       "10            1             0      1                 0\n",
       "11            1             0      1                 1\n",
       "12            1             1      0                 0\n",
       "13            1             1      0                 1\n",
       "14            1             1      1                 0\n",
       "15            1             1      1                 1"
      ]
     },
     "execution_count": 15,
     "metadata": {},
     "output_type": "execute_result"
    }
   ],
   "source": [
    "train_info[['Atelectasis', 'Cardiomegaly', 'Edema', 'Pleural Effusion']] \\\n",
    "          .groupby(['Atelectasis', 'Cardiomegaly', 'Edema', 'Pleural Effusion']).first().reset_index()"
   ]
  },
  {
   "cell_type": "code",
   "execution_count": 16,
   "id": "942bedc4-757e-4702-b72d-9b704998cb71",
   "metadata": {},
   "outputs": [
    {
     "data": {
      "text/plain": [
       "32.89523303185603"
      ]
     },
     "execution_count": 16,
     "metadata": {},
     "output_type": "execute_result"
    }
   ],
   "source": [
    "train_info[train_info['Atelectasis'] == 1].shape[0]/train_info.shape[0]*100"
   ]
  },
  {
   "cell_type": "code",
   "execution_count": 17,
   "id": "00004ea2-93af-4c9c-bc7b-3a3ec2ae766a",
   "metadata": {},
   "outputs": [
    {
     "data": {
      "text/plain": [
       "16.13820560216124"
      ]
     },
     "execution_count": 17,
     "metadata": {},
     "output_type": "execute_result"
    }
   ],
   "source": [
    "train_info[train_info['Cardiomegaly'] == 1].shape[0]/train_info.shape[0]*100"
   ]
  },
  {
   "cell_type": "code",
   "execution_count": 18,
   "id": "d8337bbd-d4d7-42f6-9fb9-73d6ecbecbdf",
   "metadata": {},
   "outputs": [
    {
     "data": {
      "text/plain": [
       "36.46474075631031"
      ]
     },
     "execution_count": 18,
     "metadata": {},
     "output_type": "execute_result"
    }
   ],
   "source": [
    "train_info[train_info['Edema'] == 1].shape[0]/train_info.shape[0]*100"
   ]
  },
  {
   "cell_type": "code",
   "execution_count": 19,
   "id": "4a6c458a-a6db-406e-adbf-da9566f74ece",
   "metadata": {},
   "outputs": [
    {
     "data": {
      "text/plain": [
       "47.383453161802436"
      ]
     },
     "execution_count": 19,
     "metadata": {},
     "output_type": "execute_result"
    }
   ],
   "source": [
    "train_info[train_info['Pleural Effusion'] == 1].shape[0]/train_info.shape[0]*100"
   ]
  },
  {
   "cell_type": "markdown",
   "id": "bd09a85c-fe32-42ea-8dd8-0c0d0f77ab51",
   "metadata": {},
   "source": [
    "#### Since we have SO MUCH data and we don't want the same patient getting into multiple splits (train/val/test), let's just keep 1 record of each patient"
   ]
  },
  {
   "cell_type": "code",
   "execution_count": 20,
   "id": "aa6ec9a4-ec43-4f10-a89d-1ec516ea96a4",
   "metadata": {},
   "outputs": [
    {
     "name": "stdout",
     "output_type": "stream",
     "text": [
      "(161759, 8)\n",
      "(53528, 7)\n"
     ]
    },
    {
     "data": {
      "text/html": [
       "<div>\n",
       "<style scoped>\n",
       "    .dataframe tbody tr th:only-of-type {\n",
       "        vertical-align: middle;\n",
       "    }\n",
       "\n",
       "    .dataframe tbody tr th {\n",
       "        vertical-align: top;\n",
       "    }\n",
       "\n",
       "    .dataframe thead th {\n",
       "        text-align: right;\n",
       "    }\n",
       "</style>\n",
       "<table border=\"1\" class=\"dataframe\">\n",
       "  <thead>\n",
       "    <tr style=\"text-align: right;\">\n",
       "      <th></th>\n",
       "      <th>Path</th>\n",
       "      <th>Sex</th>\n",
       "      <th>Age</th>\n",
       "      <th>Atelectasis</th>\n",
       "      <th>Cardiomegaly</th>\n",
       "      <th>Edema</th>\n",
       "      <th>Pleural Effusion</th>\n",
       "    </tr>\n",
       "  </thead>\n",
       "  <tbody>\n",
       "    <tr>\n",
       "      <th>0</th>\n",
       "      <td>CheXpert-v1.0-small/train/patient00001/study1/...</td>\n",
       "      <td>Female</td>\n",
       "      <td>68</td>\n",
       "      <td>0</td>\n",
       "      <td>0</td>\n",
       "      <td>0</td>\n",
       "      <td>0</td>\n",
       "    </tr>\n",
       "    <tr>\n",
       "      <th>1</th>\n",
       "      <td>CheXpert-v1.0-small/train/patient00002/study2/...</td>\n",
       "      <td>Female</td>\n",
       "      <td>87</td>\n",
       "      <td>1</td>\n",
       "      <td>1</td>\n",
       "      <td>1</td>\n",
       "      <td>1</td>\n",
       "    </tr>\n",
       "    <tr>\n",
       "      <th>2</th>\n",
       "      <td>CheXpert-v1.0-small/train/patient00003/study1/...</td>\n",
       "      <td>Male</td>\n",
       "      <td>41</td>\n",
       "      <td>0</td>\n",
       "      <td>0</td>\n",
       "      <td>1</td>\n",
       "      <td>0</td>\n",
       "    </tr>\n",
       "    <tr>\n",
       "      <th>3</th>\n",
       "      <td>CheXpert-v1.0-small/train/patient00005/study2/...</td>\n",
       "      <td>Male</td>\n",
       "      <td>33</td>\n",
       "      <td>0</td>\n",
       "      <td>0</td>\n",
       "      <td>0</td>\n",
       "      <td>0</td>\n",
       "    </tr>\n",
       "    <tr>\n",
       "      <th>4</th>\n",
       "      <td>CheXpert-v1.0-small/train/patient00006/study1/...</td>\n",
       "      <td>Female</td>\n",
       "      <td>42</td>\n",
       "      <td>0</td>\n",
       "      <td>0</td>\n",
       "      <td>0</td>\n",
       "      <td>0</td>\n",
       "    </tr>\n",
       "  </tbody>\n",
       "</table>\n",
       "</div>"
      ],
      "text/plain": [
       "                                                Path     Sex  Age  \\\n",
       "0  CheXpert-v1.0-small/train/patient00001/study1/...  Female   68   \n",
       "1  CheXpert-v1.0-small/train/patient00002/study2/...  Female   87   \n",
       "2  CheXpert-v1.0-small/train/patient00003/study1/...    Male   41   \n",
       "3  CheXpert-v1.0-small/train/patient00005/study2/...    Male   33   \n",
       "4  CheXpert-v1.0-small/train/patient00006/study1/...  Female   42   \n",
       "\n",
       "   Atelectasis  Cardiomegaly  Edema  Pleural Effusion  \n",
       "0            0             0      0                 0  \n",
       "1            1             1      1                 1  \n",
       "2            0             0      1                 0  \n",
       "3            0             0      0                 0  \n",
       "4            0             0      0                 0  "
      ]
     },
     "execution_count": 20,
     "metadata": {},
     "output_type": "execute_result"
    }
   ],
   "source": [
    "print(train_info.shape)\n",
    "\n",
    "train_info = train_info.groupby('Patient').first().reset_index(drop=True)\n",
    "\n",
    "print(train_info.shape)\n",
    "train_info.head()"
   ]
  },
  {
   "cell_type": "code",
   "execution_count": 21,
   "id": "1b1d687f-7494-420f-a94c-459ad0d2ca30",
   "metadata": {},
   "outputs": [
    {
     "data": {
      "text/html": [
       "<div>\n",
       "<style scoped>\n",
       "    .dataframe tbody tr th:only-of-type {\n",
       "        vertical-align: middle;\n",
       "    }\n",
       "\n",
       "    .dataframe tbody tr th {\n",
       "        vertical-align: top;\n",
       "    }\n",
       "\n",
       "    .dataframe thead th {\n",
       "        text-align: right;\n",
       "    }\n",
       "</style>\n",
       "<table border=\"1\" class=\"dataframe\">\n",
       "  <thead>\n",
       "    <tr style=\"text-align: right;\">\n",
       "      <th></th>\n",
       "      <th>Path</th>\n",
       "      <th>Sex</th>\n",
       "      <th>Age</th>\n",
       "      <th>Atelectasis</th>\n",
       "      <th>Cardiomegaly</th>\n",
       "      <th>Edema</th>\n",
       "      <th>Pleural Effusion</th>\n",
       "    </tr>\n",
       "  </thead>\n",
       "  <tbody>\n",
       "    <tr>\n",
       "      <th>53523</th>\n",
       "      <td>CheXpert-v1.0-small/valid/patient64736/study1/...</td>\n",
       "      <td>Female</td>\n",
       "      <td>57</td>\n",
       "      <td>0</td>\n",
       "      <td>0</td>\n",
       "      <td>0</td>\n",
       "      <td>0</td>\n",
       "    </tr>\n",
       "    <tr>\n",
       "      <th>53524</th>\n",
       "      <td>CheXpert-v1.0-small/valid/patient64737/study1/...</td>\n",
       "      <td>Male</td>\n",
       "      <td>65</td>\n",
       "      <td>0</td>\n",
       "      <td>0</td>\n",
       "      <td>0</td>\n",
       "      <td>0</td>\n",
       "    </tr>\n",
       "    <tr>\n",
       "      <th>53525</th>\n",
       "      <td>CheXpert-v1.0-small/valid/patient64738/study1/...</td>\n",
       "      <td>Male</td>\n",
       "      <td>71</td>\n",
       "      <td>0</td>\n",
       "      <td>1</td>\n",
       "      <td>1</td>\n",
       "      <td>0</td>\n",
       "    </tr>\n",
       "    <tr>\n",
       "      <th>53526</th>\n",
       "      <td>CheXpert-v1.0-small/valid/patient64739/study1/...</td>\n",
       "      <td>Female</td>\n",
       "      <td>45</td>\n",
       "      <td>0</td>\n",
       "      <td>0</td>\n",
       "      <td>0</td>\n",
       "      <td>0</td>\n",
       "    </tr>\n",
       "    <tr>\n",
       "      <th>53527</th>\n",
       "      <td>CheXpert-v1.0-small/valid/patient64740/study1/...</td>\n",
       "      <td>Male</td>\n",
       "      <td>90</td>\n",
       "      <td>1</td>\n",
       "      <td>0</td>\n",
       "      <td>0</td>\n",
       "      <td>1</td>\n",
       "    </tr>\n",
       "  </tbody>\n",
       "</table>\n",
       "</div>"
      ],
      "text/plain": [
       "                                                    Path     Sex  Age  \\\n",
       "53523  CheXpert-v1.0-small/valid/patient64736/study1/...  Female   57   \n",
       "53524  CheXpert-v1.0-small/valid/patient64737/study1/...    Male   65   \n",
       "53525  CheXpert-v1.0-small/valid/patient64738/study1/...    Male   71   \n",
       "53526  CheXpert-v1.0-small/valid/patient64739/study1/...  Female   45   \n",
       "53527  CheXpert-v1.0-small/valid/patient64740/study1/...    Male   90   \n",
       "\n",
       "       Atelectasis  Cardiomegaly  Edema  Pleural Effusion  \n",
       "53523            0             0      0                 0  \n",
       "53524            0             0      0                 0  \n",
       "53525            0             1      1                 0  \n",
       "53526            0             0      0                 0  \n",
       "53527            1             0      0                 1  "
      ]
     },
     "execution_count": 21,
     "metadata": {},
     "output_type": "execute_result"
    }
   ],
   "source": [
    "train_info.tail()"
   ]
  },
  {
   "cell_type": "markdown",
   "id": "34736c7b-ad7d-44d5-9f35-a08e04d4f8ed",
   "metadata": {},
   "source": [
    "## Start working with images"
   ]
  },
  {
   "cell_type": "code",
   "execution_count": 22,
   "id": "4dc7ca09-d11d-4e3b-b121-a73170225126",
   "metadata": {},
   "outputs": [],
   "source": [
    "img_path = train_info.iloc[0, 0]"
   ]
  },
  {
   "cell_type": "code",
   "execution_count": 23,
   "id": "fe969a2e-6f9e-47a6-8c62-add966f77603",
   "metadata": {},
   "outputs": [
    {
     "data": {
      "image/png": "[encoded data removed]",
      "text/plain": [
       "<PIL.Image.Image image mode=RGB size=389x320 at 0x7FACA950D460>"
      ]
     },
     "metadata": {},
     "output_type": "display_data"
    }
   ],
   "source": [
    "img = image.load_img(img_path)\n",
    "display(img)"
   ]
  },
  {
   "cell_type": "code",
   "execution_count": 24,
   "id": "fb4043dc-0675-4909-8b62-52b00d625d3f",
   "metadata": {},
   "outputs": [
    {
     "data": {
      "text/plain": [
       "(320, 389, 3)"
      ]
     },
     "execution_count": 24,
     "metadata": {},
     "output_type": "execute_result"
    }
   ],
   "source": [
    "image.img_to_array(img).shape"
   ]
  },
  {
   "cell_type": "code",
   "execution_count": 25,
   "id": "2ff00b69-cc6d-4fc3-88ff-29b8cba0caf7",
   "metadata": {},
   "outputs": [
    {
     "data": {
      "image/png": "[encoded data removed]",
      "text/plain": [
       "<PIL.JpegImagePlugin.JpegImageFile image mode=L size=389x320 at 0x7FACA950DFA0>"
      ]
     },
     "execution_count": 25,
     "metadata": {},
     "output_type": "execute_result"
    }
   ],
   "source": [
    "img = image.load_img(img_path, color_mode='grayscale')\n",
    "img"
   ]
  },
  {
   "cell_type": "code",
   "execution_count": 26,
   "id": "ac5e4312-39fc-4924-8168-9932a17ea2fb",
   "metadata": {},
   "outputs": [
    {
     "data": {
      "text/plain": [
       "(320, 389, 1)"
      ]
     },
     "execution_count": 26,
     "metadata": {},
     "output_type": "execute_result"
    }
   ],
   "source": [
    "image.img_to_array(img).shape"
   ]
  },
  {
   "cell_type": "code",
   "execution_count": 27,
   "id": "3ff976bd-1f99-479d-9bc9-c7caa26cbe12",
   "metadata": {},
   "outputs": [
    {
     "data": {
      "image/png": "[encoded data removed]",
      "text/plain": [
       "<PIL.Image.Image image mode=L size=273x224 at 0x7FAC78FBCA60>"
      ]
     },
     "execution_count": 27,
     "metadata": {},
     "output_type": "execute_result"
    }
   ],
   "source": [
    "img_sm = image.load_img(img_path, color_mode='grayscale', target_size=(224, 273))\n",
    "img_sm"
   ]
  },
  {
   "cell_type": "code",
   "execution_count": 28,
   "id": "dae1129c-a5ea-4e92-b2e2-1b330d6c95a8",
   "metadata": {},
   "outputs": [
    {
     "data": {
      "text/plain": [
       "(224, 273, 1)"
      ]
     },
     "execution_count": 28,
     "metadata": {},
     "output_type": "execute_result"
    }
   ],
   "source": [
    "image.img_to_array(img_sm).shape"
   ]
  },
  {
   "cell_type": "code",
   "execution_count": null,
   "id": "4c2d494c-9e38-4874-b0cc-4c5c8b51ec20",
   "metadata": {},
   "outputs": [],
   "source": []
  },
  {
   "cell_type": "markdown",
   "id": "ea9e27f2-b57e-4745-a6e5-116fef550ff1",
   "metadata": {},
   "source": [
    "### Okay, let's pipeline this image tensorization process and run it on all the images:"
   ]
  },
  {
   "cell_type": "code",
   "execution_count": 29,
   "id": "598e2cbc-aaff-4e27-aa6c-9869b742af63",
   "metadata": {},
   "outputs": [],
   "source": [
    "img_tensors = []\n",
    "for img_path in train_info['Path'].values:\n",
    "    img_tensors.append(image.img_to_array(image.load_img(img_path, color_mode='grayscale', target_size=(224, 273))))"
   ]
  },
  {
   "cell_type": "code",
   "execution_count": 30,
   "id": "56a7f6f1-9eb6-4b94-8b0b-a87610e691e3",
   "metadata": {},
   "outputs": [],
   "source": [
    "X = np.array(img_tensors)"
   ]
  },
  {
   "cell_type": "code",
   "execution_count": 31,
   "id": "c50964cc-39d7-4c06-9ae8-a1f98a265b21",
   "metadata": {},
   "outputs": [],
   "source": [
    "del img_tensors"
   ]
  },
  {
   "cell_type": "code",
   "execution_count": 32,
   "id": "8a12e6e8-b592-49e4-900e-5d3d202de68a",
   "metadata": {},
   "outputs": [],
   "source": [
    "# Multi-label target\n",
    "\n",
    "y = train_info[['Atelectasis', 'Cardiomegaly', 'Edema', 'Pleural Effusion']].to_numpy()"
   ]
  },
  {
   "cell_type": "code",
   "execution_count": 33,
   "id": "e97263fb-f0f9-49df-9b53-d6d9359a3148",
   "metadata": {},
   "outputs": [
    {
     "name": "stdout",
     "output_type": "stream",
     "text": [
      "(53528, 224, 273, 1)\n",
      "(53528, 4)\n"
     ]
    }
   ],
   "source": [
    "print(X.shape)\n",
    "print(y.shape)"
   ]
  },
  {
   "cell_type": "markdown",
   "id": "06398095-1e17-48dc-95e8-12bc777a913b",
   "metadata": {},
   "source": [
    "### Perform stratified split to keep similar target distributions in each set\n",
    "(Will go for a 70/15/15 split)"
   ]
  },
  {
   "cell_type": "code",
   "execution_count": 34,
   "id": "4e875983-d38e-4d83-ae41-68cfb3877e73",
   "metadata": {},
   "outputs": [],
   "source": [
    "X_train, X_test, y_train, y_test = train_test_split(X, y, test_size=0.3, stratify=y, random_state=42)"
   ]
  },
  {
   "cell_type": "code",
   "execution_count": 35,
   "id": "e4c2a77b-9511-4d55-8163-ec1dbb88d23d",
   "metadata": {},
   "outputs": [
    {
     "data": {
      "text/plain": [
       "[((0, 0, 0, 0), 30.41),\n",
       " ((1, 0, 0, 0), 11.887),\n",
       " ((0, 0, 0, 1), 11.433),\n",
       " ((0, 0, 1, 0), 9.552),\n",
       " ((1, 0, 0, 1), 8.926),\n",
       " ((0, 0, 1, 1), 5.629),\n",
       " ((1, 0, 1, 0), 3.753),\n",
       " ((1, 0, 1, 1), 3.529),\n",
       " ((0, 1, 1, 0), 3.238),\n",
       " ((0, 1, 0, 0), 3.213),\n",
       " ((0, 1, 1, 1), 2.096),\n",
       " ((0, 1, 0, 1), 1.562),\n",
       " ((1, 1, 0, 0), 1.405),\n",
       " ((1, 1, 0, 1), 1.188),\n",
       " ((1, 1, 1, 1), 1.162),\n",
       " ((1, 1, 1, 0), 1.016)]"
      ]
     },
     "execution_count": 35,
     "metadata": {},
     "output_type": "execute_result"
    }
   ],
   "source": [
    "# Check: Percentages in y should roughly match up w/ y_train and y_val\n",
    "\n",
    "from collections import Counter\n",
    "c = Counter()\n",
    "for x in y:\n",
    "    c[tuple(x)] += 1\n",
    "    \n",
    "for k in c.keys():\n",
    "     c[k] = round(100*c[k]/y.shape[0], 3)\n",
    "    \n",
    "c.most_common()"
   ]
  },
  {
   "cell_type": "code",
   "execution_count": 36,
   "id": "2014ebed-ee2f-41f2-83b5-5fe2eb779948",
   "metadata": {},
   "outputs": [
    {
     "data": {
      "text/plain": [
       "[((0, 0, 0, 0), 30.412),\n",
       " ((1, 0, 0, 0), 11.887),\n",
       " ((0, 0, 0, 1), 11.433),\n",
       " ((0, 0, 1, 0), 9.552),\n",
       " ((1, 0, 0, 1), 8.927),\n",
       " ((0, 0, 1, 1), 5.629),\n",
       " ((1, 0, 1, 0), 3.752),\n",
       " ((1, 0, 1, 1), 3.528),\n",
       " ((0, 1, 1, 0), 3.237),\n",
       " ((0, 1, 0, 0), 3.213),\n",
       " ((0, 1, 1, 1), 2.095),\n",
       " ((0, 1, 0, 1), 1.561),\n",
       " ((1, 1, 0, 0), 1.404),\n",
       " ((1, 1, 0, 1), 1.188),\n",
       " ((1, 1, 1, 1), 1.164),\n",
       " ((1, 1, 1, 0), 1.017)]"
      ]
     },
     "execution_count": 36,
     "metadata": {},
     "output_type": "execute_result"
    }
   ],
   "source": [
    "c = Counter()\n",
    "for x in y_train:\n",
    "    c[tuple(x)] += 1\n",
    "    \n",
    "for k in c.keys():\n",
    "     c[k] = round(100*c[k]/y_train.shape[0], 3)\n",
    "    \n",
    "c.most_common()"
   ]
  },
  {
   "cell_type": "code",
   "execution_count": 37,
   "id": "9264669c-0723-4d28-8c8d-cc1512211a8e",
   "metadata": {},
   "outputs": [
    {
     "data": {
      "text/plain": [
       "[((0, 0, 0, 0), 30.407),\n",
       " ((1, 0, 0, 0), 11.887),\n",
       " ((0, 0, 0, 1), 11.433),\n",
       " ((0, 0, 1, 0), 9.552),\n",
       " ((1, 0, 0, 1), 8.923),\n",
       " ((0, 0, 1, 1), 5.629),\n",
       " ((1, 0, 1, 0), 3.755),\n",
       " ((1, 0, 1, 1), 3.531),\n",
       " ((0, 1, 1, 0), 3.238),\n",
       " ((0, 1, 0, 0), 3.213),\n",
       " ((0, 1, 1, 1), 2.099),\n",
       " ((0, 1, 0, 1), 1.563),\n",
       " ((1, 1, 0, 0), 1.407),\n",
       " ((1, 1, 0, 1), 1.189),\n",
       " ((1, 1, 1, 1), 1.158),\n",
       " ((1, 1, 1, 0), 1.015)]"
      ]
     },
     "execution_count": 37,
     "metadata": {},
     "output_type": "execute_result"
    }
   ],
   "source": [
    "c = Counter()\n",
    "for x in y_test:\n",
    "    c[tuple(x)] += 1\n",
    "    \n",
    "for k in c.keys():\n",
    "     c[k] = round(100*c[k]/y_test.shape[0], 3)\n",
    "    \n",
    "c.most_common()"
   ]
  },
  {
   "cell_type": "code",
   "execution_count": 38,
   "id": "8685caa0-d8e8-4299-bbcd-d10bea6571aa",
   "metadata": {},
   "outputs": [],
   "source": [
    "X_val, X_test, y_val, y_test = train_test_split(X_test, y_test, test_size=0.5, stratify=y_test, random_state=42)"
   ]
  },
  {
   "cell_type": "code",
   "execution_count": 39,
   "id": "f5546a71-9248-4e12-8c29-700fb0b71f7b",
   "metadata": {},
   "outputs": [
    {
     "data": {
      "text/plain": [
       "[((0, 0, 0, 0), 30.402),\n",
       " ((1, 0, 0, 0), 11.882),\n",
       " ((0, 0, 0, 1), 11.434),\n",
       " ((0, 0, 1, 0), 9.553),\n",
       " ((1, 0, 0, 1), 8.918),\n",
       " ((0, 0, 1, 1), 5.63),\n",
       " ((1, 0, 1, 0), 3.749),\n",
       " ((1, 0, 1, 1), 3.525),\n",
       " ((0, 1, 1, 0), 3.238),\n",
       " ((0, 1, 0, 0), 3.213),\n",
       " ((0, 1, 1, 1), 2.105),\n",
       " ((0, 1, 0, 1), 1.569),\n",
       " ((1, 1, 0, 0), 1.407),\n",
       " ((1, 1, 0, 1), 1.196),\n",
       " ((1, 1, 1, 1), 1.158),\n",
       " ((1, 1, 1, 0), 1.021)]"
      ]
     },
     "execution_count": 39,
     "metadata": {},
     "output_type": "execute_result"
    }
   ],
   "source": [
    "c = Counter()\n",
    "for x in y_val:\n",
    "    c[tuple(x)] += 1\n",
    "    \n",
    "for k in c.keys():\n",
    "     c[k] = round(100*c[k]/y_val.shape[0], 3)\n",
    "    \n",
    "c.most_common()"
   ]
  },
  {
   "cell_type": "code",
   "execution_count": 40,
   "id": "56e93ba4-3305-4fc9-b49c-2eee9bdfcf77",
   "metadata": {},
   "outputs": [
    {
     "data": {
      "text/plain": [
       "[((0, 0, 0, 0), 30.411),\n",
       " ((1, 0, 0, 0), 11.893),\n",
       " ((0, 0, 0, 1), 11.432),\n",
       " ((0, 0, 1, 0), 9.552),\n",
       " ((1, 0, 0, 1), 8.929),\n",
       " ((0, 0, 1, 1), 5.629),\n",
       " ((1, 0, 1, 0), 3.761),\n",
       " ((1, 0, 1, 1), 3.537),\n",
       " ((0, 1, 1, 0), 3.238),\n",
       " ((0, 1, 0, 0), 3.213),\n",
       " ((0, 1, 1, 1), 2.092),\n",
       " ((0, 1, 0, 1), 1.557),\n",
       " ((1, 1, 0, 0), 1.407),\n",
       " ((1, 1, 0, 1), 1.183),\n",
       " ((1, 1, 1, 1), 1.158),\n",
       " ((1, 1, 1, 0), 1.009)]"
      ]
     },
     "execution_count": 40,
     "metadata": {},
     "output_type": "execute_result"
    }
   ],
   "source": [
    "c = Counter()\n",
    "for x in y_test:\n",
    "    c[tuple(x)] += 1\n",
    "    \n",
    "for k in c.keys():\n",
    "     c[k] = round(100*c[k]/y_test.shape[0], 3)\n",
    "    \n",
    "c.most_common()"
   ]
  },
  {
   "cell_type": "code",
   "execution_count": 41,
   "id": "35cf0dd9-0f7f-4998-b51a-e891d81b98a6",
   "metadata": {},
   "outputs": [
    {
     "name": "stdout",
     "output_type": "stream",
     "text": [
      "X_train: (37469, 224, 273, 1),  y_train: (37469, 4)\n",
      "X_val: (8029, 224, 273, 1),  y_val: (8029, 4)\n",
      "X_test: (8030, 224, 273, 1),  y_test: (8030, 4)\n"
     ]
    }
   ],
   "source": [
    "print('X_train: {},  y_train: {}'.format(X_train.shape, y_train.shape))\n",
    "print('X_val: {},  y_val: {}'.format(X_val.shape, y_val.shape))\n",
    "print('X_test: {},  y_test: {}'.format(X_test.shape, y_test.shape))"
   ]
  },
  {
   "cell_type": "markdown",
   "id": "515e31a8-ef7d-4f7f-b756-4456bfb1f94b",
   "metadata": {},
   "source": [
    "#### Carve out \"baby_train\" and \"baby_val\" for fast-training model development & tweaking"
   ]
  },
  {
   "cell_type": "code",
   "execution_count": 43,
   "id": "923814e7-314a-4d19-9345-c62f4f62c61a",
   "metadata": {},
   "outputs": [
    {
     "name": "stdout",
     "output_type": "stream",
     "text": [
      "X_baby: (1232, 224, 273, 1), y_baby: (1232, 4)\n"
     ]
    }
   ],
   "source": [
    "_, X_baby, _, y_baby = train_test_split(X, y, test_size=0.023, stratify=y, random_state=42)\n",
    "print('X_baby: {}, y_baby: {}'.format(X_baby.shape, y_baby.shape))"
   ]
  },
  {
   "cell_type": "code",
   "execution_count": 44,
   "id": "46a5b8cf-7840-4c16-82ec-4d6a396cfaa4",
   "metadata": {},
   "outputs": [],
   "source": [
    "X_baby_train, X_baby_val, y_baby_train, y_baby_val = train_test_split(X_baby, y_baby, test_size=0.2, stratify=y_baby, random_state=42)"
   ]
  },
  {
   "cell_type": "code",
   "execution_count": 45,
   "id": "ad696124-01e2-4285-883b-b78022d98dae",
   "metadata": {},
   "outputs": [
    {
     "data": {
      "text/plain": [
       "[((0, 0, 0, 0), 30.438),\n",
       " ((1, 0, 0, 0), 11.851),\n",
       " ((0, 0, 0, 1), 11.445),\n",
       " ((0, 0, 1, 0), 9.578),\n",
       " ((1, 0, 0, 1), 8.929),\n",
       " ((0, 0, 1, 1), 5.601),\n",
       " ((1, 0, 1, 0), 3.734),\n",
       " ((1, 0, 1, 1), 3.49),\n",
       " ((0, 1, 1, 0), 3.247),\n",
       " ((0, 1, 0, 0), 3.247),\n",
       " ((0, 1, 1, 1), 2.11),\n",
       " ((0, 1, 0, 1), 1.542),\n",
       " ((1, 1, 0, 0), 1.38),\n",
       " ((1, 1, 0, 1), 1.218),\n",
       " ((1, 1, 1, 1), 1.136),\n",
       " ((1, 1, 1, 0), 1.055)]"
      ]
     },
     "execution_count": 45,
     "metadata": {},
     "output_type": "execute_result"
    }
   ],
   "source": [
    "c = Counter()\n",
    "for x in y_baby:\n",
    "    c[tuple(x)] += 1\n",
    "    \n",
    "for k in c.keys():\n",
    "     c[k] = round(100*c[k]/y_baby.shape[0], 3)\n",
    "    \n",
    "c.most_common()"
   ]
  },
  {
   "cell_type": "code",
   "execution_count": 46,
   "id": "3413139b-8eaa-40af-8bbf-0bdcf911d66c",
   "metadata": {},
   "outputs": [
    {
     "data": {
      "text/plain": [
       "[((0, 0, 0, 0), 30.457),\n",
       " ((1, 0, 0, 0), 11.878),\n",
       " ((0, 0, 0, 1), 11.472),\n",
       " ((0, 0, 1, 0), 9.543),\n",
       " ((1, 0, 0, 1), 8.934),\n",
       " ((0, 0, 1, 1), 5.584),\n",
       " ((1, 0, 1, 0), 3.756),\n",
       " ((1, 0, 1, 1), 3.452),\n",
       " ((0, 1, 1, 0), 3.249),\n",
       " ((0, 1, 0, 0), 3.249),\n",
       " ((0, 1, 1, 1), 2.132),\n",
       " ((0, 1, 0, 1), 1.523),\n",
       " ((1, 1, 0, 0), 1.421),\n",
       " ((1, 1, 0, 1), 1.218),\n",
       " ((1, 1, 1, 1), 1.117),\n",
       " ((1, 1, 1, 0), 1.015)]"
      ]
     },
     "execution_count": 46,
     "metadata": {},
     "output_type": "execute_result"
    }
   ],
   "source": [
    "c = Counter()\n",
    "for x in y_baby_train:\n",
    "    c[tuple(x)] += 1\n",
    "    \n",
    "for k in c.keys():\n",
    "     c[k] = round(100*c[k]/y_baby_train.shape[0], 3)\n",
    "    \n",
    "c.most_common()"
   ]
  },
  {
   "cell_type": "code",
   "execution_count": 47,
   "id": "43c6467e-4cad-47af-8aeb-a4350ae28a91",
   "metadata": {},
   "outputs": [
    {
     "data": {
      "text/plain": [
       "[((0, 0, 0, 0), 30.364),\n",
       " ((1, 0, 0, 0), 11.741),\n",
       " ((0, 0, 0, 1), 11.336),\n",
       " ((0, 0, 1, 0), 9.717),\n",
       " ((1, 0, 0, 1), 8.907),\n",
       " ((0, 0, 1, 1), 5.668),\n",
       " ((1, 0, 1, 0), 3.644),\n",
       " ((1, 0, 1, 1), 3.644),\n",
       " ((0, 1, 1, 0), 3.239),\n",
       " ((0, 1, 0, 0), 3.239),\n",
       " ((0, 1, 1, 1), 2.024),\n",
       " ((0, 1, 0, 1), 1.619),\n",
       " ((1, 1, 0, 0), 1.215),\n",
       " ((1, 1, 1, 1), 1.215),\n",
       " ((1, 1, 0, 1), 1.215),\n",
       " ((1, 1, 1, 0), 1.215)]"
      ]
     },
     "execution_count": 47,
     "metadata": {},
     "output_type": "execute_result"
    }
   ],
   "source": [
    "c = Counter()\n",
    "for x in y_baby_val:\n",
    "    c[tuple(x)] += 1\n",
    "    \n",
    "for k in c.keys():\n",
    "     c[k] = round(100*c[k]/y_baby_val.shape[0], 3)\n",
    "    \n",
    "c.most_common()"
   ]
  },
  {
   "cell_type": "code",
   "execution_count": 50,
   "id": "535b8482-ac9d-43a7-8422-2c74e3909c80",
   "metadata": {},
   "outputs": [],
   "source": [
    "del X, y, X_baby, y_baby"
   ]
  },
  {
   "cell_type": "code",
   "execution_count": 91,
   "id": "b102390e-e9cd-4c74-948b-e94430755237",
   "metadata": {},
   "outputs": [],
   "source": [
    "np.save(open('data2/X_train.dat', 'wb'), X_train, allow_pickle=False)"
   ]
  },
  {
   "cell_type": "code",
   "execution_count": 92,
   "id": "b369574b-2971-44c2-8cf5-653a684b1af7",
   "metadata": {},
   "outputs": [],
   "source": [
    "np.save(open('data2/X_val.dat', 'wb'), X_val, allow_pickle=False)"
   ]
  },
  {
   "cell_type": "code",
   "execution_count": 93,
   "id": "0c3ccf23-b103-410a-ad61-94fd8c97589f",
   "metadata": {},
   "outputs": [],
   "source": [
    "np.save(open('data2/X_test.dat', 'wb'), X_test, allow_pickle=False)"
   ]
  },
  {
   "cell_type": "code",
   "execution_count": 94,
   "id": "3716f1c4-15aa-4c50-9227-a187590043ed",
   "metadata": {},
   "outputs": [],
   "source": [
    "np.save(open('data2/y_train.dat', 'wb'), y_train, allow_pickle=False)"
   ]
  },
  {
   "cell_type": "code",
   "execution_count": 95,
   "id": "7c8f3db2-7692-4cb6-9635-1c6d90333f5b",
   "metadata": {},
   "outputs": [],
   "source": [
    "np.save(open('data2/y_val.dat', 'wb'), y_val, allow_pickle=False)"
   ]
  },
  {
   "cell_type": "code",
   "execution_count": 96,
   "id": "0a37741e-8a41-4e6d-b1bb-7944849fee49",
   "metadata": {},
   "outputs": [],
   "source": [
    "np.save(open('data2/y_test.dat', 'wb'), y_test, allow_pickle=False)"
   ]
  },
  {
   "cell_type": "code",
   "execution_count": 51,
   "id": "b41d1c63-14cb-4c14-9490-9dad40e6d2ce",
   "metadata": {},
   "outputs": [],
   "source": [
    "np.save(open('data2/X_baby_train.dat', 'wb'), X_baby_train, allow_pickle=False)"
   ]
  },
  {
   "cell_type": "code",
   "execution_count": 52,
   "id": "2b8f9a16-e750-4107-9aef-51338d4a013b",
   "metadata": {},
   "outputs": [],
   "source": [
    "np.save(open('data2/X_baby_val.dat', 'wb'), X_baby_val, allow_pickle=False)"
   ]
  },
  {
   "cell_type": "code",
   "execution_count": 53,
   "id": "3f955c23-e43e-42e2-9a24-f372a4ffd2b3",
   "metadata": {},
   "outputs": [],
   "source": [
    "np.save(open('data2/y_baby_train.dat', 'wb'), y_baby_train, allow_pickle=False)"
   ]
  },
  {
   "cell_type": "code",
   "execution_count": 54,
   "id": "2b9080ba-3fe0-4ec9-a645-091e86349d78",
   "metadata": {},
   "outputs": [],
   "source": [
    "np.save(open('data2/y_baby_val.dat', 'wb'), y_baby_val, allow_pickle=False)"
   ]
  },
  {
   "cell_type": "code",
   "execution_count": null,
   "id": "08acc373-034b-4c6a-92bf-d52b27c62a78",
   "metadata": {},
   "outputs": [],
   "source": []
  }
 ],
 "metadata": {
  "kernelspec": {
   "display_name": "Python [conda env:metis] *",
   "language": "python",
   "name": "conda-env-metis-py"
  },
  "language_info": {
   "codemirror_mode": {
    "name": "ipython",
    "version": 3
   },
   "file_extension": ".py",
   "mimetype": "text/x-python",
   "name": "python",
   "nbconvert_exporter": "python",
   "pygments_lexer": "ipython3",
   "version": "3.8.10"
  }
 },
 "nbformat": 4,
 "nbformat_minor": 5
}

{
 "cells": [
  {
   "cell_type": "code",
   "execution_count": 1,
   "id": "e00b528a-3835-44b7-9eb4-4e42a7e196fb",
   "metadata": {},
   "outputs": [],
   "source": [
    "import pandas as pd\n",
    "import seaborn as sns\n",
    "import sklearn"
   ]
  },
  {
   "cell_type": "code",
   "execution_count": 2,
   "id": "a33fc3e5-99db-4911-8aa0-582119a42def",
   "metadata": {},
   "outputs": [
    {
     "name": "stdout",
     "output_type": "stream",
     "text": [
      "Populating the interactive namespace from numpy and matplotlib\n"
     ]
    }
   ],
   "source": [
    "%pylab inline \n",
    "import seaborn as sns\n",
    "sns.set()\n",
    "from IPython.display import SVG"
   ]
  },
  {
   "cell_type": "code",
   "execution_count": 15,
   "id": "33501cc1-68bf-461f-929a-5660d7c00350",
   "metadata": {},
   "outputs": [],
   "source": [
    "from sklearn.model_selection import train_test_split\n",
    "from sklearn.metrics import accuracy_score, roc_auc_score, recall_score\n",
    "from sklearn.preprocessing import StandardScaler\n",
    "from sklearn.linear_model import LogisticRegression\n",
    "from sklearn.ensemble import RandomForestClassifier"
   ]
  },
  {
   "cell_type": "code",
   "execution_count": 4,
   "id": "649193b6-070a-4d08-b66c-69db7a793e87",
   "metadata": {},
   "outputs": [],
   "source": [
    "import numpy as np\n",
    "np.set_printoptions(suppress=True) # Suppress scientific notation where possible"
   ]
  },
  {
   "cell_type": "code",
   "execution_count": 5,
   "id": "51a6fd63-b96b-44f1-a014-0ee41ffe8427",
   "metadata": {},
   "outputs": [],
   "source": [
    "# Make some room to see stuff (i.e. drop display limits on Pandas rows & cols - be careful w/ big df's!)\n",
    "\n",
    "pd.set_option('display.max_rows', 200)\n",
    "pd.set_option('display.max_columns', None)"
   ]
  },
  {
   "cell_type": "markdown",
   "id": "563bb2ae-2a20-4d9e-900b-996e697601cb",
   "metadata": {},
   "source": [
    "# 1) Import the training data"
   ]
  },
  {
   "cell_type": "code",
   "execution_count": 6,
   "id": "2b8f9a16-e750-4107-9aef-51338d4a013b",
   "metadata": {},
   "outputs": [
    {
     "name": "stdout",
     "output_type": "stream",
     "text": [
      "(985, 224, 273, 1)\n",
      "(985, 4)\n",
      "(247, 224, 273, 1)\n",
      "(247, 4)\n"
     ]
    }
   ],
   "source": [
    "X_train = np.load('data2/X_baby_train.dat')\n",
    "y_train = np.load('data2/y_baby_train.dat')\n",
    "\n",
    "X_val = np.load('data2/X_baby_val.dat')\n",
    "y_val = np.load('data2/y_baby_val.dat')\n",
    "\n",
    "print(X_train.shape)\n",
    "print(y_train.shape)\n",
    "print(X_val.shape)\n",
    "print(y_val.shape)"
   ]
  },
  {
   "cell_type": "markdown",
   "id": "9eeec5d7-9a5e-4782-9e37-9b47163b5355",
   "metadata": {},
   "source": [
    "### Standardize the X Data"
   ]
  },
  {
   "cell_type": "code",
   "execution_count": 11,
   "id": "4a49b850-399a-4e1e-91ab-e074a313ae44",
   "metadata": {},
   "outputs": [
    {
     "name": "stdout",
     "output_type": "stream",
     "text": [
      "(985, 224, 273, 1)\n",
      "(247, 224, 273, 1)\n"
     ]
    }
   ],
   "source": [
    "print(X_train.shape)\n",
    "print(X_val.shape)"
   ]
  },
  {
   "cell_type": "code",
   "execution_count": 12,
   "id": "03e48ee4-9766-423f-82ad-757394c93464",
   "metadata": {},
   "outputs": [
    {
     "name": "stdout",
     "output_type": "stream",
     "text": [
      "(985, 61152)\n",
      "(247, 61152)\n"
     ]
    }
   ],
   "source": [
    "scaler = StandardScaler()\n",
    "\n",
    "X_train_scaled = scaler.fit_transform(X_train.reshape((985, 224*273)))\n",
    "\n",
    "X_val_scaled = scaler.transform(X_val.reshape((247, 224*273)))\n",
    "\n",
    "print(X_train_scaled.shape)\n",
    "print(X_val_scaled.shape)"
   ]
  },
  {
   "cell_type": "markdown",
   "id": "962a742d-9a5a-49b3-b818-26208c3a9689",
   "metadata": {},
   "source": [
    "# 2) Random Forest Classifier (multi-label)"
   ]
  },
  {
   "cell_type": "code",
   "execution_count": 48,
   "id": "b1608e22-85bd-4330-9fe7-844a6ed8c47d",
   "metadata": {},
   "outputs": [
    {
     "data": {
      "text/plain": [
       "RandomForestClassifier(n_estimators=500, random_state=42)"
      ]
     },
     "execution_count": 48,
     "metadata": {},
     "output_type": "execute_result"
    }
   ],
   "source": [
    "model1 = RandomForestClassifier(n_estimators=500, random_state=42)\n",
    "model1.fit(X_train_scaled, y_train)"
   ]
  },
  {
   "cell_type": "code",
   "execution_count": 49,
   "id": "8acead51-97e7-4186-8489-de381e19f553",
   "metadata": {},
   "outputs": [
    {
     "data": {
      "text/plain": [
       "0.5541559494027695"
      ]
     },
     "execution_count": 49,
     "metadata": {},
     "output_type": "execute_result"
    }
   ],
   "source": [
    "y_pred = model1.predict(X_val_scaled)\n",
    "\n",
    "roc_auc_score(y_val, y_pred, average='micro')"
   ]
  },
  {
   "cell_type": "code",
   "execution_count": 50,
   "id": "5c92c692-47b7-48be-9d24-34eab09bdcbb",
   "metadata": {},
   "outputs": [
    {
     "data": {
      "text/plain": [
       "array([0.4939759 , 0.5       , 0.53794574, 0.63647084])"
      ]
     },
     "execution_count": 50,
     "metadata": {},
     "output_type": "execute_result"
    }
   ],
   "source": [
    "roc_auc_score(y_val, y_pred, average=None)"
   ]
  },
  {
   "cell_type": "markdown",
   "id": "9905f27f-f049-4abd-95c5-51b8e2a70bd7",
   "metadata": {},
   "source": [
    "# 3) Logistic Regression on just the first target (diagnosis = 'Atelectasis')"
   ]
  },
  {
   "cell_type": "code",
   "execution_count": 79,
   "id": "a8c14515-51b0-482f-9eb9-55ad929c3777",
   "metadata": {},
   "outputs": [
    {
     "data": {
      "text/plain": [
       "LogisticRegression(C=0.0005, max_iter=10000, random_state=42)"
      ]
     },
     "execution_count": 79,
     "metadata": {},
     "output_type": "execute_result"
    }
   ],
   "source": [
    "model2 = LogisticRegression(penalty='l2', C=0.0005, max_iter=10000, random_state=42)\n",
    "model2.fit(X_train_scaled, y_train[:, 0])"
   ]
  },
  {
   "cell_type": "code",
   "execution_count": 80,
   "id": "841dfc18-e527-4d5d-a1ad-6ae1cb781084",
   "metadata": {},
   "outputs": [
    {
     "data": {
      "text/plain": [
       "0.5567455005206009"
      ]
     },
     "execution_count": 80,
     "metadata": {},
     "output_type": "execute_result"
    }
   ],
   "source": [
    "y_pred = model2.predict(X_val_scaled)\n",
    "\n",
    "roc_auc_score(y_val[:, 0], y_pred)"
   ]
  },
  {
   "cell_type": "code",
   "execution_count": 147,
   "id": "52ef0607-962b-4f9a-bdfb-a05bc9c86202",
   "metadata": {},
   "outputs": [
    {
     "data": {
      "text/plain": [
       "RandomForestClassifier(n_estimators=500, random_state=42)"
      ]
     },
     "execution_count": 147,
     "metadata": {},
     "output_type": "execute_result"
    }
   ],
   "source": [
    "model2b = RandomForestClassifier(n_estimators=500, random_state=42)\n",
    "model2b.fit(X_train_scaled, y_train[:, 0])"
   ]
  },
  {
   "cell_type": "code",
   "execution_count": 148,
   "id": "630c17f2-cb2b-4ecf-96ca-8cf288b9cce6",
   "metadata": {},
   "outputs": [
    {
     "data": {
      "text/plain": [
       "0.5124944221329764"
      ]
     },
     "execution_count": 148,
     "metadata": {},
     "output_type": "execute_result"
    }
   ],
   "source": [
    "y_pred = model2b.predict(X_val_scaled)\n",
    "\n",
    "roc_auc_score(y_val[:, 0], y_pred)"
   ]
  },
  {
   "cell_type": "markdown",
   "id": "d1a6b850-5ba0-4d84-9f85-54d2352187b6",
   "metadata": {},
   "source": [
    "# 4) Logistic Regression on just the second target (diagnosis = 'Cardiomegaly')"
   ]
  },
  {
   "cell_type": "code",
   "execution_count": 92,
   "id": "3a28761d-c3ee-4989-bdb3-f1a1525d3e64",
   "metadata": {},
   "outputs": [
    {
     "data": {
      "text/plain": [
       "LogisticRegression(C=0.025, max_iter=10000, random_state=42)"
      ]
     },
     "execution_count": 92,
     "metadata": {},
     "output_type": "execute_result"
    }
   ],
   "source": [
    "model3 = LogisticRegression(penalty='l2', C=0.025, max_iter=10000, random_state=42)\n",
    "model3.fit(X_train_scaled, y_train[:, 1])"
   ]
  },
  {
   "cell_type": "code",
   "execution_count": 93,
   "id": "dacabade-02fa-4f3e-93a5-595c6df0d79a",
   "metadata": {},
   "outputs": [
    {
     "data": {
      "text/plain": [
       "0.5755469755469755"
      ]
     },
     "execution_count": 93,
     "metadata": {},
     "output_type": "execute_result"
    }
   ],
   "source": [
    "y_pred = model3.predict(X_val_scaled)\n",
    "\n",
    "roc_auc_score(y_val[:, 1], y_pred)"
   ]
  },
  {
   "cell_type": "code",
   "execution_count": 153,
   "id": "648e7a8d-be9e-4d72-84d4-97cfaa83831e",
   "metadata": {},
   "outputs": [
    {
     "data": {
      "text/plain": [
       "RandomForestClassifier(random_state=42)"
      ]
     },
     "execution_count": 153,
     "metadata": {},
     "output_type": "execute_result"
    }
   ],
   "source": [
    "model3b = RandomForestClassifier(n_estimators=500, random_state=42)\n",
    "model3b.fit(X_train_scaled, y_train[:, 1])"
   ]
  },
  {
   "cell_type": "code",
   "execution_count": 150,
   "id": "f6bf6b6f-3b9d-4c91-9cb0-d82702e9aede",
   "metadata": {},
   "outputs": [
    {
     "data": {
      "text/plain": [
       "0.4976190476190476"
      ]
     },
     "execution_count": 150,
     "metadata": {},
     "output_type": "execute_result"
    }
   ],
   "source": [
    "y_pred = model3b.predict(X_val_scaled)\n",
    "\n",
    "roc_auc_score(y_val[:, 1], y_pred)"
   ]
  },
  {
   "cell_type": "markdown",
   "id": "c1d86d2e-5b8c-4d6f-8550-626c460bb304",
   "metadata": {},
   "source": [
    "# 5) Logistic Regression on just the third target (diagnosis = 'Edema')"
   ]
  },
  {
   "cell_type": "code",
   "execution_count": 122,
   "id": "3d39ab46-f893-41ea-b2bf-fd448286965a",
   "metadata": {},
   "outputs": [
    {
     "data": {
      "text/plain": [
       "LogisticRegression(C=7.5e-05, max_iter=10000, random_state=42)"
      ]
     },
     "execution_count": 122,
     "metadata": {},
     "output_type": "execute_result"
    }
   ],
   "source": [
    "model4 = LogisticRegression(penalty='l2', C=0.000075, max_iter=10000, random_state=42)\n",
    "model4.fit(X_train_scaled, y_train[:, 2])"
   ]
  },
  {
   "cell_type": "code",
   "execution_count": 123,
   "id": "cd7fd6b6-8c00-40ff-957a-65905e102d6a",
   "metadata": {},
   "outputs": [
    {
     "data": {
      "text/plain": [
       "0.5734883720930233"
      ]
     },
     "execution_count": 123,
     "metadata": {},
     "output_type": "execute_result"
    }
   ],
   "source": [
    "y_pred = model4.predict(X_val_scaled)\n",
    "\n",
    "roc_auc_score(y_val[:, 2], y_pred)"
   ]
  },
  {
   "cell_type": "code",
   "execution_count": 158,
   "id": "7dd46be7-18b2-4748-bf6c-0e6ea2a4506d",
   "metadata": {},
   "outputs": [
    {
     "data": {
      "text/plain": [
       "RandomForestClassifier(random_state=42)"
      ]
     },
     "execution_count": 158,
     "metadata": {},
     "output_type": "execute_result"
    }
   ],
   "source": [
    "model4b = RandomForestClassifier(n_estimators=100, random_state=42)\n",
    "model4b.fit(X_train_scaled, y_train[:, 2])"
   ]
  },
  {
   "cell_type": "code",
   "execution_count": 159,
   "id": "a76484be-5fba-4923-830f-317ff80b6c60",
   "metadata": {},
   "outputs": [
    {
     "data": {
      "text/plain": [
       "0.5463178294573643"
      ]
     },
     "execution_count": 159,
     "metadata": {},
     "output_type": "execute_result"
    }
   ],
   "source": [
    "y_pred = model4b.predict(X_val_scaled)\n",
    "\n",
    "roc_auc_score(y_val[:, 2], y_pred)"
   ]
  },
  {
   "cell_type": "markdown",
   "id": "ba578277-4ac6-4c03-bf93-3f5fbcb2f42d",
   "metadata": {},
   "source": [
    "# 6) Logistic Regression on just the fourth target (diagnosis = 'Pleural Effusion')"
   ]
  },
  {
   "cell_type": "code",
   "execution_count": 136,
   "id": "4458c92e-6645-4a70-bded-ce0573683d3c",
   "metadata": {},
   "outputs": [
    {
     "data": {
      "text/plain": [
       "LogisticRegression(C=5e-05, max_iter=10000, random_state=42)"
      ]
     },
     "execution_count": 136,
     "metadata": {},
     "output_type": "execute_result"
    }
   ],
   "source": [
    "model5 = LogisticRegression(penalty='l2', C=0.00005, max_iter=10000, random_state=42)\n",
    "model5.fit(X_train_scaled, y_train[:, 3])"
   ]
  },
  {
   "cell_type": "code",
   "execution_count": 137,
   "id": "140e4291-4ba9-42ca-acbc-e3b0c403513b",
   "metadata": {},
   "outputs": [
    {
     "data": {
      "text/plain": [
       "0.6038093196112064"
      ]
     },
     "execution_count": 137,
     "metadata": {},
     "output_type": "execute_result"
    }
   ],
   "source": [
    "y_pred = model5.predict(X_val_scaled)\n",
    "\n",
    "roc_auc_score(y_val[:, 3], y_pred)"
   ]
  },
  {
   "cell_type": "code",
   "execution_count": 169,
   "id": "97dd36d7-2322-415b-bf10-a1e3e0325cf4",
   "metadata": {},
   "outputs": [
    {
     "data": {
      "text/plain": [
       "RandomForestClassifier(random_state=42)"
      ]
     },
     "execution_count": 169,
     "metadata": {},
     "output_type": "execute_result"
    }
   ],
   "source": [
    "model5b = RandomForestClassifier(n_estimators=100, random_state=42)\n",
    "model5b.fit(X_train_scaled, y_train[:, 3])"
   ]
  },
  {
   "cell_type": "code",
   "execution_count": 170,
   "id": "c9d6a738-dab1-4639-b69e-49a8e444b58b",
   "metadata": {},
   "outputs": [
    {
     "data": {
      "text/plain": [
       "0.6168882218410521"
      ]
     },
     "execution_count": 170,
     "metadata": {},
     "output_type": "execute_result"
    }
   ],
   "source": [
    "y_pred = model5b.predict(X_val_scaled)\n",
    "\n",
    "roc_auc_score(y_val[:, 3], y_pred)"
   ]
  },
  {
   "cell_type": "code",
   "execution_count": null,
   "id": "c19f0a8a-348e-46cf-a6a1-ddd483ae77d7",
   "metadata": {},
   "outputs": [],
   "source": []
  },
  {
   "cell_type": "code",
   "execution_count": null,
   "id": "b19bc7da-26d7-45c2-b681-86b9bdee39fd",
   "metadata": {},
   "outputs": [],
   "source": []
  },
  {
   "cell_type": "code",
   "execution_count": null,
   "id": "2a9fbdd7-a66e-4dda-83f3-b29121983cdb",
   "metadata": {},
   "outputs": [],
   "source": []
  }
 ],
 "metadata": {
  "kernelspec": {
   "display_name": "Python [conda env:metis] *",
   "language": "python",
   "name": "conda-env-metis-py"
  },
  "language_info": {
   "codemirror_mode": {
    "name": "ipython",
    "version": 3
   },
   "file_extension": ".py",
   "mimetype": "text/x-python",
   "name": "python",
   "nbconvert_exporter": "python",
   "pygments_lexer": "ipython3",
   "version": "3.8.10"
  }
 },
 "nbformat": 4,
 "nbformat_minor": 5
}

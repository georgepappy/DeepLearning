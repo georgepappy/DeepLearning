{
 "cells": [
  {
   "cell_type": "code",
   "execution_count": 1,
   "id": "6029c44f-093b-489c-b197-fc47ab4f5d99",
   "metadata": {},
   "outputs": [],
   "source": [
    "import pandas as pd\n",
    "import seaborn as sns\n",
    "import sklearn\n",
    "from tensorflow import keras"
   ]
  },
  {
   "cell_type": "code",
   "execution_count": 2,
   "id": "d19eeb9b-df83-4fe0-81b0-d10461b35e50",
   "metadata": {},
   "outputs": [
    {
     "name": "stdout",
     "output_type": "stream",
     "text": [
      "Populating the interactive namespace from numpy and matplotlib\n"
     ]
    }
   ],
   "source": [
    "%pylab inline \n",
    "import seaborn as sns\n",
    "sns.set()\n",
    "from IPython.display import SVG"
   ]
  },
  {
   "cell_type": "code",
   "execution_count": 4,
   "id": "5488f8f2-f62c-4a56-82eb-73907c54d81f",
   "metadata": {},
   "outputs": [],
   "source": [
    "from sklearn.model_selection import train_test_split\n",
    "from sklearn.metrics import accuracy_score, roc_auc_score, recall_score\n",
    "from sklearn.preprocessing import StandardScaler\n",
    "from sklearn.linear_model import LogisticRegression"
   ]
  },
  {
   "cell_type": "code",
   "execution_count": 5,
   "id": "5a304d70-4256-4c5d-bbdc-09d326ae4c5b",
   "metadata": {},
   "outputs": [],
   "source": [
    "from tensorflow.keras.models import Sequential\n",
    "from tensorflow.keras.layers import Dense, Conv2D, MaxPooling2D, Flatten, GlobalAveragePooling2D, InputLayer, Input, Dropout, BatchNormalization"
   ]
  },
  {
   "cell_type": "code",
   "execution_count": 6,
   "id": "41326ae9-b8bc-4480-9568-2e59c82eca83",
   "metadata": {},
   "outputs": [],
   "source": [
    "from tensorflow.keras.utils import to_categorical"
   ]
  },
  {
   "cell_type": "code",
   "execution_count": 7,
   "id": "13f3bf48-0eb5-4fb6-a444-c74dc24d7488",
   "metadata": {},
   "outputs": [],
   "source": [
    "from tensorflow.keras.preprocessing.image import ImageDataGenerator"
   ]
  },
  {
   "cell_type": "code",
   "execution_count": 8,
   "id": "6a51961f-cbdc-47b6-ad75-070ee22197d8",
   "metadata": {},
   "outputs": [],
   "source": [
    "from tensorflow.keras.callbacks import EarlyStopping, ReduceLROnPlateau, LambdaCallback, LearningRateScheduler"
   ]
  },
  {
   "cell_type": "code",
   "execution_count": 9,
   "id": "5d77d535-c8ed-47c2-a568-129ad1a1457a",
   "metadata": {},
   "outputs": [],
   "source": [
    "from tensorflow.keras.models import load_model, Model"
   ]
  },
  {
   "cell_type": "code",
   "execution_count": 10,
   "id": "4ccd0603-5e0a-4c82-a466-2a69b960b268",
   "metadata": {},
   "outputs": [],
   "source": [
    "from tensorflow.keras import regularizers"
   ]
  },
  {
   "cell_type": "code",
   "execution_count": 11,
   "id": "e13efcdc-c233-4818-8694-19b82380b96f",
   "metadata": {},
   "outputs": [],
   "source": [
    "import numpy as np\n",
    "np.set_printoptions(suppress=True) # Suppress scientific notation where possible"
   ]
  },
  {
   "cell_type": "code",
   "execution_count": 12,
   "id": "6e13f88e-6ee0-4ec9-9c0f-89a604aff42c",
   "metadata": {},
   "outputs": [],
   "source": [
    "# Make some room to see stuff (i.e. drop display limits on Pandas rows & cols - be careful w/ big df's!)\n",
    "\n",
    "pd.set_option('display.max_rows', 200)\n",
    "pd.set_option('display.max_columns', None)"
   ]
  },
  {
   "cell_type": "markdown",
   "id": "e7bed9d2-800d-4329-8a82-ab7c31042ec4",
   "metadata": {},
   "source": [
    "(Class below comes from: https://stackoverflow.com/questions/67271590/issue-with-custom-metric-auc-callback-for-keras)"
   ]
  },
  {
   "cell_type": "code",
   "execution_count": 13,
   "id": "cd8711da-147d-426c-85a9-1cbf76626899",
   "metadata": {},
   "outputs": [],
   "source": [
    "# Custom skelearn-based AUROC calculation class for use with the FULL validation \n",
    "#   set (not just mini-batches) at the end of each training epoch\n",
    "\n",
    "class ROAUCMetrics(keras.callbacks.Callback):\n",
    "    def __init__(self, val_data):\n",
    "        super().__init__()\n",
    "        self.valid_x = val_data[0]\n",
    "        self.valid_y = val_data[1]\n",
    "\n",
    "    def on_train_begin(self, logs={}):\n",
    "        self.val_aucs = []\n",
    "\n",
    "    def on_epoch_end(self, epoch, logs={}):\n",
    "        pred = self.model.predict(self.valid_x)\n",
    "        val_auc = roc_auc_score(self.valid_y, pred,  average='micro')\n",
    "        print('\\nval-roc-auc: %s' % (str(round(val_auc,4))),end=100*' '+'\\n\\n')\n",
    "        self.val_aucs.append(val_auc)\n",
    "        return"
   ]
  },
  {
   "cell_type": "markdown",
   "id": "81ed1e7a-d89e-4ddf-9189-c2900c5b3302",
   "metadata": {},
   "source": [
    "# 1) Import the full validation dataset"
   ]
  },
  {
   "cell_type": "code",
   "execution_count": 15,
   "id": "3458f507-4185-4437-92b3-fe4e37ae2c32",
   "metadata": {},
   "outputs": [
    {
     "name": "stdout",
     "output_type": "stream",
     "text": [
      "(8029, 224, 273, 1)\n",
      "(8029, 4)\n"
     ]
    }
   ],
   "source": [
    "X_val_full = np.load('data2/X_val.dat')\n",
    "y_val_full = np.load('data2/y_val.dat')\n",
    "\n",
    "print(X_val_full.shape)\n",
    "print(y_val_full.shape)"
   ]
  },
  {
   "cell_type": "code",
   "execution_count": 16,
   "id": "8fb8650d-d1e8-4489-a7b2-73f2c4cf9c52",
   "metadata": {},
   "outputs": [],
   "source": [
    "y_val_full = y_val_full.astype(float) "
   ]
  },
  {
   "cell_type": "markdown",
   "id": "1d5d53ea-89cd-4a72-ba27-2ce93455ad79",
   "metadata": {},
   "source": [
    "# 2) Try the full dataset on the baby models"
   ]
  },
  {
   "cell_type": "markdown",
   "id": "0ac02f7e-7f58-442a-b63b-b6bb1cc6aee0",
   "metadata": {},
   "source": [
    "## 2a) VGG16 + 3 Dense Layers (128, 64, 1, dropout) w/ trainable layer_5 (Target 0: 'Atelectasis')\n",
    "#### Dropout = 0.30, l1_reg = 0.00001, l2_reg = 0.0001"
   ]
  },
  {
   "cell_type": "code",
   "execution_count": 17,
   "id": "628527af-18a2-49ae-9f7d-d165eca89278",
   "metadata": {},
   "outputs": [
    {
     "name": "stderr",
     "output_type": "stream",
     "text": [
      "2022-01-21 09:48:01.153652: I tensorflow/core/platform/cpu_feature_guard.cc:142] This TensorFlow binary is optimized with oneAPI Deep Neural Network Library (oneDNN) to use the following CPU instructions in performance-critical operations:  AVX2 FMA\n",
      "To enable them in other operations, rebuild TensorFlow with the appropriate compiler flags.\n",
      "2022-01-21 09:48:02.404639: I tensorflow/compiler/mlir/mlir_graph_optimization_pass.cc:176] None of the MLIR Optimization Passes are enabled (registered 2)\n"
     ]
    }
   ],
   "source": [
    "model_0 = load_model('models_baby2/model_10.13-0.6911.hdf5')\n",
    "\n",
    "y_pred_val_full = model_0.predict(X_val_full)"
   ]
  },
  {
   "cell_type": "code",
   "execution_count": 33,
   "id": "33a68c64-a122-4392-82aa-4adfc27b147d",
   "metadata": {},
   "outputs": [
    {
     "data": {
      "text/plain": [
       "{'name': 'Adam',\n",
       " 'learning_rate': 0.000125,\n",
       " 'decay': 0.0,\n",
       " 'beta_1': 0.9,\n",
       " 'beta_2': 0.999,\n",
       " 'epsilon': 1e-07,\n",
       " 'amsgrad': False}"
      ]
     },
     "execution_count": 33,
     "metadata": {},
     "output_type": "execute_result"
    }
   ],
   "source": [
    "model_0.optimizer.get_config()"
   ]
  },
  {
   "cell_type": "markdown",
   "id": "9fc3277e-4393-43ca-9e8f-aebb0b903f02",
   "metadata": {},
   "source": [
    "### Baby Dataset Results:\n",
    "\n",
    "#### PRIMARY TARGET (0):\n",
    "\n",
    "#### Validation AUC: 0.6911\n",
    "\n",
    "#### Training AUC: 0.7066"
   ]
  },
  {
   "cell_type": "markdown",
   "id": "12532a4e-4ca7-4fc8-b7d3-1ffab8e40621",
   "metadata": {},
   "source": [
    "### Full Validation Set Results (on Baby-Trained Model):"
   ]
  },
  {
   "cell_type": "code",
   "execution_count": 18,
   "id": "8624332b-eb50-4421-90a0-6d34d320a86e",
   "metadata": {},
   "outputs": [
    {
     "name": "stdout",
     "output_type": "stream",
     "text": [
      "PRIMARY TARGET (0):\n",
      "Full Validation Set AUC: 0.641\n"
     ]
    }
   ],
   "source": [
    "print('PRIMARY TARGET ({}):'.format(0))\n",
    "print('Full Validation Set AUC: {}'.format(round(roc_auc_score(y_val_full[:,0], y_pred_val_full), 4)))"
   ]
  },
  {
   "cell_type": "code",
   "execution_count": 19,
   "id": "b16cd137-39d1-4df6-ad93-6bc25fe335ca",
   "metadata": {},
   "outputs": [
    {
     "name": "stdout",
     "output_type": "stream",
     "text": [
      "SECONDARY TARGET (1):\n",
      "Full Validation Set AUC: 0.547\n"
     ]
    }
   ],
   "source": [
    "print('SECONDARY TARGET ({}):'.format(1))\n",
    "print('Full Validation Set AUC: {}'.format(round(roc_auc_score(y_val_full[:,1], y_pred_val_full), 4)))"
   ]
  },
  {
   "cell_type": "code",
   "execution_count": 20,
   "id": "27399d10-0c96-4a2a-bd8f-fc4ff437dd8f",
   "metadata": {},
   "outputs": [
    {
     "name": "stdout",
     "output_type": "stream",
     "text": [
      "SECONDARY TARGET (2):\n",
      "Full Validation Set AUC: 0.63\n"
     ]
    }
   ],
   "source": [
    "print('SECONDARY TARGET ({}):'.format(2))\n",
    "print('Full Validation Set AUC: {}'.format(round(roc_auc_score(y_val_full[:,2], y_pred_val_full), 4)))"
   ]
  },
  {
   "cell_type": "code",
   "execution_count": 21,
   "id": "14125853-4eb3-4312-86eb-baa5fee27ad2",
   "metadata": {},
   "outputs": [
    {
     "name": "stdout",
     "output_type": "stream",
     "text": [
      "SECONDARY TARGET (3):\n",
      "Full Validation Set AUC: 0.6959\n"
     ]
    }
   ],
   "source": [
    "print('SECONDARY TARGET ({}):'.format(3))\n",
    "print('Full Validation Set AUC: {}'.format(round(roc_auc_score(y_val_full[:,3], y_pred_val_full), 4)))"
   ]
  },
  {
   "cell_type": "markdown",
   "id": "3603ced0-58f5-4296-b7b7-ae9c30cf2e81",
   "metadata": {},
   "source": [
    "## 2b) VGG16 + 3 Dense Layers (128, 64, 1, dropout) w/ trainable layer_5 (Target 1: 'Cardiomegaly')\n",
    "#### Dropout = 0.35, l1_reg = 0.00001, l2_reg = 0.0001"
   ]
  },
  {
   "cell_type": "code",
   "execution_count": 40,
   "id": "43ccf27e-422b-4c8e-929c-3fe5ec462a87",
   "metadata": {},
   "outputs": [],
   "source": [
    "model_1 = load_model('models_baby/model_10.07-0.6224.hdf5')\n",
    "\n",
    "y_pred_val_full = model_1.predict(X_val_full)"
   ]
  },
  {
   "cell_type": "code",
   "execution_count": 41,
   "id": "43a0310d-55d2-43eb-91be-f8077c344737",
   "metadata": {},
   "outputs": [
    {
     "data": {
      "text/plain": [
       "{'name': 'Adam',\n",
       " 'learning_rate': 0.00025,\n",
       " 'decay': 0.0,\n",
       " 'beta_1': 0.9,\n",
       " 'beta_2': 0.999,\n",
       " 'epsilon': 1e-07,\n",
       " 'amsgrad': False}"
      ]
     },
     "execution_count": 41,
     "metadata": {},
     "output_type": "execute_result"
    }
   ],
   "source": [
    "model_1.optimizer.get_config()"
   ]
  },
  {
   "cell_type": "markdown",
   "id": "6dbe0ac6-49e3-4925-aad9-289a8857dc58",
   "metadata": {},
   "source": [
    "### Baby Dataset Results:\n",
    "\n",
    "#### PRIMARY TARGET (1):\n",
    "#### Validation AUC: 0.6224\n",
    "#### Training AUC: 0.7687"
   ]
  },
  {
   "cell_type": "markdown",
   "id": "892f9b18-7f3f-4bba-aea8-f0c77a7f623c",
   "metadata": {},
   "source": [
    "### Full Validation Set Results (on Baby-Trained Model):"
   ]
  },
  {
   "cell_type": "code",
   "execution_count": 42,
   "id": "141857f6-d852-4f00-afc9-8daf47d65671",
   "metadata": {},
   "outputs": [
    {
     "name": "stdout",
     "output_type": "stream",
     "text": [
      "PRIMARY TARGET (1):\n",
      "Full Validation Set AUC: 0.6702\n"
     ]
    }
   ],
   "source": [
    "print('PRIMARY TARGET ({}):'.format(1))\n",
    "print('Full Validation Set AUC: {}'.format(round(roc_auc_score(y_val_full[:,1], y_pred_val_full), 4)))"
   ]
  },
  {
   "cell_type": "code",
   "execution_count": 43,
   "id": "6cd9243f-d606-476c-a26e-eede8fd21c3c",
   "metadata": {},
   "outputs": [
    {
     "name": "stdout",
     "output_type": "stream",
     "text": [
      "SECONDARY TARGET (0):\n",
      "Full Validation Set AUC: 0.581\n"
     ]
    }
   ],
   "source": [
    "print('SECONDARY TARGET ({}):'.format(0))\n",
    "print('Full Validation Set AUC: {}'.format(round(roc_auc_score(y_val_full[:,0], y_pred_val_full), 4)))"
   ]
  },
  {
   "cell_type": "code",
   "execution_count": 44,
   "id": "ffab1f3c-f25f-4222-90e5-ba595715d73f",
   "metadata": {},
   "outputs": [
    {
     "name": "stdout",
     "output_type": "stream",
     "text": [
      "SECONDARY TARGET (2):\n",
      "Full Validation Set AUC: 0.6266\n"
     ]
    }
   ],
   "source": [
    "print('SECONDARY TARGET ({}):'.format(2))\n",
    "print('Full Validation Set AUC: {}'.format(round(roc_auc_score(y_val_full[:,2], y_pred_val_full), 4)))"
   ]
  },
  {
   "cell_type": "code",
   "execution_count": 45,
   "id": "7226b0a9-816c-4169-9d0b-3ecc6c7b7753",
   "metadata": {},
   "outputs": [
    {
     "name": "stdout",
     "output_type": "stream",
     "text": [
      "SECONDARY TARGET (3):\n",
      "Full Validation Set AUC: 0.6115\n"
     ]
    }
   ],
   "source": [
    "print('SECONDARY TARGET ({}):'.format(3))\n",
    "print('Full Validation Set AUC: {}'.format(round(roc_auc_score(y_val_full[:,3], y_pred_val_full), 4)))"
   ]
  },
  {
   "cell_type": "markdown",
   "id": "e44c022a-e927-406b-89bc-b7d83418e811",
   "metadata": {},
   "source": [
    "## 2c) VGG16 + 3 Dense Layers (128, 64, 1, dropout) w/ trainable layer_5 (Target 2: 'Edema')\n",
    "#### Dropout = 0.35, l1_reg = 0.00025, l2_reg = 0.0025"
   ]
  },
  {
   "cell_type": "code",
   "execution_count": 26,
   "id": "891b41a3-72fa-4bcf-b87d-a2f41af00c41",
   "metadata": {},
   "outputs": [],
   "source": [
    "model_2 = load_model('models_baby2/model_11.04-0.7043.hdf5')\n",
    "\n",
    "y_pred_val_full = model_2.predict(X_val_full)"
   ]
  },
  {
   "cell_type": "code",
   "execution_count": 31,
   "id": "25cec0c0-874b-44ea-9071-a260c734c3a6",
   "metadata": {},
   "outputs": [
    {
     "data": {
      "text/plain": [
       "{'name': 'Adam',\n",
       " 'learning_rate': 0.00025,\n",
       " 'decay': 0.0,\n",
       " 'beta_1': 0.9,\n",
       " 'beta_2': 0.999,\n",
       " 'epsilon': 1e-07,\n",
       " 'amsgrad': False}"
      ]
     },
     "execution_count": 31,
     "metadata": {},
     "output_type": "execute_result"
    }
   ],
   "source": [
    "model_2.optimizer.get_config()"
   ]
  },
  {
   "cell_type": "markdown",
   "id": "ac2666e5-c7b4-406d-9cc5-f6b537f21fc0",
   "metadata": {},
   "source": [
    "### Baby Dataset Results:\n",
    "#### PRIMARY TARGET (2):\n",
    "#### Validation AUC: 0.7043\n",
    "#### Training AUC: 0.7376"
   ]
  },
  {
   "cell_type": "markdown",
   "id": "3a2760e0-0f4b-431b-8dd2-f290e0e27ebc",
   "metadata": {},
   "source": [
    "### Full Validation Set Results (on Baby-Trained Model):"
   ]
  },
  {
   "cell_type": "code",
   "execution_count": 27,
   "id": "1cbda373-8cca-45d0-ac3b-6a9bb4ac525f",
   "metadata": {},
   "outputs": [
    {
     "name": "stdout",
     "output_type": "stream",
     "text": [
      "PRIMARY TARGET (2):\n",
      "Full Validation Set AUC: 0.6749\n"
     ]
    }
   ],
   "source": [
    "print('PRIMARY TARGET ({}):'.format(2))\n",
    "print('Full Validation Set AUC: {}'.format(round(roc_auc_score(y_val_full[:,2], y_pred_val_full), 4)))"
   ]
  },
  {
   "cell_type": "code",
   "execution_count": 28,
   "id": "3fea7f6c-cc9b-4b51-9bed-0848cadd7448",
   "metadata": {},
   "outputs": [
    {
     "name": "stdout",
     "output_type": "stream",
     "text": [
      "SECONDARY TARGET (0):\n",
      "Full Validation Set AUC: 0.6022\n"
     ]
    }
   ],
   "source": [
    "print('SECONDARY TARGET ({}):'.format(0))\n",
    "print('Full Validation Set AUC: {}'.format(round(roc_auc_score(y_val_full[:,0], y_pred_val_full), 4)))"
   ]
  },
  {
   "cell_type": "code",
   "execution_count": 29,
   "id": "ed22c682-1307-4142-8623-9e1c451f48ec",
   "metadata": {},
   "outputs": [
    {
     "name": "stdout",
     "output_type": "stream",
     "text": [
      "SECONDARY TARGET (1):\n",
      "Full Validation Set AUC: 0.5761\n"
     ]
    }
   ],
   "source": [
    "print('SECONDARY TARGET ({}):'.format(1))\n",
    "print('Full Validation Set AUC: {}'.format(round(roc_auc_score(y_val_full[:,1], y_pred_val_full), 4)))"
   ]
  },
  {
   "cell_type": "code",
   "execution_count": 30,
   "id": "f11854bf-508d-4236-8196-368a1e1da1e0",
   "metadata": {},
   "outputs": [
    {
     "name": "stdout",
     "output_type": "stream",
     "text": [
      "SECONDARY TARGET (3):\n",
      "Full Validation Set AUC: 0.6554\n"
     ]
    }
   ],
   "source": [
    "print('SECONDARY TARGET ({}):'.format(3))\n",
    "print('Full Validation Set AUC: {}'.format(round(roc_auc_score(y_val_full[:,3], y_pred_val_full), 4)))"
   ]
  },
  {
   "cell_type": "markdown",
   "id": "d0d0cb48-50c3-41e3-a279-074cdf3a56f7",
   "metadata": {},
   "source": [
    "## 2d) VGG16 + 3 Dense Layers (128, 64, 1, dropout) w/ trainable layer_5 (Target 3: 'Pleural Effusion')\n",
    "#### Dropout = 0.40, l1_reg = 0.00001, l2_reg = 0.0001"
   ]
  },
  {
   "cell_type": "code",
   "execution_count": 34,
   "id": "f103ae1b-33aa-4d68-ba69-9fd25bd360ec",
   "metadata": {},
   "outputs": [],
   "source": [
    "model_3 = load_model('models_baby3/model_6.08-0.7715.hdf5')\n",
    "\n",
    "y_pred_val_full = model_3.predict(X_val_full)"
   ]
  },
  {
   "cell_type": "code",
   "execution_count": 35,
   "id": "9e8a0d84-d223-47a1-849a-8017b34a4598",
   "metadata": {},
   "outputs": [
    {
     "data": {
      "text/plain": [
       "{'name': 'Adam',\n",
       " 'learning_rate': 0.00025,\n",
       " 'decay': 0.0,\n",
       " 'beta_1': 0.9,\n",
       " 'beta_2': 0.999,\n",
       " 'epsilon': 1e-07,\n",
       " 'amsgrad': False}"
      ]
     },
     "execution_count": 35,
     "metadata": {},
     "output_type": "execute_result"
    }
   ],
   "source": [
    "model_3.optimizer.get_config()"
   ]
  },
  {
   "cell_type": "markdown",
   "id": "5650f24e-1879-4e63-ba5f-a7960dac298a",
   "metadata": {},
   "source": [
    "### Baby Dataset Results:\n",
    "#### PRIMARY TARGET (3):\n",
    "#### Validation AUC: 0.7715\n",
    "#### Training AUC: 0.8066"
   ]
  },
  {
   "cell_type": "markdown",
   "id": "77c0af34-d806-42b5-9e29-24dd081be96d",
   "metadata": {},
   "source": [
    "### Full Validation Set Results (on Baby-Trained Model):"
   ]
  },
  {
   "cell_type": "code",
   "execution_count": 36,
   "id": "b4d8ca9d-82a6-43a2-b36b-0c3a3ba82dd6",
   "metadata": {},
   "outputs": [
    {
     "name": "stdout",
     "output_type": "stream",
     "text": [
      "PRIMARY TARGET (3):\n",
      "Full Validation Set AUC: 0.7611\n"
     ]
    }
   ],
   "source": [
    "print('PRIMARY TARGET ({}):'.format(3))\n",
    "print('Full Validation Set AUC: {}'.format(round(roc_auc_score(y_val_full[:,3], y_pred_val_full), 4)))"
   ]
  },
  {
   "cell_type": "code",
   "execution_count": 37,
   "id": "a3494258-1af3-4b38-a88b-c13ec3c6fafa",
   "metadata": {},
   "outputs": [
    {
     "name": "stdout",
     "output_type": "stream",
     "text": [
      "SECONDARY TARGET (0):\n",
      "Full Validation Set AUC: 0.6192\n"
     ]
    }
   ],
   "source": [
    "print('SECONDARY TARGET ({}):'.format(0))\n",
    "print('Full Validation Set AUC: {}'.format(round(roc_auc_score(y_val_full[:,0], y_pred_val_full), 4)))"
   ]
  },
  {
   "cell_type": "code",
   "execution_count": 38,
   "id": "d542f345-c5af-48aa-b8b3-b45f77512707",
   "metadata": {},
   "outputs": [
    {
     "name": "stdout",
     "output_type": "stream",
     "text": [
      "SECONDARY TARGET (1):\n",
      "Full Validation Set AUC: 0.5661\n"
     ]
    }
   ],
   "source": [
    "print('SECONDARY TARGET ({}):'.format(1))\n",
    "print('Full Validation Set AUC: {}'.format(round(roc_auc_score(y_val_full[:,1], y_pred_val_full), 4)))"
   ]
  },
  {
   "cell_type": "code",
   "execution_count": 39,
   "id": "7001524f-ff07-401e-ad2f-ea6cae377dfe",
   "metadata": {},
   "outputs": [
    {
     "name": "stdout",
     "output_type": "stream",
     "text": [
      "SECONDARY TARGET (2):\n",
      "Full Validation Set AUC: 0.6409\n"
     ]
    }
   ],
   "source": [
    "print('SECONDARY TARGET ({}):'.format(2))\n",
    "print('Full Validation Set AUC: {}'.format(round(roc_auc_score(y_val_full[:,2], y_pred_val_full), 4)))"
   ]
  },
  {
   "cell_type": "code",
   "execution_count": null,
   "id": "2ce82408-fe52-4c63-8abe-e936003a90c6",
   "metadata": {},
   "outputs": [],
   "source": []
  },
  {
   "cell_type": "code",
   "execution_count": null,
   "id": "6863b8b7-d1f4-43f0-92e8-9e6601283293",
   "metadata": {},
   "outputs": [],
   "source": []
  }
 ],
 "metadata": {
  "kernelspec": {
   "display_name": "Python [conda env:metis] *",
   "language": "python",
   "name": "conda-env-metis-py"
  },
  "language_info": {
   "codemirror_mode": {
    "name": "ipython",
    "version": 3
   },
   "file_extension": ".py",
   "mimetype": "text/x-python",
   "name": "python",
   "nbconvert_exporter": "python",
   "pygments_lexer": "ipython3",
   "version": "3.8.10"
  }
 },
 "nbformat": 4,
 "nbformat_minor": 5
}
